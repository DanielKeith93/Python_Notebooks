{
 "metadata": {
  "name": "",
  "signature": "sha256:46c6aed9ccbf9aa93dc536647d2fc6a212090a3baf68c4b437a5439fbc0582e4"
 },
 "nbformat": 3,
 "nbformat_minor": 0,
 "worksheets": [
  {
   "cells": [
    {
     "cell_type": "code",
     "collapsed": false,
     "input": [
      "%pylab inline"
     ],
     "language": "python",
     "metadata": {},
     "outputs": [
      {
       "output_type": "stream",
       "stream": "stdout",
       "text": [
        "Populating the interactive namespace from numpy and matplotlib\n"
       ]
      }
     ],
     "prompt_number": 2
    },
    {
     "cell_type": "code",
     "collapsed": false,
     "input": [
      "import sys\n",
      "sys.path[0] = 'C:/Users/z3414503/Documents/QTLab/qtlab_013/source/' \n",
      "import qt\n",
      "import scipy\n",
      "from scipy import stats\n",
      "from __future__ import division\n",
      "from scipy import signal\n",
      "from scipy.signal import bessel, lfilter\n",
      "from numba import jit\n",
      "from numpy import ndarray\n"
     ],
     "language": "python",
     "metadata": {},
     "outputs": [],
     "prompt_number": 4
    },
    {
     "cell_type": "code",
     "collapsed": false,
     "input": [
      "@jit\n",
      "def DOG(a, length):\n",
      "    t = np.linspace(-length/2, (length)/2, length)\n",
      "    y = - a ** 2 * t * exp( - t ** 2 / ( 2 * a ** 2 ) ) #/ ( sqrt( 2 * pi ) * a ** 3 )\n",
      "    return y\n",
      "@jit\n",
      "def smooth(y, box_pts):\n",
      "    box = np.ones(box_pts)/box_pts\n",
      "    y_smooth = np.convolve(y, box, mode='same')\n",
      "    return y_smooth"
     ],
     "language": "python",
     "metadata": {},
     "outputs": [],
     "prompt_number": 5
    },
    {
     "cell_type": "code",
     "collapsed": false,
     "input": [
      "@jit\n",
      "def bessel_lowpass(lowcut,fs, order=8):\n",
      "    nyq = 0.5 * fs\n",
      "    low = lowcut / nyq\n",
      "    b, a = bessel(order, low, btype='low')\n",
      "    return b, a\n",
      "\n",
      "@jit\n",
      "def bessel_lowpass_filter(data, lowcut,fs, order=8):\n",
      "    b, a = bessel_lowpass(lowcut,fs, order=order)\n",
      "    y = lfilter(b, a, data)\n",
      "    return y\n",
      "# a function to make square pulses\n",
      "@jit\n",
      "def sqr_pulse( c, time_arr, t1, t2, I ):\n",
      "    start = int( ( t1 / deltat ) * len(time_arr) )\n",
      "    finish = int( ( ( t1 + t2 ) / deltat ) * len(time_arr) )\n",
      "    if c == 0:\n",
      "        wave = time_arr[ : ] * 0\n",
      "        wave[ start: finish ] =  ( time_arr[ start: finish ] * 0 ) - I \n",
      "        return wave\n",
      "    elif c == 1:\n",
      "        wave = time_arr[ : ] * 0\n",
      "        return wave\n",
      "@jit    \n",
      "def DOG(a, length):\n",
      "    t = np.linspace(-length/2, (length)/2, length)\n",
      "    y = - a ** 2 * t * exp( - t ** 2 / ( 2 * a ** 2 ) ) #/ ( sqrt( 2 * pi ) * a ** 3 )\n",
      "    return y\n",
      "@jit\n",
      "def smooth(y, box_pts):\n",
      "    box = np.ones(box_pts)/box_pts\n",
      "    y_smooth = np.convolve(y, box, mode='same')\n",
      "    return y_smooth"
     ],
     "language": "python",
     "metadata": {},
     "outputs": [],
     "prompt_number": 6
    },
    {
     "cell_type": "code",
     "collapsed": false,
     "input": [
      "@jit\n",
      "def edge_max( z, SCALE ):\n",
      "    widths = np.arange(1, SCALE + 2)\n",
      "    cwtmatr = signal.cwt(z, DOG, widths)\n",
      "    peaks = []\n",
      "    cwt = []\n",
      "    for i in cwtmatr:\n",
      "        new = i[260:764]\n",
      "        cwt.append( new )\n",
      "    for i in cwt:    \n",
      "        max_min = []\n",
      "        if array_equal(cwt[-1],i) == True:\n",
      "            b = i\n",
      "            d = abs( b )\n",
      "            for x in xrange( 1, len( b ) - 1 ):\n",
      "                if b[x-1]>b[x] and b[x+1]>b[x]:\n",
      "                    if b[x]<-median(d):\n",
      "                        max_min.append( x )\n",
      "                if b[x-1]<b[x] and b[x+1]<b[x]:\n",
      "                    if b[x]>median(d):\n",
      "                        max_min.append( x )\n",
      "            peaks.append( max_min )\n",
      "        else:   \n",
      "            b = i\n",
      "            for x in xrange( 1, len( b ) - 1 ):\n",
      "                if b[x-1]>b[x] and b[x+1]>b[x]:\n",
      "                    max_min.append( x )\n",
      "                if b[x-1]<b[x] and b[x+1]<b[x]:\n",
      "                    max_min.append( x )\n",
      "            peaks.append( max_min )\n",
      "    tracks = []\n",
      "    \n",
      "    for i in peaks[-1]:\n",
      "        track = []\n",
      "        x = i\n",
      "        track.append( x )\n",
      "        for s in xrange( 1, SCALE + 1 ):\n",
      "            a = peaks[ - s - 1 ]\n",
      "            if x < a[-1]:\n",
      "                X = np.searchsorted(a, x, side=\"left\")\n",
      "                if math.fabs(x - a[X-1]) < math.fabs(x - a[X]):\n",
      "                    idx = X-1\n",
      "                else:\n",
      "                    idx = X\n",
      "            else:\n",
      "                idx = len(a) - 1\n",
      "            x = peaks[ - s - 1 ][ idx ]\n",
      "            track.append( x )\n",
      "        tracks.append( track )\n",
      "    norm = []\n",
      "    y = []\n",
      "    for l in xrange( 0, SCALE + 1 ):\n",
      "        for k in cwt[ l ]:\n",
      "            a = k ** 2\n",
      "            y.append( a )\n",
      "        med = median( y )\n",
      "        norm.append( med )\n",
      "    weights = []\n",
      "    for i in xrange( 0, len( peaks[-1] ) ):\n",
      "        weight = []\n",
      "        scale = SCALE\n",
      "        for j in tracks[ i ]:\n",
      "            a = cwt[ scale ][ j ] ** 2\n",
      "            b = norm[ scale ]\n",
      "            weight.append( a / b )\n",
      "            scale -= 1\n",
      "        c = sum( weight )    \n",
      "        weights.append( c )\n",
      "    return max( weights ) "
     ],
     "language": "python",
     "metadata": {},
     "outputs": [],
     "prompt_number": 7
    },
    {
     "cell_type": "code",
     "collapsed": false,
     "input": [
      "#constants used\n",
      "g_e = 2\n",
      "mu_B = 5.7884 * 10 ** - 5 \n",
      "k_B = 8.6173 * 10 ** - 5 \n",
      "bars = 200\n",
      "no_traces = 5000\n",
      "#set variables\n",
      "t_up_out = 0.00107\n",
      "t_down_in = 0.0052\n",
      "B = 2.5\n",
      "N_up_0 = 0.45\n",
      "f_c = 1000.0\n",
      "fs = 10000\n",
      "deltaT = 0.050\n",
      "deltaI = 0.023 #V\n",
      "#calculate other parameters\n",
      "N_down_0 = 1 - N_up_0\n",
      "t_down_out = 66\n",
      "T1 = 12\n",
      "points = deltaT * fs\n",
      "A_n = 0.0076\n",
      "T2 = T1 * t_down_out - T1 * t_up_out + t_down_out * t_up_out\n",
      "time1 = linspace( 0, 0.05, 500)\n",
      "deltat = 0.05\n",
      "lowcut = 1000"
     ],
     "language": "python",
     "metadata": {},
     "outputs": [],
     "prompt_number": 8
    },
    {
     "cell_type": "code",
     "collapsed": false,
     "input": [
      "@jit\n",
      "def gen_wav4( n ):\n",
      "    N_up = []\n",
      "    N_down = []\n",
      "    for i in xrange( 0, n):\n",
      "        if randint(0,99) < ( N_up_0 * 100 ):\n",
      "            charge = 0\n",
      "        else:\n",
      "            charge = 1\n",
      "        t_in = t_down_in \n",
      "        t_out = t_up_out\n",
      "        r_in = randint( 1,1001 )\n",
      "        r_out = randint( 1,1001 )\n",
      "        t_in = - log( r_in * 0.001 ) * t_in\n",
      "        t_out = - log( r_out * 0.001 ) * t_out\n",
      "        sig = bessel_lowpass_filter(sqr_pulse( charge, time1, t_out, t_in, deltaI ) + A_n * random.normal( 0, 1, points ), lowcut,fs, order=8)\n",
      "        sig = list( sig )\n",
      "        x = sig[0:20]\n",
      "        x = x*13\n",
      "        y = sig[-21:-1]\n",
      "        y = y*13\n",
      "        sig_pad = x + sig + y\n",
      "        a = edge_max( sig_pad, 99 )\n",
      "        if charge == 0:\n",
      "            N_up.append( a )\n",
      "        else:\n",
      "            N_down.append( a )\n",
      "\n",
      "    return N_up, N_down"
     ],
     "language": "python",
     "metadata": {},
     "outputs": [],
     "prompt_number": 9
    },
    {
     "cell_type": "code",
     "collapsed": false,
     "input": [
      "U, D = gen_wav4( 100 )"
     ],
     "language": "python",
     "metadata": {},
     "outputs": [],
     "prompt_number": 11
    },
    {
     "cell_type": "code",
     "collapsed": false,
     "input": [
      "values_U, bins_U = histogram( U, bins=logspace( 4, 7 , 50 ), normed = True )\n",
      "values_D, bins_D = histogram( D, bins=logspace( 4, 7 , 50 ), normed = True )\n",
      "values, bins = histogram( U + D, bins=logspace( 4, 7 , 50 ), normed = True )\n",
      "plot( bins_U[:-1], values_U, 'b' )\n",
      "plot( bins_D[:-1], values_D, 'r' )\n",
      "xscale( 'log' )\n",
      "\n",
      "figure()\n",
      "plot( bins[:-1], values, 'k' )\n",
      "xscale( 'log' )\n",
      "# yscale( 'log' )\n",
      "show()"
     ],
     "language": "python",
     "metadata": {},
     "outputs": [
      {
       "metadata": {},
       "output_type": "display_data",
       "png": "[encoded data removed]",
       "text": [
        "<matplotlib.figure.Figure at 0x3790b70>"
       ]
      },
      {
       "metadata": {},
       "output_type": "display_data",
       "png": "[encoded data removed]",
       "text": [
        "<matplotlib.figure.Figure at 0x10836e30>"
       ]
      }
     ],
     "prompt_number": 12
    },
    {
     "cell_type": "code",
     "collapsed": false,
     "input": [
      "w_t = logspace( 5, 7, 100000 )\n",
      "V = []\n",
      "F0 = []\n",
      "F1 = []\n",
      "for x in w_t:\n",
      "    idx_d = min(range(len(bins_D)), key=lambda i: abs(bins_D[i]-x))\n",
      "    idx_u = min(range(len(bins_U)), key=lambda i: abs(bins_U[i]-x))\n",
      "    F_0 = 1 - sum( numpy.diff( bins_U[ :idx_u + 1 ] ) * values_U[ :idx_u ] )\n",
      "    F_1 = 1 - sum( numpy.diff( bins_D[ idx_d: ] ) * values_D[ idx_d: ] )\n",
      "    V.append( (F_0 + F_1) - 1 )\n",
      "    F0.append( F_0 )\n",
      "    F1.append( F_1 )\n",
      "figure()\n",
      "xscale( 'log' )\n",
      "plot( w_t, V, w_t, F0, w_t, F1 )\n",
      "V_max = max( V )\n",
      "print V_max * 100\n",
      "idx = V.index( V_max )\n",
      "print w_t[idx]\n",
      "print F0[idx]\n",
      "print F1[idx]"
     ],
     "language": "python",
     "metadata": {},
     "outputs": [
      {
       "output_type": "stream",
       "stream": "stdout",
       "text": [
        "99.0341598009\n",
        "641516.856051\n",
        "0.990341598009\n",
        "1.0\n"
       ]
      },
      {
       "metadata": {},
       "output_type": "display_data",
       "png": "[encoded data removed]",
       "text": [
        "<matplotlib.figure.Figure at 0x109b2bd0>"
       ]
      }
     ],
     "prompt_number": 13
    },
    {
     "cell_type": "code",
     "collapsed": false,
     "input": [
      "print F0[idx]\n",
      "print F1[idx]"
     ],
     "language": "python",
     "metadata": {},
     "outputs": [
      {
       "output_type": "stream",
       "stream": "stdout",
       "text": [
        "0.986476841402\n",
        "0.993354636803\n"
       ]
      }
     ],
     "prompt_number": 359
    },
    {
     "cell_type": "code",
     "collapsed": false,
     "input": [
      "range?"
     ],
     "language": "python",
     "metadata": {},
     "outputs": [],
     "prompt_number": 14
    },
    {
     "cell_type": "code",
     "collapsed": false,
     "input": [],
     "language": "python",
     "metadata": {},
     "outputs": []
    }
   ],
   "metadata": {}
  }
 ]
}