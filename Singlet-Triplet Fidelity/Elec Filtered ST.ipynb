{
 "metadata": {
  "name": "",
  "signature": "sha256:14a3a823172b3259f7da20fe1d949ae26448b47c2b38dd65b88d3648250c03a7"
 },
 "nbformat": 3,
 "nbformat_minor": 0,
 "worksheets": [
  {
   "cells": [
    {
     "cell_type": "code",
     "collapsed": false,
     "input": [
      "%pylab inline"
     ],
     "language": "python",
     "metadata": {},
     "outputs": [
      {
       "output_type": "stream",
       "stream": "stdout",
       "text": [
        "Populating the interactive namespace from numpy and matplotlib\n"
       ]
      }
     ],
     "prompt_number": 1
    },
    {
     "cell_type": "code",
     "collapsed": false,
     "input": [
      "import sys\n",
      "sys.path[0] = 'C:/Users/z3414503/Documents/QTLab/qtlab_013/source/' \n",
      "import qt\n",
      "import scipy\n",
      "from scipy import stats\n",
      "from __future__ import division\n",
      "import scipy.fftpack\n",
      "from scipy.stats import norm\n",
      "from scipy.fftpack import rfft, irfft, fftfreq"
     ],
     "language": "python",
     "metadata": {},
     "outputs": [],
     "prompt_number": 3
    },
    {
     "cell_type": "code",
     "collapsed": false,
     "input": [
      "number_of_files = 20\n",
      "\n",
      "V = 0.006\n",
      "\n",
      "start = 0.001\n",
      "finish = 0.5\n",
      "\n",
      "up_outs = []\n",
      "down_ins = []\n",
      "up_ins = []\n",
      "down_outs = []\n",
      "\n",
      "trace = []\n",
      "traces = []\n",
      "\n",
      "time = linspace( 0.0, 0.449, 4990)\n",
      "\n",
      "for x in xrange( 1, number_of_files + 1 ):\n",
      "    print x,\n",
      "    file = \"C:/Users/z3414503/Desktop/Honours/Data/ST Read/TRACES/Read ST at Bz = 2.5000_\" + str(x) + \"_trace.dat\"\n",
      "    with open( file, \"r\" ) as f:\n",
      "        i = 1\n",
      "        for line in f:\n",
      "            fields = line.split()\n",
      "            if len(fields) == 3 and fields[0] != '#':\n",
      "                if int( fields[0] ) == i:\n",
      "                    value = 0.0\n",
      "                    if float( fields[1] ) >= start and float( fields[1] ) < finish and float( fields[1] ) >= value and len( trace ) < 4991:\n",
      "                        trace.append( float( fields[2] ) )\n",
      "                        value = float( fields[1] )\n",
      "                if int( fields[0] ) > i:\n",
      "                    i += 1\n",
      "                    traces.append(trace)\n",
      "                    trace = []\n",
      "    trace = []"
     ],
     "language": "python",
     "metadata": {},
     "outputs": [
      {
       "output_type": "stream",
       "stream": "stdout",
       "text": [
        "1 "
       ]
      },
      {
       "output_type": "stream",
       "stream": "stdout",
       "text": [
        "2 "
       ]
      },
      {
       "output_type": "stream",
       "stream": "stdout",
       "text": [
        "3 "
       ]
      },
      {
       "output_type": "stream",
       "stream": "stdout",
       "text": [
        "4 "
       ]
      },
      {
       "output_type": "stream",
       "stream": "stdout",
       "text": [
        "5 "
       ]
      },
      {
       "output_type": "stream",
       "stream": "stdout",
       "text": [
        "6 "
       ]
      },
      {
       "output_type": "stream",
       "stream": "stdout",
       "text": [
        "7 "
       ]
      },
      {
       "output_type": "stream",
       "stream": "stdout",
       "text": [
        "8 "
       ]
      },
      {
       "output_type": "stream",
       "stream": "stdout",
       "text": [
        "9 "
       ]
      },
      {
       "output_type": "stream",
       "stream": "stdout",
       "text": [
        "10 "
       ]
      },
      {
       "output_type": "stream",
       "stream": "stdout",
       "text": [
        "11 "
       ]
      },
      {
       "output_type": "stream",
       "stream": "stdout",
       "text": [
        "12 "
       ]
      },
      {
       "output_type": "stream",
       "stream": "stdout",
       "text": [
        "13 "
       ]
      },
      {
       "output_type": "stream",
       "stream": "stdout",
       "text": [
        "14 "
       ]
      },
      {
       "output_type": "stream",
       "stream": "stdout",
       "text": [
        "15 "
       ]
      },
      {
       "output_type": "stream",
       "stream": "stdout",
       "text": [
        "16 "
       ]
      },
      {
       "output_type": "stream",
       "stream": "stdout",
       "text": [
        "17 "
       ]
      },
      {
       "output_type": "stream",
       "stream": "stdout",
       "text": [
        "18 "
       ]
      },
      {
       "output_type": "stream",
       "stream": "stdout",
       "text": [
        "19 "
       ]
      },
      {
       "output_type": "stream",
       "stream": "stdout",
       "text": [
        "20\n"
       ]
      }
     ],
     "prompt_number": 4
    },
    {
     "cell_type": "code",
     "collapsed": false,
     "input": [
      "number = 0"
     ],
     "language": "python",
     "metadata": {},
     "outputs": [],
     "prompt_number": 5
    },
    {
     "cell_type": "code",
     "collapsed": false,
     "input": [
      "print len( traces )\n",
      "print len( traces[number] )\n",
      "print number+1\n",
      "plot( time, traces[number] )\n",
      "ylabel( 'Voltage (V)', fontsize = 20 )\n",
      "xlabel( 'Time (s)', fontsize = 20 )\n",
      "number += 1"
     ],
     "language": "python",
     "metadata": {},
     "outputs": [
      {
       "output_type": "stream",
       "stream": "stdout",
       "text": [
        "1980\n",
        "4990\n",
        "1\n"
       ]
      },
      {
       "metadata": {},
       "output_type": "display_data",
       "png": "[encoded data removed]",
       "text": [
        "<matplotlib.figure.Figure at 0xdf0f250>"
       ]
      }
     ],
     "prompt_number": 6
    },
    {
     "cell_type": "code",
     "collapsed": false,
     "input": [
      "    traces_filt = []\n",
      "    for trace in traces:\n",
      "        signal = trace\n",
      "\n",
      "        W = fftfreq(size( signal ), d=time[1]-time[0])\n",
      "        f_signal = rfft(signal)\n",
      "\n",
      "        # If our original signal time was in seconds, this is now in Hz    \n",
      "        cut_f_signal1 = f_signal.copy()\n",
      "        cut_f_signal1[(W>68)] = 0\n",
      "        cut_f_signal1[(W<62)] = 0\n",
      "\n",
      "        cut_f_signal2 = f_signal.copy()\n",
      "        cut_f_signal2[(W>335)] = 0\n",
      "        cut_f_signal2[(W<327)] = 0\n",
      "\n",
      "        cut_f_signal3 = f_signal.copy()\n",
      "        cut_f_signal3[(W>560)] = 0\n",
      "        cut_f_signal3[(W<550)] = 0\n",
      "\n",
      "        cut_f_signal4 = f_signal.copy()\n",
      "        cut_f_signal4[(W>1005)] = 0\n",
      "        cut_f_signal4[(W<995)] = 0\n",
      "\n",
      "        cut_f_signal5 = f_signal.copy()\n",
      "        cut_f_signal5[(W>780)] = 0\n",
      "        cut_f_signal5[(W<774)] = 0\n",
      "\n",
      "        cut_signal1 = irfft(cut_f_signal1)\n",
      "        cut_signal2 = irfft(cut_f_signal2)\n",
      "        cut_signal3 = irfft(cut_f_signal3)\n",
      "        cut_signal4 = irfft(cut_f_signal4)\n",
      "        cut_signal5 = irfft(cut_f_signal5)\n",
      "\n",
      "        traces_filt.append( signal - cut_signal1 - cut_signal2 - cut_signal3 - cut_signal4 - cut_signal5 )"
     ],
     "language": "python",
     "metadata": {},
     "outputs": [],
     "prompt_number": 7
    },
    {
     "cell_type": "code",
     "collapsed": false,
     "input": [
      "number = 0"
     ],
     "language": "python",
     "metadata": {},
     "outputs": [],
     "prompt_number": 8
    },
    {
     "cell_type": "code",
     "collapsed": false,
     "input": [
      "print len( traces_filt )\n",
      "print len( traces_filt[number] )\n",
      "print number+1\n",
      "plot( time, traces_filt[number] )\n",
      "ylabel( 'Voltage (V)', fontsize = 20 )\n",
      "xlabel( 'Time (s)', fontsize = 20 )\n",
      "number += 1"
     ],
     "language": "python",
     "metadata": {},
     "outputs": [
      {
       "output_type": "stream",
       "stream": "stdout",
       "text": [
        "1980\n",
        "4990\n",
        "1\n"
       ]
      },
      {
       "metadata": {},
       "output_type": "display_data",
       "png": "[encoded data removed]",
       "text": [
        "<matplotlib.figure.Figure at 0x1af624d0>"
       ]
      }
     ],
     "prompt_number": 9
    },
    {
     "cell_type": "code",
     "collapsed": false,
     "input": [
      "arbitrary_threshold = 0.006\n",
      "u = 0\n",
      "v = 0\n",
      "r = 0\n",
      "q = 0 #counting variables\n",
      "S = 0 #standard deviation, should be the same for the noise and the signal\n",
      "M_a = 0 #mean when there is no blip\n",
      "M_b = 0 #mean value of the signal blip\n",
      "#calculate for each trace\n",
      "for x in traces: #self._signals\n",
      "    r = r + 1\n",
      "    s = 0\n",
      "    m_a = 0\n",
      "    m_b = 0\n",
      "    #figure()\n",
      "    #plot( times[x], signals[x])\n",
      "    \n",
      "    #split traces into the blip and no blip sections\n",
      "    j = sort( x ) #order is not important, can take into account several blips\n",
      "    #plot( times[x], j )\n",
      "    a = filter( lambda y: y > arbitrary_threshold, x ) #for now the current threshold is simply arbitrary\n",
      "    b = filter( lambda y: y <= arbitrary_threshold, x )\n",
      "    s = np.std( a )\n",
      "    m_a = np.mean( a )\n",
      "    if s != 0 and isnan(s) == False:\n",
      "        u += 1\n",
      "        S = S + s\n",
      "        M_a = M_a + m_a\n",
      "    if len( b ) != 0: #only calculate for a blip when necessary\n",
      "        q = q + 1\n",
      "        s = np.std( b )\n",
      "        m_b = np.mean( b )\n",
      "        if s != 0 and isnan(s) == False:\n",
      "            v += 1\n",
      "            S = S + s\n",
      "        M_b = M_b + m_b\n",
      "print( S / ( u + v ) )\n",
      "print( M_a / u )\n",
      "print( M_b / q )\n",
      "print r\n",
      "#calculate the signal to noise ratio\n",
      "SNR = ( (( M_b / q )-(M_a/u)) / ( S / ( u + v ) ) ) ** 2\n",
      "    \n",
      "print 10 * log10( SNR )"
     ],
     "language": "python",
     "metadata": {},
     "outputs": [
      {
       "output_type": "stream",
       "stream": "stdout",
       "text": [
        "0.00334088660912\n",
        "0.020102585762\n",
        "-0.00222113988633\n",
        "1980\n",
        "16.4980988151\n"
       ]
      }
     ],
     "prompt_number": 10
    },
    {
     "cell_type": "code",
     "collapsed": false,
     "input": [
      "signals_max = []\n",
      "for x in traces_filt:\n",
      "    signals_max.append( min( x ) )\n",
      "I_n = 0.02232\n",
      "A_n = 0.003341\n",
      "range = I_n + 2 * A_n\n",
      "figure()\n",
      "values, bins = histogram( signals_max , bins=arange( -0.04, 1.03 * range, 0.0012 ), normed = True )\n",
      "plot( bins[:-1], values, 'g' )\n",
      "xlabel( 'Peak Voltage (V)', fontsize = 20 )\n",
      "ylabel( 'Probabiliy Density (V$^{-1}$)', fontsize = 20 )\n",
      "show()"
     ],
     "language": "python",
     "metadata": {},
     "outputs": [
      {
       "metadata": {},
       "output_type": "display_data",
       "png": "[encoded data removed]",
       "text": [
        "<matplotlib.figure.Figure at 0x1af52590>"
       ]
      }
     ],
     "prompt_number": 12
    },
    {
     "cell_type": "code",
     "collapsed": false,
     "input": [
      "V = 0.006\n",
      "up = 0\n",
      "down = 0\n",
      "for x in traces:\n",
      "    if min( x ) <= V:\n",
      "        up += 1 \n",
      "    if min( x ) >= V:\n",
      "        down += 1\n",
      "total = float( up + down )\n",
      "fraction = ( float( up ) / total )\n",
      "print total\n",
      "print up\n",
      "print fraction"
     ],
     "language": "python",
     "metadata": {},
     "outputs": [
      {
       "output_type": "stream",
       "stream": "stdout",
       "text": [
        "1980.0\n",
        "837\n",
        "0.422727272727\n"
       ]
      }
     ],
     "prompt_number": 13
    },
    {
     "cell_type": "code",
     "collapsed": false,
     "input": [
      "lowcut = 1000.0\n",
      "fs = 10000\n",
      "T = 0.0118\n",
      "nsamples = T * fs\n",
      "N_0 = 0.4227\n",
      "N_1 = 1 - N_0\n",
      "deltat = T #s, taken from spin to charge optimisation\n",
      "t_down_in = 0.0052\n",
      "t_up_out = 0.00107 #Taken from experimental data.\n",
      "deltaI = 0.02232\n",
      "points = nsamples\n",
      "time1 = linspace( 0, deltat, points )\n",
      "A_n = 0.003341 #V / ( ( Hz ) ^ ( 1 / 2 ) ) #Have to multiply spectral density by a bandwidth.\n",
      "f_c = lowcut #Hz, cut off frequency, also used as the bandwidth\n",
      "bars = 200\n",
      "no_traces = 1500\n",
      "deltaT = 0.0118"
     ],
     "language": "python",
     "metadata": {},
     "outputs": [],
     "prompt_number": 14
    },
    {
     "cell_type": "code",
     "collapsed": false,
     "input": [
      "from scipy.signal import bessel, lfilter\n",
      "from numba import jit\n",
      "\n",
      "@jit\n",
      "def bessel_lowpass(lowcut,fs, order=8):\n",
      "    nyq = 0.5 * fs\n",
      "    low = lowcut / nyq\n",
      "    b, a = bessel(order, low, btype='low')\n",
      "    return b, a\n",
      "\n",
      "@jit\n",
      "def bessel_lowpass_filter(data, lowcut,fs, order=8):\n",
      "    b, a = bessel_lowpass(lowcut,fs, order=order)\n",
      "    y = lfilter(b, a, data)\n",
      "    return y\n",
      "@jit\n",
      "def sqr_pulse( c, time_arr, t1, t2, I ):\n",
      "    start = int( ( t1 / deltat ) * len(time_arr) )\n",
      "    finish = int( ( ( t1 + t2 ) / deltat ) * len(time_arr) )\n",
      "    if c == 0:\n",
      "        wave = time_arr[ : ] * 0\n",
      "        wave[ start: finish ] =  ( time_arr[ start: finish ] * 0 ) - I\n",
      "        return wave\n",
      "    elif c == 1:\n",
      "        wave = time_arr[ : ] * 0\n",
      "        return wave\n",
      "@jit    \n",
      "def gen_wav3( N, noise, fraction, offset, height ):\n",
      "    N_down = []\n",
      "    N_up = [] #up goes to charge 0\n",
      "    for i in xrange( 0, N):\n",
      "        if randint(0,99) < ( fraction * 100 ):\n",
      "            charge = 0\n",
      "        else:\n",
      "            charge = 1\n",
      "            #need to randomly generate different tunneling times for each simulated pulse.\n",
      "        t_in = t_down_in \n",
      "        t_out = t_up_out\n",
      "        r_in = randint( 1,1001 )\n",
      "        r_out = randint( 1,1001 )\n",
      "        t_in = - log( r_in * 0.001 ) * t_in\n",
      "        t_out = - log( r_out * 0.001 ) * t_out\n",
      "        if charge == 0:\n",
      "#             N_up.append( min( bessel_lowpass_filter(sqr_pulse( charge, time1, t_out, t_in, height ) + noise * random.normal( 0, 1, points ), lowcut,fs, order=8) - offset ) )\n",
      "#             N_up.append( min( sqr_pulse( charge, time1, t_out, t_in, height ) + noise * random.normal( 0, 1, points ) - offset ) )\n",
      "            N_up.append( min( filter(time1,sqr_pulse( charge, time1, t_out, t_in, height ) + noise * random.normal( 0, 1, points ) - offset, f_c ) ) )\n",
      "        else:\n",
      "#             N_down.append( min( bessel_lowpass_filter(sqr_pulse( charge, time1, t_out, t_in, height ) + noise * random.normal( 0, 1, points ), lowcut,fs, order=8) - offset ) )\n",
      "#             N_down.append( min( sqr_pulse( charge, time1, t_out, t_in, height ) + noise * random.normal( 0, 1, points ) - offset ) )\n",
      "            N_down.append( min( filter(time1,sqr_pulse( charge, time1, t_out, t_in, height ) + noise * random.normal( 0, 1, points ) - offset, f_c ) ) )\n",
      "\n",
      "    range = deltaI + 5 * noise\n",
      "    \n",
      "    values_u, bins_u = histogram( N_up, bins=arange( -0.04, 0.1, 0.001 ), normed = True )\n",
      "    values_d, bins_d = histogram( N_down, bins=arange( -0.04, 0.1, 0.001 ), normed = True )\n",
      "    v, b = histogram( N_up + N_down, bins=arange( -0.04, 0.1, 0.001 ), normed = True )\n",
      "\n",
      "    return values_d, bins_d, values_u, bins_u, v, b"
     ],
     "language": "python",
     "metadata": {},
     "outputs": [],
     "prompt_number": 15
    },
    {
     "cell_type": "code",
     "collapsed": false,
     "input": [
      "@jit\n",
      "def filter( TIME, SIGNAL, F ):\n",
      "    W = fftfreq(size( SIGNAL ), d=TIME[1]-TIME[0])\n",
      "    f_signal = rfft(SIGNAL)\n",
      "    \n",
      "    print size(SIGNAL)\n",
      "    print len(W)\n",
      "    print len(f_signal)\n",
      "\n",
      "    # If our original signal time was in seconds, this is now in Hz    \n",
      "    cut_f_signal1 = f_signal.copy()\n",
      "    cut_f_signal1[(W<F)] = 0\n",
      "\n",
      "    cut_signal1 = irfft(cut_f_signal1)\n",
      "    \n",
      "    return SIGNAL - cut_signal1"
     ],
     "language": "python",
     "metadata": {},
     "outputs": [],
     "prompt_number": 80
    },
    {
     "cell_type": "code",
     "collapsed": false,
     "input": [
      "a, b, c, d, e, f = gen_wav3( 5000, 0.00345, 0.41, -0.018, 0.0202 )\n",
      "figure()\n",
      "#plot( b[:-1], a, 'b', d[:-1], c, 'r' )\n",
      "plot( bins[:-1], values, 'go', f[:-1], e, 'k--' )\n",
      "legend( ['Data','Simulation'], loc = 2)\n",
      "xlabel( 'Peak Voltage (V)', fontsize = 20 )\n",
      "ylabel( 'Probability Density (V$^{-1}$)', fontsize = 20 )\n",
      "xlim([-0.02,0.03])\n",
      "show()"
     ],
     "language": "python",
     "metadata": {},
     "outputs": [
      {
       "metadata": {},
       "output_type": "display_data",
       "png": "[encoded data removed]",
       "text": [
        "<matplotlib.figure.Figure at 0x23a78a30>"
       ]
      }
     ],
     "prompt_number": 22
    },
    {
     "cell_type": "code",
     "collapsed": false,
     "input": [
      "wave = bessel_lowpass_filter(sqr_pulse( 0, time1, t_up_out, t_down_in, deltaI ) + A_n * random.normal( 0, 1, points ), lowcut,fs, order=8) + 0.02010\n",
      "plot( wave )\n",
      "wave = sqr_pulse( 0, time1, t_up_out, t_down_in, deltaI ) + A_n * random.normal( 0, 1, points ) + 0.02010\n",
      "plot( wave )\n",
      "show()\n",
      "plot( time1, traces_filt[number-3][0:118])\n",
      "xlabel( 'Time (s)', fontsize = 20 )\n",
      "ylabel( 'Voltage (V)', fontsize = 20 )\n",
      "show()\n"
     ],
     "language": "python",
     "metadata": {},
     "outputs": [
      {
       "metadata": {},
       "output_type": "display_data",
       "png": "[encoded data removed]",
       "text": [
        "<matplotlib.figure.Figure at 0x23bb1ef0>"
       ]
      },
      {
       "metadata": {},
       "output_type": "display_data",
       "png": "[encoded data removed]",
       "text": [
        "<matplotlib.figure.Figure at 0x23180230>"
       ]
      }
     ],
     "prompt_number": 23
    },
    {
     "cell_type": "code",
     "collapsed": false,
     "input": [
      "wave = sqr_pulse( 0, time1, t_up_out, t_down_in, deltaI ) + A_n * random.normal( 0, 1, points ) + 0.02010\n",
      "plot( wave )\n",
      "show()\n",
      "\n",
      "wave = filter( time1, wave, 1000 )\n",
      "plot( time1, wave )\n",
      "xlabel( 'Time (s)', fontsize = 20 )\n",
      "ylabel( 'Voltage (V)', fontsize = 20 )\n",
      "show()"
     ],
     "language": "python",
     "metadata": {},
     "outputs": [
      {
       "metadata": {},
       "output_type": "display_data",
       "png": "[encoded data removed]",
       "text": [
        "<matplotlib.figure.Figure at 0x244dcd50>"
       ]
      },
      {
       "output_type": "stream",
       "stream": "stdout",
       "text": [
        "118\n",
        "\n",
        "118\n",
        "\n",
        "118\n",
        "\n"
       ]
      },
      {
       "metadata": {},
       "output_type": "display_data",
       "png": "[encoded data removed]",
       "text": [
        "<matplotlib.figure.Figure at 0x2410dfd0>"
       ]
      }
     ],
     "prompt_number": 81
    },
    {
     "cell_type": "code",
     "collapsed": false,
     "input": [
      "#constants used\n",
      "g_e = 2\n",
      "mu_B = 5.7884 * 10 ** - 5 \n",
      "k_B = 8.6173 * 10 ** - 5 \n",
      "bars = 200\n",
      "no_traces = 5000\n",
      "#set variables\n",
      "t_up_out = 0.00107\n",
      "t_down_in = 0.0052\n",
      "B = 2.5\n",
      "N_up_0 = 0.41\n",
      "f_c = 1000.0\n",
      "fs = 10000\n",
      "deltaT = 0.0118\n",
      "deltaI = 0.0202 #V\n",
      "#calculate other parameters\n",
      "N_down_0 = 1 - N_up_0\n",
      "t_down_out = 66\n",
      "T1 = 12\n",
      "points = deltaT * fs\n",
      "A_n = 0.00345\n",
      "T2 = T1 * t_down_out - T1 * t_up_out + t_down_out * t_up_out"
     ],
     "language": "python",
     "metadata": {},
     "outputs": [],
     "prompt_number": 50
    },
    {
     "cell_type": "code",
     "collapsed": false,
     "input": [
      "from scipy.signal import bessel, lfilter\n",
      "\n",
      "@jit\n",
      "def sqr_pulse( c, time_arr, t1, t2, I, deltat ):\n",
      "    start = int( ( t1 / deltat ) * len(time_arr) )\n",
      "    finish = int( ( ( t1 + t2 ) / deltat ) * len(time_arr) )\n",
      "    if c == 0:\n",
      "        wave = time_arr[ : ] * 0\n",
      "        wave[ start: finish ] =  ( time_arr[ start: finish ] * 0 ) - I \n",
      "        return wave\n",
      "    elif c == 1:\n",
      "        wave = time_arr[ : ] * 0\n",
      "        return wave\n",
      "@jit    \n",
      "def gen_wav3( N, TIME ):\n",
      "    N_down = []\n",
      "    N_up = [] #up goes to charge 0\n",
      "    points = TIME * fs\n",
      "    time1 = linspace( 0, TIME , points )\n",
      "\n",
      "    for i in xrange( 0, N):\n",
      "        if randint(0,99) < ( N_up_0 * 100 ):\n",
      "            charge = 0\n",
      "        else:\n",
      "            charge = 1\n",
      "            #need to randomly generate different tunneling times for each simulated pulse.\n",
      "        t_in = t_down_in \n",
      "        t_out = t_up_out\n",
      "        r_in = randint( 1,1001 )\n",
      "        r_out = randint( 1,1001 )\n",
      "        t_in = - log( r_in * 0.001 ) * t_in\n",
      "        t_out = - log( r_out * 0.001 ) * t_out\n",
      "        if charge == 0:\n",
      "            N_up.append( min( filter( time1, sqr_pulse( 0, time1, t_out, t_in, deltaI, TIME ) + A_n * random.normal( 0, 1, points ) + 0.018, f_c) ) )\n",
      "        else:\n",
      "            N_down.append( min( filter( time1, sqr_pulse( 1, time1, t_out, t_in, deltaI, TIME ) + A_n * random.normal( 0, 1, points ) + 0.018, f_c) ) )\n",
      "    range = deltaI + 5 * A_n\n",
      "    \n",
      "    values_u, bins_u = histogram( N_up, bins=arange( -0.04, 0.02, 0.0001 ), normed = True )\n",
      "    values_d, bins_d = histogram( N_down, bins=arange( -0.04,0.02, 0.0001 ), normed = True )\n",
      "    return values_d, bins_d, values_u, bins_u"
     ],
     "language": "python",
     "metadata": {},
     "outputs": [],
     "prompt_number": 51
    },
    {
     "cell_type": "code",
     "collapsed": false,
     "input": [
      "def get_thresh_opt():\n",
      "    values_d, bins_d, values_u, bins_u = gen_wav3( no_traces, deltaT )\n",
      "    plot( bins_u[:-1], values_u )\n",
      "    plot( bins_d[:-1],values_d )\n",
      "    xlabel( 'Peak Voltage (V)', fontsize = 20 )\n",
      "    ylabel( 'Probability Density (V$^{-1}$)', fontsize = 20 )\n",
      "    \n",
      "    I_t = linspace( -0.04, 0.02, 10000 )\n",
      "    V = []\n",
      "    F0 = []\n",
      "    F1 = []\n",
      "\n",
      "    for x in I_t:\n",
      "        idx_d = min(linspace(0,len(bins_d)-1,len(bins_d)), key=lambda i: abs(bins_d[i]-x))\n",
      "        idx_u = min(linspace(0,len(bins_u)-1,len(bins_d)), key=lambda i: abs(bins_u[i]-x))\n",
      "        F_0 = sum( numpy.diff( bins_u[ :idx_u + 1 ] ) * abs( values_u[ :idx_u ] ) )\n",
      "        F_1 = sum( numpy.diff( bins_d[ idx_d: ] ) * abs( values_d[ idx_d: ] ) )\n",
      "        V.append( (F_0 + F_1) - 1 )\n",
      "        F0.append( F_0 )\n",
      "        F1.append( F_1 )\n",
      "    figure()\n",
      "    plot( I_t, F0, 'r', I_t, F1, 'b', I_t, V, 'g' )\n",
      "    xlabel( 'Voltage Threshold (V)', fontsize = 20 )\n",
      "    ylabel( 'Fraction', fontsize = 20 )\n",
      "    legend( ['$F^{\\uparrow}$', '$F^{\\downarrow}$', '$V_{ER}$'], loc = 2 )\n",
      "    show()\n",
      "    V_max = max( V )\n",
      "    idx = V.index( V_max )\n",
      "    return I_t[idx], F0[ idx ], F1[ idx ], V[ idx ]"
     ],
     "language": "python",
     "metadata": {},
     "outputs": [],
     "prompt_number": 32
    },
    {
     "cell_type": "code",
     "collapsed": false,
     "input": [
      "threshold, fid0, fid1, vis = get_thresh_opt()\n",
      "print threshold\n",
      "print fid0\n",
      "print fid1\n",
      "print vis"
     ],
     "language": "python",
     "metadata": {},
     "outputs": [
      {
       "metadata": {},
       "output_type": "display_data",
       "png": "[encoded data removed]",
       "text": [
        "<matplotlib.figure.Figure at 0x23e57070>"
       ]
      },
      {
       "metadata": {},
       "output_type": "display_data",
       "png": "[encoded data removed]",
       "text": [
        "<matplotlib.figure.Figure at 0x231c20f0>"
       ]
      },
      {
       "output_type": "stream",
       "stream": "stdout",
       "text": [
        "0.00805280528053\n",
        "0.977022498803\n",
        "0.990724836826\n",
        "0.967747335629\n"
       ]
      }
     ],
     "prompt_number": 33
    },
    {
     "cell_type": "code",
     "collapsed": false,
     "input": [
      "from __future__ import division\n",
      "from scipy import signal\n",
      "from scipy.signal import bessel, lfilter\n",
      "from numba import jit\n",
      "from numpy import ndarray"
     ],
     "language": "python",
     "metadata": {},
     "outputs": [],
     "prompt_number": 59
    },
    {
     "cell_type": "code",
     "collapsed": false,
     "input": [
      "@jit\n",
      "def DOG(a, length):\n",
      "    t = np.linspace(-length/2, (length)/2, length)\n",
      "    y = - a ** 2 * t * exp( - t ** 2 / ( 2 * a ** 2 ) ) #/ ( sqrt( 2 * pi ) * a ** 3 )\n",
      "    return y\n",
      "@jit\n",
      "def smooth(y, box_pts):\n",
      "    box = np.ones(box_pts)/box_pts\n",
      "    y_smooth = np.convolve(y, box, mode='same')\n",
      "    return y_smooth\n",
      "@jit\n",
      "def sqr_pulse( c, time_arr, t1, t2, I ):\n",
      "    start = int( ( t1 / deltat ) * len(time_arr) )\n",
      "    finish = int( ( ( t1 + t2 ) / deltat ) * len(time_arr) )\n",
      "    if c == 0:\n",
      "        wave = time_arr[ : ] * 0\n",
      "        wave[ start: finish ] =  ( time_arr[ start: finish ] * 0 ) - I \n",
      "        return wave\n",
      "    elif c == 1:\n",
      "        wave = time_arr[ : ] * 0\n",
      "        return wave\n",
      "@jit\n",
      "def edge_max( z, SCALE ):\n",
      "    widths = np.arange(1, SCALE + 2)\n",
      "    cwtmatr = signal.cwt(z, DOG, widths)\n",
      "    peaks = []\n",
      "    cwt = []\n",
      "    for i in cwtmatr:\n",
      "        new = i[260:378]\n",
      "        cwt.append( new )\n",
      "    for i in cwt:    \n",
      "        max_min = []\n",
      "        if array_equal(cwt[-1],i) == True:\n",
      "            b = i\n",
      "            d = abs( b )\n",
      "            for x in xrange( 1, len( b ) - 1 ):\n",
      "                if b[x-1]>b[x] and b[x+1]>b[x]:\n",
      "                    if b[x]<-median(d):\n",
      "                        max_min.append( x )\n",
      "                if b[x-1]<b[x] and b[x+1]<b[x]:\n",
      "                    if b[x]>median(d):\n",
      "                        max_min.append( x )\n",
      "            peaks.append( max_min )\n",
      "        else:   \n",
      "            b = i\n",
      "            for x in xrange( 1, len( b ) - 1 ):\n",
      "                if b[x-1]>b[x] and b[x+1]>b[x]:\n",
      "                    max_min.append( x )\n",
      "                if b[x-1]<b[x] and b[x+1]<b[x]:\n",
      "                    max_min.append( x )\n",
      "            peaks.append( max_min )\n",
      "    tracks = []\n",
      "    \n",
      "    for i in peaks[-1]:\n",
      "        track = []\n",
      "        x = i\n",
      "        track.append( x )\n",
      "        for s in xrange( 1, SCALE + 1 ):\n",
      "            a = peaks[ - s - 1 ]\n",
      "            if x < a[-1]:\n",
      "                X = np.searchsorted(a, x, side=\"left\")\n",
      "                if math.fabs(x - a[X-1]) < math.fabs(x - a[X]):\n",
      "                    idx = X-1\n",
      "                else:\n",
      "                    idx = X\n",
      "            else:\n",
      "                idx = len(a) - 1\n",
      "            x = peaks[ - s - 1 ][ idx ]\n",
      "            track.append( x )\n",
      "        tracks.append( track )\n",
      "    norm = []\n",
      "    y = []\n",
      "    for l in xrange( 0, SCALE + 1 ):\n",
      "        for k in cwt[ l ]:\n",
      "            a = k ** 2\n",
      "            y.append( a )\n",
      "        med = median( y )\n",
      "        norm.append( med )\n",
      "    weights = []\n",
      "    for i in xrange( 0, len( peaks[-1] ) ):\n",
      "        weight = []\n",
      "        scale = SCALE\n",
      "        for j in tracks[ i ]:\n",
      "            a = cwt[ scale ][ j ] ** 2\n",
      "            b = norm[ scale ]\n",
      "            weight.append( a / b )\n",
      "            scale -= 1\n",
      "        c = sum( weight )    \n",
      "        weights.append( c )\n",
      "    return max( weights ) "
     ],
     "language": "python",
     "metadata": {},
     "outputs": [],
     "prompt_number": 60
    },
    {
     "cell_type": "code",
     "collapsed": false,
     "input": [
      "lowcut = 1000.0\n",
      "fs = 10000\n",
      "T = 0.0118\n",
      "nsamples = T * fs\n",
      "N_0 = 0.41\n",
      "N_1 = 1 - N_0\n",
      "deltat = T #s, taken from spin to charge optimisation\n",
      "t_down_in = 0.0052\n",
      "t_up_out = 0.00107 #Taken from experimental data.\n",
      "deltaI = 0.0202\n",
      "points = nsamples\n",
      "time1 = linspace( 0, deltat, points )\n",
      "A_n = 0.00345 #V / ( ( Hz ) ^ ( 1 / 2 ) ) #Have to multiply spectral density by a bandwidth.\n",
      "f_c = lowcut #Hz, cut off frequency, also used as the bandwidth\n",
      "bars = 200\n",
      "no_traces = 1500\n",
      "deltaT = 0.0118"
     ],
     "language": "python",
     "metadata": {},
     "outputs": [],
     "prompt_number": 61
    },
    {
     "cell_type": "code",
     "collapsed": false,
     "input": [
      "@jit\n",
      "def gen_wav4( n ):\n",
      "    N_up = []\n",
      "    N_down = []\n",
      "    for i in xrange( 0, n):\n",
      "        if randint(0,99) < ( N_up_0 * 100 ):\n",
      "            charge = 0\n",
      "        else:\n",
      "            charge = 1\n",
      "        t_in = t_down_in \n",
      "        t_out = t_up_out\n",
      "        r_in = randint( 1,1001 )\n",
      "        r_out = randint( 1,1001 )\n",
      "        t_in = - log( r_in * 0.001 ) * t_in\n",
      "        t_out = - log( r_out * 0.001 ) * t_out\n",
      "        sig = filter(time1, sqr_pulse( charge, time1, t_out, t_in, deltaI ) + A_n * random.normal( 0, 1, points ) + 0.018, lowcut)\n",
      "        sig = list( sig )\n",
      "        x = sig[0:20]\n",
      "        x = x*13\n",
      "        y = sig[-21:-1]\n",
      "        y = y*13\n",
      "        sig_pad = x + sig + y\n",
      "        a = edge_max( sig_pad, 99 )\n",
      "        if charge == 0:\n",
      "            N_up.append( a )\n",
      "        else:\n",
      "            N_down.append( a )\n",
      "\n",
      "    return N_up, N_down"
     ],
     "language": "python",
     "metadata": {},
     "outputs": [],
     "prompt_number": 62
    },
    {
     "cell_type": "code",
     "collapsed": false,
     "input": [
      "U, D = gen_wav4( 10000 )"
     ],
     "language": "python",
     "metadata": {},
     "outputs": [],
     "prompt_number": 68
    },
    {
     "cell_type": "code",
     "collapsed": false,
     "input": [
      "values_U, bins_U = histogram( U, bins=logspace( 4, 7 , 1000 ), normed = True )\n",
      "values_D, bins_D = histogram( D, bins=logspace( 4, 7 , 1000 ), normed = True )\n",
      "values, bins = histogram( U + D, bins=logspace( 4, 7 , 1000 ), normed = True )\n",
      "plot( bins_U[:-1], values_U, 'b' )\n",
      "plot( bins_D[:-1], values_D, 'r' )\n",
      "xscale( 'log' )\n",
      "xlabel('Weight',fontsize = 20)\n",
      "ylabel('Probability Density',fontsize = 20)\n",
      "\n",
      "figure()\n",
      "plot( bins[:-1], values, 'k' )\n",
      "xscale( 'log' )\n",
      "xlabel('Weight',fontsize = 20)\n",
      "ylabel('Probability Density',fontsize = 20)\n",
      "# yscale( 'log' )\n",
      "show()"
     ],
     "language": "python",
     "metadata": {},
     "outputs": [
      {
       "metadata": {},
       "output_type": "display_data",
       "png": "[encoded data removed]",
       "text": [
        "<matplotlib.figure.Figure at 0x245e2350>"
       ]
      },
      {
       "metadata": {},
       "output_type": "display_data",
       "png": "[encoded data removed]",
       "text": [
        "<matplotlib.figure.Figure at 0x2358e2f0>"
       ]
      }
     ],
     "prompt_number": 71
    },
    {
     "cell_type": "code",
     "collapsed": false,
     "input": [
      "w_t = logspace( 5, 6, 10000 )\n",
      "V = []\n",
      "F0 = []\n",
      "F1 = []\n",
      "for x in w_t:\n",
      "    idx_d = min(xrange(len(bins_D)), key=lambda i: abs(bins_D[i]-x))\n",
      "    idx_u = min(xrange(len(bins_U)), key=lambda i: abs(bins_U[i]-x))\n",
      "    F_0 = 1 - sum( numpy.diff( bins_U[ :idx_u + 1 ] ) * values_U[ :idx_u ] )\n",
      "    F_1 = 1 - sum( numpy.diff( bins_D[ idx_d: ] ) * values_D[ idx_d: ] )\n",
      "    V.append( (F_0 + F_1) - 1 )\n",
      "    F0.append( F_0 )\n",
      "    F1.append( F_1 )\n",
      "figure()\n",
      "xscale( 'log' )\n",
      "plot( w_t, V, w_t, F0, w_t, F1 )\n",
      "xlabel( 'Weight Threshold',fontsize = 20 )\n",
      "ylabel( 'Fraction',fontsize = 20 )\n",
      "V_max = max( V )\n",
      "print V_max * 100\n",
      "idx = V.index( V_max )\n",
      "print w_t[idx]\n",
      "print F0[idx]\n",
      "print F1[idx]"
     ],
     "language": "python",
     "metadata": {},
     "outputs": [
      {
       "output_type": "stream",
       "stream": "stdout",
       "text": [
        "98.0402830334\n",
        "502655.138998\n",
        "0.985879500356\n",
        "0.994523329978\n"
       ]
      },
      {
       "metadata": {},
       "output_type": "display_data",
       "png": "[encoded data removed]",
       "text": [
        "<matplotlib.figure.Figure at 0x2487c8b0>"
       ]
      }
     ],
     "prompt_number": 72
    },
    {
     "cell_type": "code",
     "collapsed": false,
     "input": [
      "traces_pad = []\n",
      "for trace in traces_filt:\n",
      "    sig = list( trace[2:120] )\n",
      "    x = sig[0:20]\n",
      "    x = x*13\n",
      "    y = sig[-21:-1]\n",
      "    y = y*13\n",
      "    traces_pad.append(x + sig + y)"
     ],
     "language": "python",
     "metadata": {},
     "outputs": [],
     "prompt_number": 73
    },
    {
     "cell_type": "code",
     "collapsed": false,
     "input": [
      "print len( traces_pad[1] )"
     ],
     "language": "python",
     "metadata": {},
     "outputs": [
      {
       "output_type": "stream",
       "stream": "stdout",
       "text": [
        "638\n"
       ]
      }
     ],
     "prompt_number": 74
    },
    {
     "cell_type": "code",
     "collapsed": false,
     "input": [
      "max_weights2 = []\n",
      "counter = 0\n",
      "for trace in traces_pad:\n",
      "    if counter % 10 == 0:\n",
      "        print counter,\n",
      "    value = edge_max( trace, 99 )\n",
      "    max_weights2.append( value )\n",
      "    counter += 1"
     ],
     "language": "python",
     "metadata": {},
     "outputs": [
      {
       "output_type": "stream",
       "stream": "stdout",
       "text": [
        "0 "
       ]
      },
      {
       "output_type": "stream",
       "stream": "stdout",
       "text": [
        "10 "
       ]
      },
      {
       "output_type": "stream",
       "stream": "stdout",
       "text": [
        "20 "
       ]
      },
      {
       "output_type": "stream",
       "stream": "stdout",
       "text": [
        "30 "
       ]
      },
      {
       "output_type": "stream",
       "stream": "stdout",
       "text": [
        "40 "
       ]
      },
      {
       "output_type": "stream",
       "stream": "stdout",
       "text": [
        "50 "
       ]
      },
      {
       "output_type": "stream",
       "stream": "stdout",
       "text": [
        "60 "
       ]
      },
      {
       "output_type": "stream",
       "stream": "stdout",
       "text": [
        "70 "
       ]
      },
      {
       "output_type": "stream",
       "stream": "stdout",
       "text": [
        "80 "
       ]
      },
      {
       "output_type": "stream",
       "stream": "stdout",
       "text": [
        "90 "
       ]
      },
      {
       "output_type": "stream",
       "stream": "stdout",
       "text": [
        "100 "
       ]
      },
      {
       "output_type": "stream",
       "stream": "stdout",
       "text": [
        "110 "
       ]
      },
      {
       "output_type": "stream",
       "stream": "stdout",
       "text": [
        "120 "
       ]
      },
      {
       "output_type": "stream",
       "stream": "stdout",
       "text": [
        "130 "
       ]
      },
      {
       "output_type": "stream",
       "stream": "stdout",
       "text": [
        "140 "
       ]
      },
      {
       "output_type": "stream",
       "stream": "stdout",
       "text": [
        "150 "
       ]
      },
      {
       "output_type": "stream",
       "stream": "stdout",
       "text": [
        "160 "
       ]
      },
      {
       "output_type": "stream",
       "stream": "stdout",
       "text": [
        "170 "
       ]
      },
      {
       "output_type": "stream",
       "stream": "stdout",
       "text": [
        "180 "
       ]
      },
      {
       "output_type": "stream",
       "stream": "stdout",
       "text": [
        "190 "
       ]
      },
      {
       "output_type": "stream",
       "stream": "stdout",
       "text": [
        "200 "
       ]
      },
      {
       "output_type": "stream",
       "stream": "stdout",
       "text": [
        "210 "
       ]
      },
      {
       "output_type": "stream",
       "stream": "stdout",
       "text": [
        "220 "
       ]
      },
      {
       "output_type": "stream",
       "stream": "stdout",
       "text": [
        "230 "
       ]
      },
      {
       "output_type": "stream",
       "stream": "stdout",
       "text": [
        "240 "
       ]
      },
      {
       "output_type": "stream",
       "stream": "stdout",
       "text": [
        "250 "
       ]
      },
      {
       "output_type": "stream",
       "stream": "stdout",
       "text": [
        "260 "
       ]
      },
      {
       "output_type": "stream",
       "stream": "stdout",
       "text": [
        "270 "
       ]
      },
      {
       "output_type": "stream",
       "stream": "stdout",
       "text": [
        "280 "
       ]
      },
      {
       "output_type": "stream",
       "stream": "stdout",
       "text": [
        "290 "
       ]
      },
      {
       "output_type": "stream",
       "stream": "stdout",
       "text": [
        "300 "
       ]
      },
      {
       "output_type": "stream",
       "stream": "stdout",
       "text": [
        "310 "
       ]
      },
      {
       "output_type": "stream",
       "stream": "stdout",
       "text": [
        "320 "
       ]
      },
      {
       "output_type": "stream",
       "stream": "stdout",
       "text": [
        "330 "
       ]
      },
      {
       "output_type": "stream",
       "stream": "stdout",
       "text": [
        "340 "
       ]
      },
      {
       "output_type": "stream",
       "stream": "stdout",
       "text": [
        "350 "
       ]
      },
      {
       "output_type": "stream",
       "stream": "stdout",
       "text": [
        "360 "
       ]
      },
      {
       "output_type": "stream",
       "stream": "stdout",
       "text": [
        "370 "
       ]
      },
      {
       "output_type": "stream",
       "stream": "stdout",
       "text": [
        "380 "
       ]
      },
      {
       "output_type": "stream",
       "stream": "stdout",
       "text": [
        "390 "
       ]
      },
      {
       "output_type": "stream",
       "stream": "stdout",
       "text": [
        "400 "
       ]
      },
      {
       "output_type": "stream",
       "stream": "stdout",
       "text": [
        "410 "
       ]
      },
      {
       "output_type": "stream",
       "stream": "stdout",
       "text": [
        "420 "
       ]
      },
      {
       "output_type": "stream",
       "stream": "stdout",
       "text": [
        "430 "
       ]
      },
      {
       "output_type": "stream",
       "stream": "stdout",
       "text": [
        "440 "
       ]
      },
      {
       "output_type": "stream",
       "stream": "stdout",
       "text": [
        "450 "
       ]
      },
      {
       "output_type": "stream",
       "stream": "stdout",
       "text": [
        "460 "
       ]
      },
      {
       "output_type": "stream",
       "stream": "stdout",
       "text": [
        "470 "
       ]
      },
      {
       "output_type": "stream",
       "stream": "stdout",
       "text": [
        "480 "
       ]
      },
      {
       "output_type": "stream",
       "stream": "stdout",
       "text": [
        "490 "
       ]
      },
      {
       "output_type": "stream",
       "stream": "stdout",
       "text": [
        "500 "
       ]
      },
      {
       "output_type": "stream",
       "stream": "stdout",
       "text": [
        "510 "
       ]
      },
      {
       "output_type": "stream",
       "stream": "stdout",
       "text": [
        "520 "
       ]
      },
      {
       "output_type": "stream",
       "stream": "stdout",
       "text": [
        "530 "
       ]
      },
      {
       "output_type": "stream",
       "stream": "stdout",
       "text": [
        "540 "
       ]
      },
      {
       "output_type": "stream",
       "stream": "stdout",
       "text": [
        "550 "
       ]
      },
      {
       "output_type": "stream",
       "stream": "stdout",
       "text": [
        "560 "
       ]
      },
      {
       "output_type": "stream",
       "stream": "stdout",
       "text": [
        "570 "
       ]
      },
      {
       "output_type": "stream",
       "stream": "stdout",
       "text": [
        "580 "
       ]
      },
      {
       "output_type": "stream",
       "stream": "stdout",
       "text": [
        "590 "
       ]
      },
      {
       "output_type": "stream",
       "stream": "stdout",
       "text": [
        "600 "
       ]
      },
      {
       "output_type": "stream",
       "stream": "stdout",
       "text": [
        "610 "
       ]
      },
      {
       "output_type": "stream",
       "stream": "stdout",
       "text": [
        "620 "
       ]
      },
      {
       "output_type": "stream",
       "stream": "stdout",
       "text": [
        "630 "
       ]
      },
      {
       "output_type": "stream",
       "stream": "stdout",
       "text": [
        "640 "
       ]
      },
      {
       "output_type": "stream",
       "stream": "stdout",
       "text": [
        "650 "
       ]
      },
      {
       "output_type": "stream",
       "stream": "stdout",
       "text": [
        "660 "
       ]
      },
      {
       "output_type": "stream",
       "stream": "stdout",
       "text": [
        "670 "
       ]
      },
      {
       "output_type": "stream",
       "stream": "stdout",
       "text": [
        "680 "
       ]
      },
      {
       "output_type": "stream",
       "stream": "stdout",
       "text": [
        "690 "
       ]
      },
      {
       "output_type": "stream",
       "stream": "stdout",
       "text": [
        "700 "
       ]
      },
      {
       "output_type": "stream",
       "stream": "stdout",
       "text": [
        "710 "
       ]
      },
      {
       "output_type": "stream",
       "stream": "stdout",
       "text": [
        "720 "
       ]
      },
      {
       "output_type": "stream",
       "stream": "stdout",
       "text": [
        "730 "
       ]
      },
      {
       "output_type": "stream",
       "stream": "stdout",
       "text": [
        "740 "
       ]
      },
      {
       "output_type": "stream",
       "stream": "stdout",
       "text": [
        "750 "
       ]
      },
      {
       "output_type": "stream",
       "stream": "stdout",
       "text": [
        "760 "
       ]
      },
      {
       "output_type": "stream",
       "stream": "stdout",
       "text": [
        "770 "
       ]
      },
      {
       "output_type": "stream",
       "stream": "stdout",
       "text": [
        "780 "
       ]
      },
      {
       "output_type": "stream",
       "stream": "stdout",
       "text": [
        "790 "
       ]
      },
      {
       "output_type": "stream",
       "stream": "stdout",
       "text": [
        "800 "
       ]
      },
      {
       "output_type": "stream",
       "stream": "stdout",
       "text": [
        "810 "
       ]
      },
      {
       "output_type": "stream",
       "stream": "stdout",
       "text": [
        "820 "
       ]
      },
      {
       "output_type": "stream",
       "stream": "stdout",
       "text": [
        "830 "
       ]
      },
      {
       "output_type": "stream",
       "stream": "stdout",
       "text": [
        "840 "
       ]
      },
      {
       "output_type": "stream",
       "stream": "stdout",
       "text": [
        "850 "
       ]
      },
      {
       "output_type": "stream",
       "stream": "stdout",
       "text": [
        "860 "
       ]
      },
      {
       "output_type": "stream",
       "stream": "stdout",
       "text": [
        "870 "
       ]
      },
      {
       "output_type": "stream",
       "stream": "stdout",
       "text": [
        "880 "
       ]
      },
      {
       "output_type": "stream",
       "stream": "stdout",
       "text": [
        "890 "
       ]
      },
      {
       "output_type": "stream",
       "stream": "stdout",
       "text": [
        "900 "
       ]
      },
      {
       "output_type": "stream",
       "stream": "stdout",
       "text": [
        "910 "
       ]
      },
      {
       "output_type": "stream",
       "stream": "stdout",
       "text": [
        "920 "
       ]
      },
      {
       "output_type": "stream",
       "stream": "stdout",
       "text": [
        "930 "
       ]
      },
      {
       "output_type": "stream",
       "stream": "stdout",
       "text": [
        "940 "
       ]
      },
      {
       "output_type": "stream",
       "stream": "stdout",
       "text": [
        "950 "
       ]
      },
      {
       "output_type": "stream",
       "stream": "stdout",
       "text": [
        "960 "
       ]
      },
      {
       "output_type": "stream",
       "stream": "stdout",
       "text": [
        "970 "
       ]
      },
      {
       "output_type": "stream",
       "stream": "stdout",
       "text": [
        "980 "
       ]
      },
      {
       "output_type": "stream",
       "stream": "stdout",
       "text": [
        "990 "
       ]
      },
      {
       "output_type": "stream",
       "stream": "stdout",
       "text": [
        "1000 "
       ]
      },
      {
       "output_type": "stream",
       "stream": "stdout",
       "text": [
        "1010 "
       ]
      },
      {
       "output_type": "stream",
       "stream": "stdout",
       "text": [
        "1020 "
       ]
      },
      {
       "output_type": "stream",
       "stream": "stdout",
       "text": [
        "1030 "
       ]
      },
      {
       "output_type": "stream",
       "stream": "stdout",
       "text": [
        "1040 "
       ]
      },
      {
       "output_type": "stream",
       "stream": "stdout",
       "text": [
        "1050 "
       ]
      },
      {
       "output_type": "stream",
       "stream": "stdout",
       "text": [
        "1060 "
       ]
      },
      {
       "output_type": "stream",
       "stream": "stdout",
       "text": [
        "1070 "
       ]
      },
      {
       "output_type": "stream",
       "stream": "stdout",
       "text": [
        "1080 "
       ]
      },
      {
       "output_type": "stream",
       "stream": "stdout",
       "text": [
        "1090 "
       ]
      },
      {
       "output_type": "stream",
       "stream": "stdout",
       "text": [
        "1100 "
       ]
      },
      {
       "output_type": "stream",
       "stream": "stdout",
       "text": [
        "1110 "
       ]
      },
      {
       "output_type": "stream",
       "stream": "stdout",
       "text": [
        "1120 "
       ]
      },
      {
       "output_type": "stream",
       "stream": "stdout",
       "text": [
        "1130 "
       ]
      },
      {
       "output_type": "stream",
       "stream": "stdout",
       "text": [
        "1140 "
       ]
      },
      {
       "output_type": "stream",
       "stream": "stdout",
       "text": [
        "1150 "
       ]
      },
      {
       "output_type": "stream",
       "stream": "stdout",
       "text": [
        "1160 "
       ]
      },
      {
       "output_type": "stream",
       "stream": "stdout",
       "text": [
        "1170 "
       ]
      },
      {
       "output_type": "stream",
       "stream": "stdout",
       "text": [
        "1180 "
       ]
      },
      {
       "output_type": "stream",
       "stream": "stdout",
       "text": [
        "1190 "
       ]
      },
      {
       "output_type": "stream",
       "stream": "stdout",
       "text": [
        "1200 "
       ]
      },
      {
       "output_type": "stream",
       "stream": "stdout",
       "text": [
        "1210 "
       ]
      },
      {
       "output_type": "stream",
       "stream": "stdout",
       "text": [
        "1220 "
       ]
      },
      {
       "output_type": "stream",
       "stream": "stdout",
       "text": [
        "1230 "
       ]
      },
      {
       "output_type": "stream",
       "stream": "stdout",
       "text": [
        "1240 "
       ]
      },
      {
       "output_type": "stream",
       "stream": "stdout",
       "text": [
        "1250 "
       ]
      },
      {
       "output_type": "stream",
       "stream": "stdout",
       "text": [
        "1260 "
       ]
      },
      {
       "output_type": "stream",
       "stream": "stdout",
       "text": [
        "1270 "
       ]
      },
      {
       "output_type": "stream",
       "stream": "stdout",
       "text": [
        "1280 "
       ]
      },
      {
       "output_type": "stream",
       "stream": "stdout",
       "text": [
        "1290 "
       ]
      },
      {
       "output_type": "stream",
       "stream": "stdout",
       "text": [
        "1300 "
       ]
      },
      {
       "output_type": "stream",
       "stream": "stdout",
       "text": [
        "1310 "
       ]
      },
      {
       "output_type": "stream",
       "stream": "stdout",
       "text": [
        "1320 "
       ]
      },
      {
       "output_type": "stream",
       "stream": "stdout",
       "text": [
        "1330 "
       ]
      },
      {
       "output_type": "stream",
       "stream": "stdout",
       "text": [
        "1340 "
       ]
      },
      {
       "output_type": "stream",
       "stream": "stdout",
       "text": [
        "1350 "
       ]
      },
      {
       "output_type": "stream",
       "stream": "stdout",
       "text": [
        "1360 "
       ]
      },
      {
       "output_type": "stream",
       "stream": "stdout",
       "text": [
        "1370 "
       ]
      },
      {
       "output_type": "stream",
       "stream": "stdout",
       "text": [
        "1380 "
       ]
      },
      {
       "output_type": "stream",
       "stream": "stdout",
       "text": [
        "1390 "
       ]
      },
      {
       "output_type": "stream",
       "stream": "stdout",
       "text": [
        "1400 "
       ]
      },
      {
       "output_type": "stream",
       "stream": "stdout",
       "text": [
        "1410 "
       ]
      },
      {
       "output_type": "stream",
       "stream": "stdout",
       "text": [
        "1420 "
       ]
      },
      {
       "output_type": "stream",
       "stream": "stdout",
       "text": [
        "1430 "
       ]
      },
      {
       "output_type": "stream",
       "stream": "stdout",
       "text": [
        "1440 "
       ]
      },
      {
       "output_type": "stream",
       "stream": "stdout",
       "text": [
        "1450 "
       ]
      },
      {
       "output_type": "stream",
       "stream": "stdout",
       "text": [
        "1460 "
       ]
      },
      {
       "output_type": "stream",
       "stream": "stdout",
       "text": [
        "1470 "
       ]
      },
      {
       "output_type": "stream",
       "stream": "stdout",
       "text": [
        "1480 "
       ]
      },
      {
       "output_type": "stream",
       "stream": "stdout",
       "text": [
        "1490 "
       ]
      },
      {
       "output_type": "stream",
       "stream": "stdout",
       "text": [
        "1500 "
       ]
      },
      {
       "output_type": "stream",
       "stream": "stdout",
       "text": [
        "1510 "
       ]
      },
      {
       "output_type": "stream",
       "stream": "stdout",
       "text": [
        "1520 "
       ]
      },
      {
       "output_type": "stream",
       "stream": "stdout",
       "text": [
        "1530 "
       ]
      },
      {
       "output_type": "stream",
       "stream": "stdout",
       "text": [
        "1540 "
       ]
      },
      {
       "output_type": "stream",
       "stream": "stdout",
       "text": [
        "1550 "
       ]
      },
      {
       "output_type": "stream",
       "stream": "stdout",
       "text": [
        "1560 "
       ]
      },
      {
       "output_type": "stream",
       "stream": "stdout",
       "text": [
        "1570 "
       ]
      },
      {
       "output_type": "stream",
       "stream": "stdout",
       "text": [
        "1580 "
       ]
      },
      {
       "output_type": "stream",
       "stream": "stdout",
       "text": [
        "1590 "
       ]
      },
      {
       "output_type": "stream",
       "stream": "stdout",
       "text": [
        "1600 "
       ]
      },
      {
       "output_type": "stream",
       "stream": "stdout",
       "text": [
        "1610 "
       ]
      },
      {
       "output_type": "stream",
       "stream": "stdout",
       "text": [
        "1620 "
       ]
      },
      {
       "output_type": "stream",
       "stream": "stdout",
       "text": [
        "1630 "
       ]
      },
      {
       "output_type": "stream",
       "stream": "stdout",
       "text": [
        "1640 "
       ]
      },
      {
       "output_type": "stream",
       "stream": "stdout",
       "text": [
        "1650 "
       ]
      },
      {
       "output_type": "stream",
       "stream": "stdout",
       "text": [
        "1660 "
       ]
      },
      {
       "output_type": "stream",
       "stream": "stdout",
       "text": [
        "1670 "
       ]
      },
      {
       "output_type": "stream",
       "stream": "stdout",
       "text": [
        "1680 "
       ]
      },
      {
       "output_type": "stream",
       "stream": "stdout",
       "text": [
        "1690 "
       ]
      },
      {
       "output_type": "stream",
       "stream": "stdout",
       "text": [
        "1700 "
       ]
      },
      {
       "output_type": "stream",
       "stream": "stdout",
       "text": [
        "1710 "
       ]
      },
      {
       "output_type": "stream",
       "stream": "stdout",
       "text": [
        "1720 "
       ]
      },
      {
       "output_type": "stream",
       "stream": "stdout",
       "text": [
        "1730 "
       ]
      },
      {
       "output_type": "stream",
       "stream": "stdout",
       "text": [
        "1740 "
       ]
      },
      {
       "output_type": "stream",
       "stream": "stdout",
       "text": [
        "1750 "
       ]
      },
      {
       "output_type": "stream",
       "stream": "stdout",
       "text": [
        "1760 "
       ]
      },
      {
       "output_type": "stream",
       "stream": "stdout",
       "text": [
        "1770 "
       ]
      },
      {
       "output_type": "stream",
       "stream": "stdout",
       "text": [
        "1780 "
       ]
      },
      {
       "output_type": "stream",
       "stream": "stdout",
       "text": [
        "1790 "
       ]
      },
      {
       "output_type": "stream",
       "stream": "stdout",
       "text": [
        "1800 "
       ]
      },
      {
       "output_type": "stream",
       "stream": "stdout",
       "text": [
        "1810 "
       ]
      },
      {
       "output_type": "stream",
       "stream": "stdout",
       "text": [
        "1820 "
       ]
      },
      {
       "output_type": "stream",
       "stream": "stdout",
       "text": [
        "1830 "
       ]
      },
      {
       "output_type": "stream",
       "stream": "stdout",
       "text": [
        "1840 "
       ]
      },
      {
       "output_type": "stream",
       "stream": "stdout",
       "text": [
        "1850 "
       ]
      },
      {
       "output_type": "stream",
       "stream": "stdout",
       "text": [
        "1860 "
       ]
      },
      {
       "output_type": "stream",
       "stream": "stdout",
       "text": [
        "1870 "
       ]
      },
      {
       "output_type": "stream",
       "stream": "stdout",
       "text": [
        "1880 "
       ]
      },
      {
       "output_type": "stream",
       "stream": "stdout",
       "text": [
        "1890 "
       ]
      },
      {
       "output_type": "stream",
       "stream": "stdout",
       "text": [
        "1900 "
       ]
      },
      {
       "output_type": "stream",
       "stream": "stdout",
       "text": [
        "1910 "
       ]
      },
      {
       "output_type": "stream",
       "stream": "stdout",
       "text": [
        "1920 "
       ]
      },
      {
       "output_type": "stream",
       "stream": "stdout",
       "text": [
        "1930 "
       ]
      },
      {
       "output_type": "stream",
       "stream": "stdout",
       "text": [
        "1940 "
       ]
      },
      {
       "output_type": "stream",
       "stream": "stdout",
       "text": [
        "1950 "
       ]
      },
      {
       "output_type": "stream",
       "stream": "stdout",
       "text": [
        "1960 "
       ]
      },
      {
       "output_type": "stream",
       "stream": "stdout",
       "text": [
        "1970\n"
       ]
      }
     ],
     "prompt_number": 75
    },
    {
     "cell_type": "code",
     "collapsed": false,
     "input": [
      "values_dat, bins_dat = histogram( max_weights2, bins=logspace( 4, 7 , 50 ), normed = True )\n",
      "plot( bins_dat[:-1], values_dat, 'b' )\n",
      "plot( bins[:-1], values, 'g' )\n",
      "xscale( 'log' )\n",
      "show()"
     ],
     "language": "python",
     "metadata": {},
     "outputs": [
      {
       "metadata": {},
       "output_type": "display_data",
       "png": "[encoded data removed]",
       "text": [
        "<matplotlib.figure.Figure at 0x25196f70>"
       ]
      }
     ],
     "prompt_number": 209
    },
    {
     "cell_type": "code",
     "collapsed": false,
     "input": [
      "def filter2( SIGNAL, TIME ):\n",
      "    W = fftfreq(size( SIGNAL ), d=TIME[1]-TIME[0])\n",
      "    f_signal = rfft(SIGNAL)\n",
      "\n",
      "    # If our original signal time was in seconds, this is now in Hz    \n",
      "    cut_f_signal1 = f_signal.copy()\n",
      "    cut_f_signal1[(W>68)] = 0\n",
      "    cut_f_signal1[(W<62)] = 0\n",
      "\n",
      "    cut_f_signal2 = f_signal.copy()\n",
      "    cut_f_signal2[(W>335)] = 0\n",
      "    cut_f_signal2[(W<327)] = 0\n",
      "\n",
      "    cut_f_signal3 = f_signal.copy()\n",
      "    cut_f_signal3[(W>560)] = 0\n",
      "    cut_f_signal3[(W<550)] = 0\n",
      "\n",
      "    cut_f_signal4 = f_signal.copy()\n",
      "    cut_f_signal4[(W>1005)] = 0\n",
      "    cut_f_signal4[(W<995)] = 0\n",
      "\n",
      "    cut_f_signal5 = f_signal.copy()\n",
      "    cut_f_signal5[(W>780)] = 0\n",
      "    cut_f_signal5[(W<774)] = 0\n",
      "\n",
      "    cut_signal1 = irfft(cut_f_signal1)\n",
      "    cut_signal2 = irfft(cut_f_signal2)\n",
      "    cut_signal3 = irfft(cut_f_signal3)\n",
      "    cut_signal4 = irfft(cut_f_signal4)\n",
      "    cut_signal5 = irfft(cut_f_signal5)\n",
      "    \n",
      "    return SIGNAL - cut_signal1 - cut_signal2 - cut_signal3 - cut_signal4 - cut_signal5"
     ],
     "language": "python",
     "metadata": {},
     "outputs": [
      {
       "output_type": "stream",
       "stream": "stdout",
       "text": [
        "\n"
       ]
      }
     ],
     "prompt_number": 55
    },
    {
     "cell_type": "code",
     "collapsed": false,
     "input": [
      "@jit    \n",
      "def gen_wav5( N, TIME ):\n",
      "    N_down = []\n",
      "    N_up = [] #up goes to charge 0\n",
      "    points = TIME * fs\n",
      "    time1 = linspace( 0, TIME , points )\n",
      "\n",
      "    for i in xrange( 0, N):\n",
      "        if randint(0,99) < ( N_up_0 * 100 ):\n",
      "            charge = 0\n",
      "        else:\n",
      "            charge = 1\n",
      "            #need to randomly generate different tunneling times for each simulated pulse.\n",
      "        t_in = t_down_in \n",
      "        t_out = t_up_out\n",
      "        r_in = randint( 1,1001 )\n",
      "        r_out = randint( 1,1001 )\n",
      "        t_in = - log( r_in * 0.001 ) * t_in\n",
      "        t_out = - log( r_out * 0.001 ) * t_out\n",
      "        if charge == 0:\n",
      "            N_up.append( min( filter2( filter( time1, sqr_pulse( 0, time1, t_out, t_in, deltaI, TIME ) + A_n * random.normal( 0, 1, points ) + 0.018, f_c), time1 ) ) )\n",
      "        else:\n",
      "            N_down.append( min( filter2( filter( time1, sqr_pulse( 1, time1, t_out, t_in, deltaI, TIME ) + A_n * random.normal( 0, 1, points ) + 0.018, f_c), time1 ) ) )\n",
      "    range = deltaI + 5 * A_n\n",
      "    \n",
      "    values_u, bins_u = histogram( N_up, bins=arange( -0.04, 0.02, 0.0001 ), normed = True )\n",
      "    values_d, bins_d = histogram( N_down, bins=arange( -0.04,0.02, 0.0001 ), normed = True )\n",
      "    return values_d, bins_d, values_u, bins_u"
     ],
     "language": "python",
     "metadata": {},
     "outputs": [],
     "prompt_number": 56
    },
    {
     "cell_type": "code",
     "collapsed": false,
     "input": [
      "def get_thresh_opt():\n",
      "    values_d, bins_d, values_u, bins_u = gen_wav5( no_traces, deltaT )\n",
      "    plot( bins_u[:-1], values_u )\n",
      "    plot( bins_d[:-1],values_d )\n",
      "    xlabel( 'Peak Voltage (V)', fontsize = 20 )\n",
      "    ylabel( 'Probability Density (V$^{-1}$)', fontsize = 20 )\n",
      "    \n",
      "    I_t = linspace( -0.04, 0.02, 10000 )\n",
      "    V = []\n",
      "    F0 = []\n",
      "    F1 = []\n",
      "\n",
      "    for x in I_t:\n",
      "        idx_d = min(linspace(0,len(bins_d)-1,len(bins_d)), key=lambda i: abs(bins_d[i]-x))\n",
      "        idx_u = min(linspace(0,len(bins_u)-1,len(bins_d)), key=lambda i: abs(bins_u[i]-x))\n",
      "        F_0 = sum( numpy.diff( bins_u[ :idx_u + 1 ] ) * abs( values_u[ :idx_u ] ) )\n",
      "        F_1 = sum( numpy.diff( bins_d[ idx_d: ] ) * abs( values_d[ idx_d: ] ) )\n",
      "        V.append( (F_0 + F_1) - 1 )\n",
      "        F0.append( F_0 )\n",
      "        F1.append( F_1 )\n",
      "    figure()\n",
      "    plot( I_t, F0, 'r', I_t, F1, 'b', I_t, V, 'g' )\n",
      "    xlabel( 'Voltage Threshold (V)', fontsize = 20 )\n",
      "    ylabel( 'Fraction', fontsize = 20 )\n",
      "    legend( ['$F^{\\uparrow}$', '$F^{\\downarrow}$', '$V_{ER}$'], loc = 2 )\n",
      "    show()\n",
      "    V_max = max( V )\n",
      "    idx = V.index( V_max )\n",
      "    return I_t[idx], F0[ idx ], F1[ idx ], V[ idx ]"
     ],
     "language": "python",
     "metadata": {},
     "outputs": [],
     "prompt_number": 57
    },
    {
     "cell_type": "code",
     "collapsed": false,
     "input": [
      "threshold, fid0, fid1, vis = get_thresh_opt()\n",
      "print threshold\n",
      "print fid0\n",
      "print fid1\n",
      "print vis"
     ],
     "language": "python",
     "metadata": {},
     "outputs": [
      {
       "metadata": {},
       "output_type": "display_data",
       "png": "[encoded data removed]",
       "text": [
        "<matplotlib.figure.Figure at 0x23aa2970>"
       ]
      },
      {
       "metadata": {},
       "output_type": "display_data",
       "png": "[encoded data removed]",
       "text": [
        "<matplotlib.figure.Figure at 0x24785bd0>"
       ]
      },
      {
       "output_type": "stream",
       "stream": "stdout",
       "text": [
        "0.00765076507651\n",
        "0.972208912314\n",
        "0.99347751459\n",
        "0.965686426904\n"
       ]
      }
     ],
     "prompt_number": 58
    },
    {
     "cell_type": "code",
     "collapsed": false,
     "input": [],
     "language": "python",
     "metadata": {},
     "outputs": []
    }
   ],
   "metadata": {}
  }
 ]
}