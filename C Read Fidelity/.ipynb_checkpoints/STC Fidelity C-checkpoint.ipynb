{
 "metadata": {
  "name": "",
  "signature": "sha256:0ae6e1434ab768fcb279de739f6503f9d8b889b6ccebc77380219c4f0b284642"
 },
 "nbformat": 3,
 "nbformat_minor": 0,
 "worksheets": [
  {
   "cells": [
    {
     "cell_type": "code",
     "collapsed": false,
     "input": [
      "%pylab inline"
     ],
     "language": "python",
     "metadata": {},
     "outputs": [
      {
       "output_type": "stream",
       "stream": "stdout",
       "text": [
        "Populating the interactive namespace from numpy and matplotlib\n"
       ]
      }
     ],
     "prompt_number": 1
    },
    {
     "cell_type": "code",
     "collapsed": false,
     "input": [
      "#constants used\n",
      "g_e = 2\n",
      "mu_B = 5.7884 * 10 ** - 5 \n",
      "k_B = 8.6173 * 10 ** - 5 \n",
      "bars = 200\n",
      "traces = 1980\n",
      "#set variables\n",
      "t_up_out = 0.0316\n",
      "t_down_in = 0.0077\n",
      "B = 2.5\n",
      "N_up_0 = 0.51\n",
      "k = 0.102\n",
      "fs = 4997.0\n",
      "f_c = 1000.0\n",
      "deltaT = 0.9976\n",
      "#calculate other parameters\n",
      "N_down_0 = 1 - N_up_0\n",
      "t_down_out = 24.66\n",
      "T1 = 8.4\n",
      "points = deltaT * fs\n",
      "T2 = T1 * t_down_out - T1 * t_up_out + t_down_out * t_up_out\n",
      "print T1\n",
      "print T2\n",
      "print t_down_out"
     ],
     "language": "python",
     "metadata": {},
     "outputs": [
      {
       "output_type": "stream",
       "stream": "stdout",
       "text": [
        "8.4\n",
        "207.657816\n",
        "24.66\n"
       ]
      }
     ],
     "prompt_number": 2
    },
    {
     "cell_type": "code",
     "collapsed": false,
     "input": [
      "dt = linspace( 1 * 10 ** - 3, 10 , 100000 ) \n",
      "\n",
      "alpha1 = (1 / T2)\n",
      "alpha2 = T2\n",
      "alpha3 = (t_up_out * t_down_out) / (exp((dt) / t_down_out))\n",
      "alpha4 = (T1 * t_down_out) / (exp((dt)/T1) * exp((dt) / t_up_out))\n",
      "alpha5 = (T1 * t_up_out) / (exp((dt) / T1) * exp((dt) / t_up_out))\n",
      "alpha = alpha1 * (alpha2 - alpha3 - alpha4 + alpha5)\n",
      "beta1 = exp( - dt / t_down_out) \n",
      "\n",
      "N_0 = alpha * N_up_0 + ( 1 - beta1 ) * N_down_0\n",
      "V_stc = ( alpha + beta1 ) - 1 #Rename to be more accurate.\n",
      "\n",
      "V_stc_max = max( V_stc )\n",
      "idx = ( abs( V_stc - V_stc_max ) ).argmin()\n",
      "RO_time = dt[ idx ]\n",
      "print RO_time"
     ],
     "language": "python",
     "metadata": {},
     "outputs": [
      {
       "output_type": "stream",
       "stream": "stdout",
       "text": [
        "0.210081180812\n"
       ]
      }
     ],
     "prompt_number": 3
    },
    {
     "cell_type": "code",
     "collapsed": false,
     "input": [
      "plot( dt, alpha, dt, beta1, dt, N_0, dt, V_stc )\n",
      "xscale( 'log' )\n",
      "xlim([0,1])\n",
      "ylabel( 'Fraction', fontsize = 20 )\n",
      "xlabel( 'Readout Time (s)', fontsize = 20 )\n",
      "legend(['$\\\\alpha$', '$\\\\beta$', '$N_0$', '$V_{STC}$'], loc = 2 )\n",
      "show()"
     ],
     "language": "python",
     "metadata": {},
     "outputs": [
      {
       "metadata": {},
       "output_type": "display_data",
       "png": "[encoded data removed]",
       "text": [
        "<matplotlib.figure.Figure at 0x5dc4b50>"
       ]
      }
     ],
     "prompt_number": 4
    },
    {
     "cell_type": "code",
     "collapsed": false,
     "input": [
      "N_0 = alpha * N_up_0 + ( 1 - beta1 ) * N_down_0\n",
      "V_stc = ( alpha + beta1 ) - 1 #Rename to be more accurate.\n",
      "\n",
      "idx = ( abs( dt - 0.209 ) ).argmin()\n",
      "vis = V_stc[ idx ]\n",
      "print vis\n",
      "print alpha[ idx ]\n",
      "print beta1[ idx ]"
     ],
     "language": "python",
     "metadata": {},
     "outputs": [
      {
       "output_type": "stream",
       "stream": "stdout",
       "text": [
        "0.986535918522\n",
        "0.994974615584\n",
        "0.991561302938\n"
       ]
      }
     ],
     "prompt_number": 34
    },
    {
     "cell_type": "code",
     "collapsed": false,
     "input": [],
     "language": "python",
     "metadata": {},
     "outputs": []
    }
   ],
   "metadata": {}
  }
 ]
}