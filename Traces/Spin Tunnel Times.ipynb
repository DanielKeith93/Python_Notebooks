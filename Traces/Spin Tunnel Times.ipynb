{
 "metadata": {
  "name": "",
  "signature": "sha256:54512a919a3ffb37d054e7f5a7f4fbcb1fff3b8c96d2216459e873a44ad70422"
 },
 "nbformat": 3,
 "nbformat_minor": 0,
 "worksheets": [
  {
   "cells": [
    {
     "cell_type": "code",
     "collapsed": false,
     "input": [
      "%pylab inline"
     ],
     "language": "python",
     "metadata": {},
     "outputs": [
      {
       "output_type": "stream",
       "stream": "stdout",
       "text": [
        "Populating the interactive namespace from numpy and matplotlib\n"
       ]
      }
     ],
     "prompt_number": 51
    },
    {
     "cell_type": "code",
     "collapsed": false,
     "input": [
      "import sys\n",
      "sys.path[0] = 'C:/Users/z3414503/Documents/QTLab/qtlab_013/source/' \n",
      "import qt\n",
      "import scipy\n",
      "from scipy import stats"
     ],
     "language": "python",
     "metadata": {},
     "outputs": [],
     "prompt_number": 52
    },
    {
     "cell_type": "code",
     "collapsed": false,
     "input": [
      "#reads the voltage values for each trace from a series of text files\n",
      "#this method is a lot less memory demanding than previously applied methods\n",
      "#the times until a 'blip' starts and how long a 'blip' lasts are calculated based on the shape of each trace compared to an arbitrary threshold\n",
      "\n",
      "number_of_files = 500\n",
      "\n",
      "V = 0.0164 #V arbitrary threshold\n",
      "\n",
      "#make sure threshold is reasonably high to ignore almost all spin down traces\n",
      "\n",
      "start = 0.0013 #readout start and end times\n",
      "finish = 0.100\n",
      "\n",
      "up_outs = []\n",
      "down_ins = []\n",
      "up_ins = []\n",
      "down_outs = []\n",
      "\n",
      "trace = []\n",
      "traces = []\n",
      "\n",
      "time = linspace( 0.0001, 0.0986, 986)\n",
      "\n",
      "for x in xrange( 1, number_of_files + 1 ):\n",
      "    print x,\n",
      "    file = \"C:/Users/z3414503/Desktop/Honours/Data/143304_Corr DB DC Map Bz = 2.5000/traces/Corr DB DC Map Bz = 2.5000_\" + str(x) + \"_trace.dat\"\n",
      "    with open( file, \"r\" ) as f:\n",
      "        i = 1\n",
      "        for line in f:\n",
      "            fields = line.split()\n",
      "            if len(fields) == 3 and fields[0] != '#':\n",
      "                if int( fields[0] ) == i:\n",
      "                    if float( fields[1] ) >= start and float( fields[1] ) < finish:\n",
      "                        trace.append( float( fields[2] ) )\n",
      "                if int( fields[0] ) > i:\n",
      "                    i += 1\n",
      "                    #traces.append(trace)\n",
      "                    for l in trace:\n",
      "                        if l > V: #if there is a 'blip'\n",
      "                            #figure()\n",
      "                            #plot( trace )\n",
      "                            idx1=trace.index(l)\n",
      "                            up_outs.append( time[idx1] )\n",
      "                            for j in trace[ idx1: ]:\n",
      "                                if j < 0: #for the end of a 'blip'\n",
      "                                    idx2=trace[ idx1: ].index( j )\n",
      "                                    down_ins.append( time[idx2] )\n",
      "                                    for k in trace[ idx1 + idx2: ]:\n",
      "                                        if k > V: #if there are consecutive 'blips'\n",
      "                                            up_ins.append( down_ins[-1] )\n",
      "                                            del down_ins[-1]\n",
      "                                            break\n",
      "                                    break\n",
      "                            break\n",
      "                    trace = []\n",
      "    trace = []"
     ],
     "language": "python",
     "metadata": {},
     "outputs": [
      {
       "output_type": "stream",
       "stream": "stdout",
       "text": [
        "1 "
       ]
      },
      {
       "output_type": "stream",
       "stream": "stdout",
       "text": [
        "2 "
       ]
      },
      {
       "output_type": "stream",
       "stream": "stdout",
       "text": [
        "3 "
       ]
      },
      {
       "output_type": "stream",
       "stream": "stdout",
       "text": [
        "4 "
       ]
      },
      {
       "output_type": "stream",
       "stream": "stdout",
       "text": [
        "5 "
       ]
      },
      {
       "output_type": "stream",
       "stream": "stdout",
       "text": [
        "6 "
       ]
      },
      {
       "output_type": "stream",
       "stream": "stdout",
       "text": [
        "7 "
       ]
      },
      {
       "output_type": "stream",
       "stream": "stdout",
       "text": [
        "8 "
       ]
      },
      {
       "output_type": "stream",
       "stream": "stdout",
       "text": [
        "9 "
       ]
      },
      {
       "output_type": "stream",
       "stream": "stdout",
       "text": [
        "10 "
       ]
      },
      {
       "output_type": "stream",
       "stream": "stdout",
       "text": [
        "11 "
       ]
      },
      {
       "output_type": "stream",
       "stream": "stdout",
       "text": [
        "12 "
       ]
      },
      {
       "output_type": "stream",
       "stream": "stdout",
       "text": [
        "13 "
       ]
      },
      {
       "output_type": "stream",
       "stream": "stdout",
       "text": [
        "14 "
       ]
      },
      {
       "output_type": "stream",
       "stream": "stdout",
       "text": [
        "15 "
       ]
      },
      {
       "output_type": "stream",
       "stream": "stdout",
       "text": [
        "16 "
       ]
      },
      {
       "output_type": "stream",
       "stream": "stdout",
       "text": [
        "17 "
       ]
      },
      {
       "output_type": "stream",
       "stream": "stdout",
       "text": [
        "18 "
       ]
      },
      {
       "output_type": "stream",
       "stream": "stdout",
       "text": [
        "19 "
       ]
      },
      {
       "output_type": "stream",
       "stream": "stdout",
       "text": [
        "20 "
       ]
      },
      {
       "output_type": "stream",
       "stream": "stdout",
       "text": [
        "21 "
       ]
      },
      {
       "output_type": "stream",
       "stream": "stdout",
       "text": [
        "22 "
       ]
      },
      {
       "output_type": "stream",
       "stream": "stdout",
       "text": [
        "23 "
       ]
      },
      {
       "output_type": "stream",
       "stream": "stdout",
       "text": [
        "24 "
       ]
      },
      {
       "output_type": "stream",
       "stream": "stdout",
       "text": [
        "25 "
       ]
      },
      {
       "output_type": "stream",
       "stream": "stdout",
       "text": [
        "26 "
       ]
      },
      {
       "output_type": "stream",
       "stream": "stdout",
       "text": [
        "27 "
       ]
      },
      {
       "output_type": "stream",
       "stream": "stdout",
       "text": [
        "28 "
       ]
      },
      {
       "output_type": "stream",
       "stream": "stdout",
       "text": [
        "29 "
       ]
      },
      {
       "output_type": "stream",
       "stream": "stdout",
       "text": [
        "30 "
       ]
      },
      {
       "output_type": "stream",
       "stream": "stdout",
       "text": [
        "31 "
       ]
      },
      {
       "output_type": "stream",
       "stream": "stdout",
       "text": [
        "32 "
       ]
      },
      {
       "output_type": "stream",
       "stream": "stdout",
       "text": [
        "33 "
       ]
      },
      {
       "output_type": "stream",
       "stream": "stdout",
       "text": [
        "34 "
       ]
      },
      {
       "output_type": "stream",
       "stream": "stdout",
       "text": [
        "35 "
       ]
      },
      {
       "output_type": "stream",
       "stream": "stdout",
       "text": [
        "36 "
       ]
      },
      {
       "output_type": "stream",
       "stream": "stdout",
       "text": [
        "37 "
       ]
      },
      {
       "output_type": "stream",
       "stream": "stdout",
       "text": [
        "38 "
       ]
      },
      {
       "output_type": "stream",
       "stream": "stdout",
       "text": [
        "39 "
       ]
      },
      {
       "output_type": "stream",
       "stream": "stdout",
       "text": [
        "40 "
       ]
      },
      {
       "output_type": "stream",
       "stream": "stdout",
       "text": [
        "41 "
       ]
      },
      {
       "output_type": "stream",
       "stream": "stdout",
       "text": [
        "42 "
       ]
      },
      {
       "output_type": "stream",
       "stream": "stdout",
       "text": [
        "43 "
       ]
      },
      {
       "output_type": "stream",
       "stream": "stdout",
       "text": [
        "44 "
       ]
      },
      {
       "output_type": "stream",
       "stream": "stdout",
       "text": [
        "45 "
       ]
      },
      {
       "output_type": "stream",
       "stream": "stdout",
       "text": [
        "46 "
       ]
      },
      {
       "output_type": "stream",
       "stream": "stdout",
       "text": [
        "47 "
       ]
      },
      {
       "output_type": "stream",
       "stream": "stdout",
       "text": [
        "48 "
       ]
      },
      {
       "output_type": "stream",
       "stream": "stdout",
       "text": [
        "49 "
       ]
      },
      {
       "output_type": "stream",
       "stream": "stdout",
       "text": [
        "50 "
       ]
      },
      {
       "output_type": "stream",
       "stream": "stdout",
       "text": [
        "51 "
       ]
      },
      {
       "output_type": "stream",
       "stream": "stdout",
       "text": [
        "52 "
       ]
      },
      {
       "output_type": "stream",
       "stream": "stdout",
       "text": [
        "53 "
       ]
      },
      {
       "output_type": "stream",
       "stream": "stdout",
       "text": [
        "54 "
       ]
      },
      {
       "output_type": "stream",
       "stream": "stdout",
       "text": [
        "55 "
       ]
      },
      {
       "output_type": "stream",
       "stream": "stdout",
       "text": [
        "56 "
       ]
      },
      {
       "output_type": "stream",
       "stream": "stdout",
       "text": [
        "57 "
       ]
      },
      {
       "output_type": "stream",
       "stream": "stdout",
       "text": [
        "58 "
       ]
      },
      {
       "output_type": "stream",
       "stream": "stdout",
       "text": [
        "59 "
       ]
      },
      {
       "output_type": "stream",
       "stream": "stdout",
       "text": [
        "60 "
       ]
      },
      {
       "output_type": "stream",
       "stream": "stdout",
       "text": [
        "61 "
       ]
      },
      {
       "output_type": "stream",
       "stream": "stdout",
       "text": [
        "62 "
       ]
      },
      {
       "output_type": "stream",
       "stream": "stdout",
       "text": [
        "63 "
       ]
      },
      {
       "output_type": "stream",
       "stream": "stdout",
       "text": [
        "64 "
       ]
      },
      {
       "output_type": "stream",
       "stream": "stdout",
       "text": [
        "65 "
       ]
      },
      {
       "output_type": "stream",
       "stream": "stdout",
       "text": [
        "66 "
       ]
      },
      {
       "output_type": "stream",
       "stream": "stdout",
       "text": [
        "67 "
       ]
      },
      {
       "output_type": "stream",
       "stream": "stdout",
       "text": [
        "68 "
       ]
      },
      {
       "output_type": "stream",
       "stream": "stdout",
       "text": [
        "69 "
       ]
      },
      {
       "output_type": "stream",
       "stream": "stdout",
       "text": [
        "70 "
       ]
      },
      {
       "output_type": "stream",
       "stream": "stdout",
       "text": [
        "71 "
       ]
      },
      {
       "output_type": "stream",
       "stream": "stdout",
       "text": [
        "72 "
       ]
      },
      {
       "output_type": "stream",
       "stream": "stdout",
       "text": [
        "73 "
       ]
      },
      {
       "output_type": "stream",
       "stream": "stdout",
       "text": [
        "74 "
       ]
      },
      {
       "output_type": "stream",
       "stream": "stdout",
       "text": [
        "75 "
       ]
      },
      {
       "output_type": "stream",
       "stream": "stdout",
       "text": [
        "76 "
       ]
      },
      {
       "output_type": "stream",
       "stream": "stdout",
       "text": [
        "77 "
       ]
      },
      {
       "output_type": "stream",
       "stream": "stdout",
       "text": [
        "78 "
       ]
      },
      {
       "output_type": "stream",
       "stream": "stdout",
       "text": [
        "79 "
       ]
      },
      {
       "output_type": "stream",
       "stream": "stdout",
       "text": [
        "80 "
       ]
      },
      {
       "output_type": "stream",
       "stream": "stdout",
       "text": [
        "81 "
       ]
      },
      {
       "output_type": "stream",
       "stream": "stdout",
       "text": [
        "82 "
       ]
      },
      {
       "output_type": "stream",
       "stream": "stdout",
       "text": [
        "83 "
       ]
      },
      {
       "output_type": "stream",
       "stream": "stdout",
       "text": [
        "84 "
       ]
      },
      {
       "output_type": "stream",
       "stream": "stdout",
       "text": [
        "85 "
       ]
      },
      {
       "output_type": "stream",
       "stream": "stdout",
       "text": [
        "86 "
       ]
      },
      {
       "output_type": "stream",
       "stream": "stdout",
       "text": [
        "87 "
       ]
      },
      {
       "output_type": "stream",
       "stream": "stdout",
       "text": [
        "88 "
       ]
      },
      {
       "output_type": "stream",
       "stream": "stdout",
       "text": [
        "89 "
       ]
      },
      {
       "output_type": "stream",
       "stream": "stdout",
       "text": [
        "90 "
       ]
      },
      {
       "output_type": "stream",
       "stream": "stdout",
       "text": [
        "91 "
       ]
      },
      {
       "output_type": "stream",
       "stream": "stdout",
       "text": [
        "92 "
       ]
      },
      {
       "output_type": "stream",
       "stream": "stdout",
       "text": [
        "93 "
       ]
      },
      {
       "output_type": "stream",
       "stream": "stdout",
       "text": [
        "94 "
       ]
      },
      {
       "output_type": "stream",
       "stream": "stdout",
       "text": [
        "95 "
       ]
      },
      {
       "output_type": "stream",
       "stream": "stdout",
       "text": [
        "96 "
       ]
      },
      {
       "output_type": "stream",
       "stream": "stdout",
       "text": [
        "97 "
       ]
      },
      {
       "output_type": "stream",
       "stream": "stdout",
       "text": [
        "98 "
       ]
      },
      {
       "output_type": "stream",
       "stream": "stdout",
       "text": [
        "99 "
       ]
      },
      {
       "output_type": "stream",
       "stream": "stdout",
       "text": [
        "100 "
       ]
      },
      {
       "output_type": "stream",
       "stream": "stdout",
       "text": [
        "101 "
       ]
      },
      {
       "output_type": "stream",
       "stream": "stdout",
       "text": [
        "102 "
       ]
      },
      {
       "output_type": "stream",
       "stream": "stdout",
       "text": [
        "103 "
       ]
      },
      {
       "output_type": "stream",
       "stream": "stdout",
       "text": [
        "104 "
       ]
      },
      {
       "output_type": "stream",
       "stream": "stdout",
       "text": [
        "105 "
       ]
      },
      {
       "output_type": "stream",
       "stream": "stdout",
       "text": [
        "106 "
       ]
      },
      {
       "output_type": "stream",
       "stream": "stdout",
       "text": [
        "107 "
       ]
      },
      {
       "output_type": "stream",
       "stream": "stdout",
       "text": [
        "108 "
       ]
      },
      {
       "output_type": "stream",
       "stream": "stdout",
       "text": [
        "109 "
       ]
      },
      {
       "output_type": "stream",
       "stream": "stdout",
       "text": [
        "110 "
       ]
      },
      {
       "output_type": "stream",
       "stream": "stdout",
       "text": [
        "111 "
       ]
      },
      {
       "output_type": "stream",
       "stream": "stdout",
       "text": [
        "112 "
       ]
      },
      {
       "output_type": "stream",
       "stream": "stdout",
       "text": [
        "113 "
       ]
      },
      {
       "output_type": "stream",
       "stream": "stdout",
       "text": [
        "114 "
       ]
      },
      {
       "output_type": "stream",
       "stream": "stdout",
       "text": [
        "115 "
       ]
      },
      {
       "output_type": "stream",
       "stream": "stdout",
       "text": [
        "116 "
       ]
      },
      {
       "output_type": "stream",
       "stream": "stdout",
       "text": [
        "117 "
       ]
      },
      {
       "output_type": "stream",
       "stream": "stdout",
       "text": [
        "118 "
       ]
      },
      {
       "output_type": "stream",
       "stream": "stdout",
       "text": [
        "119 "
       ]
      },
      {
       "output_type": "stream",
       "stream": "stdout",
       "text": [
        "120 "
       ]
      },
      {
       "output_type": "stream",
       "stream": "stdout",
       "text": [
        "121 "
       ]
      },
      {
       "output_type": "stream",
       "stream": "stdout",
       "text": [
        "122 "
       ]
      },
      {
       "output_type": "stream",
       "stream": "stdout",
       "text": [
        "123 "
       ]
      },
      {
       "output_type": "stream",
       "stream": "stdout",
       "text": [
        "124 "
       ]
      },
      {
       "output_type": "stream",
       "stream": "stdout",
       "text": [
        "125 "
       ]
      },
      {
       "output_type": "stream",
       "stream": "stdout",
       "text": [
        "126 "
       ]
      },
      {
       "output_type": "stream",
       "stream": "stdout",
       "text": [
        "127 "
       ]
      },
      {
       "output_type": "stream",
       "stream": "stdout",
       "text": [
        "128 "
       ]
      },
      {
       "output_type": "stream",
       "stream": "stdout",
       "text": [
        "129 "
       ]
      },
      {
       "output_type": "stream",
       "stream": "stdout",
       "text": [
        "130 "
       ]
      },
      {
       "output_type": "stream",
       "stream": "stdout",
       "text": [
        "131 "
       ]
      },
      {
       "output_type": "stream",
       "stream": "stdout",
       "text": [
        "132 "
       ]
      },
      {
       "output_type": "stream",
       "stream": "stdout",
       "text": [
        "133 "
       ]
      },
      {
       "output_type": "stream",
       "stream": "stdout",
       "text": [
        "134 "
       ]
      },
      {
       "output_type": "stream",
       "stream": "stdout",
       "text": [
        "135 "
       ]
      },
      {
       "output_type": "stream",
       "stream": "stdout",
       "text": [
        "136 "
       ]
      },
      {
       "output_type": "stream",
       "stream": "stdout",
       "text": [
        "137 "
       ]
      },
      {
       "output_type": "stream",
       "stream": "stdout",
       "text": [
        "138 "
       ]
      },
      {
       "output_type": "stream",
       "stream": "stdout",
       "text": [
        "139 "
       ]
      },
      {
       "output_type": "stream",
       "stream": "stdout",
       "text": [
        "140 "
       ]
      },
      {
       "output_type": "stream",
       "stream": "stdout",
       "text": [
        "141 "
       ]
      },
      {
       "output_type": "stream",
       "stream": "stdout",
       "text": [
        "142 "
       ]
      },
      {
       "output_type": "stream",
       "stream": "stdout",
       "text": [
        "143 "
       ]
      },
      {
       "output_type": "stream",
       "stream": "stdout",
       "text": [
        "144 "
       ]
      },
      {
       "output_type": "stream",
       "stream": "stdout",
       "text": [
        "145 "
       ]
      },
      {
       "output_type": "stream",
       "stream": "stdout",
       "text": [
        "146 "
       ]
      },
      {
       "output_type": "stream",
       "stream": "stdout",
       "text": [
        "147 "
       ]
      },
      {
       "output_type": "stream",
       "stream": "stdout",
       "text": [
        "148 "
       ]
      },
      {
       "output_type": "stream",
       "stream": "stdout",
       "text": [
        "149 "
       ]
      },
      {
       "output_type": "stream",
       "stream": "stdout",
       "text": [
        "150 "
       ]
      },
      {
       "output_type": "stream",
       "stream": "stdout",
       "text": [
        "151 "
       ]
      },
      {
       "output_type": "stream",
       "stream": "stdout",
       "text": [
        "152 "
       ]
      },
      {
       "output_type": "stream",
       "stream": "stdout",
       "text": [
        "153 "
       ]
      },
      {
       "output_type": "stream",
       "stream": "stdout",
       "text": [
        "154 "
       ]
      },
      {
       "output_type": "stream",
       "stream": "stdout",
       "text": [
        "155 "
       ]
      },
      {
       "output_type": "stream",
       "stream": "stdout",
       "text": [
        "156 "
       ]
      },
      {
       "output_type": "stream",
       "stream": "stdout",
       "text": [
        "157 "
       ]
      },
      {
       "output_type": "stream",
       "stream": "stdout",
       "text": [
        "158 "
       ]
      },
      {
       "output_type": "stream",
       "stream": "stdout",
       "text": [
        "159 "
       ]
      },
      {
       "output_type": "stream",
       "stream": "stdout",
       "text": [
        "160 "
       ]
      },
      {
       "output_type": "stream",
       "stream": "stdout",
       "text": [
        "161 "
       ]
      },
      {
       "output_type": "stream",
       "stream": "stdout",
       "text": [
        "162 "
       ]
      },
      {
       "output_type": "stream",
       "stream": "stdout",
       "text": [
        "163 "
       ]
      },
      {
       "output_type": "stream",
       "stream": "stdout",
       "text": [
        "164 "
       ]
      },
      {
       "output_type": "stream",
       "stream": "stdout",
       "text": [
        "165 "
       ]
      },
      {
       "output_type": "stream",
       "stream": "stdout",
       "text": [
        "166 "
       ]
      },
      {
       "output_type": "stream",
       "stream": "stdout",
       "text": [
        "167 "
       ]
      },
      {
       "output_type": "stream",
       "stream": "stdout",
       "text": [
        "168 "
       ]
      },
      {
       "output_type": "stream",
       "stream": "stdout",
       "text": [
        "169 "
       ]
      },
      {
       "output_type": "stream",
       "stream": "stdout",
       "text": [
        "170 "
       ]
      },
      {
       "output_type": "stream",
       "stream": "stdout",
       "text": [
        "171 "
       ]
      },
      {
       "output_type": "stream",
       "stream": "stdout",
       "text": [
        "172 "
       ]
      },
      {
       "output_type": "stream",
       "stream": "stdout",
       "text": [
        "173 "
       ]
      },
      {
       "output_type": "stream",
       "stream": "stdout",
       "text": [
        "174 "
       ]
      },
      {
       "output_type": "stream",
       "stream": "stdout",
       "text": [
        "175 "
       ]
      },
      {
       "output_type": "stream",
       "stream": "stdout",
       "text": [
        "176 "
       ]
      },
      {
       "output_type": "stream",
       "stream": "stdout",
       "text": [
        "177 "
       ]
      },
      {
       "output_type": "stream",
       "stream": "stdout",
       "text": [
        "178 "
       ]
      },
      {
       "output_type": "stream",
       "stream": "stdout",
       "text": [
        "179 "
       ]
      },
      {
       "output_type": "stream",
       "stream": "stdout",
       "text": [
        "180 "
       ]
      },
      {
       "output_type": "stream",
       "stream": "stdout",
       "text": [
        "181 "
       ]
      },
      {
       "output_type": "stream",
       "stream": "stdout",
       "text": [
        "182 "
       ]
      },
      {
       "output_type": "stream",
       "stream": "stdout",
       "text": [
        "183 "
       ]
      },
      {
       "output_type": "stream",
       "stream": "stdout",
       "text": [
        "184 "
       ]
      },
      {
       "output_type": "stream",
       "stream": "stdout",
       "text": [
        "185 "
       ]
      },
      {
       "output_type": "stream",
       "stream": "stdout",
       "text": [
        "186 "
       ]
      },
      {
       "output_type": "stream",
       "stream": "stdout",
       "text": [
        "187 "
       ]
      },
      {
       "output_type": "stream",
       "stream": "stdout",
       "text": [
        "188 "
       ]
      },
      {
       "output_type": "stream",
       "stream": "stdout",
       "text": [
        "189 "
       ]
      },
      {
       "output_type": "stream",
       "stream": "stdout",
       "text": [
        "190 "
       ]
      },
      {
       "output_type": "stream",
       "stream": "stdout",
       "text": [
        "191 "
       ]
      },
      {
       "output_type": "stream",
       "stream": "stdout",
       "text": [
        "192 "
       ]
      },
      {
       "output_type": "stream",
       "stream": "stdout",
       "text": [
        "193 "
       ]
      },
      {
       "output_type": "stream",
       "stream": "stdout",
       "text": [
        "194 "
       ]
      },
      {
       "output_type": "stream",
       "stream": "stdout",
       "text": [
        "195 "
       ]
      },
      {
       "output_type": "stream",
       "stream": "stdout",
       "text": [
        "196 "
       ]
      },
      {
       "output_type": "stream",
       "stream": "stdout",
       "text": [
        "197 "
       ]
      },
      {
       "output_type": "stream",
       "stream": "stdout",
       "text": [
        "198 "
       ]
      },
      {
       "output_type": "stream",
       "stream": "stdout",
       "text": [
        "199 "
       ]
      },
      {
       "output_type": "stream",
       "stream": "stdout",
       "text": [
        "200 "
       ]
      },
      {
       "output_type": "stream",
       "stream": "stdout",
       "text": [
        "201 "
       ]
      },
      {
       "output_type": "stream",
       "stream": "stdout",
       "text": [
        "202 "
       ]
      },
      {
       "output_type": "stream",
       "stream": "stdout",
       "text": [
        "203 "
       ]
      },
      {
       "output_type": "stream",
       "stream": "stdout",
       "text": [
        "204 "
       ]
      },
      {
       "output_type": "stream",
       "stream": "stdout",
       "text": [
        "205 "
       ]
      },
      {
       "output_type": "stream",
       "stream": "stdout",
       "text": [
        "206 "
       ]
      },
      {
       "output_type": "stream",
       "stream": "stdout",
       "text": [
        "207 "
       ]
      },
      {
       "output_type": "stream",
       "stream": "stdout",
       "text": [
        "208 "
       ]
      },
      {
       "output_type": "stream",
       "stream": "stdout",
       "text": [
        "209 "
       ]
      },
      {
       "output_type": "stream",
       "stream": "stdout",
       "text": [
        "210 "
       ]
      },
      {
       "output_type": "stream",
       "stream": "stdout",
       "text": [
        "211 "
       ]
      },
      {
       "output_type": "stream",
       "stream": "stdout",
       "text": [
        "212 "
       ]
      },
      {
       "output_type": "stream",
       "stream": "stdout",
       "text": [
        "213 "
       ]
      },
      {
       "output_type": "stream",
       "stream": "stdout",
       "text": [
        "214 "
       ]
      },
      {
       "output_type": "stream",
       "stream": "stdout",
       "text": [
        "215 "
       ]
      },
      {
       "output_type": "stream",
       "stream": "stdout",
       "text": [
        "216 "
       ]
      },
      {
       "output_type": "stream",
       "stream": "stdout",
       "text": [
        "217 "
       ]
      },
      {
       "output_type": "stream",
       "stream": "stdout",
       "text": [
        "218 "
       ]
      },
      {
       "output_type": "stream",
       "stream": "stdout",
       "text": [
        "219 "
       ]
      },
      {
       "output_type": "stream",
       "stream": "stdout",
       "text": [
        "220 "
       ]
      },
      {
       "output_type": "stream",
       "stream": "stdout",
       "text": [
        "221 "
       ]
      },
      {
       "output_type": "stream",
       "stream": "stdout",
       "text": [
        "222 "
       ]
      },
      {
       "output_type": "stream",
       "stream": "stdout",
       "text": [
        "223 "
       ]
      },
      {
       "output_type": "stream",
       "stream": "stdout",
       "text": [
        "224 "
       ]
      },
      {
       "output_type": "stream",
       "stream": "stdout",
       "text": [
        "225 "
       ]
      },
      {
       "output_type": "stream",
       "stream": "stdout",
       "text": [
        "226 "
       ]
      },
      {
       "output_type": "stream",
       "stream": "stdout",
       "text": [
        "227 "
       ]
      },
      {
       "output_type": "stream",
       "stream": "stdout",
       "text": [
        "228 "
       ]
      },
      {
       "output_type": "stream",
       "stream": "stdout",
       "text": [
        "229 "
       ]
      },
      {
       "output_type": "stream",
       "stream": "stdout",
       "text": [
        "230 "
       ]
      },
      {
       "output_type": "stream",
       "stream": "stdout",
       "text": [
        "231 "
       ]
      },
      {
       "output_type": "stream",
       "stream": "stdout",
       "text": [
        "232 "
       ]
      },
      {
       "output_type": "stream",
       "stream": "stdout",
       "text": [
        "233 "
       ]
      },
      {
       "output_type": "stream",
       "stream": "stdout",
       "text": [
        "234 "
       ]
      },
      {
       "output_type": "stream",
       "stream": "stdout",
       "text": [
        "235 "
       ]
      },
      {
       "output_type": "stream",
       "stream": "stdout",
       "text": [
        "236 "
       ]
      },
      {
       "output_type": "stream",
       "stream": "stdout",
       "text": [
        "237 "
       ]
      },
      {
       "output_type": "stream",
       "stream": "stdout",
       "text": [
        "238 "
       ]
      },
      {
       "output_type": "stream",
       "stream": "stdout",
       "text": [
        "239 "
       ]
      },
      {
       "output_type": "stream",
       "stream": "stdout",
       "text": [
        "240 "
       ]
      },
      {
       "output_type": "stream",
       "stream": "stdout",
       "text": [
        "241 "
       ]
      },
      {
       "output_type": "stream",
       "stream": "stdout",
       "text": [
        "242 "
       ]
      },
      {
       "output_type": "stream",
       "stream": "stdout",
       "text": [
        "243 "
       ]
      },
      {
       "output_type": "stream",
       "stream": "stdout",
       "text": [
        "244 "
       ]
      },
      {
       "output_type": "stream",
       "stream": "stdout",
       "text": [
        "245 "
       ]
      },
      {
       "output_type": "stream",
       "stream": "stdout",
       "text": [
        "246 "
       ]
      },
      {
       "output_type": "stream",
       "stream": "stdout",
       "text": [
        "247 "
       ]
      },
      {
       "output_type": "stream",
       "stream": "stdout",
       "text": [
        "248 "
       ]
      },
      {
       "output_type": "stream",
       "stream": "stdout",
       "text": [
        "249 "
       ]
      },
      {
       "output_type": "stream",
       "stream": "stdout",
       "text": [
        "250 "
       ]
      },
      {
       "output_type": "stream",
       "stream": "stdout",
       "text": [
        "251 "
       ]
      },
      {
       "output_type": "stream",
       "stream": "stdout",
       "text": [
        "252 "
       ]
      },
      {
       "output_type": "stream",
       "stream": "stdout",
       "text": [
        "253 "
       ]
      },
      {
       "output_type": "stream",
       "stream": "stdout",
       "text": [
        "254 "
       ]
      },
      {
       "output_type": "stream",
       "stream": "stdout",
       "text": [
        "255 "
       ]
      },
      {
       "output_type": "stream",
       "stream": "stdout",
       "text": [
        "256 "
       ]
      },
      {
       "output_type": "stream",
       "stream": "stdout",
       "text": [
        "257 "
       ]
      },
      {
       "output_type": "stream",
       "stream": "stdout",
       "text": [
        "258 "
       ]
      },
      {
       "output_type": "stream",
       "stream": "stdout",
       "text": [
        "259 "
       ]
      },
      {
       "output_type": "stream",
       "stream": "stdout",
       "text": [
        "260 "
       ]
      },
      {
       "output_type": "stream",
       "stream": "stdout",
       "text": [
        "261 "
       ]
      },
      {
       "output_type": "stream",
       "stream": "stdout",
       "text": [
        "262 "
       ]
      },
      {
       "output_type": "stream",
       "stream": "stdout",
       "text": [
        "263 "
       ]
      },
      {
       "output_type": "stream",
       "stream": "stdout",
       "text": [
        "264 "
       ]
      },
      {
       "output_type": "stream",
       "stream": "stdout",
       "text": [
        "265 "
       ]
      },
      {
       "output_type": "stream",
       "stream": "stdout",
       "text": [
        "266 "
       ]
      },
      {
       "output_type": "stream",
       "stream": "stdout",
       "text": [
        "267 "
       ]
      },
      {
       "output_type": "stream",
       "stream": "stdout",
       "text": [
        "268 "
       ]
      },
      {
       "output_type": "stream",
       "stream": "stdout",
       "text": [
        "269 "
       ]
      },
      {
       "output_type": "stream",
       "stream": "stdout",
       "text": [
        "270 "
       ]
      },
      {
       "output_type": "stream",
       "stream": "stdout",
       "text": [
        "271 "
       ]
      },
      {
       "output_type": "stream",
       "stream": "stdout",
       "text": [
        "272 "
       ]
      },
      {
       "output_type": "stream",
       "stream": "stdout",
       "text": [
        "273 "
       ]
      },
      {
       "output_type": "stream",
       "stream": "stdout",
       "text": [
        "274 "
       ]
      },
      {
       "output_type": "stream",
       "stream": "stdout",
       "text": [
        "275 "
       ]
      },
      {
       "output_type": "stream",
       "stream": "stdout",
       "text": [
        "276 "
       ]
      },
      {
       "output_type": "stream",
       "stream": "stdout",
       "text": [
        "277 "
       ]
      },
      {
       "output_type": "stream",
       "stream": "stdout",
       "text": [
        "278 "
       ]
      },
      {
       "output_type": "stream",
       "stream": "stdout",
       "text": [
        "279 "
       ]
      },
      {
       "output_type": "stream",
       "stream": "stdout",
       "text": [
        "280 "
       ]
      },
      {
       "output_type": "stream",
       "stream": "stdout",
       "text": [
        "281 "
       ]
      },
      {
       "output_type": "stream",
       "stream": "stdout",
       "text": [
        "282 "
       ]
      },
      {
       "output_type": "stream",
       "stream": "stdout",
       "text": [
        "283 "
       ]
      },
      {
       "output_type": "stream",
       "stream": "stdout",
       "text": [
        "284 "
       ]
      },
      {
       "output_type": "stream",
       "stream": "stdout",
       "text": [
        "285 "
       ]
      },
      {
       "output_type": "stream",
       "stream": "stdout",
       "text": [
        "286 "
       ]
      },
      {
       "output_type": "stream",
       "stream": "stdout",
       "text": [
        "287 "
       ]
      },
      {
       "output_type": "stream",
       "stream": "stdout",
       "text": [
        "288 "
       ]
      },
      {
       "output_type": "stream",
       "stream": "stdout",
       "text": [
        "289 "
       ]
      },
      {
       "output_type": "stream",
       "stream": "stdout",
       "text": [
        "290 "
       ]
      },
      {
       "output_type": "stream",
       "stream": "stdout",
       "text": [
        "291 "
       ]
      },
      {
       "output_type": "stream",
       "stream": "stdout",
       "text": [
        "292 "
       ]
      },
      {
       "output_type": "stream",
       "stream": "stdout",
       "text": [
        "293 "
       ]
      },
      {
       "output_type": "stream",
       "stream": "stdout",
       "text": [
        "294 "
       ]
      },
      {
       "output_type": "stream",
       "stream": "stdout",
       "text": [
        "295 "
       ]
      },
      {
       "output_type": "stream",
       "stream": "stdout",
       "text": [
        "296 "
       ]
      },
      {
       "output_type": "stream",
       "stream": "stdout",
       "text": [
        "297 "
       ]
      },
      {
       "output_type": "stream",
       "stream": "stdout",
       "text": [
        "298 "
       ]
      },
      {
       "output_type": "stream",
       "stream": "stdout",
       "text": [
        "299 "
       ]
      },
      {
       "output_type": "stream",
       "stream": "stdout",
       "text": [
        "300 "
       ]
      },
      {
       "output_type": "stream",
       "stream": "stdout",
       "text": [
        "301 "
       ]
      },
      {
       "output_type": "stream",
       "stream": "stdout",
       "text": [
        "302 "
       ]
      },
      {
       "output_type": "stream",
       "stream": "stdout",
       "text": [
        "303 "
       ]
      },
      {
       "output_type": "stream",
       "stream": "stdout",
       "text": [
        "304 "
       ]
      },
      {
       "output_type": "stream",
       "stream": "stdout",
       "text": [
        "305 "
       ]
      },
      {
       "output_type": "stream",
       "stream": "stdout",
       "text": [
        "306 "
       ]
      },
      {
       "output_type": "stream",
       "stream": "stdout",
       "text": [
        "307 "
       ]
      },
      {
       "output_type": "stream",
       "stream": "stdout",
       "text": [
        "308 "
       ]
      },
      {
       "output_type": "stream",
       "stream": "stdout",
       "text": [
        "309 "
       ]
      },
      {
       "output_type": "stream",
       "stream": "stdout",
       "text": [
        "310 "
       ]
      },
      {
       "output_type": "stream",
       "stream": "stdout",
       "text": [
        "311 "
       ]
      },
      {
       "output_type": "stream",
       "stream": "stdout",
       "text": [
        "312 "
       ]
      },
      {
       "output_type": "stream",
       "stream": "stdout",
       "text": [
        "313 "
       ]
      },
      {
       "output_type": "stream",
       "stream": "stdout",
       "text": [
        "314 "
       ]
      },
      {
       "output_type": "stream",
       "stream": "stdout",
       "text": [
        "315 "
       ]
      },
      {
       "output_type": "stream",
       "stream": "stdout",
       "text": [
        "316 "
       ]
      },
      {
       "output_type": "stream",
       "stream": "stdout",
       "text": [
        "317 "
       ]
      },
      {
       "output_type": "stream",
       "stream": "stdout",
       "text": [
        "318 "
       ]
      },
      {
       "output_type": "stream",
       "stream": "stdout",
       "text": [
        "319 "
       ]
      },
      {
       "output_type": "stream",
       "stream": "stdout",
       "text": [
        "320 "
       ]
      },
      {
       "output_type": "stream",
       "stream": "stdout",
       "text": [
        "321 "
       ]
      },
      {
       "output_type": "stream",
       "stream": "stdout",
       "text": [
        "322 "
       ]
      },
      {
       "output_type": "stream",
       "stream": "stdout",
       "text": [
        "323 "
       ]
      },
      {
       "output_type": "stream",
       "stream": "stdout",
       "text": [
        "324 "
       ]
      },
      {
       "output_type": "stream",
       "stream": "stdout",
       "text": [
        "325 "
       ]
      },
      {
       "output_type": "stream",
       "stream": "stdout",
       "text": [
        "326 "
       ]
      },
      {
       "output_type": "stream",
       "stream": "stdout",
       "text": [
        "327 "
       ]
      },
      {
       "output_type": "stream",
       "stream": "stdout",
       "text": [
        "328 "
       ]
      },
      {
       "output_type": "stream",
       "stream": "stdout",
       "text": [
        "329 "
       ]
      },
      {
       "output_type": "stream",
       "stream": "stdout",
       "text": [
        "330 "
       ]
      },
      {
       "output_type": "stream",
       "stream": "stdout",
       "text": [
        "331 "
       ]
      },
      {
       "output_type": "stream",
       "stream": "stdout",
       "text": [
        "332 "
       ]
      },
      {
       "output_type": "stream",
       "stream": "stdout",
       "text": [
        "333 "
       ]
      },
      {
       "output_type": "stream",
       "stream": "stdout",
       "text": [
        "334 "
       ]
      },
      {
       "output_type": "stream",
       "stream": "stdout",
       "text": [
        "335 "
       ]
      },
      {
       "output_type": "stream",
       "stream": "stdout",
       "text": [
        "336 "
       ]
      },
      {
       "output_type": "stream",
       "stream": "stdout",
       "text": [
        "337 "
       ]
      },
      {
       "output_type": "stream",
       "stream": "stdout",
       "text": [
        "338 "
       ]
      },
      {
       "output_type": "stream",
       "stream": "stdout",
       "text": [
        "339 "
       ]
      },
      {
       "output_type": "stream",
       "stream": "stdout",
       "text": [
        "340 "
       ]
      },
      {
       "output_type": "stream",
       "stream": "stdout",
       "text": [
        "341 "
       ]
      },
      {
       "output_type": "stream",
       "stream": "stdout",
       "text": [
        "342 "
       ]
      },
      {
       "output_type": "stream",
       "stream": "stdout",
       "text": [
        "343 "
       ]
      },
      {
       "output_type": "stream",
       "stream": "stdout",
       "text": [
        "344 "
       ]
      },
      {
       "output_type": "stream",
       "stream": "stdout",
       "text": [
        "345 "
       ]
      },
      {
       "output_type": "stream",
       "stream": "stdout",
       "text": [
        "346 "
       ]
      },
      {
       "output_type": "stream",
       "stream": "stdout",
       "text": [
        "347 "
       ]
      },
      {
       "output_type": "stream",
       "stream": "stdout",
       "text": [
        "348 "
       ]
      },
      {
       "output_type": "stream",
       "stream": "stdout",
       "text": [
        "349 "
       ]
      },
      {
       "output_type": "stream",
       "stream": "stdout",
       "text": [
        "350 "
       ]
      },
      {
       "output_type": "stream",
       "stream": "stdout",
       "text": [
        "351 "
       ]
      },
      {
       "output_type": "stream",
       "stream": "stdout",
       "text": [
        "352 "
       ]
      },
      {
       "output_type": "stream",
       "stream": "stdout",
       "text": [
        "353 "
       ]
      },
      {
       "output_type": "stream",
       "stream": "stdout",
       "text": [
        "354 "
       ]
      },
      {
       "output_type": "stream",
       "stream": "stdout",
       "text": [
        "355 "
       ]
      },
      {
       "output_type": "stream",
       "stream": "stdout",
       "text": [
        "356 "
       ]
      },
      {
       "output_type": "stream",
       "stream": "stdout",
       "text": [
        "357 "
       ]
      },
      {
       "output_type": "stream",
       "stream": "stdout",
       "text": [
        "358 "
       ]
      },
      {
       "output_type": "stream",
       "stream": "stdout",
       "text": [
        "359 "
       ]
      },
      {
       "output_type": "stream",
       "stream": "stdout",
       "text": [
        "360 "
       ]
      },
      {
       "output_type": "stream",
       "stream": "stdout",
       "text": [
        "361 "
       ]
      },
      {
       "output_type": "stream",
       "stream": "stdout",
       "text": [
        "362 "
       ]
      },
      {
       "output_type": "stream",
       "stream": "stdout",
       "text": [
        "363 "
       ]
      },
      {
       "output_type": "stream",
       "stream": "stdout",
       "text": [
        "364 "
       ]
      },
      {
       "output_type": "stream",
       "stream": "stdout",
       "text": [
        "365 "
       ]
      },
      {
       "output_type": "stream",
       "stream": "stdout",
       "text": [
        "366 "
       ]
      },
      {
       "output_type": "stream",
       "stream": "stdout",
       "text": [
        "367 "
       ]
      },
      {
       "output_type": "stream",
       "stream": "stdout",
       "text": [
        "368 "
       ]
      },
      {
       "output_type": "stream",
       "stream": "stdout",
       "text": [
        "369 "
       ]
      },
      {
       "output_type": "stream",
       "stream": "stdout",
       "text": [
        "370 "
       ]
      },
      {
       "output_type": "stream",
       "stream": "stdout",
       "text": [
        "371 "
       ]
      },
      {
       "output_type": "stream",
       "stream": "stdout",
       "text": [
        "372 "
       ]
      },
      {
       "output_type": "stream",
       "stream": "stdout",
       "text": [
        "373 "
       ]
      },
      {
       "output_type": "stream",
       "stream": "stdout",
       "text": [
        "374 "
       ]
      },
      {
       "output_type": "stream",
       "stream": "stdout",
       "text": [
        "375 "
       ]
      },
      {
       "output_type": "stream",
       "stream": "stdout",
       "text": [
        "376 "
       ]
      },
      {
       "output_type": "stream",
       "stream": "stdout",
       "text": [
        "377 "
       ]
      },
      {
       "output_type": "stream",
       "stream": "stdout",
       "text": [
        "378 "
       ]
      },
      {
       "output_type": "stream",
       "stream": "stdout",
       "text": [
        "379 "
       ]
      },
      {
       "output_type": "stream",
       "stream": "stdout",
       "text": [
        "380 "
       ]
      },
      {
       "output_type": "stream",
       "stream": "stdout",
       "text": [
        "381 "
       ]
      },
      {
       "output_type": "stream",
       "stream": "stdout",
       "text": [
        "382 "
       ]
      },
      {
       "output_type": "stream",
       "stream": "stdout",
       "text": [
        "383 "
       ]
      },
      {
       "output_type": "stream",
       "stream": "stdout",
       "text": [
        "384 "
       ]
      },
      {
       "output_type": "stream",
       "stream": "stdout",
       "text": [
        "385 "
       ]
      },
      {
       "output_type": "stream",
       "stream": "stdout",
       "text": [
        "386 "
       ]
      },
      {
       "output_type": "stream",
       "stream": "stdout",
       "text": [
        "387 "
       ]
      },
      {
       "output_type": "stream",
       "stream": "stdout",
       "text": [
        "388 "
       ]
      },
      {
       "output_type": "stream",
       "stream": "stdout",
       "text": [
        "389 "
       ]
      },
      {
       "output_type": "stream",
       "stream": "stdout",
       "text": [
        "390 "
       ]
      },
      {
       "output_type": "stream",
       "stream": "stdout",
       "text": [
        "391 "
       ]
      },
      {
       "output_type": "stream",
       "stream": "stdout",
       "text": [
        "392 "
       ]
      },
      {
       "output_type": "stream",
       "stream": "stdout",
       "text": [
        "393 "
       ]
      },
      {
       "output_type": "stream",
       "stream": "stdout",
       "text": [
        "394 "
       ]
      },
      {
       "output_type": "stream",
       "stream": "stdout",
       "text": [
        "395 "
       ]
      },
      {
       "output_type": "stream",
       "stream": "stdout",
       "text": [
        "396 "
       ]
      },
      {
       "output_type": "stream",
       "stream": "stdout",
       "text": [
        "397 "
       ]
      },
      {
       "output_type": "stream",
       "stream": "stdout",
       "text": [
        "398 "
       ]
      },
      {
       "output_type": "stream",
       "stream": "stdout",
       "text": [
        "399 "
       ]
      },
      {
       "output_type": "stream",
       "stream": "stdout",
       "text": [
        "400 "
       ]
      },
      {
       "output_type": "stream",
       "stream": "stdout",
       "text": [
        "401 "
       ]
      },
      {
       "output_type": "stream",
       "stream": "stdout",
       "text": [
        "402 "
       ]
      },
      {
       "output_type": "stream",
       "stream": "stdout",
       "text": [
        "403 "
       ]
      },
      {
       "output_type": "stream",
       "stream": "stdout",
       "text": [
        "404 "
       ]
      },
      {
       "output_type": "stream",
       "stream": "stdout",
       "text": [
        "405 "
       ]
      },
      {
       "output_type": "stream",
       "stream": "stdout",
       "text": [
        "406 "
       ]
      },
      {
       "output_type": "stream",
       "stream": "stdout",
       "text": [
        "407 "
       ]
      },
      {
       "output_type": "stream",
       "stream": "stdout",
       "text": [
        "408 "
       ]
      },
      {
       "output_type": "stream",
       "stream": "stdout",
       "text": [
        "409 "
       ]
      },
      {
       "output_type": "stream",
       "stream": "stdout",
       "text": [
        "410 "
       ]
      },
      {
       "output_type": "stream",
       "stream": "stdout",
       "text": [
        "411 "
       ]
      },
      {
       "output_type": "stream",
       "stream": "stdout",
       "text": [
        "412 "
       ]
      },
      {
       "output_type": "stream",
       "stream": "stdout",
       "text": [
        "413 "
       ]
      },
      {
       "output_type": "stream",
       "stream": "stdout",
       "text": [
        "414 "
       ]
      },
      {
       "output_type": "stream",
       "stream": "stdout",
       "text": [
        "415 "
       ]
      },
      {
       "output_type": "stream",
       "stream": "stdout",
       "text": [
        "416 "
       ]
      },
      {
       "output_type": "stream",
       "stream": "stdout",
       "text": [
        "417 "
       ]
      },
      {
       "output_type": "stream",
       "stream": "stdout",
       "text": [
        "418 "
       ]
      },
      {
       "output_type": "stream",
       "stream": "stdout",
       "text": [
        "419 "
       ]
      },
      {
       "output_type": "stream",
       "stream": "stdout",
       "text": [
        "420 "
       ]
      },
      {
       "output_type": "stream",
       "stream": "stdout",
       "text": [
        "421 "
       ]
      },
      {
       "output_type": "stream",
       "stream": "stdout",
       "text": [
        "422 "
       ]
      },
      {
       "output_type": "stream",
       "stream": "stdout",
       "text": [
        "423 "
       ]
      },
      {
       "output_type": "stream",
       "stream": "stdout",
       "text": [
        "424 "
       ]
      },
      {
       "output_type": "stream",
       "stream": "stdout",
       "text": [
        "425 "
       ]
      },
      {
       "output_type": "stream",
       "stream": "stdout",
       "text": [
        "426 "
       ]
      },
      {
       "output_type": "stream",
       "stream": "stdout",
       "text": [
        "427 "
       ]
      },
      {
       "output_type": "stream",
       "stream": "stdout",
       "text": [
        "428 "
       ]
      },
      {
       "output_type": "stream",
       "stream": "stdout",
       "text": [
        "429 "
       ]
      },
      {
       "output_type": "stream",
       "stream": "stdout",
       "text": [
        "430 "
       ]
      },
      {
       "output_type": "stream",
       "stream": "stdout",
       "text": [
        "431 "
       ]
      },
      {
       "output_type": "stream",
       "stream": "stdout",
       "text": [
        "432 "
       ]
      },
      {
       "output_type": "stream",
       "stream": "stdout",
       "text": [
        "433 "
       ]
      },
      {
       "output_type": "stream",
       "stream": "stdout",
       "text": [
        "434 "
       ]
      },
      {
       "output_type": "stream",
       "stream": "stdout",
       "text": [
        "435 "
       ]
      },
      {
       "output_type": "stream",
       "stream": "stdout",
       "text": [
        "436 "
       ]
      },
      {
       "output_type": "stream",
       "stream": "stdout",
       "text": [
        "437 "
       ]
      },
      {
       "output_type": "stream",
       "stream": "stdout",
       "text": [
        "438 "
       ]
      },
      {
       "output_type": "stream",
       "stream": "stdout",
       "text": [
        "439 "
       ]
      },
      {
       "output_type": "stream",
       "stream": "stdout",
       "text": [
        "440 "
       ]
      },
      {
       "output_type": "stream",
       "stream": "stdout",
       "text": [
        "441 "
       ]
      },
      {
       "output_type": "stream",
       "stream": "stdout",
       "text": [
        "442 "
       ]
      },
      {
       "output_type": "stream",
       "stream": "stdout",
       "text": [
        "443 "
       ]
      },
      {
       "output_type": "stream",
       "stream": "stdout",
       "text": [
        "444 "
       ]
      },
      {
       "output_type": "stream",
       "stream": "stdout",
       "text": [
        "445 "
       ]
      },
      {
       "output_type": "stream",
       "stream": "stdout",
       "text": [
        "446 "
       ]
      },
      {
       "output_type": "stream",
       "stream": "stdout",
       "text": [
        "447 "
       ]
      },
      {
       "output_type": "stream",
       "stream": "stdout",
       "text": [
        "448 "
       ]
      },
      {
       "output_type": "stream",
       "stream": "stdout",
       "text": [
        "449 "
       ]
      },
      {
       "output_type": "stream",
       "stream": "stdout",
       "text": [
        "450 "
       ]
      },
      {
       "output_type": "stream",
       "stream": "stdout",
       "text": [
        "451 "
       ]
      },
      {
       "output_type": "stream",
       "stream": "stdout",
       "text": [
        "452 "
       ]
      },
      {
       "output_type": "stream",
       "stream": "stdout",
       "text": [
        "453 "
       ]
      },
      {
       "output_type": "stream",
       "stream": "stdout",
       "text": [
        "454 "
       ]
      },
      {
       "output_type": "stream",
       "stream": "stdout",
       "text": [
        "455 "
       ]
      },
      {
       "output_type": "stream",
       "stream": "stdout",
       "text": [
        "456 "
       ]
      },
      {
       "output_type": "stream",
       "stream": "stdout",
       "text": [
        "457 "
       ]
      },
      {
       "output_type": "stream",
       "stream": "stdout",
       "text": [
        "458 "
       ]
      },
      {
       "output_type": "stream",
       "stream": "stdout",
       "text": [
        "459 "
       ]
      },
      {
       "output_type": "stream",
       "stream": "stdout",
       "text": [
        "460 "
       ]
      },
      {
       "output_type": "stream",
       "stream": "stdout",
       "text": [
        "461 "
       ]
      },
      {
       "output_type": "stream",
       "stream": "stdout",
       "text": [
        "462 "
       ]
      },
      {
       "output_type": "stream",
       "stream": "stdout",
       "text": [
        "463 "
       ]
      },
      {
       "output_type": "stream",
       "stream": "stdout",
       "text": [
        "464 "
       ]
      },
      {
       "output_type": "stream",
       "stream": "stdout",
       "text": [
        "465 "
       ]
      },
      {
       "output_type": "stream",
       "stream": "stdout",
       "text": [
        "466 "
       ]
      },
      {
       "output_type": "stream",
       "stream": "stdout",
       "text": [
        "467 "
       ]
      },
      {
       "output_type": "stream",
       "stream": "stdout",
       "text": [
        "468 "
       ]
      },
      {
       "output_type": "stream",
       "stream": "stdout",
       "text": [
        "469 "
       ]
      },
      {
       "output_type": "stream",
       "stream": "stdout",
       "text": [
        "470 "
       ]
      },
      {
       "output_type": "stream",
       "stream": "stdout",
       "text": [
        "471 "
       ]
      },
      {
       "output_type": "stream",
       "stream": "stdout",
       "text": [
        "472 "
       ]
      },
      {
       "output_type": "stream",
       "stream": "stdout",
       "text": [
        "473 "
       ]
      },
      {
       "output_type": "stream",
       "stream": "stdout",
       "text": [
        "474 "
       ]
      },
      {
       "output_type": "stream",
       "stream": "stdout",
       "text": [
        "475 "
       ]
      },
      {
       "output_type": "stream",
       "stream": "stdout",
       "text": [
        "476 "
       ]
      },
      {
       "output_type": "stream",
       "stream": "stdout",
       "text": [
        "477 "
       ]
      },
      {
       "output_type": "stream",
       "stream": "stdout",
       "text": [
        "478 "
       ]
      },
      {
       "output_type": "stream",
       "stream": "stdout",
       "text": [
        "479 "
       ]
      },
      {
       "output_type": "stream",
       "stream": "stdout",
       "text": [
        "480 "
       ]
      },
      {
       "output_type": "stream",
       "stream": "stdout",
       "text": [
        "481 "
       ]
      },
      {
       "output_type": "stream",
       "stream": "stdout",
       "text": [
        "482 "
       ]
      },
      {
       "output_type": "stream",
       "stream": "stdout",
       "text": [
        "483 "
       ]
      },
      {
       "output_type": "stream",
       "stream": "stdout",
       "text": [
        "484 "
       ]
      },
      {
       "output_type": "stream",
       "stream": "stdout",
       "text": [
        "485 "
       ]
      },
      {
       "output_type": "stream",
       "stream": "stdout",
       "text": [
        "486 "
       ]
      },
      {
       "output_type": "stream",
       "stream": "stdout",
       "text": [
        "487 "
       ]
      },
      {
       "output_type": "stream",
       "stream": "stdout",
       "text": [
        "488 "
       ]
      },
      {
       "output_type": "stream",
       "stream": "stdout",
       "text": [
        "489 "
       ]
      },
      {
       "output_type": "stream",
       "stream": "stdout",
       "text": [
        "490 "
       ]
      },
      {
       "output_type": "stream",
       "stream": "stdout",
       "text": [
        "491 "
       ]
      },
      {
       "output_type": "stream",
       "stream": "stdout",
       "text": [
        "492 "
       ]
      },
      {
       "output_type": "stream",
       "stream": "stdout",
       "text": [
        "493 "
       ]
      },
      {
       "output_type": "stream",
       "stream": "stdout",
       "text": [
        "494 "
       ]
      },
      {
       "output_type": "stream",
       "stream": "stdout",
       "text": [
        "495 "
       ]
      },
      {
       "output_type": "stream",
       "stream": "stdout",
       "text": [
        "496 "
       ]
      },
      {
       "output_type": "stream",
       "stream": "stdout",
       "text": [
        "497 "
       ]
      },
      {
       "output_type": "stream",
       "stream": "stdout",
       "text": [
        "498 "
       ]
      },
      {
       "output_type": "stream",
       "stream": "stdout",
       "text": [
        "499 "
       ]
      },
      {
       "output_type": "stream",
       "stream": "stdout",
       "text": [
        "500\n"
       ]
      }
     ],
     "prompt_number": 53
    },
    {
     "cell_type": "code",
     "collapsed": false,
     "input": [
      "number = 0"
     ],
     "language": "python",
     "metadata": {},
     "outputs": [],
     "prompt_number": 9
    },
    {
     "cell_type": "code",
     "collapsed": false,
     "input": [
      "#look at each of the traces\n",
      "\n",
      "print len( traces[0] )\n",
      "plot( traces[ -33 ] )\n",
      "number += 1"
     ],
     "language": "python",
     "metadata": {},
     "outputs": [
      {
       "output_type": "stream",
       "stream": "stdout",
       "text": [
        "986\n"
       ]
      },
      {
       "metadata": {},
       "output_type": "display_data",
       "png": "[encoded data removed]",
       "text": [
        "<matplotlib.figure.Figure at 0x294afb10>"
       ]
      }
     ],
     "prompt_number": 10
    },
    {
     "cell_type": "code",
     "collapsed": false,
     "input": [
      "print number\n",
      "print traces[-33][-1]"
     ],
     "language": "python",
     "metadata": {},
     "outputs": [
      {
       "output_type": "stream",
       "stream": "stdout",
       "text": [
        "43\n",
        "0.036977635\n"
       ]
      }
     ],
     "prompt_number": 81
    },
    {
     "cell_type": "code",
     "collapsed": false,
     "input": [
      "#check how many values have been added to each list\n",
      "\n",
      "print up_outs\n",
      "print len(up_outs)"
     ],
     "language": "python",
     "metadata": {},
     "outputs": [
      {
       "output_type": "stream",
       "stream": "stdout",
       "text": [
        "[0.037699999999999997, 0.066199999999999995, 0.067099999999999993, 0.066299999999999998, 0.046899999999999997, 0.0058999999999999999, 0.064699999999999994, 0.0349, 0.071199999999999999, 0.089999999999999997, 0.0092999999999999992, 0.066599999999999993, 0.027799999999999998, 0.069800000000000001, 0.067199999999999996, 0.0067999999999999996, 0.018599999999999998, 0.015899999999999997, 0.0038999999999999994, 0.059799999999999999, 0.0722, 0.049200000000000001, 0.0048999999999999998, 0.0044000000000000003, 0.010999999999999998, 0.036999999999999998, 0.0029999999999999996, 0.00089999999999999998, 0.0877, 0.067099999999999993, 0.034700000000000002, 0.019099999999999999, 0.020399999999999998, 0.018799999999999997, 0.0030999999999999995, 0.020899999999999998, 0.033799999999999997, 0.036299999999999999, 0.046599999999999996, 0.0050999999999999995, 0.0063, 0.050299999999999997, 0.0030999999999999995, 0.0020999999999999999, 0.0011999999999999999, 0.0040000000000000001, 0.0361, 0.067999999999999991, 0.028699999999999996, 0.0066, 0.039199999999999999, 0.032399999999999998, 0.030299999999999997, 0.044600000000000001, 0.0082999999999999984, 0.056899999999999999, 0.095499999999999988, 0.017399999999999999, 0.020899999999999998, 0.0023999999999999998, 0.040399999999999998, 0.011199999999999998, 0.054699999999999999, 0.046800000000000001, 0.0339, 0.0098999999999999991, 0.061899999999999997, 0.0047999999999999996, 0.031099999999999996, 0.089499999999999996, 0.010999999999999998, 0.071499999999999994, 0.043699999999999996, 0.0066, 0.0407, 0.051499999999999997, 0.028699999999999996, 0.0001, 0.0057999999999999996, 0.017799999999999996, 0.058799999999999998, 0.067099999999999993, 0.0012999999999999999, 0.020799999999999999, 0.00039999999999999996, 0.056999999999999995, 0.017199999999999997, 0.0087999999999999988, 0.090199999999999989, 0.0080999999999999996, 0.0089999999999999993, 0.032300000000000002, 0.040300000000000002, 0.092799999999999994, 0.073099999999999998, 0.086899999999999991, 0.045499999999999999, 0.0093999999999999986, 0.0407, 0.053699999999999998, 0.0090999999999999987, 0.00039999999999999996, 0.0011999999999999999, 0.0021999999999999997, 0.0064999999999999997, 0.090499999999999997, 0.021299999999999996, 0.042099999999999999, 0.010899999999999998, 0.023499999999999997, 0.0974, 0.061399999999999996, 0.0048999999999999998, 0.022099999999999998, 0.050599999999999999, 0.011399999999999999, 0.0001, 0.018299999999999997, 0.086399999999999991, 0.094299999999999995, 0.018699999999999998, 0.08589999999999999, 0.013499999999999998, 0.0044000000000000003, 0.034599999999999999, 0.015499999999999998, 0.093099999999999988, 0.0050999999999999995, 0.0074999999999999997, 0.098199999999999996, 0.038899999999999997, 0.0082999999999999984, 0.022399999999999996, 0.0053999999999999994, 0.013999999999999999, 0.031699999999999999, 0.032899999999999999, 0.023799999999999998, 0.0047999999999999996, 0.038100000000000002, 0.010099999999999998, 0.024999999999999998, 0.021599999999999998, 0.0066999999999999994, 0.030699999999999998, 0.0080999999999999996, 0.0315, 0.023499999999999997, 0.023299999999999998, 0.038699999999999998, 0.0096999999999999986, 0.0056999999999999993, 0.025499999999999998, 0.037499999999999999, 0.080099999999999991, 0.014999999999999998, 0.0056999999999999993, 0.074700000000000003, 0.00039999999999999996, 0.0047000000000000002, 0.010399999999999998, 0.018799999999999997, 0.094199999999999992, 0.019399999999999997, 0.020299999999999999, 0.0066, 0.0018, 0.060999999999999999, 0.015799999999999998, 0.028499999999999998, 0.060499999999999998, 0.016999999999999998, 0.077899999999999997, 0.0014, 0.0068999999999999999, 0.033500000000000002, 0.076299999999999993, 0.0161, 0.0077999999999999996, 0.041299999999999996, 0.058599999999999999, 0.00079999999999999993, 0.0064999999999999997, 0.0061999999999999998, 0.035200000000000002, 0.015899999999999997, 0.022199999999999998, 0.059899999999999995, 0.065599999999999992, 0.0044000000000000003, 0.083799999999999999, 0.047699999999999999, 0.064799999999999996, 0.019399999999999997, 0.0070999999999999995, 0.032300000000000002, 0.034799999999999998, 0.039300000000000002, 0.042700000000000002, 0.038399999999999997, 0.022999999999999996, 0.0069999999999999993, 0.0086999999999999994, 0.013099999999999999, 0.033399999999999999, 0.079000000000000001, 0.0019999999999999996, 0.024699999999999996, 0.057299999999999997, 0.020699999999999996, 0.0022999999999999995, 0.036400000000000002, 0.00029999999999999997, 0.010199999999999999, 0.038899999999999997, 0.021899999999999996, 0.013299999999999998, 0.039100000000000003, 0.036799999999999999, 0.017999999999999999, 0.019299999999999998, 0.064500000000000002, 0.0036999999999999997, 0.0060999999999999995, 0.0349, 0.036999999999999998, 0.059299999999999999, 0.078899999999999998, 0.011099999999999999, 0.021499999999999998, 0.0090999999999999987, 0.0083999999999999995, 0.014799999999999999, 0.038100000000000002, 0.0021999999999999997, 0.0001, 0.0024999999999999996, 0.097900000000000001, 0.00089999999999999998, 0.079199999999999993, 0.0011000000000000001, 0.061399999999999996, 0.0029999999999999996, 0.025099999999999997, 0.042599999999999999, 0.0071999999999999998, 0.048899999999999999, 0.034000000000000002, 0.07909999999999999, 0.0031999999999999997, 0.0030999999999999995, 0.0060999999999999995, 0.049399999999999999, 0.0034999999999999996, 0.068599999999999994, 0.028499999999999998, 0.075899999999999995, 0.027499999999999997, 0.075499999999999998, 0.064100000000000004, 0.0084999999999999989, 0.00029999999999999997, 0.043499999999999997, 0.059299999999999999, 0.016999999999999998, 0.0012999999999999999, 0.015999999999999997, 0.021899999999999996, 0.066799999999999998, 0.0060999999999999995, 0.026099999999999998, 0.0001, 0.016799999999999999, 0.081099999999999992, 0.020999999999999998, 0.0037999999999999996, 0.013199999999999998, 0.034200000000000001, 0.0021999999999999997, 0.040799999999999996, 0.017699999999999997, 0.032100000000000004, 0.081900000000000001, 0.0041999999999999997, 0.0031999999999999997, 0.0044000000000000003, 0.020199999999999999, 0.048399999999999999, 0.015199999999999998, 0.040099999999999997, 0.046599999999999996, 0.0015999999999999999, 0.029399999999999996, 0.051199999999999996, 0.0033999999999999994, 0.0043, 0.061599999999999995, 0.0014999999999999998, 0.043799999999999999, 0.019799999999999998, 0.0021999999999999997, 0.0034999999999999996, 0.066900000000000001, 0.057999999999999996, 0.022099999999999998, 0.082599999999999993, 0.037999999999999999, 0.025299999999999996, 0.033399999999999999, 0.011199999999999998, 0.066400000000000001, 0.0019999999999999996, 0.0047999999999999996, 0.0060999999999999995, 0.0024999999999999996, 0.0038999999999999994, 0.014199999999999997, 0.046100000000000002, 0.07959999999999999, 0.014099999999999998, 0.0063999999999999994, 0.0066999999999999994, 0.024799999999999996, 0.0030999999999999995, 0.0012999999999999999, 0.0014, 0.0096999999999999986, 0.031399999999999997, 0.0050000000000000001, 0.018799999999999997, 0.022699999999999998, 0.0011000000000000001, 0.0029999999999999996, 0.0069999999999999993, 0.0027999999999999995, 0.051999999999999998, 0.057499999999999996, 0.026999999999999996, 0.011899999999999999, 0.034299999999999997, 0.012199999999999999, 0.086999999999999994, 0.001, 0.0083999999999999995, 0.079500000000000001, 0.062399999999999997, 0.0001, 0.087099999999999997, 0.024799999999999996, 0.0014999999999999998, 0.038199999999999998, 0.028299999999999995, 0.088599999999999998, 0.027099999999999996, 0.017899999999999999, 0.026799999999999997, 0.00019999999999999998, 0.015799999999999998, 0.0082999999999999984, 0.018299999999999997, 0.086099999999999996, 0.0080999999999999996, 0.0001, 0.0014, 0.074299999999999991, 0.0080999999999999996, 0.046899999999999997, 0.023699999999999999, 0.039599999999999996, 0.015999999999999997, 0.058900000000000001, 0.010299999999999998, 0.00050000000000000001, 0.0016999999999999999, 0.022899999999999997, 0.0029999999999999996, 0.00069999999999999999, 0.034000000000000002, 0.025299999999999996, 0.013099999999999999, 0.00039999999999999996, 0.075999999999999998, 0.033700000000000001, 0.0001, 0.0001, 0.017199999999999997, 0.011599999999999999, 0.062299999999999994, 0.068599999999999994, 0.076499999999999999, 0.011199999999999998, 0.067400000000000002, 0.015399999999999999, 0.027399999999999997, 0.028799999999999996, 0.025899999999999996, 0.085599999999999996, 0.081299999999999997, 0.0066999999999999994, 0.093299999999999994, 0.0044999999999999997, 0.048599999999999997, 0.035299999999999998, 0.0057999999999999996, 0.064599999999999991, 0.050200000000000002, 0.0091999999999999981, 0.014999999999999998, 0.032599999999999997, 0.029699999999999997, 0.007899999999999999, 0.0083999999999999995, 0.0053, 0.033799999999999997, 0.011399999999999999, 0.024699999999999996, 0.0093999999999999986, 0.019699999999999999, 0.0025999999999999994, 0.058599999999999999, 0.067999999999999991, 0.041599999999999998, 0.0041999999999999997, 0.026699999999999998, 0.089200000000000002, 0.0021999999999999997, 0.08249999999999999, 0.029499999999999998, 0.0086999999999999994, 0.015499999999999998, 0.066400000000000001, 0.0424, 0.037400000000000003, 0.072700000000000001, 0.042499999999999996, 0.015099999999999999, 0.067299999999999999, 0.026699999999999998, 0.036499999999999998, 0.0344, 0.029099999999999997, 0.0098999999999999991, 0.011899999999999999, 0.012199999999999999, 0.033000000000000002, 0.031399999999999997, 0.016299999999999999, 0.094199999999999992, 0.021899999999999996, 0.083199999999999996, 0.018999999999999996, 0.033500000000000002, 0.017399999999999999, 0.036400000000000002, 0.0079999999999999984, 0.0096999999999999986, 0.027299999999999998, 0.034700000000000002, 0.0058999999999999999, 0.010099999999999998, 0.032800000000000003, 0.018599999999999998, 0.008199999999999999, 0.092499999999999999, 0.0058999999999999999, 0.0073999999999999995, 0.027199999999999998, 0.051799999999999999, 0.023099999999999999, 0.0041000000000000003, 0.013499999999999998, 0.042799999999999998, 0.023799999999999998, 0.034599999999999999, 0.0083999999999999995, 0.058599999999999999, 0.0047999999999999996, 0.0070999999999999995, 0.038899999999999997, 0.0055999999999999999, 0.028399999999999998, 0.011899999999999999, 0.015099999999999999, 0.012799999999999999, 0.027999999999999997, 0.027899999999999998, 0.039199999999999999, 0.013799999999999998, 0.070499999999999993, 0.030499999999999996, 0.026399999999999996, 0.026099999999999998, 0.029799999999999997, 0.036900000000000002, 0.0018, 0.010999999999999998, 0.0026999999999999997, 0.0395, 0.0025999999999999994, 0.0545, 0.0090999999999999987, 0.0063, 0.0843, 0.030499999999999996, 0.017299999999999999, 0.050200000000000002, 0.036900000000000002, 0.044400000000000002, 0.011899999999999999, 0.0023999999999999998, 0.0054999999999999997, 0.009499999999999998, 0.0051999999999999998, 0.040300000000000002, 0.054300000000000001, 0.033399999999999999, 0.091199999999999989, 0.00089999999999999998, 0.0041999999999999997, 0.0574, 0.030399999999999996, 0.0683, 0.033500000000000002, 0.010999999999999998, 0.057499999999999996, 0.014499999999999999, 0.028799999999999996, 0.067999999999999991, 0.056499999999999995, 0.0030999999999999995, 0.016899999999999998, 0.048500000000000001, 0.0096999999999999986, 0.0070999999999999995, 0.059999999999999998, 0.0070999999999999995, 0.059399999999999994, 0.0016999999999999999, 0.0511, 0.020999999999999998, 0.025799999999999997, 0.019099999999999999, 0.013899999999999997, 0.014699999999999998, 0.0068999999999999999, 0.056899999999999999, 0.023499999999999997, 0.041599999999999998, 0.0001, 0.037499999999999999, 0.066400000000000001, 0.0048999999999999998, 0.040599999999999997, 0.0545, 0.016499999999999997, 0.068099999999999994, 0.063100000000000003, 0.00069999999999999999, 0.0023999999999999998, 0.013099999999999999, 0.0076, 0.010899999999999998, 0.0074999999999999997, 0.00060000000000000006, 0.017899999999999999, 0.079899999999999999, 0.0053999999999999994, 0.032599999999999997, 0.039199999999999999, 0.011599999999999999, 0.049399999999999999, 0.0001, 0.0034999999999999996, 0.0054999999999999997, 0.069599999999999995, 0.00069999999999999999, 0.015799999999999998, 0.0074999999999999997, 0.0098999999999999991, 0.018499999999999999, 0.024999999999999998, 0.019199999999999998, 0.021599999999999998, 0.011599999999999999, 0.007899999999999999, 0.019199999999999998, 0.0076999999999999994, 0.026499999999999996, 0.033500000000000002, 0.032000000000000001, 0.072899999999999993, 0.0385, 0.047899999999999998, 0.015899999999999997, 0.022199999999999998, 0.014699999999999998, 0.015099999999999999, 0.019899999999999998, 0.013499999999999998, 0.0068999999999999999, 0.0029999999999999996, 0.017099999999999997, 0.017899999999999999, 0.079000000000000001, 0.033000000000000002, 0.015599999999999998, 0.0089999999999999993, 0.031800000000000002, 0.023399999999999997, 0.013999999999999999, 0.013999999999999999, 0.021999999999999999, 0.031099999999999996, 0.00089999999999999998, 0.027199999999999998, 0.0037999999999999996, 0.0089999999999999993, 0.0037999999999999996, 0.060599999999999994, 0.028599999999999997, 0.036799999999999999, 0.012499999999999999, 0.020899999999999998, 0.0014999999999999998, 0.0063999999999999994, 0.013199999999999998, 0.036400000000000002, 0.015199999999999998, 0.021199999999999997, 0.035799999999999998, 0.022099999999999998, 0.0066999999999999994, 0.012499999999999999, 0.023199999999999998, 0.022399999999999996, 0.021699999999999997, 0.012299999999999998, 0.0015999999999999999, 0.054099999999999995, 0.025299999999999996, 0.0487, 0.085699999999999998, 0.024099999999999996, 0.043699999999999996, 0.052899999999999996, 0.016199999999999999, 0.047599999999999996, 0.010899999999999998, 0.021699999999999997, 0.0060000000000000001, 0.0099999999999999985, 0.027299999999999998, 0.069699999999999998, 0.014599999999999998, 0.076999999999999999, 0.00039999999999999996, 0.0099999999999999985, 0.0067999999999999996, 0.021199999999999997, 0.025299999999999996, 0.065599999999999992, 0.062799999999999995, 0.0068999999999999999, 0.020399999999999998, 0.0048999999999999998, 0.001, 0.008199999999999999, 0.020999999999999998, 0.022599999999999999, 0.085699999999999998, 0.045600000000000002, 0.018499999999999999, 0.037899999999999996, 0.036299999999999999, 0.062, 0.016999999999999998, 0.0015999999999999999, 0.060100000000000001, 0.034799999999999998, 0.051999999999999998, 0.0019, 0.021399999999999999, 0.025599999999999998, 0.0051999999999999998, 0.074799999999999991, 0.062799999999999995, 0.0030999999999999995, 0.012399999999999998, 0.071300000000000002, 0.016499999999999997, 0.0092999999999999992, 0.015899999999999997, 0.068099999999999994, 0.0029999999999999996, 0.077499999999999999, 0.0045999999999999999, 0.020599999999999997, 0.041599999999999998, 0.00089999999999999998, 0.052299999999999999, 0.053899999999999997, 0.062199999999999998, 0.051900000000000002, 0.075600000000000001, 0.036600000000000001, 0.074700000000000003, 0.084199999999999997, 0.020999999999999998, 0.0063, 0.007899999999999999, 0.045399999999999996, 0.020099999999999996, 0.010699999999999998, 0.031199999999999995, 0.0011999999999999999, 0.0019999999999999996, 0.022299999999999997, 0.057700000000000001, 0.011999999999999999, 0.0041999999999999997, 0.010699999999999998, 0.016299999999999999, 0.014499999999999999, 0.010499999999999999, 0.0385, 0.032100000000000004, 0.0026999999999999997, 0.017199999999999997, 0.0041000000000000003, 0.0001, 0.010999999999999998, 0.037699999999999997, 0.0090999999999999987, 0.0487, 0.020399999999999998, 0.049599999999999998, 0.0021999999999999997, 0.011299999999999998, 0.015999999999999997, 0.014899999999999998, 0.0060999999999999995, 0.0067999999999999996, 0.016199999999999999, 0.064699999999999994, 0.044499999999999998, 0.0032999999999999995, 0.0073000000000000001, 0.036999999999999998, 0.050799999999999998, 0.00069999999999999999, 0.0016999999999999999, 0.089699999999999988, 0.082400000000000001, 0.047300000000000002, 0.07669999999999999, 0.0090999999999999987, 0.050999999999999997, 0.046100000000000002, 0.032000000000000001, 0.0079999999999999984, 0.010799999999999999, 0.029099999999999997, 0.013799999999999998, 0.0019999999999999996, 0.089099999999999999, 0.043900000000000002, 0.019499999999999997, 0.013099999999999999, 0.067900000000000002, 0.0087999999999999988, 0.0001, 0.0032999999999999995, 0.020099999999999996, 0.0063999999999999994, 0.057700000000000001, 0.0579, 0.017699999999999997, 0.044499999999999998, 0.017499999999999998, 0.013799999999999998, 0.0067999999999999996, 0.050999999999999997, 0.042099999999999999, 0.013399999999999999, 0.019099999999999999, 0.015999999999999997, 0.040599999999999997, 0.011399999999999999, 0.026099999999999998, 0.027399999999999997, 0.028699999999999996, 0.013799999999999998, 0.00050000000000000001, 0.020399999999999998, 0.0038999999999999994, 0.058199999999999995, 0.0092999999999999992, 0.00029999999999999997, 0.00029999999999999997, 0.015599999999999998, 0.00029999999999999997, 0.038399999999999997, 0.029599999999999998, 0.025199999999999997, 0.044499999999999998, 0.0424, 0.031800000000000002, 0.053399999999999996, 0.016599999999999997, 0.00019999999999999998, 0.0018, 0.019499999999999997, 0.026999999999999996, 0.071399999999999991, 0.010699999999999998, 0.038399999999999997, 0.024399999999999998, 0.063899999999999998, 0.067499999999999991, 0.023499999999999997, 0.0613, 0.086999999999999994, 0.027899999999999998, 0.021299999999999996, 0.0533, 0.0332, 0.052399999999999995, 0.022799999999999997, 0.089499999999999996, 0.054199999999999998, 0.063899999999999998, 0.065599999999999992, 0.030399999999999996, 0.064799999999999996, 0.013899999999999997, 0.036900000000000002, 0.031800000000000002, 0.0407, 0.015999999999999997, 0.072700000000000001, 0.00039999999999999996, 0.0051999999999999998, 0.0521, 0.059299999999999999, 0.013199999999999998, 0.001, 0.0395, 0.0050000000000000001, 0.025399999999999995, 0.071499999999999994, 0.0080999999999999996, 0.082799999999999999, 0.0050999999999999995, 0.0020999999999999999, 0.032899999999999999, 0.0038999999999999994, 0.011699999999999999, 0.035099999999999999, 0.00089999999999999998, 0.0098999999999999991, 0.014699999999999998, 0.075399999999999995, 0.0048999999999999998, 0.062599999999999989, 0.037199999999999997, 0.0026999999999999997, 0.00039999999999999996, 0.0361, 0.028999999999999998, 0.034099999999999998, 0.0339, 0.029799999999999997, 0.071399999999999991, 0.064100000000000004, 0.011299999999999998, 0.056999999999999995, 0.0001, 0.0093999999999999986, 0.017899999999999999, 0.082599999999999993, 0.011299999999999998, 0.0448, 0.032399999999999998, 0.056899999999999999, 0.058099999999999999, 0.0011999999999999999, 0.0047000000000000002, 0.044699999999999997, 0.014099999999999998, 0.0031999999999999997, 0.0499, 0.019499999999999997, 0.047899999999999998, 0.012099999999999998, 0.012599999999999998, 0.0087999999999999988, 0.033599999999999998, 0.023599999999999996, 0.08539999999999999, 0.090999999999999998, 0.012899999999999998, 0.022599999999999999, 0.0001, 0.0043, 0.017599999999999998, 0.0048999999999999998, 0.0016999999999999999, 0.0016999999999999999, 0.033500000000000002, 0.020999999999999998, 0.019399999999999997, 0.029699999999999997, 0.036400000000000002, 0.026399999999999996, 0.0001, 0.0073999999999999995, 0.0083999999999999995, 0.0097999999999999979, 0.0038999999999999994, 0.019799999999999998, 0.023899999999999998, 0.0073999999999999995, 0.0315, 0.0019999999999999996, 0.019399999999999997, 0.0361, 0.0068999999999999999, 0.029899999999999996, 0.0064999999999999997, 0.021899999999999996, 0.014199999999999997, 0.039, 0.0099999999999999985, 0.011099999999999999, 0.036999999999999998, 0.0071999999999999998, 0.020999999999999998, 0.013099999999999999, 0.069599999999999995, 0.0021999999999999997, 0.0060999999999999995, 0.030899999999999997, 0.025999999999999999, 0.024199999999999996, 0.0045999999999999999, 0.021999999999999999, 0.0751, 0.011199999999999998, 0.0019999999999999996, 0.0659, 0.032800000000000003, 0.00050000000000000001, 0.081199999999999994, 0.018199999999999997, 0.061899999999999997, 0.08249999999999999, 0.053800000000000001, 0.022399999999999996, 0.0026999999999999997, 0.033700000000000001, 0.011099999999999999, 0.043400000000000001, 0.058299999999999998, 0.0085999999999999983, 0.0096999999999999986, 0.0441, 0.017899999999999999, 0.014999999999999998, 0.051299999999999998, 0.028299999999999995, 0.028799999999999996, 0.010199999999999999, 0.0022999999999999995, 0.0339, 0.0098999999999999991, 0.021499999999999998, 0.022199999999999998, 0.00079999999999999993, 0.035299999999999998, 0.018999999999999996, 0.077399999999999997, 0.060199999999999997, 0.014499999999999999, 0.026999999999999996, 0.019799999999999998, 0.022599999999999999, 0.019399999999999997, 0.067400000000000002, 0.0557, 0.0026999999999999997, 0.083400000000000002, 0.017099999999999997, 0.064100000000000004, 0.0011999999999999999, 0.018499999999999999, 0.067900000000000002, 0.016299999999999999, 0.013899999999999997, 0.013499999999999998, 0.023699999999999999, 0.053899999999999997, 0.033700000000000001, 0.0012999999999999999, 0.0054999999999999997, 0.0019999999999999996, 0.022599999999999999, 0.012599999999999998, 0.017099999999999997, 0.07279999999999999, 0.049099999999999998, 0.0015999999999999999, 0.023299999999999998, 0.008199999999999999, 0.065799999999999997, 0.082900000000000001, 0.024699999999999996, 0.036699999999999997, 0.048099999999999997, 0.023399999999999997, 0.0339, 0.0089999999999999993, 0.017899999999999999, 0.071999999999999995, 0.023499999999999997, 0.0080999999999999996, 0.055199999999999999, 0.0032999999999999995, 0.044999999999999998, 0.015399999999999999, 0.0001, 0.029199999999999997, 0.030399999999999996, 0.011299999999999998, 0.0167, 0.010299999999999998, 0.011799999999999998, 0.020399999999999998, 0.016199999999999999, 0.0027999999999999995, 0.0018, 0.025999999999999999, 0.050900000000000001, 0.0047000000000000002, 0.021599999999999998, 0.035299999999999998, 0.021899999999999996, 0.021399999999999999, 0.0018, 0.008199999999999999, 0.036699999999999997, 0.030699999999999998, 0.053100000000000001, 0.026199999999999998, 0.012499999999999999, 0.055299999999999995, 0.012899999999999998, 0.0080999999999999996, 0.00019999999999999998, 0.060499999999999998, 0.062699999999999992, 0.017799999999999996, 0.028499999999999998, 0.0044000000000000003, 0.013199999999999998, 0.028199999999999996, 0.052199999999999996, 0.0090999999999999987, 0.063600000000000004, 0.012899999999999998, 0.023799999999999998, 0.019399999999999997, 0.014099999999999998, 0.029399999999999996, 0.079299999999999995, 0.0083999999999999995, 0.0053, 0.078599999999999989, 0.028399999999999998, 0.039599999999999996, 0.0018, 0.0085999999999999983, 0.043099999999999999, 0.00050000000000000001, 0.014699999999999998, 0.012199999999999999, 0.0011999999999999999, 0.013399999999999999, 0.020099999999999996, 0.057200000000000001, 0.036600000000000001, 0.065000000000000002, 0.043799999999999999, 0.050999999999999997, 0.039199999999999999, 0.038699999999999998, 0.010499999999999999, 0.042599999999999999, 0.046199999999999998, 0.011799999999999998, 0.055899999999999998, 0.041099999999999998, 0.020899999999999998, 0.0001, 0.0054999999999999997, 0.027699999999999995, 0.0011000000000000001, 0.007899999999999999, 0.011399999999999999, 0.0032999999999999995, 0.042200000000000001, 0.034000000000000002, 0.0066, 0.0528, 0.068699999999999997, 0.069099999999999995, 0.042799999999999998, 0.064699999999999994, 0.027999999999999997, 0.017499999999999998, 0.090799999999999992, 0.015399999999999999, 0.011599999999999999, 0.0088999999999999982, 0.00069999999999999999, 0.0071999999999999998, 0.015199999999999998, 0.058599999999999999, 0.0066, 0.053999999999999999, 0.0068999999999999999, 0.018999999999999996, 0.033599999999999998, 0.0077999999999999996, 0.0035999999999999995, 0.038800000000000001, 0.067599999999999993, 0.020299999999999999, 0.013399999999999999, 0.0809, 0.010799999999999999, 0.0001, 0.094199999999999992, 0.0048999999999999998, 0.0077999999999999996, 0.092899999999999996, 0.08539999999999999, 0.018199999999999997, 0.013499999999999998, 0.052399999999999995, 0.040500000000000001, 0.0001, 0.045199999999999997, 0.075200000000000003, 0.037899999999999996]\n",
        "1154\n"
       ]
      }
     ],
     "prompt_number": 39
    },
    {
     "cell_type": "code",
     "collapsed": false,
     "input": [
      "print down_ins"
     ],
     "language": "python",
     "metadata": {},
     "outputs": [
      {
       "output_type": "stream",
       "stream": "stdout",
       "text": [
        "[51, 37, 32, 12, 148, 164, 29, 179, 14, 30, 55, 54, 280, 99, 119, 23, 55, 24, 7, 90, 250, 38, 243, 57, 13, 37, 143, 27, 93, 22, 66, 34, 44, 56, 34, 128, 15, 9, 112, 11, 79, 28, 30, 116, 20, 12, 84, 73, 91, 78, 74, 89, 54, 13, 12, 23, 136, 80, 71, 41, 36, 27, 10, 53, 39, 47, 11, 183, 17, 22, 29, 22, 13, 45, 113, 22, 88, 98, 32, 82, 18, 9, 48, 21, 40, 72, 112, 33, 22, 189, 35, 11, 43, 28, 8, 54, 9, 83, 332, 25, 99, 220, 43, 12, 6, 34, 59, 38, 192, 70, 136, 146, 234, 55, 13, 34, 56, 18, 76, 19, 80, 116, 33, 24, 185, 33, 19, 40, 29, 64, 11, 14, 169, 14, 157, 150, 37, 15, 11, 15, 21, 51, 35, 205, 63, 26, 6, 26, 301, 19, 20, 52, 29, 68, 18, 64, 25, 34, 23, 11, 114, 29, 98, 5, 6, 145, 13, 167, 7, 47, 69, 31, 52, 141, 23, 122, 84, 28, 8, 359, 102, 63, 29, 62, 256, 16, 110, 138, 122, 32, 150, 126, 187, 22, 19, 32, 11, 6, 67, 104, 31, 33, 275, 104, 36, 75, 135, 70, 9, 53, 54, 54, 87, 113, 34, 180, 208, 114, 16, 23, 18, 75, 62, 40, 44, 74, 13, 12, 45, 33, 73, 53, 126, 164, 7, 62, 35, 48, 116, 167, 18, 49, 64, 33, 11, 105, 66, 27, 410, 70, 78, 122, 32, 26, 31, 12, 182, 56, 69, 6, 31, 116, 93, 40, 44, 127, 8, 9, 57, 56, 162, 8, 28, 80, 42, 34, 64, 164, 4, 55, 34, 34, 271, 138, 29, 96, 17, 37, 143, 7, 12, 141, 116, 26, 444, 134, 61, 83, 59, 19, 36, 37, 35, 55, 109, 70, 30, 17, 91, 67, 154, 26, 36, 45, 23, 71, 24, 179, 6, 52, 9, 185, 32, 36, 50, 144, 10, 19, 26, 149, 56, 15, 6, 75, 23, 25, 68, 14, 104, 205, 119, 16, 19, 73, 160, 115, 82, 86, 40, 74, 29, 33, 64, 49, 31, 95, 27, 62, 107, 75, 224, 79, 76, 99, 83, 31, 44, 24, 34, 9, 54, 123, 8, 12, 17, 26, 31, 116, 14, 18, 207, 15, 59, 78, 13, 54, 55, 27, 42, 31, 49, 62, 58, 177, 42, 19, 19, 225, 18, 397, 103, 53, 113, 99, 13, 152, 42, 45, 3, 15, 52, 15, 67, 87, 43, 52, 42, 48, 23, 9, 10, 13, 33, 57, 91, 79, 372, 16, 68, 90, 60, 17, 57, 37, 77, 32, 68, 32, 15, 22, 38, 17, 18, 13, 153, 12, 22, 26, 22, 22, 58, 74, 77, 54, 41, 7, 67, 55, 63, 13, 52, 66, 26, 31, 76, 116, 213, 107, 74, 27, 23, 97, 12, 3, 3, 3, 3, 96, 55, 40, 14, 17, 72, 94, 35, 30, 12, 86, 133, 168, 7, 16, 74, 27, 53, 7, 123, 31, 31, 120, 14, 237, 130, 26, 45, 74, 30, 19, 5, 115, 100, 58, 16, 9, 18, 25, 64, 17, 135, 129, 176, 36, 18, 6, 55, 9, 55, 65, 20, 49, 84, 13, 11, 32, 75, 35, 89, 72, 35, 24, 11, 9, 27, 30, 52, 12, 11, 146, 13, 24, 58, 163, 41, 32, 62, 35, 13, 33, 49, 116, 104, 29, 66, 80, 51, 12, 97, 10, 212, 10, 58, 13, 30, 4, 90, 25, 49, 89, 18, 73, 31, 100, 161, 32, 28, 118, 15, 45, 100, 24, 79, 15, 35, 181, 71, 31, 10, 57, 56, 5, 124, 52, 8, 199, 86, 123, 34, 10, 32, 11, 54, 20, 96, 39, 61, 72, 78, 223, 54, 11, 12, 78, 31, 8, 101, 61, 192, 22, 71, 19, 66, 142, 97, 67, 32, 70, 48, 33, 100, 53, 50, 29, 51, 102, 29, 55, 118, 79, 66, 48, 30, 8, 133, 13, 15, 64, 58, 55, 133, 18, 13, 27, 38, 121, 56, 18, 97, 50, 18, 6, 182, 65, 97, 53, 127, 27, 25, 100, 7, 91, 72, 22, 97, 12, 28, 33, 87, 51, 67, 26, 57, 85, 79, 39, 45, 46, 36, 63, 40, 77, 43, 30, 30, 56, 63, 10, 44, 49, 34, 56, 237, 82, 107, 10, 48, 137, 12, 8, 18, 20, 41, 172, 78, 64, 16, 9, 216, 93, 39, 7, 58, 70, 21, 17, 14, 41, 46, 56, 68, 108, 64, 21, 85, 32, 96, 51, 50, 46, 7, 55, 52, 118, 73, 43, 9, 33, 143, 24, 28, 7, 113, 40, 16, 74, 63, 71, 54, 9, 60, 51, 16, 162, 132, 29, 31, 8, 39, 73, 32, 91, 10, 23, 4, 53, 17, 52, 139, 52, 33, 98, 58, 23]\n"
       ]
      }
     ],
     "prompt_number": 6
    },
    {
     "cell_type": "code",
     "collapsed": false,
     "input": [
      "print up_ins"
     ],
     "language": "python",
     "metadata": {},
     "outputs": [
      {
       "output_type": "stream",
       "stream": "stdout",
       "text": [
        "[247, 93, 130, 127, 88, 33, 347, 6, 72, 4, 39, 10, 9, 72, 34, 38, 74, 7, 52, 30, 59, 73, 122, 44, 77, 32, 125, 21, 45, 46, 79, 46, 12, 121, 17, 96, 16, 140, 100, 38, 72, 55, 48, 29, 11, 52, 54, 52, 26, 9, 16, 8, 38, 158, 42, 56, 13, 70, 53, 39, 92, 22, 40, 218, 47, 24, 59, 24, 48, 93, 10, 105, 246, 34, 13, 40, 25, 52, 126, 54, 25, 184, 10, 81, 14, 14, 78, 69, 144, 77, 27, 26, 54, 108, 74, 9, 103, 103, 147, 66, 29, 16, 62, 39, 32, 85, 34, 51, 56, 20, 36, 83, 142, 10, 20, 72, 114, 12, 41, 78, 28, 12, 31, 52, 144, 104, 32, 31, 82, 15, 68, 43, 26, 17, 13, 95, 11, 32, 58, 39, 9, 97, 60, 56, 110, 30, 149, 131, 76, 54, 6, 31, 52, 16, 40, 16, 218, 9, 120, 4, 96, 42, 78, 32, 29, 9, 60, 264, 26, 36, 57, 65, 64, 21, 56, 46, 26, 3, 49, 1, 4, 141, 5, 4, 187, 12, 4, 16, 4, 66, 44, 260, 64, 60, 71, 26, 50, 10, 15, 51, 46, 43, 12, 46, 14, 25, 10, 10, 31, 43, 57, 12, 4, 5, 36, 3, 3, 4, 35, 18, 12, 61, 59, 33, 202, 11, 102, 6, 15, 8, 5, 49, 74, 131, 51, 87, 38, 60, 35, 6, 62, 9, 11, 19, 47, 16, 58, 28, 59, 106, 32, 166, 89, 10, 173, 115, 30, 20, 11, 46, 5, 51, 12, 69, 29, 61, 134, 134, 33, 56, 33, 7, 93, 16, 68, 98, 51, 80, 82, 10, 10, 51, 60, 105, 16, 35, 66, 37, 20, 101, 54, 119, 156, 60, 88, 8, 18, 30, 121, 13, 188, 7, 8, 31, 13, 40, 33, 11, 100, 17, 40, 125, 97, 32, 10, 137, 127, 68, 42, 58, 37, 47, 99, 143, 33, 77, 15, 50, 12, 50, 9, 63, 28, 90, 139, 12, 23, 71, 27, 72, 33, 74, 30, 13, 129, 18, 73, 33, 9, 36, 17, 66]\n"
       ]
      }
     ],
     "prompt_number": 7
    },
    {
     "cell_type": "code",
     "collapsed": false,
     "input": [
      "#plot the distribution of each appropriate time length and fit to an exponential\n",
      "#in the future do not use floc = 0 in the exponential fit\n",
      "#may have to ignore the first few points caused by mistakenly measuring spin down traces as up\n",
      "\n",
      "param = stats.expon.fit( up_outs, floc = 0 )\n",
      "pdf_fitted = stats.expon.pdf( time, loc = param[0], scale = param[1] )\n",
      "plot( time, pdf_fitted, 'r-' )\n",
      "xlabel( 'Time (s)', fontsize=20 )\n",
      "ylabel( 'Density ($s^{-1}$)', fontsize=20 )\n",
      "plt.hist(up_outs, 200, histtype = 'stepfilled', normed = True)\n",
      "plt.text(0.15,8,'$\\\\tau_{\\uparrow ,out}=$%f s' % param[1], fontsize = 20)\n",
      "show()"
     ],
     "language": "python",
     "metadata": {},
     "outputs": [
      {
       "metadata": {},
       "output_type": "display_data",
       "png": "[encoded data removed]",
       "text": [
        "<matplotlib.figure.Figure at 0x2995e710>"
       ]
      }
     ],
     "prompt_number": 61
    },
    {
     "cell_type": "code",
     "collapsed": false,
     "input": [
      "param = stats.expon.fit( down_ins, floc = 0 )\n",
      "pdf_fitted = stats.expon.pdf( time, loc = param[0], scale = param[1] )\n",
      "plot( time, pdf_fitted, 'r-' )\n",
      "xlabel( 'Time (s)', fontsize=20 )\n",
      "ylabel( 'Density ($s^{-1}$)', fontsize=20 )\n",
      "plt.hist(down_ins, 200, histtype = 'stepfilled', normed = True)\n",
      "plt.text(0.15,8,'$\\\\tau_{\\downarrow ,in}=$%fs' % param[1], fontsize = 20)\n",
      "show()"
     ],
     "language": "python",
     "metadata": {},
     "outputs": [
      {
       "metadata": {},
       "output_type": "display_data",
       "png": "[encoded data removed]",
       "text": [
        "<matplotlib.figure.Figure at 0x299c6210>"
       ]
      }
     ],
     "prompt_number": 62
    },
    {
     "cell_type": "code",
     "collapsed": false,
     "input": [
      "param = stats.expon.fit( up_ins, floc = 0 )\n",
      "pdf_fitted = stats.expon.pdf( time, loc = param[0], scale = param[1] )\n",
      "plot( time, pdf_fitted, 'r-' )\n",
      "xlabel( 'Time (s)', fontsize=20 )\n",
      "ylabel( 'Density ($s^{-1}$)', fontsize=20 )\n",
      "plt.hist(up_ins, 200, histtype = 'stepfilled', normed = True)\n",
      "plt.text(0.15,8,'$\\\\tau_{\\uparrow ,in}=$%fs' % param[1], fontsize = 20)\n",
      "show()"
     ],
     "language": "python",
     "metadata": {},
     "outputs": [
      {
       "metadata": {},
       "output_type": "display_data",
       "png": "[encoded data removed]",
       "text": [
        "<matplotlib.figure.Figure at 0x29585790>"
       ]
      }
     ],
     "prompt_number": 63
    },
    {
     "cell_type": "code",
     "collapsed": false,
     "input": [
      "values, bins = histogram(up_outs, bins=arange(0, 0.1, 0.0005), normed = False)\n",
      "plot( bins[:-1], values, 'ko' )\n"
     ],
     "language": "python",
     "metadata": {},
     "outputs": [
      {
       "metadata": {},
       "output_type": "pyout",
       "prompt_number": 66,
       "text": [
        "[<matplotlib.lines.Line2D at 0xdee64d0>]"
       ]
      },
      {
       "metadata": {},
       "output_type": "display_data",
       "png": "[encoded data removed]",
       "text": [
        "<matplotlib.figure.Figure at 0x29714ad0>"
       ]
      }
     ],
     "prompt_number": 66
    },
    {
     "cell_type": "code",
     "collapsed": false,
     "input": [
      "print len( values )"
     ],
     "language": "python",
     "metadata": {},
     "outputs": [
      {
       "output_type": "stream",
       "stream": "stdout",
       "text": [
        "199\n"
       ]
      }
     ],
     "prompt_number": 67
    },
    {
     "cell_type": "code",
     "collapsed": false,
     "input": [
      "#check how many counts occur longer than a certain time\n",
      "\n",
      "x = sum( values[ : ])\n",
      "y = sum( values[119: ])\n",
      "print x, y"
     ],
     "language": "python",
     "metadata": {},
     "outputs": [
      {
       "output_type": "stream",
       "stream": "stdout",
       "text": [
        "4370 895\n"
       ]
      }
     ],
     "prompt_number": 106
    },
    {
     "cell_type": "code",
     "collapsed": false,
     "input": [
      "#try and solve the equation from Tom's thesis\n",
      "#python seems incapable of this\n",
      "#wolfram alpha works fine at solving it\n",
      "#there are two solutions to the equation but the larger value provides a sensible fit to the real data\n",
      "\n",
      "from scipy.optimize import fsolve\n",
      "import math\n",
      "from numba import jit\n",
      "\n",
      "@jit\n",
      "def equations(t):\n",
      "    return (math.exp(-0.06/t) - math.exp(-0.1/t) - ( y - sqrt(y) ) / x )\n",
      "\n",
      "t =  fsolve(equations, (0.06))\n",
      "print t\n",
      "print equations(t)"
     ],
     "language": "python",
     "metadata": {},
     "outputs": [
      {
       "output_type": "stream",
       "stream": "stdout",
       "text": [
        "[ 0.07828596]\n",
        "-0.0120564039487\n"
       ]
      }
     ],
     "prompt_number": 116
    },
    {
     "cell_type": "code",
     "collapsed": false,
     "input": [],
     "language": "python",
     "metadata": {},
     "outputs": []
    }
   ],
   "metadata": {}
  }
 ]
}