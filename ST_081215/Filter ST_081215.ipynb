{
 "metadata": {
  "name": "",
  "signature": "sha256:0f211c739d83d0e599955ff33a24f720ed996a5b35fa1fcef065eed558412da6"
 },
 "nbformat": 3,
 "nbformat_minor": 0,
 "worksheets": [
  {
   "cells": [
    {
     "cell_type": "code",
     "collapsed": false,
     "input": [
      "%pylab inline"
     ],
     "language": "python",
     "metadata": {},
     "outputs": [
      {
       "output_type": "stream",
       "stream": "stdout",
       "text": [
        "Populating the interactive namespace from numpy and matplotlib\n"
       ]
      }
     ],
     "prompt_number": 1
    },
    {
     "cell_type": "code",
     "collapsed": false,
     "input": [
      "import scipy\n",
      "from scipy import stats\n",
      "from __future__ import division\n",
      "import os\n",
      "from scipy.fftpack import rfft, irfft, fftfreq\n"
     ],
     "language": "python",
     "metadata": {},
     "outputs": [],
     "prompt_number": 2
    },
    {
     "cell_type": "code",
     "collapsed": false,
     "input": [
      "number_of_files = 20\n",
      "\n",
      "V = 0.008 #signals triplet if trace passes below threshold\n",
      "\n",
      "start = 0.0015\n",
      "finish = 0.05\n",
      "\n",
      "up_outs = []\n",
      "down_ins = []\n",
      "up_ins = []\n",
      "down_outs = []\n",
      "\n",
      "trace = []\n",
      "traces = []\n",
      "\n",
      "time = linspace( 0.0, 0.0485, 485)\n",
      "\n",
      "dir = 'C:/Users/z3414503/Desktop/Honours/Data/ST_081215'\n",
      "progress = 0\n",
      "for fn in os.listdir( dir ):\n",
      "    print progress,\n",
      "    progress += 1\n",
      "    file = \"C:/Users/z3414503/Desktop/Honours/Data/ST_081215/\" + fn + '/traces/Read ST at Bz = 2.5000_0_trace.dat'\n",
      "    with open( file, \"r\" ) as f:\n",
      "        i = 1\n",
      "        for line in f:\n",
      "            fields = line.split()\n",
      "            if len(fields) == 3 and fields[0] != '#':\n",
      "                if int( fields[0] ) == i:\n",
      "                    value = 0.0\n",
      "                    if float( fields[1] ) >= start and float( fields[1] ) < finish and float( fields[1] ) >= value and len( trace ) < 486:\n",
      "                        trace.append( float( fields[2] ) )\n",
      "                        value = float( fields[1] )\n",
      "                if int( fields[0] ) > i:\n",
      "                    i += 1\n",
      "                    traces.append(trace)\n",
      "                    trace = []\n",
      "    trace = []"
     ],
     "language": "python",
     "metadata": {},
     "outputs": [
      {
       "output_type": "stream",
       "stream": "stdout",
       "text": [
        "0 "
       ]
      },
      {
       "output_type": "stream",
       "stream": "stdout",
       "text": [
        "1 "
       ]
      },
      {
       "output_type": "stream",
       "stream": "stdout",
       "text": [
        "2 "
       ]
      },
      {
       "output_type": "stream",
       "stream": "stdout",
       "text": [
        "3 "
       ]
      },
      {
       "output_type": "stream",
       "stream": "stdout",
       "text": [
        "4 "
       ]
      },
      {
       "output_type": "stream",
       "stream": "stdout",
       "text": [
        "5 "
       ]
      },
      {
       "output_type": "stream",
       "stream": "stdout",
       "text": [
        "6 "
       ]
      },
      {
       "output_type": "stream",
       "stream": "stdout",
       "text": [
        "7 "
       ]
      },
      {
       "output_type": "stream",
       "stream": "stdout",
       "text": [
        "8 "
       ]
      },
      {
       "output_type": "stream",
       "stream": "stdout",
       "text": [
        "9 "
       ]
      },
      {
       "output_type": "stream",
       "stream": "stdout",
       "text": [
        "10 "
       ]
      },
      {
       "output_type": "stream",
       "stream": "stdout",
       "text": [
        "11 "
       ]
      },
      {
       "output_type": "stream",
       "stream": "stdout",
       "text": [
        "12 "
       ]
      },
      {
       "output_type": "stream",
       "stream": "stdout",
       "text": [
        "13 "
       ]
      },
      {
       "output_type": "stream",
       "stream": "stdout",
       "text": [
        "14 "
       ]
      },
      {
       "output_type": "stream",
       "stream": "stdout",
       "text": [
        "15 "
       ]
      },
      {
       "output_type": "stream",
       "stream": "stdout",
       "text": [
        "16 "
       ]
      },
      {
       "output_type": "stream",
       "stream": "stdout",
       "text": [
        "17 "
       ]
      },
      {
       "output_type": "stream",
       "stream": "stdout",
       "text": [
        "18 "
       ]
      },
      {
       "output_type": "stream",
       "stream": "stdout",
       "text": [
        "19 "
       ]
      },
      {
       "output_type": "stream",
       "stream": "stdout",
       "text": [
        "20 "
       ]
      },
      {
       "output_type": "stream",
       "stream": "stdout",
       "text": [
        "21 "
       ]
      },
      {
       "output_type": "stream",
       "stream": "stdout",
       "text": [
        "22 "
       ]
      },
      {
       "output_type": "stream",
       "stream": "stdout",
       "text": [
        "23 "
       ]
      },
      {
       "output_type": "stream",
       "stream": "stdout",
       "text": [
        "24 "
       ]
      },
      {
       "output_type": "stream",
       "stream": "stdout",
       "text": [
        "25 "
       ]
      },
      {
       "output_type": "stream",
       "stream": "stdout",
       "text": [
        "26 "
       ]
      },
      {
       "output_type": "stream",
       "stream": "stdout",
       "text": [
        "27 "
       ]
      },
      {
       "output_type": "stream",
       "stream": "stdout",
       "text": [
        "28 "
       ]
      },
      {
       "output_type": "stream",
       "stream": "stdout",
       "text": [
        "29 "
       ]
      },
      {
       "output_type": "stream",
       "stream": "stdout",
       "text": [
        "30 "
       ]
      },
      {
       "output_type": "stream",
       "stream": "stdout",
       "text": [
        "31 "
       ]
      },
      {
       "output_type": "stream",
       "stream": "stdout",
       "text": [
        "32 "
       ]
      },
      {
       "output_type": "stream",
       "stream": "stdout",
       "text": [
        "33 "
       ]
      },
      {
       "output_type": "stream",
       "stream": "stdout",
       "text": [
        "34 "
       ]
      },
      {
       "output_type": "stream",
       "stream": "stdout",
       "text": [
        "35 "
       ]
      },
      {
       "output_type": "stream",
       "stream": "stdout",
       "text": [
        "36 "
       ]
      },
      {
       "output_type": "stream",
       "stream": "stdout",
       "text": [
        "37 "
       ]
      },
      {
       "output_type": "stream",
       "stream": "stdout",
       "text": [
        "38 "
       ]
      },
      {
       "output_type": "stream",
       "stream": "stdout",
       "text": [
        "39 "
       ]
      },
      {
       "output_type": "stream",
       "stream": "stdout",
       "text": [
        "40 "
       ]
      },
      {
       "output_type": "stream",
       "stream": "stdout",
       "text": [
        "41 "
       ]
      },
      {
       "output_type": "stream",
       "stream": "stdout",
       "text": [
        "42 "
       ]
      },
      {
       "output_type": "stream",
       "stream": "stdout",
       "text": [
        "43 "
       ]
      },
      {
       "output_type": "stream",
       "stream": "stdout",
       "text": [
        "44 "
       ]
      },
      {
       "output_type": "stream",
       "stream": "stdout",
       "text": [
        "45 "
       ]
      },
      {
       "output_type": "stream",
       "stream": "stdout",
       "text": [
        "46 "
       ]
      },
      {
       "output_type": "stream",
       "stream": "stdout",
       "text": [
        "47 "
       ]
      },
      {
       "output_type": "stream",
       "stream": "stdout",
       "text": [
        "48 "
       ]
      },
      {
       "output_type": "stream",
       "stream": "stdout",
       "text": [
        "49 "
       ]
      },
      {
       "output_type": "stream",
       "stream": "stdout",
       "text": [
        "50 "
       ]
      },
      {
       "output_type": "stream",
       "stream": "stdout",
       "text": [
        "51 "
       ]
      },
      {
       "output_type": "stream",
       "stream": "stdout",
       "text": [
        "52 "
       ]
      },
      {
       "output_type": "stream",
       "stream": "stdout",
       "text": [
        "53 "
       ]
      },
      {
       "output_type": "stream",
       "stream": "stdout",
       "text": [
        "54 "
       ]
      },
      {
       "output_type": "stream",
       "stream": "stdout",
       "text": [
        "55 "
       ]
      },
      {
       "output_type": "stream",
       "stream": "stdout",
       "text": [
        "56 "
       ]
      },
      {
       "output_type": "stream",
       "stream": "stdout",
       "text": [
        "57 "
       ]
      },
      {
       "output_type": "stream",
       "stream": "stdout",
       "text": [
        "58 "
       ]
      },
      {
       "output_type": "stream",
       "stream": "stdout",
       "text": [
        "59 "
       ]
      },
      {
       "output_type": "stream",
       "stream": "stdout",
       "text": [
        "60 "
       ]
      },
      {
       "output_type": "stream",
       "stream": "stdout",
       "text": [
        "61 "
       ]
      },
      {
       "output_type": "stream",
       "stream": "stdout",
       "text": [
        "62 "
       ]
      },
      {
       "output_type": "stream",
       "stream": "stdout",
       "text": [
        "63 "
       ]
      },
      {
       "output_type": "stream",
       "stream": "stdout",
       "text": [
        "64 "
       ]
      },
      {
       "output_type": "stream",
       "stream": "stdout",
       "text": [
        "65 "
       ]
      },
      {
       "output_type": "stream",
       "stream": "stdout",
       "text": [
        "66 "
       ]
      },
      {
       "output_type": "stream",
       "stream": "stdout",
       "text": [
        "67 "
       ]
      },
      {
       "output_type": "stream",
       "stream": "stdout",
       "text": [
        "68 "
       ]
      },
      {
       "output_type": "stream",
       "stream": "stdout",
       "text": [
        "69 "
       ]
      },
      {
       "output_type": "stream",
       "stream": "stdout",
       "text": [
        "70 "
       ]
      },
      {
       "output_type": "stream",
       "stream": "stdout",
       "text": [
        "71 "
       ]
      },
      {
       "output_type": "stream",
       "stream": "stdout",
       "text": [
        "72 "
       ]
      },
      {
       "output_type": "stream",
       "stream": "stdout",
       "text": [
        "73 "
       ]
      },
      {
       "output_type": "stream",
       "stream": "stdout",
       "text": [
        "74 "
       ]
      },
      {
       "output_type": "stream",
       "stream": "stdout",
       "text": [
        "75 "
       ]
      },
      {
       "output_type": "stream",
       "stream": "stdout",
       "text": [
        "76 "
       ]
      },
      {
       "output_type": "stream",
       "stream": "stdout",
       "text": [
        "77 "
       ]
      },
      {
       "output_type": "stream",
       "stream": "stdout",
       "text": [
        "78 "
       ]
      },
      {
       "output_type": "stream",
       "stream": "stdout",
       "text": [
        "79 "
       ]
      },
      {
       "output_type": "stream",
       "stream": "stdout",
       "text": [
        "80 "
       ]
      },
      {
       "output_type": "stream",
       "stream": "stdout",
       "text": [
        "81 "
       ]
      },
      {
       "output_type": "stream",
       "stream": "stdout",
       "text": [
        "82 "
       ]
      },
      {
       "output_type": "stream",
       "stream": "stdout",
       "text": [
        "83 "
       ]
      },
      {
       "output_type": "stream",
       "stream": "stdout",
       "text": [
        "84 "
       ]
      },
      {
       "output_type": "stream",
       "stream": "stdout",
       "text": [
        "85 "
       ]
      },
      {
       "output_type": "stream",
       "stream": "stdout",
       "text": [
        "86 "
       ]
      },
      {
       "output_type": "stream",
       "stream": "stdout",
       "text": [
        "87 "
       ]
      },
      {
       "output_type": "stream",
       "stream": "stdout",
       "text": [
        "88 "
       ]
      },
      {
       "output_type": "stream",
       "stream": "stdout",
       "text": [
        "89 "
       ]
      },
      {
       "output_type": "stream",
       "stream": "stdout",
       "text": [
        "90 "
       ]
      },
      {
       "output_type": "stream",
       "stream": "stdout",
       "text": [
        "91 "
       ]
      },
      {
       "output_type": "stream",
       "stream": "stdout",
       "text": [
        "92 "
       ]
      },
      {
       "output_type": "stream",
       "stream": "stdout",
       "text": [
        "93 "
       ]
      },
      {
       "output_type": "stream",
       "stream": "stdout",
       "text": [
        "94 "
       ]
      },
      {
       "output_type": "stream",
       "stream": "stdout",
       "text": [
        "95 "
       ]
      },
      {
       "output_type": "stream",
       "stream": "stdout",
       "text": [
        "96 "
       ]
      },
      {
       "output_type": "stream",
       "stream": "stdout",
       "text": [
        "97 "
       ]
      },
      {
       "output_type": "stream",
       "stream": "stdout",
       "text": [
        "98 "
       ]
      },
      {
       "output_type": "stream",
       "stream": "stdout",
       "text": [
        "99 "
       ]
      },
      {
       "output_type": "stream",
       "stream": "stdout",
       "text": [
        "100 "
       ]
      },
      {
       "output_type": "stream",
       "stream": "stdout",
       "text": [
        "101 "
       ]
      },
      {
       "output_type": "stream",
       "stream": "stdout",
       "text": [
        "102 "
       ]
      },
      {
       "output_type": "stream",
       "stream": "stdout",
       "text": [
        "103 "
       ]
      },
      {
       "output_type": "stream",
       "stream": "stdout",
       "text": [
        "104 "
       ]
      },
      {
       "output_type": "stream",
       "stream": "stdout",
       "text": [
        "105 "
       ]
      },
      {
       "output_type": "stream",
       "stream": "stdout",
       "text": [
        "106 "
       ]
      },
      {
       "output_type": "stream",
       "stream": "stdout",
       "text": [
        "107 "
       ]
      },
      {
       "output_type": "stream",
       "stream": "stdout",
       "text": [
        "108 "
       ]
      },
      {
       "output_type": "stream",
       "stream": "stdout",
       "text": [
        "109 "
       ]
      },
      {
       "output_type": "stream",
       "stream": "stdout",
       "text": [
        "110 "
       ]
      },
      {
       "output_type": "stream",
       "stream": "stdout",
       "text": [
        "111 "
       ]
      },
      {
       "output_type": "stream",
       "stream": "stdout",
       "text": [
        "112 "
       ]
      },
      {
       "output_type": "stream",
       "stream": "stdout",
       "text": [
        "113 "
       ]
      },
      {
       "output_type": "stream",
       "stream": "stdout",
       "text": [
        "114 "
       ]
      },
      {
       "output_type": "stream",
       "stream": "stdout",
       "text": [
        "115 "
       ]
      },
      {
       "output_type": "stream",
       "stream": "stdout",
       "text": [
        "116 "
       ]
      },
      {
       "output_type": "stream",
       "stream": "stdout",
       "text": [
        "117 "
       ]
      },
      {
       "output_type": "stream",
       "stream": "stdout",
       "text": [
        "118 "
       ]
      },
      {
       "output_type": "stream",
       "stream": "stdout",
       "text": [
        "119 "
       ]
      },
      {
       "output_type": "stream",
       "stream": "stdout",
       "text": [
        "120 "
       ]
      },
      {
       "output_type": "stream",
       "stream": "stdout",
       "text": [
        "121 "
       ]
      },
      {
       "output_type": "stream",
       "stream": "stdout",
       "text": [
        "122 "
       ]
      },
      {
       "output_type": "stream",
       "stream": "stdout",
       "text": [
        "123 "
       ]
      },
      {
       "output_type": "stream",
       "stream": "stdout",
       "text": [
        "124 "
       ]
      },
      {
       "output_type": "stream",
       "stream": "stdout",
       "text": [
        "125 "
       ]
      },
      {
       "output_type": "stream",
       "stream": "stdout",
       "text": [
        "126 "
       ]
      },
      {
       "output_type": "stream",
       "stream": "stdout",
       "text": [
        "127 "
       ]
      },
      {
       "output_type": "stream",
       "stream": "stdout",
       "text": [
        "128 "
       ]
      },
      {
       "output_type": "stream",
       "stream": "stdout",
       "text": [
        "129 "
       ]
      },
      {
       "output_type": "stream",
       "stream": "stdout",
       "text": [
        "130 "
       ]
      },
      {
       "output_type": "stream",
       "stream": "stdout",
       "text": [
        "131 "
       ]
      },
      {
       "output_type": "stream",
       "stream": "stdout",
       "text": [
        "132 "
       ]
      },
      {
       "output_type": "stream",
       "stream": "stdout",
       "text": [
        "133 "
       ]
      },
      {
       "output_type": "stream",
       "stream": "stdout",
       "text": [
        "134 "
       ]
      },
      {
       "output_type": "stream",
       "stream": "stdout",
       "text": [
        "135 "
       ]
      },
      {
       "output_type": "stream",
       "stream": "stdout",
       "text": [
        "136 "
       ]
      },
      {
       "output_type": "stream",
       "stream": "stdout",
       "text": [
        "137 "
       ]
      },
      {
       "output_type": "stream",
       "stream": "stdout",
       "text": [
        "138 "
       ]
      },
      {
       "output_type": "stream",
       "stream": "stdout",
       "text": [
        "139 "
       ]
      },
      {
       "output_type": "stream",
       "stream": "stdout",
       "text": [
        "140 "
       ]
      },
      {
       "output_type": "stream",
       "stream": "stdout",
       "text": [
        "141 "
       ]
      },
      {
       "output_type": "stream",
       "stream": "stdout",
       "text": [
        "142 "
       ]
      },
      {
       "output_type": "stream",
       "stream": "stdout",
       "text": [
        "143 "
       ]
      },
      {
       "output_type": "stream",
       "stream": "stdout",
       "text": [
        "144 "
       ]
      },
      {
       "output_type": "stream",
       "stream": "stdout",
       "text": [
        "145 "
       ]
      },
      {
       "output_type": "stream",
       "stream": "stdout",
       "text": [
        "146 "
       ]
      },
      {
       "output_type": "stream",
       "stream": "stdout",
       "text": [
        "147 "
       ]
      },
      {
       "output_type": "stream",
       "stream": "stdout",
       "text": [
        "148 "
       ]
      },
      {
       "output_type": "stream",
       "stream": "stdout",
       "text": [
        "149 "
       ]
      },
      {
       "output_type": "stream",
       "stream": "stdout",
       "text": [
        "150 "
       ]
      },
      {
       "output_type": "stream",
       "stream": "stdout",
       "text": [
        "151 "
       ]
      },
      {
       "output_type": "stream",
       "stream": "stdout",
       "text": [
        "152 "
       ]
      },
      {
       "output_type": "stream",
       "stream": "stdout",
       "text": [
        "153 "
       ]
      },
      {
       "output_type": "stream",
       "stream": "stdout",
       "text": [
        "154 "
       ]
      },
      {
       "output_type": "stream",
       "stream": "stdout",
       "text": [
        "155 "
       ]
      },
      {
       "output_type": "stream",
       "stream": "stdout",
       "text": [
        "156 "
       ]
      },
      {
       "output_type": "stream",
       "stream": "stdout",
       "text": [
        "157 "
       ]
      },
      {
       "output_type": "stream",
       "stream": "stdout",
       "text": [
        "158 "
       ]
      },
      {
       "output_type": "stream",
       "stream": "stdout",
       "text": [
        "159 "
       ]
      },
      {
       "output_type": "stream",
       "stream": "stdout",
       "text": [
        "160 "
       ]
      },
      {
       "output_type": "stream",
       "stream": "stdout",
       "text": [
        "161 "
       ]
      },
      {
       "output_type": "stream",
       "stream": "stdout",
       "text": [
        "162 "
       ]
      },
      {
       "output_type": "stream",
       "stream": "stdout",
       "text": [
        "163 "
       ]
      },
      {
       "output_type": "stream",
       "stream": "stdout",
       "text": [
        "164 "
       ]
      },
      {
       "output_type": "stream",
       "stream": "stdout",
       "text": [
        "165 "
       ]
      },
      {
       "output_type": "stream",
       "stream": "stdout",
       "text": [
        "166 "
       ]
      },
      {
       "output_type": "stream",
       "stream": "stdout",
       "text": [
        "167 "
       ]
      },
      {
       "output_type": "stream",
       "stream": "stdout",
       "text": [
        "168 "
       ]
      },
      {
       "output_type": "stream",
       "stream": "stdout",
       "text": [
        "169 "
       ]
      },
      {
       "output_type": "stream",
       "stream": "stdout",
       "text": [
        "170 "
       ]
      },
      {
       "output_type": "stream",
       "stream": "stdout",
       "text": [
        "171 "
       ]
      },
      {
       "output_type": "stream",
       "stream": "stdout",
       "text": [
        "172 "
       ]
      },
      {
       "output_type": "stream",
       "stream": "stdout",
       "text": [
        "173 "
       ]
      },
      {
       "output_type": "stream",
       "stream": "stdout",
       "text": [
        "174 "
       ]
      },
      {
       "output_type": "stream",
       "stream": "stdout",
       "text": [
        "175 "
       ]
      },
      {
       "output_type": "stream",
       "stream": "stdout",
       "text": [
        "176 "
       ]
      },
      {
       "output_type": "stream",
       "stream": "stdout",
       "text": [
        "177 "
       ]
      },
      {
       "output_type": "stream",
       "stream": "stdout",
       "text": [
        "178 "
       ]
      },
      {
       "output_type": "stream",
       "stream": "stdout",
       "text": [
        "179 "
       ]
      },
      {
       "output_type": "stream",
       "stream": "stdout",
       "text": [
        "180 "
       ]
      },
      {
       "output_type": "stream",
       "stream": "stdout",
       "text": [
        "181 "
       ]
      },
      {
       "output_type": "stream",
       "stream": "stdout",
       "text": [
        "182 "
       ]
      },
      {
       "output_type": "stream",
       "stream": "stdout",
       "text": [
        "183 "
       ]
      },
      {
       "output_type": "stream",
       "stream": "stdout",
       "text": [
        "184 "
       ]
      },
      {
       "output_type": "stream",
       "stream": "stdout",
       "text": [
        "185 "
       ]
      },
      {
       "output_type": "stream",
       "stream": "stdout",
       "text": [
        "186 "
       ]
      },
      {
       "output_type": "stream",
       "stream": "stdout",
       "text": [
        "187 "
       ]
      },
      {
       "output_type": "stream",
       "stream": "stdout",
       "text": [
        "188 "
       ]
      },
      {
       "output_type": "stream",
       "stream": "stdout",
       "text": [
        "189 "
       ]
      },
      {
       "output_type": "stream",
       "stream": "stdout",
       "text": [
        "190 "
       ]
      },
      {
       "output_type": "stream",
       "stream": "stdout",
       "text": [
        "191 "
       ]
      },
      {
       "output_type": "stream",
       "stream": "stdout",
       "text": [
        "192 "
       ]
      },
      {
       "output_type": "stream",
       "stream": "stdout",
       "text": [
        "193 "
       ]
      },
      {
       "output_type": "stream",
       "stream": "stdout",
       "text": [
        "194 "
       ]
      },
      {
       "output_type": "stream",
       "stream": "stdout",
       "text": [
        "195 "
       ]
      },
      {
       "output_type": "stream",
       "stream": "stdout",
       "text": [
        "196 "
       ]
      },
      {
       "output_type": "stream",
       "stream": "stdout",
       "text": [
        "197 "
       ]
      },
      {
       "output_type": "stream",
       "stream": "stdout",
       "text": [
        "198 "
       ]
      },
      {
       "output_type": "stream",
       "stream": "stdout",
       "text": [
        "199\n"
       ]
      }
     ],
     "prompt_number": 3
    },
    {
     "cell_type": "code",
     "collapsed": false,
     "input": [
      "number = 0"
     ],
     "language": "python",
     "metadata": {},
     "outputs": [],
     "prompt_number": 4
    },
    {
     "cell_type": "code",
     "collapsed": false,
     "input": [
      "#view each single trace\n",
      "\n",
      "print len( traces )\n",
      "print len( traces[number] )\n",
      "print number+1\n",
      "plot( time, traces[number] )\n",
      "ylabel( 'Voltage (V)', fontsize = 20 )\n",
      "xlabel( 'Time (s)', fontsize = 20 )\n",
      "number += 1"
     ],
     "language": "python",
     "metadata": {},
     "outputs": [
      {
       "output_type": "stream",
       "stream": "stdout",
       "text": [
        "99800\n",
        "485\n",
        "1\n"
       ]
      },
      {
       "metadata": {},
       "output_type": "display_data",
       "png": "[encoded data removed]",
       "text": [
        "<matplotlib.figure.Figure at 0xd1629b0>"
       ]
      }
     ],
     "prompt_number": 5
    },
    {
     "cell_type": "code",
     "collapsed": false,
     "input": [
      "time = linspace( 0.0, 0.049, 490)\n",
      "signal = traces[number-1]\n",
      "\n",
      "W = fftfreq(size( signal ), d=time[1]-time[0])\n",
      "f_signal = rfft(signal)\n",
      "\n",
      "# If our original signal time was in seconds, this is now in Hz    \n",
      "#cut_f_signal for each frequency desired to be filtered out\n",
      "\n",
      "cut_f_signal1 = f_signal.copy()\n",
      "cut_f_signal1[(W>270)] = 0\n",
      "cut_f_signal1[(W<260)] = 0\n",
      "\n",
      "cut_f_signal2 = f_signal.copy()\n",
      "cut_f_signal2[(W>900)] = 0\n",
      "cut_f_signal2[(W<875)] = 0\n",
      "\n",
      "# cut_f_signal3 = f_signal.copy()\n",
      "# cut_f_signal3[(W>560)] = 0\n",
      "# cut_f_signal3[(W<550)] = 0\n",
      "\n",
      "# cut_f_signal4 = f_signal.copy()\n",
      "# cut_f_signal4[(W>1005)] = 0\n",
      "# cut_f_signal4[(W<995)] = 0\n",
      "\n",
      "# cut_f_signal5 = f_signal.copy()\n",
      "# cut_f_signal5[(W>780)] = 0\n",
      "# cut_f_signal5[(W<774)] = 0\n",
      "\n",
      "#inverse fourier transform of each of the frequencies to be cut out\n",
      "\n",
      "cut_signal1 = irfft(cut_f_signal1)\n",
      "cut_signal2 = irfft(cut_f_signal2)\n",
      "# cut_signal3 = irfft(cut_f_signal3)\n",
      "# cut_signal4 = irfft(cut_f_signal4)\n",
      "# cut_signal5 = irfft(cut_f_signal5)"
     ],
     "language": "python",
     "metadata": {},
     "outputs": [],
     "prompt_number": 80
    },
    {
     "cell_type": "code",
     "collapsed": false,
     "input": [
      "import pylab as plt\n",
      "from scipy.stats import norm\n",
      "\n",
      "#original trace\n",
      "\n",
      "figure()\n",
      "plt.plot(time,signal)\n",
      "xlabel( 'Time (s)', fontsize = 20 )\n",
      "ylabel( 'Voltage (V)', fontsize = 20  )\n",
      "\n",
      "#spectral density\n",
      "\n",
      "figure()\n",
      "plt.plot(W,f_signal)\n",
      "plt.xlim(0,2000)\n",
      "ylim( [-2,2] )\n",
      "xlabel( 'Frequency (Hz)', fontsize = 20 )\n",
      "ylabel( 'Intensity', fontsize = 20  )\n",
      "\n",
      "#frequencies to be cut from trace\n",
      "\n",
      "# figure()\n",
      "# plt.plot(W,cut_f_signal1 + cut_f_signal2 + cut_f_signal3 + cut_f_signal4 + cut_f_signal5)\n",
      "# plt.xlim(0,1200)\n",
      "# ylim( [-5,5] )\n",
      "\n",
      "#amplitude at each point in the trace to be taken away from the original trace\n",
      "\n",
      "# figure()\n",
      "# plt.plot(time,cut_signal1 + cut_signal2 + cut_signal3 + cut_signal4 + cut_signal5)\n",
      "\n",
      "#trace after it has been filtered\n",
      "\n",
      "figure()\n",
      "plot( time, signal - cut_signal1 - cut_signal2 )\n",
      "xlabel( 'Time (s)', fontsize = 20 )\n",
      "ylabel( 'Voltage (V)', fontsize = 20  )\n",
      "show()\n",
      "\n",
      "number += 1"
     ],
     "language": "python",
     "metadata": {},
     "outputs": [
      {
       "metadata": {},
       "output_type": "display_data",
       "png": "[encoded data removed]",
       "text": [
        "<matplotlib.figure.Figure at 0x4ff41910>"
       ]
      },
      {
       "metadata": {},
       "output_type": "display_data",
       "png": "[encoded data removed]",
       "text": [
        "<matplotlib.figure.Figure at 0x4f6d3390>"
       ]
      },
      {
       "metadata": {},
       "output_type": "display_data",
       "png": "[encoded data removed]",
       "text": [
        "<matplotlib.figure.Figure at 0x4ff41d90>"
       ]
      }
     ],
     "prompt_number": 81
    },
    {
     "cell_type": "code",
     "collapsed": false,
     "input": [
      "f_signal = list( f_signal )\n",
      "for i in f_signal:\n",
      "    if abs( i ) > 0.2:\n",
      "        print W[ f_signal.index( i ) ],"
     ],
     "language": "python",
     "metadata": {},
     "outputs": [
      {
       "output_type": "stream",
       "stream": "stdout",
       "text": [
        "0.0 264.764681383 305.497709288 488.79633486 875.760099958 896.126613911 1099.79175344 1486.75551853\n"
       ]
      }
     ],
     "prompt_number": 82
    },
    {
     "cell_type": "code",
     "collapsed": false,
     "input": [
      "traces_long = []\n",
      "for trace in traces:\n",
      "    new_trace = trace * 3\n",
      "    traces_long.append( new_trace )"
     ],
     "language": "python",
     "metadata": {},
     "outputs": [],
     "prompt_number": 94
    },
    {
     "cell_type": "code",
     "collapsed": false,
     "input": [
      "plot( traces_long[0] )\n",
      "show()"
     ],
     "language": "python",
     "metadata": {},
     "outputs": [
      {
       "metadata": {},
       "output_type": "display_data",
       "png": "[encoded data removed]",
       "text": [
        "<matplotlib.figure.Figure at 0x4f6eabd0>"
       ]
      }
     ],
     "prompt_number": 95
    },
    {
     "cell_type": "code",
     "collapsed": false,
     "input": [
      "time_long = linspace( 0.0, 0.0485 * 10, 485 * 10)\n",
      "signal = traces[number-1] * 10\n",
      "\n",
      "W = fftfreq(size( signal ), d=time_long[1]-time_long[0])\n",
      "f_signal = rfft(signal)\n",
      "\n",
      "# If our original signal time was in seconds, this is now in Hz    \n",
      "#cut_f_signal for each frequency desired to be filtered out\n",
      "\n",
      "cut_f_signal1 = f_signal.copy()\n",
      "cut_f_signal1[(W>287)] = 0\n",
      "cut_f_signal1[(W<285)] = 0\n",
      "\n",
      "cut_f_signal2 = f_signal.copy()\n",
      "cut_f_signal2[(W>908)] = 0\n",
      "cut_f_signal2[(W<904)] = 0\n",
      "\n",
      "cut_f_signal3 = f_signal.copy()\n",
      "cut_f_signal3[(W>493)] = 0\n",
      "cut_f_signal3[(W<491)] = 0\n",
      "\n",
      "#inverse fourier transform of each of the frequencies to be cut out\n",
      "\n",
      "cut_signal1 = irfft(cut_f_signal1)\n",
      "cut_signal2 = irfft(cut_f_signal2)\n",
      "cut_signal3 = irfft(cut_f_signal3)"
     ],
     "language": "python",
     "metadata": {},
     "outputs": [],
     "prompt_number": 72
    },
    {
     "cell_type": "code",
     "collapsed": false,
     "input": [
      "import pylab as plt\n",
      "from scipy.stats import norm\n",
      "\n",
      "#original trace\n",
      "\n",
      "figure()\n",
      "plt.plot(time,signal[0:485])\n",
      "xlabel( 'Time (s)', fontsize = 20 )\n",
      "ylabel( 'Voltage (V)', fontsize = 20  )\n",
      "\n",
      "#spectral density\n",
      "\n",
      "figure()\n",
      "plt.plot(W,f_signal)\n",
      "plt.xlim(0,1000)\n",
      "ylim( [-5,5] )\n",
      "xlabel( 'Frequency (Hz)', fontsize = 20 )\n",
      "ylabel( 'Intensity', fontsize = 20  )\n",
      "\n",
      "#frequencies to be cut from trace\n",
      "\n",
      "# figure()\n",
      "# plt.plot(W,cut_f_signal1 + cut_f_signal2 + cut_f_signal3 + cut_f_signal4 + cut_f_signal5)\n",
      "# plt.xlim(0,1200)\n",
      "# ylim( [-5,5] )\n",
      "\n",
      "#amplitude at each point in the trace to be taken away from the original trace\n",
      "\n",
      "# figure()\n",
      "# plt.plot(time,cut_signal1 + cut_signal2 + cut_signal3 + cut_signal4 + cut_signal5)\n",
      "\n",
      "#trace after it has been filtered\n",
      "\n",
      "figure()\n",
      "plot( time, signal[0:485] - cut_signal1[0:485] - cut_signal2[0:485] - cut_signal3[0:485] )\n",
      "xlabel( 'Time (s)', fontsize = 20 )\n",
      "ylabel( 'Voltage (V)', fontsize = 20  )\n",
      "show()\n",
      "\n",
      "values, bins = histogram( signal[0:485], bins=arange( 0, 0.035, 0.0005 ), normed = True )\n",
      "figure()\n",
      "plot( bins[:-1], values )\n",
      "(mu, sigma) = norm.fit(signal[0:485])\n",
      "y = normpdf( bins, mu, sigma)\n",
      "plot(bins, y, 'r--', linewidth=2)\n",
      "xlabel( 'Voltage (V)', fontsize = 20 )\n",
      "ylabel( 'Density (V$^{-1}$)', fontsize = 20  )\n",
      "\n",
      "values, bins = histogram( signal[0:485] - cut_signal1[0:485] - cut_signal2[0:485] - cut_signal3[0:485], bins=arange( 0, 0.035, 0.0005 ), normed = True )\n",
      "figure()\n",
      "plot( bins[:-1], values )\n",
      "(mu, sigma) = norm.fit(signal[0:485] - cut_signal1[0:485] - cut_signal2[0:485] - cut_signal3[0:485])\n",
      "y = normpdf( bins, mu, sigma)\n",
      "plot(bins, y, 'r--', linewidth=2)\n",
      "xlabel( 'Voltage (V)', fontsize = 20 )\n",
      "ylabel( 'Density (V$^{-1}$)', fontsize = 20  )\n",
      "plt.show()\n",
      "\n",
      "number += 1"
     ],
     "language": "python",
     "metadata": {},
     "outputs": [
      {
       "metadata": {},
       "output_type": "display_data",
       "png": "[encoded data removed]",
       "text": [
        "<matplotlib.figure.Figure at 0x4ed7d570>"
       ]
      },
      {
       "metadata": {},
       "output_type": "display_data",
       "png": "[encoded data removed]",
       "text": [
        "<matplotlib.figure.Figure at 0x4f7d7050>"
       ]
      },
      {
       "metadata": {},
       "output_type": "display_data",
       "png": "[encoded data removed]",
       "text": [
        "<matplotlib.figure.Figure at 0x68700d30>"
       ]
      },
      {
       "metadata": {},
       "output_type": "display_data",
       "png": "[encoded data removed]",
       "text": [
        "<matplotlib.figure.Figure at 0x686f9550>"
       ]
      },
      {
       "metadata": {},
       "output_type": "display_data",
       "png": "[encoded data removed]",
       "text": [
        "<matplotlib.figure.Figure at 0x4ed31890>"
       ]
      }
     ],
     "prompt_number": 73
    },
    {
     "cell_type": "code",
     "collapsed": false,
     "input": [
      "f_signal = list( f_signal )\n",
      "for i in f_signal:\n",
      "    if abs(i) > 2:\n",
      "        print W[ f_signal.index( i ) ],"
     ],
     "language": "python",
     "metadata": {},
     "outputs": [
      {
       "output_type": "stream",
       "stream": "stdout",
       "text": [
        "0.0 286.538845786 492.681900308 904.968009353 907.029439898 2471.65522372\n"
       ]
      }
     ],
     "prompt_number": 38
    },
    {
     "cell_type": "code",
     "collapsed": false,
     "input": [
      "traces_filt = []\n",
      "for trace in traces:\n",
      "    signal = trace * 10\n",
      "    time_long = linspace( 0.0, 0.0485 * 10, 485 * 10)\n",
      "\n",
      "    W = fftfreq(size( signal ), d=time_long[1]-time_long[0])\n",
      "    f_signal = rfft(signal)\n",
      "\n",
      "    # If our original signal time was in seconds, this is now in Hz    \n",
      "    cut_f_signal1 = f_signal.copy()\n",
      "    cut_f_signal1[(W>287)] = 0\n",
      "    cut_f_signal1[(W<285)] = 0\n",
      "\n",
      "    cut_f_signal2 = f_signal.copy()\n",
      "    cut_f_signal2[(W>908)] = 0\n",
      "    cut_f_signal2[(W<904)] = 0\n",
      "\n",
      "    cut_f_signal3 = f_signal.copy()\n",
      "    cut_f_signal3[(W>493)] = 0\n",
      "    cut_f_signal3[(W<491)] = 0\n",
      "\n",
      "    #inverse fourier transform of each of the frequencies to be cut out\n",
      "\n",
      "    cut_signal1 = irfft(cut_f_signal1)\n",
      "    cut_signal2 = irfft(cut_f_signal2)\n",
      "    cut_signal3 = irfft(cut_f_signal3)\n",
      "\n",
      "    traces_filt.append( signal[0:485] - cut_signal1[0:485] - cut_signal2[0:485] - cut_signal3[0:485] )"
     ],
     "language": "python",
     "metadata": {},
     "outputs": [],
     "prompt_number": 42
    },
    {
     "cell_type": "code",
     "collapsed": false,
     "input": [
      "signals_max = []\n",
      "for x in traces_filt:\n",
      "    signals_max.append( min( x ) )\n",
      "I_n = 0.02446\n",
      "A_n = 0.003694\n",
      "range = I_n + 2 * A_n\n",
      "figure()\n",
      "values, bins = histogram( signals_max , bins=arange( -0.04, 1.03 * range, 0.001 ), normed = True )\n",
      "plot( bins[:-1], values, 'g' )\n",
      "xlabel( 'Peak Voltage (V)', fontsize = 20 )\n",
      "ylabel( 'Probabiliy Density (V$^{-1}$)', fontsize = 20 )\n",
      "show()"
     ],
     "language": "python",
     "metadata": {},
     "outputs": [
      {
       "metadata": {},
       "output_type": "display_data",
       "png": "[encoded data removed]",
       "text": [
        "<matplotlib.figure.Figure at 0x4fb766d0>"
       ]
      }
     ],
     "prompt_number": 43
    },
    {
     "cell_type": "code",
     "collapsed": false,
     "input": [],
     "language": "python",
     "metadata": {},
     "outputs": []
    }
   ],
   "metadata": {}
  }
 ]
}