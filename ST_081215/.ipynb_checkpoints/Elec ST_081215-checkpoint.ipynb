{
 "metadata": {
  "name": "",
  "signature": "sha256:242fd789f17bdc354ab8ef2be8e14970dbef34ae1c45623e17c685ff48fa92eb"
 },
 "nbformat": 3,
 "nbformat_minor": 0,
 "worksheets": [
  {
   "cells": [
    {
     "cell_type": "code",
     "collapsed": false,
     "input": [
      "%pylab inline"
     ],
     "language": "python",
     "metadata": {},
     "outputs": [
      {
       "output_type": "stream",
       "stream": "stdout",
       "text": [
        "Populating the interactive namespace from numpy and matplotlib\n"
       ]
      }
     ],
     "prompt_number": 3
    },
    {
     "cell_type": "code",
     "collapsed": false,
     "input": [
      "from scipy import stats\n",
      "from __future__ import division\n",
      "import scipy.fftpack\n",
      "from scipy.stats import norm\n",
      "from scipy.fftpack import rfft, irfft, fftfreq\n",
      "import os\n",
      "from numba import jit"
     ],
     "language": "python",
     "metadata": {},
     "outputs": [],
     "prompt_number": 4
    },
    {
     "cell_type": "code",
     "collapsed": false,
     "input": [
      "number_of_files = 20\n",
      "\n",
      "V = 0.007 #signals triplet if trace passes below threshold\n",
      "\n",
      "start = 0.0015\n",
      "finish = 0.05\n",
      "\n",
      "up_outs = []\n",
      "down_ins = []\n",
      "up_ins = []\n",
      "down_outs = []\n",
      "\n",
      "trace = []\n",
      "traces = []\n",
      "\n",
      "time = linspace( 0.0, 0.0485, 485)\n",
      "\n",
      "dir = 'C:/Users/z3414503/Desktop/Honours/Data/ST_081215'\n",
      "progress = 0\n",
      "for fn in os.listdir( dir ):\n",
      "    print progress,\n",
      "    progress += 1\n",
      "    file = \"C:/Users/z3414503/Desktop/Honours/Data/ST_081215/\" + fn + '/traces/Read ST at Bz = 2.5000_0_trace.dat'\n",
      "    with open( file, \"r\" ) as f:\n",
      "        i = 1\n",
      "        for line in f:\n",
      "            fields = line.split()\n",
      "            if len(fields) == 3 and fields[0] != '#':\n",
      "                if int( fields[0] ) == i:\n",
      "                    value = 0.0\n",
      "                    if float( fields[1] ) >= start and float( fields[1] ) < finish and float( fields[1] ) >= value and len( trace ) < 486:\n",
      "                        trace.append( float( fields[2] ) )\n",
      "                        value = float( fields[1] )\n",
      "                if int( fields[0] ) > i:\n",
      "                    i += 1\n",
      "                    traces.append(trace)\n",
      "                    trace = []\n",
      "    trace = []"
     ],
     "language": "python",
     "metadata": {},
     "outputs": [
      {
       "output_type": "stream",
       "stream": "stdout",
       "text": [
        "0 "
       ]
      },
      {
       "output_type": "stream",
       "stream": "stdout",
       "text": [
        "1 "
       ]
      },
      {
       "output_type": "stream",
       "stream": "stdout",
       "text": [
        "2 "
       ]
      },
      {
       "output_type": "stream",
       "stream": "stdout",
       "text": [
        "3 "
       ]
      },
      {
       "output_type": "stream",
       "stream": "stdout",
       "text": [
        "4 "
       ]
      },
      {
       "output_type": "stream",
       "stream": "stdout",
       "text": [
        "5 "
       ]
      },
      {
       "output_type": "stream",
       "stream": "stdout",
       "text": [
        "6 "
       ]
      },
      {
       "output_type": "stream",
       "stream": "stdout",
       "text": [
        "7 "
       ]
      },
      {
       "output_type": "stream",
       "stream": "stdout",
       "text": [
        "8 "
       ]
      },
      {
       "output_type": "stream",
       "stream": "stdout",
       "text": [
        "9 "
       ]
      },
      {
       "output_type": "stream",
       "stream": "stdout",
       "text": [
        "10 "
       ]
      },
      {
       "output_type": "stream",
       "stream": "stdout",
       "text": [
        "11 "
       ]
      },
      {
       "output_type": "stream",
       "stream": "stdout",
       "text": [
        "12 "
       ]
      },
      {
       "output_type": "stream",
       "stream": "stdout",
       "text": [
        "13 "
       ]
      },
      {
       "output_type": "stream",
       "stream": "stdout",
       "text": [
        "14 "
       ]
      },
      {
       "output_type": "stream",
       "stream": "stdout",
       "text": [
        "15 "
       ]
      },
      {
       "output_type": "stream",
       "stream": "stdout",
       "text": [
        "16 "
       ]
      },
      {
       "output_type": "stream",
       "stream": "stdout",
       "text": [
        "17 "
       ]
      },
      {
       "output_type": "stream",
       "stream": "stdout",
       "text": [
        "18 "
       ]
      },
      {
       "output_type": "stream",
       "stream": "stdout",
       "text": [
        "19 "
       ]
      },
      {
       "output_type": "stream",
       "stream": "stdout",
       "text": [
        "20 "
       ]
      },
      {
       "output_type": "stream",
       "stream": "stdout",
       "text": [
        "21 "
       ]
      },
      {
       "output_type": "stream",
       "stream": "stdout",
       "text": [
        "22 "
       ]
      },
      {
       "output_type": "stream",
       "stream": "stdout",
       "text": [
        "23 "
       ]
      },
      {
       "output_type": "stream",
       "stream": "stdout",
       "text": [
        "24 "
       ]
      },
      {
       "output_type": "stream",
       "stream": "stdout",
       "text": [
        "25 "
       ]
      },
      {
       "output_type": "stream",
       "stream": "stdout",
       "text": [
        "26 "
       ]
      },
      {
       "output_type": "stream",
       "stream": "stdout",
       "text": [
        "27 "
       ]
      },
      {
       "output_type": "stream",
       "stream": "stdout",
       "text": [
        "28 "
       ]
      },
      {
       "output_type": "stream",
       "stream": "stdout",
       "text": [
        "29 "
       ]
      },
      {
       "output_type": "stream",
       "stream": "stdout",
       "text": [
        "30 "
       ]
      },
      {
       "output_type": "stream",
       "stream": "stdout",
       "text": [
        "31 "
       ]
      },
      {
       "output_type": "stream",
       "stream": "stdout",
       "text": [
        "32 "
       ]
      },
      {
       "output_type": "stream",
       "stream": "stdout",
       "text": [
        "33 "
       ]
      },
      {
       "output_type": "stream",
       "stream": "stdout",
       "text": [
        "34 "
       ]
      },
      {
       "output_type": "stream",
       "stream": "stdout",
       "text": [
        "35 "
       ]
      },
      {
       "output_type": "stream",
       "stream": "stdout",
       "text": [
        "36 "
       ]
      },
      {
       "output_type": "stream",
       "stream": "stdout",
       "text": [
        "37 "
       ]
      },
      {
       "output_type": "stream",
       "stream": "stdout",
       "text": [
        "38 "
       ]
      },
      {
       "output_type": "stream",
       "stream": "stdout",
       "text": [
        "39 "
       ]
      },
      {
       "output_type": "stream",
       "stream": "stdout",
       "text": [
        "40 "
       ]
      },
      {
       "output_type": "stream",
       "stream": "stdout",
       "text": [
        "41 "
       ]
      },
      {
       "output_type": "stream",
       "stream": "stdout",
       "text": [
        "42 "
       ]
      },
      {
       "output_type": "stream",
       "stream": "stdout",
       "text": [
        "43 "
       ]
      },
      {
       "output_type": "stream",
       "stream": "stdout",
       "text": [
        "44 "
       ]
      },
      {
       "output_type": "stream",
       "stream": "stdout",
       "text": [
        "45 "
       ]
      },
      {
       "output_type": "stream",
       "stream": "stdout",
       "text": [
        "46 "
       ]
      },
      {
       "output_type": "stream",
       "stream": "stdout",
       "text": [
        "47 "
       ]
      },
      {
       "output_type": "stream",
       "stream": "stdout",
       "text": [
        "48 "
       ]
      },
      {
       "output_type": "stream",
       "stream": "stdout",
       "text": [
        "49 "
       ]
      },
      {
       "output_type": "stream",
       "stream": "stdout",
       "text": [
        "50 "
       ]
      },
      {
       "output_type": "stream",
       "stream": "stdout",
       "text": [
        "51 "
       ]
      },
      {
       "output_type": "stream",
       "stream": "stdout",
       "text": [
        "52 "
       ]
      },
      {
       "output_type": "stream",
       "stream": "stdout",
       "text": [
        "53 "
       ]
      },
      {
       "output_type": "stream",
       "stream": "stdout",
       "text": [
        "54 "
       ]
      },
      {
       "output_type": "stream",
       "stream": "stdout",
       "text": [
        "55 "
       ]
      },
      {
       "output_type": "stream",
       "stream": "stdout",
       "text": [
        "56 "
       ]
      },
      {
       "output_type": "stream",
       "stream": "stdout",
       "text": [
        "57 "
       ]
      },
      {
       "output_type": "stream",
       "stream": "stdout",
       "text": [
        "58 "
       ]
      },
      {
       "output_type": "stream",
       "stream": "stdout",
       "text": [
        "59 "
       ]
      },
      {
       "output_type": "stream",
       "stream": "stdout",
       "text": [
        "60 "
       ]
      },
      {
       "output_type": "stream",
       "stream": "stdout",
       "text": [
        "61 "
       ]
      },
      {
       "output_type": "stream",
       "stream": "stdout",
       "text": [
        "62 "
       ]
      },
      {
       "output_type": "stream",
       "stream": "stdout",
       "text": [
        "63 "
       ]
      },
      {
       "output_type": "stream",
       "stream": "stdout",
       "text": [
        "64 "
       ]
      },
      {
       "output_type": "stream",
       "stream": "stdout",
       "text": [
        "65 "
       ]
      },
      {
       "output_type": "stream",
       "stream": "stdout",
       "text": [
        "66 "
       ]
      },
      {
       "output_type": "stream",
       "stream": "stdout",
       "text": [
        "67 "
       ]
      },
      {
       "output_type": "stream",
       "stream": "stdout",
       "text": [
        "68 "
       ]
      },
      {
       "output_type": "stream",
       "stream": "stdout",
       "text": [
        "69 "
       ]
      },
      {
       "output_type": "stream",
       "stream": "stdout",
       "text": [
        "70 "
       ]
      },
      {
       "output_type": "stream",
       "stream": "stdout",
       "text": [
        "71 "
       ]
      },
      {
       "output_type": "stream",
       "stream": "stdout",
       "text": [
        "72 "
       ]
      },
      {
       "output_type": "stream",
       "stream": "stdout",
       "text": [
        "73 "
       ]
      },
      {
       "output_type": "stream",
       "stream": "stdout",
       "text": [
        "74 "
       ]
      },
      {
       "output_type": "stream",
       "stream": "stdout",
       "text": [
        "75 "
       ]
      },
      {
       "output_type": "stream",
       "stream": "stdout",
       "text": [
        "76 "
       ]
      },
      {
       "output_type": "stream",
       "stream": "stdout",
       "text": [
        "77 "
       ]
      },
      {
       "output_type": "stream",
       "stream": "stdout",
       "text": [
        "78 "
       ]
      },
      {
       "output_type": "stream",
       "stream": "stdout",
       "text": [
        "79 "
       ]
      },
      {
       "output_type": "stream",
       "stream": "stdout",
       "text": [
        "80 "
       ]
      },
      {
       "output_type": "stream",
       "stream": "stdout",
       "text": [
        "81 "
       ]
      },
      {
       "output_type": "stream",
       "stream": "stdout",
       "text": [
        "82 "
       ]
      },
      {
       "output_type": "stream",
       "stream": "stdout",
       "text": [
        "83 "
       ]
      },
      {
       "output_type": "stream",
       "stream": "stdout",
       "text": [
        "84 "
       ]
      },
      {
       "output_type": "stream",
       "stream": "stdout",
       "text": [
        "85 "
       ]
      },
      {
       "output_type": "stream",
       "stream": "stdout",
       "text": [
        "86 "
       ]
      },
      {
       "output_type": "stream",
       "stream": "stdout",
       "text": [
        "87 "
       ]
      },
      {
       "output_type": "stream",
       "stream": "stdout",
       "text": [
        "88 "
       ]
      },
      {
       "output_type": "stream",
       "stream": "stdout",
       "text": [
        "89 "
       ]
      },
      {
       "output_type": "stream",
       "stream": "stdout",
       "text": [
        "90 "
       ]
      },
      {
       "output_type": "stream",
       "stream": "stdout",
       "text": [
        "91 "
       ]
      },
      {
       "output_type": "stream",
       "stream": "stdout",
       "text": [
        "92 "
       ]
      },
      {
       "output_type": "stream",
       "stream": "stdout",
       "text": [
        "93 "
       ]
      },
      {
       "output_type": "stream",
       "stream": "stdout",
       "text": [
        "94 "
       ]
      },
      {
       "output_type": "stream",
       "stream": "stdout",
       "text": [
        "95 "
       ]
      },
      {
       "output_type": "stream",
       "stream": "stdout",
       "text": [
        "96 "
       ]
      },
      {
       "output_type": "stream",
       "stream": "stdout",
       "text": [
        "97 "
       ]
      },
      {
       "output_type": "stream",
       "stream": "stdout",
       "text": [
        "98 "
       ]
      },
      {
       "output_type": "stream",
       "stream": "stdout",
       "text": [
        "99 "
       ]
      },
      {
       "output_type": "stream",
       "stream": "stdout",
       "text": [
        "100 "
       ]
      },
      {
       "output_type": "stream",
       "stream": "stdout",
       "text": [
        "101 "
       ]
      },
      {
       "output_type": "stream",
       "stream": "stdout",
       "text": [
        "102 "
       ]
      },
      {
       "output_type": "stream",
       "stream": "stdout",
       "text": [
        "103 "
       ]
      },
      {
       "output_type": "stream",
       "stream": "stdout",
       "text": [
        "104 "
       ]
      },
      {
       "output_type": "stream",
       "stream": "stdout",
       "text": [
        "105 "
       ]
      },
      {
       "output_type": "stream",
       "stream": "stdout",
       "text": [
        "106 "
       ]
      },
      {
       "output_type": "stream",
       "stream": "stdout",
       "text": [
        "107 "
       ]
      },
      {
       "output_type": "stream",
       "stream": "stdout",
       "text": [
        "108 "
       ]
      },
      {
       "output_type": "stream",
       "stream": "stdout",
       "text": [
        "109 "
       ]
      },
      {
       "output_type": "stream",
       "stream": "stdout",
       "text": [
        "110 "
       ]
      },
      {
       "output_type": "stream",
       "stream": "stdout",
       "text": [
        "111 "
       ]
      },
      {
       "output_type": "stream",
       "stream": "stdout",
       "text": [
        "112 "
       ]
      },
      {
       "output_type": "stream",
       "stream": "stdout",
       "text": [
        "113 "
       ]
      },
      {
       "output_type": "stream",
       "stream": "stdout",
       "text": [
        "114 "
       ]
      },
      {
       "output_type": "stream",
       "stream": "stdout",
       "text": [
        "115 "
       ]
      },
      {
       "output_type": "stream",
       "stream": "stdout",
       "text": [
        "116 "
       ]
      },
      {
       "output_type": "stream",
       "stream": "stdout",
       "text": [
        "117 "
       ]
      },
      {
       "output_type": "stream",
       "stream": "stdout",
       "text": [
        "118 "
       ]
      },
      {
       "output_type": "stream",
       "stream": "stdout",
       "text": [
        "119 "
       ]
      },
      {
       "output_type": "stream",
       "stream": "stdout",
       "text": [
        "120 "
       ]
      },
      {
       "output_type": "stream",
       "stream": "stdout",
       "text": [
        "121 "
       ]
      },
      {
       "output_type": "stream",
       "stream": "stdout",
       "text": [
        "122 "
       ]
      },
      {
       "output_type": "stream",
       "stream": "stdout",
       "text": [
        "123 "
       ]
      },
      {
       "output_type": "stream",
       "stream": "stdout",
       "text": [
        "124 "
       ]
      },
      {
       "output_type": "stream",
       "stream": "stdout",
       "text": [
        "125 "
       ]
      },
      {
       "output_type": "stream",
       "stream": "stdout",
       "text": [
        "126 "
       ]
      },
      {
       "output_type": "stream",
       "stream": "stdout",
       "text": [
        "127 "
       ]
      },
      {
       "output_type": "stream",
       "stream": "stdout",
       "text": [
        "128 "
       ]
      },
      {
       "output_type": "stream",
       "stream": "stdout",
       "text": [
        "129 "
       ]
      },
      {
       "output_type": "stream",
       "stream": "stdout",
       "text": [
        "130 "
       ]
      },
      {
       "output_type": "stream",
       "stream": "stdout",
       "text": [
        "131 "
       ]
      },
      {
       "output_type": "stream",
       "stream": "stdout",
       "text": [
        "132 "
       ]
      },
      {
       "output_type": "stream",
       "stream": "stdout",
       "text": [
        "133 "
       ]
      },
      {
       "output_type": "stream",
       "stream": "stdout",
       "text": [
        "134 "
       ]
      },
      {
       "output_type": "stream",
       "stream": "stdout",
       "text": [
        "135 "
       ]
      },
      {
       "output_type": "stream",
       "stream": "stdout",
       "text": [
        "136 "
       ]
      },
      {
       "output_type": "stream",
       "stream": "stdout",
       "text": [
        "137 "
       ]
      },
      {
       "output_type": "stream",
       "stream": "stdout",
       "text": [
        "138 "
       ]
      },
      {
       "output_type": "stream",
       "stream": "stdout",
       "text": [
        "139 "
       ]
      },
      {
       "output_type": "stream",
       "stream": "stdout",
       "text": [
        "140 "
       ]
      },
      {
       "output_type": "stream",
       "stream": "stdout",
       "text": [
        "141 "
       ]
      },
      {
       "output_type": "stream",
       "stream": "stdout",
       "text": [
        "142 "
       ]
      },
      {
       "output_type": "stream",
       "stream": "stdout",
       "text": [
        "143 "
       ]
      },
      {
       "output_type": "stream",
       "stream": "stdout",
       "text": [
        "144 "
       ]
      },
      {
       "output_type": "stream",
       "stream": "stdout",
       "text": [
        "145 "
       ]
      },
      {
       "output_type": "stream",
       "stream": "stdout",
       "text": [
        "146 "
       ]
      },
      {
       "output_type": "stream",
       "stream": "stdout",
       "text": [
        "147 "
       ]
      },
      {
       "output_type": "stream",
       "stream": "stdout",
       "text": [
        "148 "
       ]
      },
      {
       "output_type": "stream",
       "stream": "stdout",
       "text": [
        "149 "
       ]
      },
      {
       "output_type": "stream",
       "stream": "stdout",
       "text": [
        "150 "
       ]
      },
      {
       "output_type": "stream",
       "stream": "stdout",
       "text": [
        "151 "
       ]
      },
      {
       "output_type": "stream",
       "stream": "stdout",
       "text": [
        "152 "
       ]
      },
      {
       "output_type": "stream",
       "stream": "stdout",
       "text": [
        "153 "
       ]
      },
      {
       "output_type": "stream",
       "stream": "stdout",
       "text": [
        "154 "
       ]
      },
      {
       "output_type": "stream",
       "stream": "stdout",
       "text": [
        "155 "
       ]
      },
      {
       "output_type": "stream",
       "stream": "stdout",
       "text": [
        "156 "
       ]
      },
      {
       "output_type": "stream",
       "stream": "stdout",
       "text": [
        "157 "
       ]
      },
      {
       "output_type": "stream",
       "stream": "stdout",
       "text": [
        "158 "
       ]
      },
      {
       "output_type": "stream",
       "stream": "stdout",
       "text": [
        "159 "
       ]
      },
      {
       "output_type": "stream",
       "stream": "stdout",
       "text": [
        "160 "
       ]
      },
      {
       "output_type": "stream",
       "stream": "stdout",
       "text": [
        "161 "
       ]
      },
      {
       "output_type": "stream",
       "stream": "stdout",
       "text": [
        "162 "
       ]
      },
      {
       "output_type": "stream",
       "stream": "stdout",
       "text": [
        "163 "
       ]
      },
      {
       "output_type": "stream",
       "stream": "stdout",
       "text": [
        "164 "
       ]
      },
      {
       "output_type": "stream",
       "stream": "stdout",
       "text": [
        "165 "
       ]
      },
      {
       "output_type": "stream",
       "stream": "stdout",
       "text": [
        "166 "
       ]
      },
      {
       "output_type": "stream",
       "stream": "stdout",
       "text": [
        "167 "
       ]
      },
      {
       "output_type": "stream",
       "stream": "stdout",
       "text": [
        "168 "
       ]
      },
      {
       "output_type": "stream",
       "stream": "stdout",
       "text": [
        "169 "
       ]
      },
      {
       "output_type": "stream",
       "stream": "stdout",
       "text": [
        "170 "
       ]
      },
      {
       "output_type": "stream",
       "stream": "stdout",
       "text": [
        "171 "
       ]
      },
      {
       "output_type": "stream",
       "stream": "stdout",
       "text": [
        "172 "
       ]
      },
      {
       "output_type": "stream",
       "stream": "stdout",
       "text": [
        "173 "
       ]
      },
      {
       "output_type": "stream",
       "stream": "stdout",
       "text": [
        "174 "
       ]
      },
      {
       "output_type": "stream",
       "stream": "stdout",
       "text": [
        "175 "
       ]
      },
      {
       "output_type": "stream",
       "stream": "stdout",
       "text": [
        "176 "
       ]
      },
      {
       "output_type": "stream",
       "stream": "stdout",
       "text": [
        "177 "
       ]
      },
      {
       "output_type": "stream",
       "stream": "stdout",
       "text": [
        "178 "
       ]
      },
      {
       "output_type": "stream",
       "stream": "stdout",
       "text": [
        "179 "
       ]
      },
      {
       "output_type": "stream",
       "stream": "stdout",
       "text": [
        "180 "
       ]
      },
      {
       "output_type": "stream",
       "stream": "stdout",
       "text": [
        "181 "
       ]
      },
      {
       "output_type": "stream",
       "stream": "stdout",
       "text": [
        "182 "
       ]
      },
      {
       "output_type": "stream",
       "stream": "stdout",
       "text": [
        "183 "
       ]
      },
      {
       "output_type": "stream",
       "stream": "stdout",
       "text": [
        "184 "
       ]
      },
      {
       "output_type": "stream",
       "stream": "stdout",
       "text": [
        "185 "
       ]
      },
      {
       "output_type": "stream",
       "stream": "stdout",
       "text": [
        "186 "
       ]
      },
      {
       "output_type": "stream",
       "stream": "stdout",
       "text": [
        "187 "
       ]
      },
      {
       "output_type": "stream",
       "stream": "stdout",
       "text": [
        "188 "
       ]
      },
      {
       "output_type": "stream",
       "stream": "stdout",
       "text": [
        "189 "
       ]
      },
      {
       "output_type": "stream",
       "stream": "stdout",
       "text": [
        "190 "
       ]
      },
      {
       "output_type": "stream",
       "stream": "stdout",
       "text": [
        "191 "
       ]
      },
      {
       "output_type": "stream",
       "stream": "stdout",
       "text": [
        "192 "
       ]
      },
      {
       "output_type": "stream",
       "stream": "stdout",
       "text": [
        "193 "
       ]
      },
      {
       "output_type": "stream",
       "stream": "stdout",
       "text": [
        "194 "
       ]
      },
      {
       "output_type": "stream",
       "stream": "stdout",
       "text": [
        "195 "
       ]
      },
      {
       "output_type": "stream",
       "stream": "stdout",
       "text": [
        "196 "
       ]
      },
      {
       "output_type": "stream",
       "stream": "stdout",
       "text": [
        "197 "
       ]
      },
      {
       "output_type": "stream",
       "stream": "stdout",
       "text": [
        "198 "
       ]
      },
      {
       "output_type": "stream",
       "stream": "stdout",
       "text": [
        "199\n"
       ]
      }
     ],
     "prompt_number": 5
    },
    {
     "cell_type": "code",
     "collapsed": false,
     "input": [
      "traces_filt = []\n",
      "for trace in traces:\n",
      "    signal = trace * 10\n",
      "    time_long = linspace( 0.0, 0.0485 * 10, 485 * 10)\n",
      "\n",
      "    W = fftfreq(size( signal ), d=time_long[1]-time_long[0])\n",
      "    f_signal = rfft(signal)\n",
      "\n",
      "    # If our original signal time was in seconds, this is now in Hz    \n",
      "    cut_f_signal1 = f_signal.copy()\n",
      "    cut_f_signal1[(W>287)] = 0\n",
      "    cut_f_signal1[(W<285)] = 0\n",
      "\n",
      "    cut_f_signal2 = f_signal.copy()\n",
      "    cut_f_signal2[(W>908)] = 0\n",
      "    cut_f_signal2[(W<904)] = 0\n",
      "\n",
      "    cut_f_signal3 = f_signal.copy()\n",
      "    cut_f_signal3[(W>493)] = 0\n",
      "    cut_f_signal3[(W<491)] = 0\n",
      "\n",
      "    #inverse fourier transform of each of the frequencies to be cut out\n",
      "\n",
      "    cut_signal1 = irfft(cut_f_signal1)\n",
      "    cut_signal2 = irfft(cut_f_signal2)\n",
      "    cut_signal3 = irfft(cut_f_signal3)\n",
      "\n",
      "    traces_filt.append( signal[0:485] - cut_signal1[0:485] - cut_signal2[0:485] - cut_signal3[0:485] )"
     ],
     "language": "python",
     "metadata": {},
     "outputs": [],
     "prompt_number": 6
    },
    {
     "cell_type": "code",
     "collapsed": false,
     "input": [
      "number = 0"
     ],
     "language": "python",
     "metadata": {},
     "outputs": [],
     "prompt_number": 7
    },
    {
     "cell_type": "code",
     "collapsed": false,
     "input": [
      "print len( traces_filt )\n",
      "print len( traces_filt[number] )\n",
      "print number+1\n",
      "plot( time, traces_filt[number] )\n",
      "plot( time, traces[ number ] )\n",
      "ylabel( 'Voltage (V)', fontsize = 20 )\n",
      "xlabel( 'Time (s)', fontsize = 20 )\n",
      "number += 1"
     ],
     "language": "python",
     "metadata": {},
     "outputs": [
      {
       "output_type": "stream",
       "stream": "stdout",
       "text": [
        "99800\n",
        "485\n",
        "4\n"
       ]
      },
      {
       "metadata": {},
       "output_type": "display_data",
       "png": "[encoded data removed]",
       "text": [
        "<matplotlib.figure.Figure at 0x6b9352f0>"
       ]
      }
     ],
     "prompt_number": 11
    },
    {
     "cell_type": "code",
     "collapsed": false,
     "input": [
      "arbitrary_threshold = 0.007\n",
      "u = 0\n",
      "v = 0\n",
      "r = 0\n",
      "q = 0 #counting variables\n",
      "S = 0 #standard deviation, should be the same for the noise and the signal\n",
      "M_a = 0 #mean when there is no blip\n",
      "M_b = 0 #mean value of the signal blip\n",
      "#calculate for each trace\n",
      "for x in traces_filt: #self._signals\n",
      "    r = r + 1\n",
      "    s = 0\n",
      "    m_a = 0\n",
      "    m_b = 0\n",
      "    #figure()\n",
      "    #plot( times[x], signals[x])\n",
      "    \n",
      "    #split traces into the blip and no blip sections\n",
      "    j = sort( x ) #order is not important, can take into account several blips\n",
      "    #plot( times[x], j )\n",
      "    a = filter( lambda y: y > arbitrary_threshold, x ) #for now the current threshold is simply arbitrary\n",
      "    b = filter( lambda y: y <= arbitrary_threshold, x )\n",
      "    s = np.std( a )\n",
      "    m_a = np.mean( a )\n",
      "    if s != 0 and isnan(s) == False:\n",
      "        u += 1\n",
      "        S = S + s\n",
      "        M_a = M_a + m_a\n",
      "    if len( b ) != 0: #only calculate for a blip when necessary\n",
      "        q = q + 1\n",
      "        s = np.std( b )\n",
      "        m_b = np.mean( b )\n",
      "        if s != 0 and isnan(s) == False:\n",
      "            v += 1\n",
      "            S = S + s\n",
      "        M_b = M_b + m_b\n",
      "print( S / ( u + v ) )\n",
      "print( M_a / u )\n",
      "print( M_b / q )\n",
      "print r\n",
      "#calculate the signal to noise ratio\n",
      "SNR = ( (( M_b / q )-(M_a/u)) / ( S / ( u + v ) ) ) ** 2\n",
      "    \n",
      "print 10 * log10( SNR )"
     ],
     "language": "python",
     "metadata": {},
     "outputs": [
      {
       "output_type": "stream",
       "stream": "stdout",
       "text": [
        "0.00283146783766\n",
        "0.0202483528609\n",
        "-0.00205664369628\n",
        "99800\n",
        "17.9278105531\n"
       ]
      }
     ],
     "prompt_number": 13
    },
    {
     "cell_type": "code",
     "collapsed": false,
     "input": [
      "signals_max = []\n",
      "for x in traces_filt:\n",
      "    signals_max.append( min( x ) )\n",
      "I_n = 0.02446\n",
      "A_n = 0.003694\n",
      "range = I_n + 2 * A_n\n",
      "figure()\n",
      "values, bins = histogram( signals_max , bins=arange( -0.04, 1.03 * range, 0.001 ), normed = True )\n",
      "plot( bins[:-1], values, 'g' )\n",
      "xlabel( 'Peak Voltage (V)', fontsize = 20 )\n",
      "ylabel( 'Probabiliy Density (V$^{-1}$)', fontsize = 20 )\n",
      "show()"
     ],
     "language": "python",
     "metadata": {},
     "outputs": [
      {
       "metadata": {},
       "output_type": "display_data",
       "png": "[encoded data removed]",
       "text": [
        "<matplotlib.figure.Figure at 0x6bb49ff0>"
       ]
      }
     ],
     "prompt_number": 14
    },
    {
     "cell_type": "code",
     "collapsed": false,
     "input": [
      "V = 0.007\n",
      "up = 0\n",
      "down = 0\n",
      "for x in traces_filt:\n",
      "    if min( x ) <= V:\n",
      "        up += 1 \n",
      "    if min( x ) >= V:\n",
      "        down += 1\n",
      "total = float( up + down )\n",
      "fraction = ( float( up ) / total )\n",
      "print total\n",
      "print up\n",
      "print fraction"
     ],
     "language": "python",
     "metadata": {},
     "outputs": [
      {
       "output_type": "stream",
       "stream": "stdout",
       "text": [
        "99800.0\n",
        "39163\n",
        "0.392414829659\n"
       ]
      }
     ],
     "prompt_number": 15
    },
    {
     "cell_type": "code",
     "collapsed": false,
     "input": [
      "lowcut = 1000.0\n",
      "fs = 10000\n",
      "T = 0.0184\n",
      "nsamples = T * fs\n",
      "N_0 = 0.3924\n",
      "N_1 = 1 - N_0\n",
      "deltat = T #s, taken from spin to charge optimisation\n",
      "t_down_in = 0.0053\n",
      "t_up_out = 0.00117 #Taken from experimental data.\n",
      "deltaI = 0.02231\n",
      "points = nsamples\n",
      "time1 = linspace( 0, deltat, points )\n",
      "f_c = lowcut #Hz, cut off frequency, also used as the bandwidth\n",
      "bars = 200\n",
      "no_traces = 1500\n",
      "deltaT = 0.0184"
     ],
     "language": "python",
     "metadata": {},
     "outputs": [],
     "prompt_number": 16
    },
    {
     "cell_type": "code",
     "collapsed": false,
     "input": [
      "@jit\n",
      "def filt( TIME, SIGNAL, F ):\n",
      "    W = fftfreq(size( SIGNAL ), d=TIME[1]-TIME[0])\n",
      "    f_signal = rfft(SIGNAL)\n",
      "    \n",
      "    # If our original signal time was in seconds, this is now in Hz    \n",
      "    cut_f_signal1 = f_signal.copy()\n",
      "    cut_f_signal1[(W<F)] = 0\n",
      "\n",
      "    cut_signal1 = irfft(cut_f_signal1)\n",
      "    \n",
      "    return SIGNAL - cut_signal1\n",
      "\n",
      "@jit\n",
      "def sqr_pulse( c, time_arr, t1, t2, I ):\n",
      "    start = int( ( t1 / deltat ) * len(time_arr) )\n",
      "    finish = int( ( ( t1 + t2 ) / deltat ) * len(time_arr) )\n",
      "    if c == 0:\n",
      "        wave = time_arr[ : ] * 0\n",
      "        wave[ start: finish ] =  ( time_arr[ start: finish ] * 0 ) - I\n",
      "        return wave\n",
      "    elif c == 1:\n",
      "        wave = time_arr[ : ] * 0\n",
      "        return wave\n",
      "\n",
      "@jit    \n",
      "def gen_wav3( N, noise, fraction, offset, height ):\n",
      "    N_down = []\n",
      "    N_up = [] #up goes to charge 0\n",
      "    for i in xrange( 0, N):\n",
      "        if randint(0,99) < ( fraction * 100 ):\n",
      "            charge = 0\n",
      "        else:\n",
      "            charge = 1\n",
      "            #need to randomly generate different tunneling times for each simulated pulse.\n",
      "        t_in = t_down_in \n",
      "        t_out = t_up_out\n",
      "        r_in = randint( 1,1001 )\n",
      "        r_out = randint( 1,1001 )\n",
      "        t_in = - log( r_in * 0.001 ) * t_in\n",
      "        t_out = - log( r_out * 0.001 ) * t_out\n",
      "        if charge == 0:\n",
      "            N_up.append( min( filt(time1,sqr_pulse( charge, time1, t_out, t_in, height ) + noise * random.normal( 0, 1, points ) - offset, f_c ) ) )\n",
      "        else:\n",
      "            N_down.append( min( filt(time1,sqr_pulse( charge, time1, t_out, t_in, height ) + noise * random.normal( 0, 1, points ) - offset, f_c ) ) )\n",
      "\n",
      "    range = deltaI + 5 * noise\n",
      "    \n",
      "    values_u, bins_u = histogram( N_up, bins=arange( -0.04, 0.1, 0.001 ), normed = True )\n",
      "    values_d, bins_d = histogram( N_down, bins=arange( -0.04, 0.1, 0.001 ), normed = True )\n",
      "    v, b = histogram( N_up + N_down, bins=arange( -0.04, 0.1, 0.001 ), normed = True )\n",
      "\n",
      "    return values_d, bins_d, values_u, bins_u, v, b"
     ],
     "language": "python",
     "metadata": {},
     "outputs": [],
     "prompt_number": 17
    },
    {
     "cell_type": "code",
     "collapsed": false,
     "input": [
      "a, b, c, d, e, f = gen_wav3( 5000, 0.00325, 0.345, -0.0192, 0.02231 )\n",
      "figure()\n",
      "#plot( b[:-1], a, 'b', d[:-1], c, 'r' )\n",
      "plot( bins[:-1], values, 'go', f[:-1], e, 'k--' )\n",
      "legend( ['Data','Simulation'], loc = 2)\n",
      "xlabel( 'Peak Voltage (V)', fontsize = 20 )\n",
      "ylabel( 'Probability Density (V$^{-1}$)', fontsize = 20 )\n",
      "xlim([-0.02,0.03])\n",
      "show()"
     ],
     "language": "python",
     "metadata": {},
     "outputs": [
      {
       "metadata": {},
       "output_type": "display_data",
       "png": "[encoded data removed]",
       "text": [
        "<matplotlib.figure.Figure at 0x6c81bf70>"
       ]
      }
     ],
     "prompt_number": 42
    },
    {
     "cell_type": "code",
     "collapsed": false,
     "input": [
      "wave = filt(time1,sqr_pulse( 0, time1, t_up_out, t_down_in, 0.022 ) + 0.002993 * random.normal( 0, 1, points ) + 0.0182, f_c )\n",
      "plot( wave )"
     ],
     "language": "python",
     "metadata": {},
     "outputs": [
      {
       "metadata": {},
       "output_type": "pyout",
       "prompt_number": 55,
       "text": [
        "[<matplotlib.lines.Line2D at 0x6bcc0330>]"
       ]
      },
      {
       "metadata": {},
       "output_type": "display_data",
       "png": "[encoded data removed]",
       "text": [
        "<matplotlib.figure.Figure at 0x6b27e910>"
       ]
      }
     ],
     "prompt_number": 55
    },
    {
     "cell_type": "code",
     "collapsed": false,
     "input": [
      "plot( traces_filt[ number ] )\n",
      "number+=1"
     ],
     "language": "python",
     "metadata": {},
     "outputs": [
      {
       "metadata": {},
       "output_type": "display_data",
       "png": "[encoded data removed]",
       "text": [
        "<matplotlib.figure.Figure at 0x6b2f74d0>"
       ]
      }
     ],
     "prompt_number": 59
    },
    {
     "cell_type": "code",
     "collapsed": false,
     "input": [
      "#constants used\n",
      "g_e = 2\n",
      "mu_B = 5.7884 * 10 ** - 5 \n",
      "k_B = 8.6173 * 10 ** - 5 \n",
      "bars = 200\n",
      "no_traces = 5000\n",
      "#set variables\n",
      "t_up_out = 0.00117\n",
      "t_down_in = 0.0053\n",
      "B = 2.5\n",
      "N_up_0 = 0.345\n",
      "f_c = 1000.0\n",
      "fs = 10000\n",
      "deltaT = 0.0184\n",
      "deltaI = 0.02231 #V\n",
      "#calculate other parameters\n",
      "N_down_0 = 1 - N_up_0\n",
      "t_down_out = 8309\n",
      "T1 = 12\n",
      "points = deltaT * fs\n",
      "A_n = 0.00325\n",
      "T2 = T1 * t_down_out - T1 * t_up_out + t_down_out * t_up_out"
     ],
     "language": "python",
     "metadata": {},
     "outputs": [],
     "prompt_number": 43
    },
    {
     "cell_type": "code",
     "collapsed": false,
     "input": [
      "from scipy.signal import bessel, lfilter\n",
      "\n",
      "@jit\n",
      "def sqr_pulse( c, time_arr, t1, t2, I, deltat ):\n",
      "    start = int( ( t1 / deltat ) * len(time_arr) )\n",
      "    finish = int( ( ( t1 + t2 ) / deltat ) * len(time_arr) )\n",
      "    if c == 0:\n",
      "        wave = time_arr[ : ] * 0\n",
      "        wave[ start: finish ] =  ( time_arr[ start: finish ] * 0 ) - I \n",
      "        return wave\n",
      "    elif c == 1:\n",
      "        wave = time_arr[ : ] * 0\n",
      "        return wave\n",
      "@jit    \n",
      "def gen_wav3( N, TIME ):\n",
      "    N_down = []\n",
      "    N_up = [] #up goes to charge 0\n",
      "    points = TIME * fs\n",
      "    time1 = linspace( 0, TIME , points )\n",
      "\n",
      "    for i in xrange( 0, N):\n",
      "        if randint(0,99) < ( N_up_0 * 100 ):\n",
      "            charge = 0\n",
      "        else:\n",
      "            charge = 1\n",
      "            #need to randomly generate different tunneling times for each simulated pulse.\n",
      "        t_in = t_down_in \n",
      "        t_out = t_up_out\n",
      "        r_in = randint( 1,1001 )\n",
      "        r_out = randint( 1,1001 )\n",
      "        t_in = - log( r_in * 0.001 ) * t_in\n",
      "        t_out = - log( r_out * 0.001 ) * t_out\n",
      "        if charge == 0:\n",
      "            N_up.append( min( filt( time1, sqr_pulse( 0, time1, t_out, t_in, deltaI, TIME ) + A_n * random.normal( 0, 1, points ) + 0.0192, f_c) ) )\n",
      "        else:\n",
      "            N_down.append( min( filt( time1, sqr_pulse( 1, time1, t_out, t_in, deltaI, TIME ) + A_n * random.normal( 0, 1, points ) + 0.0192, f_c) ) )\n",
      "    range = deltaI + 5 * A_n\n",
      "    \n",
      "    values_u, bins_u = histogram( N_up, bins=arange( -0.04, 0.02, 0.0001 ), normed = True )\n",
      "    values_d, bins_d = histogram( N_down, bins=arange( -0.04,0.02, 0.0001 ), normed = True )\n",
      "    return values_d, bins_d, values_u, bins_u"
     ],
     "language": "python",
     "metadata": {},
     "outputs": [],
     "prompt_number": 44
    },
    {
     "cell_type": "code",
     "collapsed": false,
     "input": [
      "def get_thresh_opt():\n",
      "    values_d, bins_d, values_u, bins_u = gen_wav3( no_traces, deltaT )\n",
      "    plot( bins_u[:-1], values_u )\n",
      "    plot( bins_d[:-1],values_d )\n",
      "    xlabel( 'Peak Voltage (V)', fontsize = 20 )\n",
      "    ylabel( 'Probability Density (V$^{-1}$)', fontsize = 20 )\n",
      "    \n",
      "    I_t = linspace( -0.04, 0.02, 10000 )\n",
      "    V = []\n",
      "    F0 = []\n",
      "    F1 = []\n",
      "\n",
      "    for x in I_t:\n",
      "        idx_d = min(linspace(0,len(bins_d)-1,len(bins_d)), key=lambda i: abs(bins_d[i]-x))\n",
      "        idx_u = min(linspace(0,len(bins_u)-1,len(bins_d)), key=lambda i: abs(bins_u[i]-x))\n",
      "        F_0 = sum( numpy.diff( bins_u[ :idx_u + 1 ] ) * abs( values_u[ :idx_u ] ) )\n",
      "        F_1 = sum( numpy.diff( bins_d[ idx_d: ] ) * abs( values_d[ idx_d: ] ) )\n",
      "        V.append( (F_0 + F_1) - 1 )\n",
      "        F0.append( F_0 )\n",
      "        F1.append( F_1 )\n",
      "    figure()\n",
      "    plot( I_t, F0, 'r', I_t, F1, 'b', I_t, V, 'g' )\n",
      "    xlabel( 'Voltage Threshold (V)', fontsize = 20 )\n",
      "    ylabel( 'Fraction', fontsize = 20 )\n",
      "    legend( ['$F^{\\uparrow}$', '$F^{\\downarrow}$', '$V_{ER}$'], loc = 2 )\n",
      "    show()\n",
      "    V_max = max( V )\n",
      "    idx = V.index( V_max )\n",
      "    return I_t[idx], F0[ idx ], F1[ idx ], V[ idx ]"
     ],
     "language": "python",
     "metadata": {},
     "outputs": [],
     "prompt_number": 45
    },
    {
     "cell_type": "code",
     "collapsed": false,
     "input": [
      "threshold, fid0, fid1, vis = get_thresh_opt()\n",
      "print threshold\n",
      "print fid0\n",
      "print fid1\n",
      "print vis"
     ],
     "language": "python",
     "metadata": {},
     "outputs": [
      {
       "metadata": {},
       "output_type": "display_data",
       "png": "[encoded data removed]",
       "text": [
        "<matplotlib.figure.Figure at 0x6cae6970>"
       ]
      },
      {
       "metadata": {},
       "output_type": "display_data",
       "png": "[encoded data removed]",
       "text": [
        "<matplotlib.figure.Figure at 0x6caf8fd0>"
       ]
      },
      {
       "output_type": "stream",
       "stream": "stdout",
       "text": [
        "0.00925292529253\n",
        "0.980044345898\n",
        "0.99280350438\n",
        "0.972847850278\n"
       ]
      }
     ],
     "prompt_number": 50
    },
    {
     "cell_type": "code",
     "collapsed": false,
     "input": [
      "from __future__ import division\n",
      "from scipy import signal\n",
      "from scipy.signal import bessel, lfilter\n",
      "from numba import jit\n",
      "from numpy import ndarray"
     ],
     "language": "python",
     "metadata": {},
     "outputs": [],
     "prompt_number": 51
    },
    {
     "cell_type": "code",
     "collapsed": false,
     "input": [
      "@jit\n",
      "def DOG(a, length):\n",
      "    t = np.linspace(-length/2, (length)/2, length)\n",
      "    y = - a ** 2 * t * exp( - t ** 2 / ( 2 * a ** 2 ) ) #/ ( sqrt( 2 * pi ) * a ** 3 )\n",
      "    return y\n",
      "@jit\n",
      "def smooth(y, box_pts):\n",
      "    box = np.ones(box_pts)/box_pts\n",
      "    y_smooth = np.convolve(y, box, mode='same')\n",
      "    return y_smooth\n",
      "@jit\n",
      "def sqr_pulse( c, time_arr, t1, t2, I ):\n",
      "    start = int( ( t1 / deltat ) * len(time_arr) )\n",
      "    finish = int( ( ( t1 + t2 ) / deltat ) * len(time_arr) )\n",
      "    if c == 0:\n",
      "        wave = time_arr[ : ] * 0\n",
      "        wave[ start: finish ] =  ( time_arr[ start: finish ] * 0 ) - I \n",
      "        return wave\n",
      "    elif c == 1:\n",
      "        wave = time_arr[ : ] * 0\n",
      "        return wave\n",
      "@jit\n",
      "def edge_max( z, SCALE ):\n",
      "    widths = np.arange(1, SCALE + 2)\n",
      "    cwtmatr = signal.cwt(z, DOG, widths)\n",
      "    peaks = []\n",
      "    cwt = []\n",
      "    for i in cwtmatr:\n",
      "        new = i[260:444]\n",
      "        cwt.append( new )\n",
      "    for i in cwt:    \n",
      "        max_min = []\n",
      "        if array_equal(cwt[-1],i) == True:\n",
      "            b = i\n",
      "            d = abs( b )\n",
      "            for x in xrange( 1, len( b ) - 1 ):\n",
      "                if b[x-1]>b[x] and b[x+1]>b[x]:\n",
      "                    if b[x]<-median(d):\n",
      "                        max_min.append( x )\n",
      "                if b[x-1]<b[x] and b[x+1]<b[x]:\n",
      "                    if b[x]>median(d):\n",
      "                        max_min.append( x )\n",
      "            peaks.append( max_min )\n",
      "        else:   \n",
      "            b = i\n",
      "            for x in xrange( 1, len( b ) - 1 ):\n",
      "                if b[x-1]>b[x] and b[x+1]>b[x]:\n",
      "                    max_min.append( x )\n",
      "                if b[x-1]<b[x] and b[x+1]<b[x]:\n",
      "                    max_min.append( x )\n",
      "            peaks.append( max_min )\n",
      "    tracks = []\n",
      "    \n",
      "    for i in peaks[-1]:\n",
      "        track = []\n",
      "        x = i\n",
      "        track.append( x )\n",
      "        for s in xrange( 1, SCALE + 1 ):\n",
      "            a = peaks[ - s - 1 ]\n",
      "            if x < a[-1]:\n",
      "                X = np.searchsorted(a, x, side=\"left\")\n",
      "                if math.fabs(x - a[X-1]) < math.fabs(x - a[X]):\n",
      "                    idx = X-1\n",
      "                else:\n",
      "                    idx = X\n",
      "            else:\n",
      "                idx = len(a) - 1\n",
      "            x = peaks[ - s - 1 ][ idx ]\n",
      "            track.append( x )\n",
      "        tracks.append( track )\n",
      "    norm = []\n",
      "    y = []\n",
      "    for l in xrange( 0, SCALE + 1 ):\n",
      "        for k in cwt[ l ]:\n",
      "            a = k ** 2\n",
      "            y.append( a )\n",
      "        med = median( y )\n",
      "        norm.append( med )\n",
      "    weights = []\n",
      "    for i in xrange( 0, len( peaks[-1] ) ):\n",
      "        weight = []\n",
      "        scale = SCALE\n",
      "        for j in tracks[ i ]:\n",
      "            a = cwt[ scale ][ j ] ** 2\n",
      "            b = norm[ scale ]\n",
      "            weight.append( a / b )\n",
      "            scale -= 1\n",
      "        c = sum( weight )    \n",
      "        weights.append( c )\n",
      "    return max( weights ) \n",
      "\n",
      "@jit\n",
      "def gen_wav4( n ):\n",
      "    N_up = []\n",
      "    N_down = []\n",
      "    for i in xrange( 0, n):\n",
      "        if randint(0,99) < ( N_up_0 * 100 ):\n",
      "            charge = 0\n",
      "        else:\n",
      "            charge = 1\n",
      "        t_in = t_down_in \n",
      "        t_out = t_up_out\n",
      "        r_in = randint( 1,1001 )\n",
      "        r_out = randint( 1,1001 )\n",
      "        t_in = - log( r_in * 0.001 ) * t_in\n",
      "        t_out = - log( r_out * 0.001 ) * t_out\n",
      "        sig = filt(time1, sqr_pulse( charge, time1, t_out, t_in, deltaI ) + A_n * random.normal( 0, 1, points ) + 0.0192, lowcut)\n",
      "        sig = list( sig )\n",
      "        x = sig[0:5]\n",
      "        x = x*52\n",
      "        y = sig[-6:-1]\n",
      "        y = y*52\n",
      "        sig_pad = x + sig + y\n",
      "        a = edge_max( sig_pad, 99 )\n",
      "        if charge == 0:\n",
      "            N_up.append( a )\n",
      "        else:\n",
      "            N_down.append( a )\n",
      "\n",
      "    return N_up, N_down"
     ],
     "language": "python",
     "metadata": {},
     "outputs": [],
     "prompt_number": 53
    },
    {
     "cell_type": "code",
     "collapsed": false,
     "input": [
      "U, D = gen_wav4( 10000 )"
     ],
     "language": "python",
     "metadata": {},
     "outputs": [],
     "prompt_number": 54
    },
    {
     "cell_type": "code",
     "collapsed": false,
     "input": [
      "values_U, bins_U = histogram( U, bins=logspace( 4, 9 , 1000 ), normed = True )\n",
      "values_D, bins_D = histogram( D, bins=logspace( 4, 9 , 1000 ), normed = True )\n",
      "values, bins = histogram( U + D, bins=logspace( 4, 9 , 1000 ), normed = True )\n",
      "plot( bins_U[:-1], values_U, 'b' )\n",
      "plot( bins_D[:-1], values_D, 'r' )\n",
      "xscale( 'log' )\n",
      "xlabel('Weight',fontsize = 20)\n",
      "ylabel('Probability Density',fontsize = 20)\n",
      "\n",
      "figure()\n",
      "plot( bins[:-1], values, 'k' )\n",
      "xscale( 'log' )\n",
      "xlabel('Weight',fontsize = 20)\n",
      "ylabel('Probability Density',fontsize = 20)\n",
      "# yscale( 'log' )\n",
      "show()"
     ],
     "language": "python",
     "metadata": {},
     "outputs": [
      {
       "metadata": {},
       "output_type": "display_data",
       "png": "[encoded data removed]",
       "text": [
        "<matplotlib.figure.Figure at 0x6ca04950>"
       ]
      },
      {
       "metadata": {},
       "output_type": "display_data",
       "png": "[encoded data removed]",
       "text": [
        "<matplotlib.figure.Figure at 0x6cb1e6b0>"
       ]
      }
     ],
     "prompt_number": 55
    },
    {
     "cell_type": "code",
     "collapsed": false,
     "input": [
      "w_t = logspace( 5, 7, 10000 )\n",
      "V = []\n",
      "F0 = []\n",
      "F1 = []\n",
      "for x in w_t:\n",
      "    idx_d = min(xrange(len(bins_D)), key=lambda i: abs(bins_D[i]-x))\n",
      "    idx_u = min(xrange(len(bins_U)), key=lambda i: abs(bins_U[i]-x))\n",
      "    F_0 = 1 - sum( numpy.diff( bins_U[ :idx_u + 1 ] ) * values_U[ :idx_u ] )\n",
      "    F_1 = 1 - sum( numpy.diff( bins_D[ idx_d: ] ) * values_D[ idx_d: ] )\n",
      "    V.append( (F_0 + F_1) - 1 )\n",
      "    F0.append( F_0 )\n",
      "    F1.append( F_1 )\n",
      "figure()\n",
      "xscale( 'log' )\n",
      "plot( w_t, V, w_t, F0, w_t, F1 )\n",
      "xlabel( 'Weight Threshold',fontsize = 20 )\n",
      "ylabel( 'Fraction',fontsize = 20 )\n",
      "V_max = max( V )\n",
      "print V_max * 100\n",
      "idx = V.index( V_max )\n",
      "print w_t[idx]\n",
      "print F0[idx]\n",
      "print F1[idx]"
     ],
     "language": "python",
     "metadata": {},
     "outputs": [
      {
       "output_type": "stream",
       "stream": "stdout",
       "text": [
        "99.1752100087\n",
        "740435.015755\n",
        "0.994805275534\n",
        "0.996946824552\n"
       ]
      },
      {
       "metadata": {},
       "output_type": "display_data",
       "png": "[encoded data removed]",
       "text": [
        "<matplotlib.figure.Figure at 0x6c480350>"
       ]
      }
     ],
     "prompt_number": 56
    },
    {
     "cell_type": "code",
     "collapsed": false,
     "input": [],
     "language": "python",
     "metadata": {},
     "outputs": []
    }
   ],
   "metadata": {}
  }
 ]
}