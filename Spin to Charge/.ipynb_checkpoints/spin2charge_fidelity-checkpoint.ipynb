{
 "metadata": {
  "name": "",
  "signature": "sha256:0f3d45bc420f41395912432a7d5b87f74d22f1a5306f7e1fa550a6a057a0c00d"
 },
 "nbformat": 3,
 "nbformat_minor": 0,
 "worksheets": [
  {
   "cells": [
    {
     "cell_type": "code",
     "collapsed": false,
     "input": [
      "%pylab inline\n",
      "\n",
      "t_up_out = 3.9 * 10 ** - 3 #float(raw_input(\"What is t_up_out?\"))\n",
      "t_down_in = 6.9 * 10 ** - 3 #float(raw_input(\"What is t_down_in?\"))\n",
      "B = 1.5 #float(raw_input(\"What is the magnetic field?\"))\n",
      "k = 0.102 #float(raw_input(\"what is the constant of propportionality\"))\n",
      "T1 = 1 / (k * (B ** 5))\n",
      "\n",
      "print \"t_up_out is %.4f\\nt_down_in is %.4f\\nB is %.1f\\nk is %.4f\\nT1 is %.2f\" % (t_up_out, t_down_in, B, k, T1)\n",
      "\n",
      "g_e = 2\n",
      "mu_B = 5.7884 * 10 ** - 5 #eV/T\n",
      "k_B = 8.6173 * 10 ** - 5 #eV/K\n",
      "T_e = 0.100 #K\n",
      "f_down = 1 / (1 + exp( - 0.5 * g_e * mu_B * B /(k_B * T_e))) #Number in the exponential must be negative in this situation.\n",
      "t_down_out = t_down_in * f_down / (1 - f_down) #f_down is close to 1\n",
      "\n",
      "print \"t_down_out is %.3f\" % t_down_out\n",
      "\n",
      "T2 = T1 * t_down_out - T1 * t_up_out + t_down_out * t_up_out\n",
      "\n",
      "print \"T2 is %.3f\" % T2\n",
      "\n",
      "dt = linspace( 1 * 10 ** - 3, 10 , 100000) #Increase number of points for smoother graph. This also sets the range for the plot.\n",
      "alpha1 = (1 / T2)\n",
      "alpha2 = T2\n",
      "alpha3 = (t_up_out * t_down_out) / (exp((dt) / t_down_out))\n",
      "alpha4 = (T1 * t_down_out) / (exp((dt)/T1) * exp((dt) / t_up_out))\n",
      "alpha5 = (T1 * t_up_out) / (exp((dt) / T1) * exp((dt) / t_up_out))\n",
      "alpha = alpha1 * (alpha2 - alpha3 - alpha4 + alpha5)\n",
      "beta1 = exp( - dt / t_down_out) #beta was a poor choice of name.\n",
      "\n",
      "figure()\n",
      "semilogx(dt,alpha,dt,beta1)\n",
      "title('Time dependence of spin-to-charge conversion fidelities')\n",
      "xlabel('$\\Delta$t (s)')\n",
      "ylabel('fraction')\n"
     ],
     "language": "python",
     "metadata": {},
     "outputs": [
      {
       "output_type": "stream",
       "stream": "stdout",
       "text": [
        "Populating the interactive namespace from numpy and matplotlib\n",
        "t_up_out is 0.0039\n",
        "t_down_in is 0.0069\n",
        "B is 1.5\n",
        "k is 0.1020\n",
        "T1 is 1.29\n",
        "t_down_out is 163.947\n",
        "T2 is 212.299\n"
       ]
      },
      {
       "metadata": {},
       "output_type": "pyout",
       "prompt_number": 3,
       "text": [
        "<matplotlib.text.Text at 0x915c2f0>"
       ]
      },
      {
       "metadata": {},
       "output_type": "display_data",
       "png": "[encoded data removed]",
       "text": [
        "<matplotlib.figure.Figure at 0x5fe3930>"
       ]
      }
     ],
     "prompt_number": 3
    },
    {
     "cell_type": "markdown",
     "metadata": {},
     "source": []
    },
    {
     "cell_type": "code",
     "collapsed": false,
     "input": [
      "#Successfully replicated the plots of alpha and beta from Holger's thesis. \n",
      "#It would now be great to add in the plot of N_0 and the visibility.\n",
      "#Number of points of the graph was increased to produce a smoother graph.\n",
      "#Will tidy up the things to print out.\n",
      "\n",
      "%pylab inline\n",
      "\n",
      "t_up_out = 3.9 * 10 ** - 3 #float(raw_input(\"What is t_up_out?\"))\n",
      "t_down_in = 6.9 * 10 ** - 3 #float(raw_input(\"What is t_down_in?\"))\n",
      "B = 1.5 #float(raw_input(\"What is the magnetic field?\"))\n",
      "k = 0.102 #float(raw_input(\"what is the constant of propportionality\"))\n",
      "T1 = 1 / (k * (B ** 5))\n",
      "\n",
      "#print \"t_up_out is %.4f s\\nt_down_in is %.4f s\\nB is %.1f T\\nk is %.4f T^(-1)B^(-5)\\nT1 is %.2f s\\nt_down_out is %.3f s\\nT2 is %.3f s\" % (t_up_out, t_down_in, B, k, T1,t_down_out, T2)\n",
      "\n",
      "g_e = 2\n",
      "mu_B = 5.7884 * 10 ** - 5 #eV/T\n",
      "k_B = 8.6173 * 10 ** - 5 #eV/K\n",
      "T_e = 0.100 #K\n",
      "f_down = 1 / (1 + exp( - 0.5 * g_e * mu_B * B /(k_B * T_e))) #Number in the exponential must be negative in this situation.\n",
      "t_down_out = t_down_in * f_down / (1 - f_down) #f_down is close to 1\n",
      "\n",
      "N_up_0 = 0.37\n",
      "N_down_0 = 0.63\n",
      "\n",
      "T2 = T1 * t_down_out - T1 * t_up_out + t_down_out * t_up_out\n",
      "\n",
      "dt = linspace( 1 * 10 ** - 3, 10 , 100000) #Increase number of points for smoother graph. This also sets the range for the plot.\n",
      "alpha1 = (1 / T2)\n",
      "alpha2 = T2\n",
      "alpha3 = (t_up_out * t_down_out) / (exp((dt) / t_down_out))\n",
      "alpha4 = (T1 * t_down_out) / (exp((dt)/T1) * exp((dt) / t_up_out))\n",
      "alpha5 = (T1 * t_up_out) / (exp((dt) / T1) * exp((dt) / t_up_out))\n",
      "alpha = alpha1 * (alpha2 - alpha3 - alpha4 + alpha5)\n",
      "beta1 = exp( - dt / t_down_out) #beta was a poor choice of name.\n",
      "\n",
      "N_0 = alpha * N_up_0 + ( 1 - beta1 ) * N_down_0\n",
      "\n",
      "V = alpha + beta1 - 1\n",
      "\n",
      "figure()\n",
      "semilogx(dt,alpha,dt,beta1,dt,N_0,dt,V)\n",
      "title('Time dependence of spin-to-charge conversion fidelities')\n",
      "xlabel('$\\Delta$t (s)')\n",
      "ylabel('fraction')\n",
      "#Couldn't get the legend to work.\n",
      "#alpha-blue, beta-green, N_0-red, V-light blue"
     ],
     "language": "python",
     "metadata": {},
     "outputs": [
      {
       "output_type": "stream",
       "stream": "stdout",
       "text": [
        "Populating the interactive namespace from numpy and matplotlib\n"
       ]
      },
      {
       "metadata": {},
       "output_type": "pyout",
       "prompt_number": 6,
       "text": [
        "<matplotlib.text.Text at 0x9785a30>"
       ]
      },
      {
       "metadata": {},
       "output_type": "display_data",
       "png": "[encoded data removed]",
       "text": [
        "<matplotlib.figure.Figure at 0x915c6d0>"
       ]
      }
     ],
     "prompt_number": 6
    },
    {
     "cell_type": "code",
     "collapsed": false,
     "input": [
      "#Plot V as a function of B and optimise \\delta t for each value of B.\n",
      "#Legend didn't work so will leave that for now.\n",
      "import time\n",
      "\n",
      "start_time = time.clock()\n",
      "%pylab inline\n",
      "\n",
      "t_up_out = 0.0065\n",
      "t_down_in = 0.0051\n",
      "B = 1.6\n",
      "k = 0.102 \n",
      "T1 = 1 / (k * (B ** 5))\n",
      "\n",
      "g_e = 2\n",
      "mu_B = 5.7884 * 10 ** - 5 \n",
      "k_B = 8.6173 * 10 ** - 5 \n",
      "T_e = 0.100 \n",
      "f_down = 1 / (1 + exp( - 0.5 * g_e * mu_B * B /(k_B * T_e)))\n",
      "t_down_out = t_down_in * f_down / (1 - f_down) \n",
      "\n",
      "N_up_0 = 0.37\n",
      "N_down_0 = 0.63\n",
      "\n",
      "T2 = T1 * t_down_out - T1 * t_up_out + t_down_out * t_up_out\n",
      "print T2\n",
      "print t_down_out\n",
      "dt = linspace( 1 * 10 ** - 3, 20 , 100000) \n",
      "alpha1 = (1 / T2)\n",
      "alpha2 = T2\n",
      "alpha3 = (t_up_out * t_down_out) / (exp((dt) / t_down_out))\n",
      "alpha4 = (T1 * t_down_out) / (exp((dt)/T1) * exp((dt) / t_up_out))\n",
      "alpha5 = (T1 * t_up_out) / (exp((dt) / T1) * exp((dt) / t_up_out))\n",
      "alpha = alpha1 * (alpha2 - alpha3 - alpha4 + alpha5)\n",
      "beta1 = exp( - dt / t_down_out) \n",
      "\n",
      "N_0 = alpha * N_up_0 + ( 1 - beta1 ) * N_down_0\n",
      "\n",
      "V_stc = alpha + beta1 - 1 #Rename to be more accurate.\n",
      "\n",
      "print time.clock() - start_time\n",
      "\n",
      "figure()\n",
      "semilogx(dt,alpha,dt,beta1,dt,N_0,dt,V_stc)\n",
      "title('Time dependence of spin-to-charge conversion fidelities')\n",
      "xlabel('$\\Delta$t (s)')\n",
      "ylabel('Fraction')\n",
      "legend(['$F_{\\uparrow}$','$F_{\\downarrow}$','$N_0$','$V_{STC}$'], fontsize=18)\n",
      "max_V_stc = max( V_stc ) #Found the maximum visibility but not its time coordinate.\n",
      "\n",
      "print \"max_V_stc = %.1f%%\" % ( max_V_stc * 100 )"
     ],
     "language": "python",
     "metadata": {},
     "outputs": [
      {
       "output_type": "stream",
       "stream": "stdout",
       "text": [
        "Populating the interactive namespace from numpy and matplotlib\n",
        "223.329149154\n",
        "237.218480776\n",
        "0.0273419095396\n",
        "max_V_stc = 99.3%"
       ]
      },
      {
       "output_type": "stream",
       "stream": "stdout",
       "text": [
        "\n"
       ]
      },
      {
       "metadata": {},
       "output_type": "display_data",
       "png": "[encoded data removed]",
       "text": [
        "<matplotlib.figure.Figure at 0x9a60b50>"
       ]
      }
     ],
     "prompt_number": 15
    },
    {
     "cell_type": "code",
     "collapsed": false,
     "input": [
      "#V_stc = V_stc.tolist()\n",
      "V_max = max( V_stc )\n",
      "print V_max\n",
      "idx = V_stc.index( V_max )\n",
      "print idx\n",
      "TIME = dt[ idx ]\n",
      "print TIME\n",
      "#better way to extract the optimised wait time"
     ],
     "language": "python",
     "metadata": {},
     "outputs": [
      {
       "output_type": "stream",
       "stream": "stdout",
       "text": [
        "0.992784696063\n"
       ]
      },
      {
       "ename": "AttributeError",
       "evalue": "'numpy.ndarray' object has no attribute 'index'",
       "output_type": "pyerr",
       "traceback": [
        "\u001b[1;31m---------------------------------------------------------------------------\u001b[0m\n\u001b[1;31mAttributeError\u001b[0m                            Traceback (most recent call last)",
        "\u001b[1;32m<ipython-input-11-be8e2cc1f7ef>\u001b[0m in \u001b[0;36m<module>\u001b[1;34m()\u001b[0m\n\u001b[0;32m      2\u001b[0m \u001b[0mV_max\u001b[0m \u001b[1;33m=\u001b[0m \u001b[0mmax\u001b[0m\u001b[1;33m(\u001b[0m \u001b[0mV_stc\u001b[0m \u001b[1;33m)\u001b[0m\u001b[1;33m\u001b[0m\u001b[0m\n\u001b[0;32m      3\u001b[0m \u001b[1;32mprint\u001b[0m \u001b[0mV_max\u001b[0m\u001b[1;33m\u001b[0m\u001b[0m\n\u001b[1;32m----> 4\u001b[1;33m \u001b[0midx\u001b[0m \u001b[1;33m=\u001b[0m \u001b[0mV_stc\u001b[0m\u001b[1;33m.\u001b[0m\u001b[0mindex\u001b[0m\u001b[1;33m(\u001b[0m \u001b[0mV_max\u001b[0m \u001b[1;33m)\u001b[0m\u001b[1;33m\u001b[0m\u001b[0m\n\u001b[0m\u001b[0;32m      5\u001b[0m \u001b[1;32mprint\u001b[0m \u001b[0midx\u001b[0m\u001b[1;33m\u001b[0m\u001b[0m\n\u001b[0;32m      6\u001b[0m \u001b[0mTIME\u001b[0m \u001b[1;33m=\u001b[0m \u001b[0mdt\u001b[0m\u001b[1;33m[\u001b[0m \u001b[0midx\u001b[0m \u001b[1;33m]\u001b[0m\u001b[1;33m\u001b[0m\u001b[0m\n",
        "\u001b[1;31mAttributeError\u001b[0m: 'numpy.ndarray' object has no attribute 'index'"
       ]
      }
     ],
     "prompt_number": 11
    },
    {
     "cell_type": "code",
     "collapsed": false,
     "input": [
      "ymax = V_stc.max(axis=0)\n",
      "\n",
      "print ymax\n",
      "\n",
      "xmax = where( V_stc == ymax )\n",
      "\n",
      "print xmax\n",
      "\n",
      "tmax = dt[ xmax ]\n",
      "\n",
      "print tmax #correctly gives the optimised wait time, but is very clumsy.\n",
      "#Output seems to be array. Try to get this as just a number."
     ],
     "language": "python",
     "metadata": {},
     "outputs": [
      {
       "output_type": "stream",
       "stream": "stdout",
       "text": [
        "0.992784696063\n",
        "(array([669]),)\n",
        "[ 0.06789398]\n"
       ]
      }
     ],
     "prompt_number": 12
    },
    {
     "cell_type": "code",
     "collapsed": false,
     "input": [
      "V_stc_max = max( V_stc )\n",
      "xmax = where( V_stc == V_stc_max )\n",
      "tmax = float( dt[ xmax ] )\n",
      "print \"deltat is %.5fs\" % tmax #this time optimum time as a float."
     ],
     "language": "python",
     "metadata": {},
     "outputs": [
      {
       "output_type": "stream",
       "stream": "stdout",
       "text": [
        "deltat is 0.06789s\n"
       ]
      }
     ],
     "prompt_number": 13
    },
    {
     "cell_type": "code",
     "collapsed": false,
     "input": [
      "#try to get visibilty as a function of magnetic field by expressing magnetic field as an array.\n",
      "#Calculating for each value in a for loop.\n",
      "import time\n",
      "start_time = time.clock()\n",
      "\n",
      "B = linspace( 1 * 10 ** - 3, 8, 100 ) #Just test for a hundred for now.\n",
      "\n",
      "tmax_array = []\n",
      "V_stc_array = []\n",
      "\n",
      "for i in B:\n",
      "    T1 = 1 / (k * (i ** 5))\n",
      "    f_down = 1 / (1 + exp( - 0.5 * g_e * mu_B * i /(k_B * T_e)))\n",
      "    t_down_out = t_down_in * f_down / (1 - f_down) \n",
      "    T2 = T1 * t_down_out - T1 * t_up_out + t_down_out * t_up_out\n",
      "    dt = linspace( 1 * 10 ** - 3, 10 , 100000) #Still had to use 100000 to keep answers consistent.\n",
      "    alpha1 = (1 / T2)\n",
      "    alpha2 = T2\n",
      "    alpha3 = (t_up_out * t_down_out) / (exp((dt) / t_down_out))\n",
      "    alpha4 = (T1 * t_down_out) / (exp((dt)/T1) * exp((dt) / t_up_out))\n",
      "    alpha5 = (T1 * t_up_out) / (exp((dt) / T1) * exp((dt) / t_up_out))\n",
      "    alpha = alpha1 * (alpha2 - alpha3 - alpha4 + alpha5)\n",
      "    beta1 = exp( - dt / t_down_out) \n",
      "    V_stc = alpha + beta1 - 1 \n",
      "    V_stc_max = max( V_stc )\n",
      "    V_stc_array.append( V_stc_max * 100 )\n",
      "    xmax = where( V_stc == V_stc_max )\n",
      "    #tmax = float( dt[ xmax ])\n",
      "    #tmax_array.append( tmax )\n",
      "    \n",
      "figure()\n",
      "plot( B, V_stc_array )\n",
      "xlabel( 'B (T)', fontsize=20 )\n",
      "ylabel( '$V_{stc} (\\%)$', fontsize=20 )\n",
      "\n",
      "#figure()\n",
      "#plot( B, tmax_array )\n",
      "#xlabel( 'B (T)', fontsize=20 )\n",
      "#ylabel( '$\\Delta t (s)$', fontsize=20 ) #Had to put the plots in separate figures, but calculations are working.\n",
      "#Program is starting to slow down.\n",
      "#Only 100 magnetic field values but plots seem sufficiently smooth.\\\n",
      "\n",
      "duration = time.clock() - start_time\n",
      "print duration"
     ],
     "language": "python",
     "metadata": {},
     "outputs": [
      {
       "output_type": "stream",
       "stream": "stderr",
       "text": [
        "-c:14: RuntimeWarning: divide by zero encountered in double_scalars\n",
        "-c:20: RuntimeWarning: invalid value encountered in divide\n",
        "-c:22: RuntimeWarning: invalid value encountered in subtract\n",
        "-c:20: RuntimeWarning: overflow encountered in multiply\n"
       ]
      },
      {
       "output_type": "stream",
       "stream": "stdout",
       "text": [
        "2.88147286479\n"
       ]
      },
      {
       "metadata": {},
       "output_type": "display_data",
       "png": "[encoded data removed]",
       "text": [
        "<matplotlib.figure.Figure at 0x92ee0b0>"
       ]
      }
     ],
     "prompt_number": 34
    },
    {
     "cell_type": "code",
     "collapsed": false,
     "input": [
      "print \"V_stc_max is %.5f%%\" % max( V_stc_array )"
     ],
     "language": "python",
     "metadata": {},
     "outputs": [
      {
       "output_type": "stream",
       "stream": "stdout",
       "text": [
        "V_stc_max is 99.99996%\n"
       ]
      }
     ],
     "prompt_number": 26
    },
    {
     "cell_type": "code",
     "collapsed": false,
     "input": [
      "V_stc_max = max( V_stc_array )\n",
      "xmax = where( V_stc_array == V_stc_max )\n",
      "tmax = float( tmax_array[ xmax[0] ] ) #Unsure whether inputting 0 will cause problems later.\n",
      "print \"deltat is %.3fs\" % tmax \n",
      "print B[xmax]\n",
      "#Optimises the magnetic field and gives the optimised wait time for that particular magnetic field.\n",
      "#All numbers agree with the calculations within the thesis."
     ],
     "language": "python",
     "metadata": {},
     "outputs": [
      {
       "output_type": "stream",
       "stream": "stdout",
       "text": [
        "deltat is 0.002s\n",
        "[ 1.2129697]\n"
       ]
      }
     ],
     "prompt_number": 27
    },
    {
     "cell_type": "code",
     "collapsed": false,
     "input": [],
     "language": "python",
     "metadata": {},
     "outputs": []
    },
    {
     "cell_type": "code",
     "collapsed": false,
     "input": [],
     "language": "python",
     "metadata": {},
     "outputs": []
    }
   ],
   "metadata": {}
  }
 ]
}