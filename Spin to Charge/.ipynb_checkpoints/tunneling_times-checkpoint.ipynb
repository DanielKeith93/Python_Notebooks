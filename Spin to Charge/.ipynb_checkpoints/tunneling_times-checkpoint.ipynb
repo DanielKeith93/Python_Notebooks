{
 "metadata": {
  "name": "",
  "signature": "sha256:664c388e942929e2227626101b5379d4bb1147dfe4047e25a51c610edfa79afd"
 },
 "nbformat": 3,
 "nbformat_minor": 0,
 "worksheets": [
  {
   "cells": [
    {
     "cell_type": "code",
     "collapsed": false,
     "input": [
      "%pylab inline"
     ],
     "language": "python",
     "metadata": {},
     "outputs": [
      {
       "output_type": "stream",
       "stream": "stdout",
       "text": [
        "Populating the interactive namespace from numpy and matplotlib\n"
       ]
      }
     ],
     "prompt_number": 1
    },
    {
     "cell_type": "code",
     "collapsed": false,
     "input": [
      "#define parameters\n",
      "B = 1.5\n",
      "k = 0.102 \n",
      "T1 = 1 / (k * (B ** 5))\n",
      "g_e = 2\n",
      "mu_B = 5.7884 * 10 ** - 5 \n",
      "k_B = 8.6173 * 10 ** - 5 \n",
      "T_e = 0.250 \n",
      "f_down = 1 / (1 + exp( - 0.5 * g_e * mu_B * B /(k_B * T_e)))\n",
      "N_up_0 = 0.37\n",
      "N_down_0 = 1 - N_up_0\n",
      "dt = linspace( 1 * 10 ** - 3, 10 , 100000) "
     ],
     "language": "python",
     "metadata": {},
     "outputs": [],
     "prompt_number": 2
    },
    {
     "cell_type": "code",
     "collapsed": false,
     "input": [
      "#set up tunneling times as arrays\n",
      "t_up_out = linspace(0.0001, 2.5, 100)\n",
      "t_down_in = linspace(0.0001, 1, 100)\n",
      "X,Y = meshgrid(t_up_out, t_down_in)"
     ],
     "language": "python",
     "metadata": {},
     "outputs": [],
     "prompt_number": 3
    },
    {
     "cell_type": "code",
     "collapsed": false,
     "input": [
      "#define visibility as a function of the tunneling times\n",
      "def visibility( a, b ):\n",
      "    t_down_out = b * f_down / (1 - f_down)\n",
      "    T2 = T1 * t_down_out - T1 * a + t_down_out * a\n",
      "            \n",
      "    dt = linspace( 1 * 10 ** - 3, 10 , 1000000) \n",
      "            \n",
      "    alpha1 = (1 / T2)\n",
      "    alpha2 = T2\n",
      "    alpha3 = (a * t_down_out ) / (exp((dt) / t_down_out))\n",
      "    alpha4 = (T1 * t_down_out) / (exp((dt)/T1) * exp((dt) / a))\n",
      "    alpha5 = (T1 * a) / (exp((dt) / T1) * exp((dt) / a))\n",
      "    alpha = alpha1 * (alpha2 - alpha3 - alpha4 + alpha5)\n",
      "    beta1 = exp( - dt / t_down_out) \n",
      "            \n",
      "    V_stc = alpha + beta1 - 1    \n",
      "            \n",
      "    V_stc = V_stc.tolist()\n",
      "            \n",
      "    V_max = max( V_stc )\n",
      "    idx = V_stc.index( V_max )\n",
      "    dt = dt[ idx ]\n",
      "    \n",
      "    return V_max * 100"
     ],
     "language": "python",
     "metadata": {},
     "outputs": [],
     "prompt_number": 4
    },
    {
     "cell_type": "code",
     "collapsed": false,
     "input": [
      "V = visibility( 0.0039, 0.0069 )\n",
      "print V"
     ],
     "language": "python",
     "metadata": {},
     "outputs": [
      {
       "output_type": "stream",
       "stream": "stdout",
       "text": [
        "94.2070634059\n"
       ]
      }
     ],
     "prompt_number": 6
    },
    {
     "cell_type": "code",
     "collapsed": false,
     "input": [
      "#create a 2D colour plot of the visibility as a function of the two tunneling times. \n",
      "import time\n",
      "start_time = time.clock()\n",
      "\n",
      "VV = pylab.zeros(X.shape)\n",
      "for i in range(X.shape[0]):\n",
      "    for j in range(X.shape[0]):\n",
      "        VV[i,j] = visibility(X[i,j], Y[i,j])\n",
      "figure()\n",
      "pcolor( X, Y, VV )\n",
      "ylabel( \"$t_{\\downarrow,in} (s)$\", fontsize=20 )\n",
      "xlabel( \"$t_{\\uparrow,out} (s)$\", fontsize=20 )\n",
      "cbar = plt.colorbar()\n",
      "cbar.ax.set_ylabel( \"Visibility ($\\%$)\", fontsize=20 )\n",
      "show()\n",
      "#figure()\n",
      "#plt.figure()\n",
      "#CS = plt.contour(X, Y, VV)\n",
      "#plt.clabel(CS, inline=1, fontsize=10)\n",
      "#plt.title('Visibility Tunnel Map')\n",
      "#ylabel( \"$t_{\\downarrow,in} (s)$\", fontsize=20 )\n",
      "#xlabel( \"$t_{\\uparrow,out} (s)$\", fontsize=20 )\n",
      "\n",
      "print time.clock() - start_time\n",
      "#0.24 seconds per box"
     ],
     "language": "python",
     "metadata": {},
     "outputs": [
      {
       "output_type": "stream",
       "stream": "stderr",
       "text": [
        "-c:10: RuntimeWarning: overflow encountered in exp\n"
       ]
      },
      {
       "metadata": {},
       "output_type": "display_data",
       "png": "[encoded data removed]",
       "text": [
        "<matplotlib.figure.Figure at 0x64cd650>"
       ]
      },
      {
       "output_type": "stream",
       "stream": "stdout",
       "text": [
        "1990.56035546\n"
       ]
      }
     ],
     "prompt_number": 7
    },
    {
     "cell_type": "code",
     "collapsed": false,
     "input": [],
     "language": "python",
     "metadata": {},
     "outputs": []
    },
    {
     "cell_type": "code",
     "collapsed": false,
     "input": [],
     "language": "python",
     "metadata": {},
     "outputs": []
    }
   ],
   "metadata": {}
  }
 ]
}