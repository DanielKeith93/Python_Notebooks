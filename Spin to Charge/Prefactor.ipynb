{
 "metadata": {
  "name": "",
  "signature": "sha256:01beda9e6526ffc8831d9cb5b9bf13e43f8da55906d8b73d8ca03ce35e2d395d"
 },
 "nbformat": 3,
 "nbformat_minor": 0,
 "worksheets": [
  {
   "cells": [
    {
     "cell_type": "code",
     "collapsed": false,
     "input": [
      "%pylab inline"
     ],
     "language": "python",
     "metadata": {},
     "outputs": [
      {
       "output_type": "stream",
       "stream": "stdout",
       "text": [
        "Populating the interactive namespace from numpy and matplotlib\n"
       ]
      }
     ],
     "prompt_number": 1
    },
    {
     "cell_type": "code",
     "collapsed": false,
     "input": [
      "#define parameters\n",
      "B = 1.5\n",
      "g_e = 2\n",
      "mu_B = 5.7884 * 10 ** - 5 \n",
      "k_B = 8.6173 * 10 ** - 5 \n",
      "T_e = 0.250 \n",
      "f_down = 1 / (1 + exp( - 0.5 * g_e * mu_B * B /(k_B * T_e)))\n",
      "N_up_0 = 0.37\n",
      "N_down_0 = 1 - N_up_0\n",
      "dt = linspace( 1 * 10 ** - 3, 10 , 100000) \n",
      "t_up_out = 0.0039\n",
      "t_down_in = 0.0069"
     ],
     "language": "python",
     "metadata": {},
     "outputs": [],
     "prompt_number": 2
    },
    {
     "cell_type": "code",
     "collapsed": false,
     "input": [
      "#set up desired variable as an array\n",
      "k = linspace( 0.0001, 10, 100 ) "
     ],
     "language": "python",
     "metadata": {},
     "outputs": [],
     "prompt_number": 16
    },
    {
     "cell_type": "code",
     "collapsed": false,
     "input": [
      "#define function for visibility with respect to desired variable\n",
      "#optimises wait time for each calculation\n",
      "def vis( j ):\n",
      "    T1 = 1 / (j * (B ** 5))\n",
      "    t_down_out = t_down_in * f_down / (1 - f_down)\n",
      "    T2 = T1 * t_down_out - T1 * t_up_out + t_down_out * t_up_out\n",
      "            \n",
      "    dt = linspace( 1 * 10 ** - 3, 10 , 1000000) \n",
      "            \n",
      "    alpha1 = (1 / T2)\n",
      "    alpha2 = T2\n",
      "    alpha3 = (t_up_out * t_down_out ) / (exp((dt) / t_down_out))\n",
      "    alpha4 = (T1 * t_down_out) / (exp((dt)/T1) * exp((dt) / t_up_out))\n",
      "    alpha5 = (T1 * t_up_out) / (exp((dt) / T1) * exp((dt) / t_up_out))\n",
      "    alpha = alpha1 * (alpha2 - alpha3 - alpha4 + alpha5)\n",
      "    beta1 = exp( - dt / t_down_out) \n",
      "            \n",
      "    V_stc = alpha + beta1 - 1    \n",
      "            \n",
      "    V_stc = V_stc.tolist()\n",
      "            \n",
      "    V_max = max( V_stc )\n",
      "    idx = V_stc.index( V_max )\n",
      "    dt = dt[ idx ]\n",
      "    \n",
      "    return V_max * 100"
     ],
     "language": "python",
     "metadata": {},
     "outputs": [],
     "prompt_number": 17
    },
    {
     "cell_type": "code",
     "collapsed": false,
     "input": [
      "#test the function works for given value\n",
      "import time\n",
      "start_time = time.clock()\n",
      "\n",
      "V = vis( 0.102 )\n",
      "print V\n",
      "\n",
      "print time.clock() - start_time\n",
      "#prints same visibilty as previous simulations"
     ],
     "language": "python",
     "metadata": {},
     "outputs": [
      {
       "output_type": "stream",
       "stream": "stdout",
       "text": [
        "94.2070634059\n",
        "0.29694424123\n"
       ]
      }
     ],
     "prompt_number": 18
    },
    {
     "cell_type": "code",
     "collapsed": false,
     "input": [
      "#create a plot of the visibility as a function of the desired variable\n",
      "start_time = time.clock()\n",
      "\n",
      "V = []\n",
      "for i in k:\n",
      "    v = vis( i )\n",
      "    V.append( v )\n",
      "figure()\n",
      "plot( k, sqrt(V) )\n",
      "xlabel( 'Prefactor ($T^{-5}s^{-1}$)', fontsize = 20 )\n",
      "ylabel( '$V_{max}$ ($\\%$)', fontsize = 20 )\n",
      "\n",
      "print time.clock() - start_time"
     ],
     "language": "python",
     "metadata": {},
     "outputs": [
      {
       "output_type": "stream",
       "stream": "stdout",
       "text": [
        "25.151819353\n"
       ]
      },
      {
       "metadata": {},
       "output_type": "display_data",
       "png": "[encoded data removed]",
       "text": [
        "<matplotlib.figure.Figure at 0xc84e030>"
       ]
      }
     ],
     "prompt_number": 20
    },
    {
     "cell_type": "code",
     "collapsed": false,
     "input": [],
     "language": "python",
     "metadata": {},
     "outputs": []
    }
   ],
   "metadata": {}
  }
 ]
}