{
 "metadata": {
  "name": "",
  "signature": "sha256:0ef3e9bcc2c4dfb6594fa1fd1385713652b549d53ac57591f251f17dc5fc833c"
 },
 "nbformat": 3,
 "nbformat_minor": 0,
 "worksheets": [
  {
   "cells": [
    {
     "cell_type": "code",
     "collapsed": false,
     "input": [
      "%pylab inline"
     ],
     "language": "python",
     "metadata": {},
     "outputs": [
      {
       "output_type": "stream",
       "stream": "stdout",
       "text": [
        "Populating the interactive namespace from numpy and matplotlib\n"
       ]
      }
     ],
     "prompt_number": 1
    },
    {
     "cell_type": "code",
     "collapsed": false,
     "input": [
      "#define parameters\n",
      "B = 1.5\n",
      "g_e = 2\n",
      "mu_B = 5.7884 * 10 ** - 5 \n",
      "k_B = 8.6173 * 10 ** - 5 \n",
      "k = 0.102\n",
      "T1 = 1 / (k * (B ** 5))\n",
      "N_up_0 = 0.37\n",
      "N_down_0 = 1 - N_up_0\n",
      "dt = linspace( 1 * 10 ** - 3, 10 , 100000) \n",
      "t_up_out = 0.0039\n",
      "t_down_in = 0.0069"
     ],
     "language": "python",
     "metadata": {},
     "outputs": [],
     "prompt_number": 4
    },
    {
     "cell_type": "code",
     "collapsed": false,
     "input": [
      "#set up desired variable as an array\n",
      "T_e = linspace( 0.00001, 0.250, 100) "
     ],
     "language": "python",
     "metadata": {},
     "outputs": [],
     "prompt_number": 20
    },
    {
     "cell_type": "code",
     "collapsed": false,
     "input": [
      "#define function for visibility with respect to desired variable\n",
      "#optimises wait time for each calculation\n",
      "def vis( temp ):\n",
      "    f_down = 1 / (1 + exp( - 0.5 * g_e * mu_B * B /(k_B * temp)))\n",
      "    t_down_out = t_down_in * f_down / (1 - f_down)\n",
      "    T2 = T1 * t_down_out - T1 * t_up_out + t_down_out * t_up_out\n",
      "            \n",
      "    dt = linspace( 1 * 10 ** - 3, 10 , 1000000) \n",
      "            \n",
      "    alpha1 = (1 / T2)\n",
      "    alpha2 = T2\n",
      "    alpha3 = (t_up_out * t_down_out ) / (exp((dt) / t_down_out))\n",
      "    alpha4 = (T1 * t_down_out) / (exp((dt)/T1) * exp((dt) / t_up_out))\n",
      "    alpha5 = (T1 * t_up_out) / (exp((dt) / T1) * exp((dt) / t_up_out))\n",
      "    alpha = alpha1 * (alpha2 - alpha3 - alpha4 + alpha5)\n",
      "    beta1 = exp( - dt / t_down_out) \n",
      "            \n",
      "    V_stc = alpha + beta1 - 1    \n",
      "            \n",
      "    V_stc = V_stc.tolist()\n",
      "            \n",
      "    V_max = max( V_stc )\n",
      "    idx = V_stc.index( V_max )\n",
      "    dt = dt[ idx ]\n",
      "    \n",
      "    return V_max * 100\n"
     ],
     "language": "python",
     "metadata": {},
     "outputs": [],
     "prompt_number": 21
    },
    {
     "cell_type": "code",
     "collapsed": false,
     "input": [
      "#test the function works for given value\n",
      "import time\n",
      "start_time = time.clock()\n",
      "\n",
      "V = vis( 0.250 )\n",
      "print V\n",
      "\n",
      "print time.clock() - start_time\n",
      "#prints same visibilty as previous simulations"
     ],
     "language": "python",
     "metadata": {},
     "outputs": [
      {
       "output_type": "stream",
       "stream": "stdout",
       "text": [
        "94.2070634059\n",
        "0.278344514294\n"
       ]
      }
     ],
     "prompt_number": 22
    },
    {
     "cell_type": "code",
     "collapsed": false,
     "input": [
      "#create a plot of the visibility as a function of the desired variable\n",
      "start_time = time.clock()\n",
      "\n",
      "V = []\n",
      "for i in T_e:\n",
      "    v = vis( i )\n",
      "    V.append( v )\n",
      "figure()\n",
      "plot( T_e, V )\n",
      "xlabel( 'Electron Temperature (K)', fontsize = 20 )\n",
      "ylabel( '$V_{max}$ ($\\%$)', fontsize = 20 )\n",
      "\n",
      "print time.clock() - start_time"
     ],
     "language": "python",
     "metadata": {},
     "outputs": [
      {
       "output_type": "stream",
       "stream": "stdout",
       "text": [
        "26.0524896334\n"
       ]
      },
      {
       "metadata": {},
       "output_type": "display_data",
       "png": "[encoded data removed]",
       "text": [
        "<matplotlib.figure.Figure at 0x7e8ad30>"
       ]
      }
     ],
     "prompt_number": 23
    },
    {
     "cell_type": "code",
     "collapsed": false,
     "input": [
      "print V"
     ],
     "language": "python",
     "metadata": {},
     "outputs": [
      {
       "output_type": "stream",
       "stream": "stdout",
       "text": [
        "[nan, nan, nan, nan, nan, nan, nan, nan, nan, nan, nan, 99.69883039625623, 99.6988303962489, 99.69883039616474, 99.69883039549904, 99.6988303915562, 99.69883037311422, 99.69883030206073, 99.69883006904843, 99.69882940152253, 99.6988276959589, 99.6988237434639, 99.69881532108533, 99.69879863062185, 99.69876758121887, 99.69871292904546, 99.69862130402156, 99.69847416729169, 99.6982467522597, 99.69790704522872, 99.69741486055509, 99.69672105839376, 99.6957669439951, 99.6944838762471, 99.69279310008466, 99.69060580886504, 99.68782342808811, 99.68433810621988, 99.68003339284289, 99.6747850768506, 99.66846214628372, 99.66092786471914, 99.6520409034825, 99.6416565220782, 99.62962775897904, 99.61580661192524, 99.60004521512973, 99.58219690981913, 99.56211731636826, 99.53966532541081, 99.51470392311563, 99.487101096417, 99.45673042216177, 99.42347183875543, 99.3872120685847, 99.34784509890413, 99.30527255231931, 99.25940392084401, 99.21015684370376, 99.15745715635013, 99.10123897268991, 99.04144480630733, 98.97802521651985, 98.9109391740877, 98.84015330464567, 98.76564230587626, 98.68738838264623, 98.60538103793579, 98.51961684226984, 98.43009928285662, 98.33683833997529, 98.23984992416092, 98.13915598198864, 98.03478394014253, 97.92676638714593, 97.81514115789616, 97.69994990926119, 97.5812389914251, 97.45905831522875, 97.33346228117672, 97.2045071710559, 97.07225342869825, 96.93676335076941, 96.79810233510311, 96.65633736676295, 96.5115377342519, 96.36377413161519, 96.21311890328997, 96.05964529545163, 95.90342791108012, 95.74454186072114, 95.58306267178148, 95.41906722537648, 95.25263205943122, 95.0838332215911, 94.91274776653533, 94.73945165133375, 94.56402173058176, 94.38653439490653, 94.20706340587115]\n"
       ]
      }
     ],
     "prompt_number": 19
    },
    {
     "cell_type": "code",
     "collapsed": false,
     "input": [
      "f_down1 = 1 / (1 + exp( - 0.5 * g_e * mu_B * B /(k_B * 0.100)))\n",
      "t_down_out1 = t_down_in * f_down1 / (1 - f_down1)\n",
      "print f_down1\n",
      "print t_down_out1\n",
      "f_down2 = 1 / (1 + exp( - 0.5 * g_e * mu_B * B /(k_B * 0.250)))\n",
      "t_down_out2 = t_down_in * f_down2 / (1 - f_down2)\n",
      "print f_down2\n",
      "print t_down_out2"
     ],
     "language": "python",
     "metadata": {},
     "outputs": [
      {
       "output_type": "stream",
       "stream": "stdout",
       "text": [
        "0.99995791503\n",
        "163.947118631\n",
        "0.982541417188\n",
        "0.388321082621\n"
       ]
      }
     ],
     "prompt_number": 25
    },
    {
     "cell_type": "code",
     "collapsed": false,
     "input": [],
     "language": "python",
     "metadata": {},
     "outputs": []
    }
   ],
   "metadata": {}
  }
 ]
}