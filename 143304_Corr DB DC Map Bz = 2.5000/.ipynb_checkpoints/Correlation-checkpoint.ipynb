{
 "metadata": {
  "name": "",
  "signature": "sha256:b8289eccf657554c272bd680caa7934aa82fe8421a8549000276c7a8c6bc1d28"
 },
 "nbformat": 3,
 "nbformat_minor": 0,
 "worksheets": [
  {
   "cells": [
    {
     "cell_type": "code",
     "collapsed": false,
     "input": [
      "%pylab inline"
     ],
     "language": "python",
     "metadata": {},
     "outputs": [
      {
       "output_type": "stream",
       "stream": "stdout",
       "text": [
        "Populating the interactive namespace from numpy and matplotlib\n"
       ]
      }
     ],
     "prompt_number": 1
    },
    {
     "cell_type": "code",
     "collapsed": false,
     "input": [
      "from __future__ import division\n",
      "def div(a,b):\n",
      "    if b == 0:\n",
      "        return NaN\n",
      "    else:\n",
      "        return a / b"
     ],
     "language": "python",
     "metadata": {},
     "outputs": [],
     "prompt_number": 2
    },
    {
     "cell_type": "code",
     "collapsed": false,
     "input": [
      "def mark(array):\n",
      "    new_array = []\n",
      "    for x in array:\n",
      "        if isnan(x) == True:\n",
      "            new_array.append(0)\n",
      "        else:\n",
      "            new_array.append(NaN)\n",
      "    return new_array"
     ],
     "language": "python",
     "metadata": {},
     "outputs": [],
     "prompt_number": 3
    },
    {
     "cell_type": "code",
     "collapsed": false,
     "input": [
      "def single( threshold, *args ):\n",
      "    \"\"\"\n",
      "    calculates what fraction of the input traces for each file correspond to spin up or down based on a specified threshold value\n",
      "            input: threshold - value of the threshold to distinguish between up and down spin states\n",
      "                   *args - 1 or 2 sets of peak measurement values for each trace corresponding to the number of read times in each trace.\n",
      "            output: up_frac_C and up_frac_B - spin up fractions for each file and for each read time specified.\n",
      "    \"\"\"\n",
      "    up = 0\n",
      "    down = 0\n",
      "    for a in args[0]:\n",
      "        if a > threshold:\n",
      "            up += 1\n",
      "        else:\n",
      "            down += 1        \n",
      "    up_frac_C = float(up) / float( up + down )\n",
      "    \n",
      "    if len(args) == 2:\n",
      "        up = 0\n",
      "        down = 0\n",
      "        for a in args[1]:\n",
      "            if a > threshold:\n",
      "                up += 1\n",
      "            else:\n",
      "                down += 1        \n",
      "        up_frac_B = float(up) / float( up + down )\n",
      "    \n",
      "        return up_frac_C, up_frac_B\n",
      "    else:\n",
      "        return up_frac_C"
     ],
     "language": "python",
     "metadata": {},
     "outputs": [],
     "prompt_number": 4
    },
    {
     "cell_type": "code",
     "collapsed": false,
     "input": [
      "def double( number_of_files, threshold, dot1, dot2 ): \n",
      "    '''\n",
      "    calculates the probability of measuring each one of the four possible double dot spin state combinations\n",
      "        input: number_of_files - how many data files need to be read in, each one is treated as a separate data point\n",
      "                threshold - value of the threshold to distinguish between up and down spin states\n",
      "                dot1 - list of maximum value measured for each trace in the file for the first dot\n",
      "                dot2 - list of maximum value measured for each trace in the file for the second dot\n",
      "        output: h, i, j, k - fractional probabilities for each double dot spin state combination ( UU, UD, DU and DD respectively )\n",
      "                corr - ordered list of the measured double dot spin state combinations for a single file\n",
      "    '''\n",
      "    corr = []\n",
      "    up_up = 0\n",
      "    up_down = 0\n",
      "    down_up = 0\n",
      "    down_down = 0 \n",
      "    for a in xrange(0, len(dot1)):\n",
      "        if dot1[a] > threshold and dot2[a] > threshold:\n",
      "            up_up += 1\n",
      "            corr.append([\"U\",\"U\"])\n",
      "        if dot1[a] > threshold and dot2[a] <= threshold:\n",
      "            up_down += 1\n",
      "            corr.append([\"U\",\"D\"])\n",
      "        if dot1[a] <= threshold and dot2[a] > threshold:\n",
      "            down_up += 1\n",
      "            corr.append([\"D\",\"U\"])\n",
      "        if dot1[a] <= threshold and dot2[a] <= threshold:\n",
      "            down_down += 1\n",
      "            corr.append([\"D\",\"D\"])\n",
      "        \n",
      "    h = ( float(up_up) / float( up_up + up_down + down_up + down_down ) )\n",
      "    i = ( float(up_down) / float( up_up + up_down + down_up + down_down ) )\n",
      "    j = ( float(down_up) / float( up_up + up_down + down_up + down_down ) )\n",
      "    k = ( float(down_down) / float( up_up + up_down + down_up + down_down ) )\n",
      "    return corr, h, i, j, k"
     ],
     "language": "python",
     "metadata": {},
     "outputs": [],
     "prompt_number": 5
    },
    {
     "cell_type": "code",
     "collapsed": false,
     "input": [
      "def spin_frac( *args ):\n",
      "    \"\"\"\n",
      "    plots the probability of measuring the specified spin state on the specified dot\n",
      "        input: *args - which spin state for which dot to be plotted. \"U_C\" for spin up probability on the first dot, \"U_B\" for up on second , \"D_C\" for down on the first and \"D_B\" for down on the second\n",
      "        output: probability plot for each specified argument\n",
      "    \"\"\"\n",
      "    if \"U_C\" in args:\n",
      "        figure()\n",
      "        title( \"P(Uc)\" )\n",
      "        plot(xaxis, singles[0])\n",
      "        xlabel('Pulse Voltage (V)')\n",
      "        ylabel('Probability')\n",
      "    if \"D_C\" in args:\n",
      "        figure()\n",
      "        title( \"P(Dc)\" )\n",
      "        plot(xaxis, singles[2])\n",
      "        xlabel('Pulse Voltage (V)')\n",
      "        ylabel('Probability')\n",
      "    if \"U_B\" in args:\n",
      "        figure()\n",
      "        title( \"P(Ub)\" )\n",
      "        plot(xaxis, singles[1])\n",
      "        xlabel('Pulse Voltage (V)')\n",
      "        ylabel('Probability')\n",
      "    if \"D_B\" in args:\n",
      "        figure()\n",
      "        title( \"P(Db)\" )\n",
      "        plot(xaxis, singles[3])\n",
      "        xlabel('Pulse Voltage (V)')\n",
      "        ylabel('Probability')\n",
      "    return"
     ],
     "language": "python",
     "metadata": {},
     "outputs": [],
     "prompt_number": 6
    },
    {
     "cell_type": "code",
     "collapsed": false,
     "input": [
      "def calc_dub_ran( singles ):\n",
      "    dub_ran0 = [[],[],[],[]]\n",
      "    for x in xrange(0, len(singles[0])):\n",
      "        dub_ran0[0].append( singles[0][x] * singles[1][x] )\n",
      "        dub_ran0[1].append( singles[0][x] * singles[3][x] )\n",
      "        dub_ran0[2].append( singles[2][x] * singles[1][x] )\n",
      "        dub_ran0[3].append( singles[2][x] * singles[3][x] )\n",
      "    return dub_ran0"
     ],
     "language": "python",
     "metadata": {},
     "outputs": [],
     "prompt_number": 7
    },
    {
     "cell_type": "code",
     "collapsed": false,
     "input": [
      "def corr_dub( *args ):\n",
      "    \"\"\"\n",
      "    plots the double spin state combination probabilities for each file\n",
      "        input: *args - which double spin state combination probabilities to be plotted. \"UU\" for up on both dots, \"UD\" for up on first and down on second, \"DU\" for down on first and up on second and \"DD\" for down on both\n",
      "    \"\"\"\n",
      "\n",
      "    if \"UU\" in args:\n",
      "        figure()\n",
      "        title( \"P(UU)\" )\n",
      "        plot(xaxis, doubles[0])\n",
      "        plot(xaxis, dub_ran[0])\n",
      "        xlabel('Pulse Voltage (V)')\n",
      "        ylabel('Probability')\n",
      "        legend(['Measured', 'Independent'], loc=2)\n",
      "    if \"UD\" in args:\n",
      "        figure()\n",
      "        title( \"P(UD)\" )\n",
      "        plot(xaxis, doubles[1])\n",
      "        plot(xaxis, dub_ran[1])\n",
      "        xlabel('Pulse Voltage (V)')\n",
      "        ylabel('Probability')\n",
      "        legend(['Measured', 'Independent'], loc=2)\n",
      "    if \"DU\" in args:\n",
      "        figure()\n",
      "        title( \"P(DU)\" )\n",
      "        plot(xaxis, doubles[2])\n",
      "        plot(xaxis, dub_ran[2])\n",
      "        xlabel('Pulse Voltage (V)')\n",
      "        ylabel('Probability')\n",
      "        legend(['Measured', 'Independent'], loc=2)\n",
      "    if \"DD\" in args:\n",
      "        figure()\n",
      "        title( \"P(DD)\" )\n",
      "        plot(xaxis, doubles[3])\n",
      "        plot(xaxis, dub_ran[3])\n",
      "        xlabel('Pulse Voltage (V)')\n",
      "        ylabel('Probability')\n",
      "        legend(['Measured', 'Independent'], loc=2)\n",
      "    return"
     ],
     "language": "python",
     "metadata": {},
     "outputs": [],
     "prompt_number": 8
    },
    {
     "cell_type": "code",
     "collapsed": false,
     "input": [
      "def calc_corr_nn( corr_2, singles ):\n",
      "    corr_nn0 = [[[],[],[],[]], [[],[],[],[]], [[],[],[],[]], [[],[],[],[]]]\n",
      "    for i in xrange( 0, len(singles[0]) ):\n",
      "        a = [ corr_2[i].count([\"U\",\"U\"]), corr_2[i].count([\"U\",\"D\"]), corr_2[i].count([\"D\",\"U\"]), corr_2[i].count([\"D\",\"D\"]) ]\n",
      "        B = [[0,0,0,0], [0,0,0,0], [0,0,0,0], [0,0,0,0]]\n",
      "        for x in xrange(0,len(corr_2[i])-1):\n",
      "            if corr_2[i][x] == [\"U\",\"U\"]:\n",
      "                if corr_2[i][x+1] == [\"U\",\"U\"]:\n",
      "                    B[0][0] += 1\n",
      "                if corr_2[i][x+1] == [\"U\",\"D\"]:\n",
      "                    B[0][1] += 1\n",
      "                if corr_2[i][x+1] == [\"D\",\"U\"]:\n",
      "                    B[0][2] += 1\n",
      "                if corr_2[i][x+1] == [\"D\",\"D\"]:\n",
      "                    B[0][3] += 1\n",
      "\n",
      "            if corr_2[i][x] == [\"U\",\"D\"]:\n",
      "                if corr_2[i][x+1] == [\"U\",\"U\"]:\n",
      "                    B[1][0] += 1\n",
      "                if corr_2[i][x+1] == [\"U\",\"D\"]:\n",
      "                    B[1][1] += 1\n",
      "                if corr_2[i][x+1] == [\"D\",\"U\"]:\n",
      "                    B[1][2] += 1\n",
      "                if corr_2[i][x+1] == [\"D\",\"D\"]:\n",
      "                    B[1][3] += 1\n",
      "\n",
      "            if corr_2[i][x] == [\"D\",\"U\"]:\n",
      "                if corr_2[i][x+1] == [\"U\",\"U\"]:\n",
      "                    B[2][0] += 1\n",
      "                if corr_2[i][x+1] == [\"U\",\"D\"]:\n",
      "                    B[2][1] += 1\n",
      "                if corr_2[i][x+1] == [\"D\",\"U\"]:\n",
      "                    B[2][2] += 1\n",
      "                if corr_2[i][x+1] == [\"D\",\"D\"]:\n",
      "                    B[2][3] += 1\n",
      "\n",
      "            if corr_2[i][x] == [\"D\",\"D\"]:\n",
      "                if corr_2[i][x+1] == [\"U\",\"U\"]:\n",
      "                    B[3][0] += 1\n",
      "                if corr_2[i][x+1] == [\"U\",\"D\"]:\n",
      "                    B[3][1] += 1\n",
      "                if corr_2[i][x+1] == [\"D\",\"U\"]:\n",
      "                    B[3][2] += 1\n",
      "                if corr_2[i][x+1] == [\"D\",\"D\"]:\n",
      "                    B[3][3] += 1 \n",
      "\n",
      "        for h in xrange(0,4):\n",
      "            for j in xrange(0,4):\n",
      "                B[h][j] = div(B[h][j],a[h])\n",
      "        for h in xrange(0,4):\n",
      "            for j in xrange(0,4):\n",
      "                corr_nn0[h][j].append( B[h][j] )\n",
      "    return corr_nn0"
     ],
     "language": "python",
     "metadata": {},
     "outputs": [],
     "prompt_number": 9
    },
    {
     "cell_type": "code",
     "collapsed": false,
     "input": [
      "def calc_corr_nn_ref( corr_2, singles ):\n",
      "    corr_nn_ref0 = [[[],[],[],[]], [[],[],[],[]], [[],[],[],[]], [[],[],[],[]]]\n",
      "    for i in xrange( 0, len(singles[0]) ):\n",
      "        a = [ corr_2[i].count([\"U\",\"U\"]), corr_2[i].count([\"U\",\"D\"]), corr_2[i].count([\"D\",\"U\"]), corr_2[i].count([\"D\",\"D\"]) ]\n",
      "        for x in xrange(0,4):\n",
      "            for y in xrange(0,4):\n",
      "                corr_nn_ref0[x][y].append(a[y] / sum( a ))\n",
      "    return corr_nn_ref0"
     ],
     "language": "python",
     "metadata": {},
     "outputs": [],
     "prompt_number": 10
    },
    {
     "cell_type": "code",
     "collapsed": false,
     "input": [
      "def corr_NN( *args ):\n",
      "    \"\"\"\n",
      "    calculates and plots the probability of measuring the nearest neighbour data point as a particular double spin state given the first point was measured as another particular spin state\n",
      "        input: *args - list of strings that specifies which nearest neighbour probabilities to plot. \"UU\" for the four probabilities with initial measurement of up up, \"UD\" for initial measurement of up down, \"DU\" for down up and \"DD\" for down down.\n",
      "        output: figure of four subplots showing nearest neighbour double state probabilities for each argument specified\n",
      "                corr_nn - stores the nearest neighbour probabilities for each of the possible spin state combinations\n",
      "                corr_nn_ref - stores the expected probabilities assuming uncorrelated measurements to use as a reference for the measured probabilities\n",
      "    \"\"\"\n",
      "    com = []\n",
      "    if \"UU\" in args:\n",
      "        com.append(0)\n",
      "    if \"UD\" in args:\n",
      "        com.append(1)\n",
      "    if \"DU\" in args:\n",
      "        com.append(2)\n",
      "    if \"DD\" in args:\n",
      "        com.append(3)\n",
      "    states = [\"UU\",\"UD\",\"DU\",\"DD\"]\n",
      "    for x in com:\n",
      "        f1, ((ax1, ax2), (ax3, ax4)) = plt.subplots(2, 2, sharex='col', sharey='row')\n",
      "        ax1.set_title(\"P(UU|\" + states[x] + \")\")\n",
      "        y = mark(corr_nn[x][0])\n",
      "        ax1.plot(xaxis, corr_nn[x][0], xaxis, corr_nn_ref[x][0], xaxis, y, 'ro')\n",
      "        ax1.set_xlabel('Pulse Voltage (V)')\n",
      "        ax1.set_ylabel('Probability')\n",
      "        ax1.legend( [\"Measured\",\"Independent\"], loc = 2)\n",
      "        ax2.set_title(\"P(UD|\" + states[x] + \")\")\n",
      "        y = mark(corr_nn[x][1])\n",
      "        ax2.plot(xaxis, corr_nn[x][1], xaxis, corr_nn_ref[x][1], xaxis, y, 'ro')\n",
      "        ax2.set_xlabel('Pulse Voltage (V)')\n",
      "        ax2.set_ylabel('Probability')\n",
      "        ax3.set_title(\"P(DU|\" + states[x] + \")\")\n",
      "        y = mark(corr_nn[x][2])\n",
      "        ax3.plot(xaxis, corr_nn[x][2], xaxis, corr_nn_ref[x][2], xaxis, y, 'ro')\n",
      "        ax3.set_xlabel('Pulse Voltage (V)')\n",
      "        ax3.set_ylabel('Probability')\n",
      "        ax4.set_title(\"P(DD|\" + states[x] + \")\")\n",
      "        y = mark(corr_nn[x][3])\n",
      "        ax4.plot(xaxis, corr_nn[x][3], xaxis, corr_nn_ref[x][3], xaxis, y, 'ro')\n",
      "        ax4.set_xlabel('Pulse Voltage (V)')\n",
      "        ax4.set_ylabel('Probability')\n",
      "    return"
     ],
     "language": "python",
     "metadata": {},
     "outputs": [],
     "prompt_number": 11
    },
    {
     "cell_type": "code",
     "collapsed": false,
     "input": [
      "def corr_NE( *args ):\n",
      "    \"\"\"\n",
      "    calculates and plots the conditional probabilities of one of the dots does or does not swap spin state between the next time the other dot is measured as being in the same spin state as the initial measurement\n",
      "        input: *args - specifies which initial double state combinations to produce plots for. \"UU\" for up up, \"UD\" for up down, \"DU\" for down up and \"DD\" for down down\n",
      "        output: group of four subplots for each argument specified\n",
      "    \"\"\"\n",
      "    if \"UU\" in args:\n",
      "        f1, ((ax1, ax2), (ax3, ax4)) = plt.subplots(2, 2, sharex='col', sharey='row')\n",
      "        ax1.set_title(\"P(Ub|UU)\")\n",
      "        y=mark(corr_ne[0][0])\n",
      "        ax1.plot(xaxis, corr_ne[0][0], xaxis, sin_con[0][0], xaxis, y, 'ro')\n",
      "        ax1.set_xlabel('Pulse Voltage (V)')\n",
      "        ax1.set_ylabel('Probability')\n",
      "        ax1.legend( [\"Measured\",\"Independent\"], loc = 2)\n",
      "        ax2.set_title(\"P(Db|UU)\")\n",
      "        y=mark(corr_ne[0][1])\n",
      "        ax2.plot(xaxis, corr_ne[0][1], xaxis, sin_con[0][1], xaxis, y, 'ro')\n",
      "        ax2.set_xlabel('Pulse Voltage (V)')\n",
      "        ax2.set_ylabel('Probability')\n",
      "        ax3.set_title(\"P(Uc|UU)\")\n",
      "        y=mark(corr_ne[0][2])\n",
      "        ax3.plot(xaxis, corr_ne[0][2], xaxis, sin_con[1][0], xaxis, y, 'ro')\n",
      "        ax3.set_xlabel('Pulse Voltage (V)')\n",
      "        ax3.set_ylabel('Probability')\n",
      "        ax4.set_title(\"P(Dc|UU)\")\n",
      "        y=mark(corr_ne[0][3])\n",
      "        ax4.plot(xaxis, corr_ne[0][3], xaxis, sin_con[1][2], xaxis, y, 'ro')\n",
      "        ax4.set_xlabel('Pulse Voltage (V)')\n",
      "        ax4.set_ylabel('Probability')\n",
      "    if \"UD\" in args:\n",
      "        f2, ((ax1, ax2), (ax3, ax4)) = plt.subplots(2, 2, sharex='col', sharey='row')\n",
      "        ax1.set_title(\"P(Db|UD)\")\n",
      "        y=mark(corr_ne[1][0])\n",
      "        ax1.plot(xaxis, corr_ne[1][0], xaxis, sin_con[0][0], xaxis, y, 'ro')\n",
      "        ax1.legend( [\"Measured\",\"Independent\"], loc = 2)\n",
      "        ax1.set_xlabel('Pulse Voltage (V)')\n",
      "        ax1.set_ylabel('Probability')\n",
      "        ax2.set_title(\"P(Ub|UD)\")\n",
      "        y=mark(corr_ne[1][1])\n",
      "        ax2.plot(xaxis, corr_ne[1][1], xaxis, sin_con[0][1], xaxis, y, 'ro')\n",
      "        ax2.set_xlabel('Pulse Voltage (V)')\n",
      "        ax2.set_ylabel('Probability')\n",
      "        ax3.set_title(\"P(Uc|UD)\")\n",
      "        y=mark(corr_ne[1][2])\n",
      "        ax3.plot(xaxis, corr_ne[1][2], xaxis, sin_con[1][1], xaxis, y, 'ro')\n",
      "        ax3.set_xlabel('Pulse Voltage (V)')\n",
      "        ax3.set_ylabel('Probability')\n",
      "        ax4.set_title(\"P(Dc|UD)\")\n",
      "        y=mark(corr_ne[1][3])\n",
      "        ax4.plot(xaxis, corr_ne[1][3], xaxis, sin_con[1][3], xaxis, y, 'ro')\n",
      "        ax4.set_xlabel('Pulse Voltage (V)')\n",
      "        ax4.set_ylabel('Probability')\n",
      "    if \"DU\" in args:\n",
      "        f3, ((ax1, ax2), (ax3, ax4)) = plt.subplots(2, 2, sharex='col', sharey='row')\n",
      "        ax1.set_title(\"P(Ub|DU)\")\n",
      "        y=mark(corr_ne[2][0])\n",
      "        ax1.plot(xaxis, corr_ne[2][0], xaxis, sin_con[0][2], xaxis, y, 'ro')\n",
      "        ax1.set_xlabel('Pulse Voltage (V)')\n",
      "        ax1.set_ylabel('Probability')\n",
      "        ax1.legend( [\"Measured\",\"Independent\"], loc = 2)\n",
      "        ax2.set_title(\"P(Db|DU)\")\n",
      "        y=mark(corr_ne[2][1])\n",
      "        ax2.plot(xaxis, corr_ne[2][1], xaxis, sin_con[0][3], xaxis, y, 'ro')\n",
      "        ax2.set_xlabel('Pulse Voltage (V)')\n",
      "        ax2.set_ylabel('Probability')\n",
      "        ax3.set_title(\"P(Dc|DU)\")\n",
      "        y=mark(corr_ne[2][2])\n",
      "        ax3.plot(xaxis, corr_ne[2][2], xaxis, sin_con[1][0], xaxis, y, 'ro')\n",
      "        ax3.set_xlabel('Pulse Voltage (V)')\n",
      "        ax3.set_ylabel('Probability')\n",
      "        ax4.set_title(\"P(Uc|DU)\")\n",
      "        y=mark(corr_ne[2][3])\n",
      "        ax4.plot(xaxis, corr_ne[2][3], xaxis, sin_con[1][2], xaxis, y, 'ro')\n",
      "        ax4.set_xlabel('Pulse Voltage (V)')\n",
      "        ax4.set_ylabel('Probability')\n",
      "    if \"DD\" in args:\n",
      "        f4, ((ax1, ax2), (ax3, ax4)) = plt.subplots(2, 2, sharex='col', sharey='row')\n",
      "        ax1.set_title(\"P(Db|DD)\")\n",
      "        y=mark(corr_ne[3][0])\n",
      "        ax1.plot(xaxis, corr_ne[3][0], xaxis, sin_con[0][2], xaxis, y, 'ro')\n",
      "        ax1.set_xlabel('Pulse Voltage (V)')\n",
      "        ax1.set_ylabel('Probability')\n",
      "        ax1.legend( [\"Measured\",\"Independent\"], loc = 2)\n",
      "        ax2.set_title(\"P(Ub|DD)\")\n",
      "        y=mark(corr_ne[3][1])\n",
      "        ax2.plot(xaxis, corr_ne[3][1], xaxis, sin_con[0][3], xaxis, y, 'ro')\n",
      "        ax2.set_xlabel('Pulse Voltage (V)')\n",
      "        ax2.set_ylabel('Probability')\n",
      "        ax3.set_title(\"P(Dc|DD)\")\n",
      "        y=mark(corr_ne[3][2])\n",
      "        ax3.plot(xaxis, corr_ne[3][2], xaxis, sin_con[1][1], xaxis, y, 'ro')\n",
      "        ax3.set_xlabel('Pulse Voltage (V)')\n",
      "        ax3.set_ylabel('Probability')\n",
      "        ax4.set_title(\"P(Uc|DD)\")\n",
      "        y=mark(corr_ne[3][3])\n",
      "        ax4.plot(xaxis, corr_ne[3][3], xaxis, sin_con[1][3], xaxis, y, 'ro')\n",
      "        ax4.set_xlabel('Pulse Voltage (V)')\n",
      "        ax4.set_ylabel('Probability')\n",
      "    return"
     ],
     "language": "python",
     "metadata": {},
     "outputs": [],
     "prompt_number": 12
    },
    {
     "cell_type": "code",
     "collapsed": false,
     "input": [
      "def calc_corr_ne( corr_2, singles ):\n",
      "    \n",
      "    corr_ne = [[[],[],[],[]],[[],[],[],[]],[[],[],[],[]],[[],[],[],[]]]\n",
      "\n",
      "    for i in xrange( 0, len(singles[0]) ):\n",
      "        Us_C = []\n",
      "        Ds_C = []\n",
      "        Us_B = []\n",
      "        Ds_B = []\n",
      "        for x in corr_2[i]:\n",
      "            if x[0] == \"U\":\n",
      "                Us_C.append( x )\n",
      "            else:\n",
      "                Ds_C.append( x )\n",
      "            if x[1] == \"U\":\n",
      "                Us_B.append( x )\n",
      "            else:\n",
      "                Ds_B.append( x )\n",
      "\n",
      "        ne = [[0,0,0,0],[0,0,0,0],[0,0,0,0],[0,0,0,0]]      \n",
      "\n",
      "        for x in xrange(0, len( Us_C)-1 ):\n",
      "            if Us_C[x] == [\"U\",\"U\"]:\n",
      "                if Us_C[x+1] == [\"U\",\"U\"]:\n",
      "                    ne[0][0] += 1\n",
      "                if Us_C[x+1] == [\"U\",\"D\"]:\n",
      "                    ne[0][1]+= 1\n",
      "            if Us_C[x] == [\"U\",\"D\"]:\n",
      "                if Us_C[x+1] == [\"U\",\"U\"]:\n",
      "                    ne[0][2]+= 1\n",
      "                if Us_C[x+1] == [\"U\",\"D\"]:\n",
      "                    ne[0][3]+= 1\n",
      "        for x in xrange(0, len( Ds_C)-1 ):\n",
      "            if Ds_C[x] == [\"D\",\"U\"]:\n",
      "                if Ds_C[x+1] == [\"D\",\"U\"]:\n",
      "                    ne[1][0]+= 1\n",
      "                if Ds_C[x+1] == [\"D\",\"D\"]:\n",
      "                    ne[1][1]+= 1\n",
      "            if Ds_C[x] == [\"D\",\"D\"]:\n",
      "                if Ds_C[x+1] == [\"D\",\"U\"]:\n",
      "                    ne[1][2]+= 1\n",
      "                if Ds_C[x+1] == [\"D\",\"D\"]:\n",
      "                    ne[1][3]+= 1\n",
      "                \n",
      "        for x in xrange(0, len( Us_B)-1 ):\n",
      "            if Us_B[x] == [\"U\",\"U\"]:\n",
      "                if Us_B[x+1] == [\"U\",\"U\"]:\n",
      "                    ne[2][0]+= 1\n",
      "                if Us_B[x+1] == [\"D\",\"U\"]:\n",
      "                    ne[2][1]+= 1\n",
      "            if Us_B[x] == [\"D\",\"U\"]:\n",
      "                if Us_B[x+1] == [\"U\",\"U\"]:\n",
      "                    ne[2][2]+= 1\n",
      "                if Us_B[x+1] == [\"D\",\"U\"]:\n",
      "                    ne[2][3]+= 1\n",
      "        for x in xrange(0, len( Ds_B)-1 ):\n",
      "            if Ds_B[x] == [\"U\",\"D\"]:\n",
      "                if Ds_B[x+1] == [\"U\",\"D\"]:\n",
      "                    ne[3][0]+= 1\n",
      "                if Ds_B[x+1] == [\"D\",\"D\"]:\n",
      "                    ne[3][1]+= 1\n",
      "            if Ds_B[x] == [\"D\",\"D\"]:\n",
      "                if Ds_B[x+1] == [\"U\",\"D\"]:\n",
      "                    ne[3][2]+= 1\n",
      "                if Ds_B[x+1] == [\"D\",\"D\"]:\n",
      "                    ne[3][3]+= 1\n",
      "\n",
      "        sum1 = ne[0][0]+ ne[0][1]\n",
      "        sum2 = ne[0][2]+ ne[0][3]\n",
      "        sum3 = ne[1][0]+ ne[1][1]\n",
      "        sum4 = ne[1][2]+ ne[1][3]\n",
      "        sum5 = ne[2][0]+ ne[2][1]\n",
      "        sum6 = ne[2][2]+ ne[2][3]\n",
      "        sum7 = ne[3][0]+ ne[3][1]\n",
      "        sum8 = ne[3][2]+ ne[3][3]\n",
      "        \n",
      "        corr_ne[0][0].append(div(ne[0][0],sum1))\n",
      "        corr_ne[0][1].append(div(ne[0][1],sum1))\n",
      "        corr_ne[0][2].append(div(ne[0][2],sum2))\n",
      "        corr_ne[0][3].append(div(ne[0][3],sum2))\n",
      "        \n",
      "        corr_ne[1][0].append(div(ne[1][0],sum3))\n",
      "        corr_ne[1][1].append(div(ne[1][1],sum3))\n",
      "        corr_ne[1][2].append(div(ne[1][2],sum4))\n",
      "        corr_ne[1][3].append(div(ne[1][3],sum4))\n",
      "        \n",
      "        corr_ne[2][0].append(div(ne[2][0],sum5))\n",
      "        corr_ne[2][1].append(div(ne[2][1],sum5))\n",
      "        corr_ne[2][2].append(div(ne[2][2],sum6))\n",
      "        corr_ne[2][3].append(div(ne[2][3],sum6))\n",
      "        \n",
      "        corr_ne[3][0].append(div(ne[3][0],sum7))\n",
      "        corr_ne[3][1].append(div(ne[3][1],sum7))\n",
      "        corr_ne[3][2].append(div(ne[3][2],sum8))\n",
      "        corr_ne[3][3].append(div(ne[3][3],sum8))\n",
      "    return corr_ne"
     ],
     "language": "python",
     "metadata": {},
     "outputs": [],
     "prompt_number": 13
    },
    {
     "cell_type": "code",
     "collapsed": false,
     "input": [
      "def calc_sin_con( singles, doubles ):\n",
      "    Uc_U = []\n",
      "    Uc_D = []\n",
      "    Dc_U = []\n",
      "    Dc_D = []\n",
      "    for x in xrange(0, len(singles[0])):\n",
      "        Uc_U.append( div(doubles[0][x],singles[0][x] ))\n",
      "        Uc_D.append( div(doubles[1][x],singles[0][x] ))\n",
      "        Dc_U.append( div(doubles[2][x],singles[2][x] ))\n",
      "        Dc_D.append( div(doubles[3][x],singles[2][x] ))\n",
      "    U_Ub = []\n",
      "    U_Db = []\n",
      "    D_Ub = []\n",
      "    D_Db = []\n",
      "    for x in xrange(0, len(singles[0])):\n",
      "        U_Ub.append( div(doubles[0][x],singles[1][x] ))\n",
      "        U_Db.append( div(doubles[1][x],singles[3][x] ))\n",
      "        D_Ub.append( div(doubles[2][x],singles[1][x] ))\n",
      "        D_Db.append( div(doubles[3][x],singles[3][x] ))\n",
      "    sin_con0 = [[Uc_U,Uc_D,Dc_U,Dc_D],[U_Ub,U_Db,D_Ub,D_Db]]\n",
      "    return sin_con0"
     ],
     "language": "python",
     "metadata": {},
     "outputs": [],
     "prompt_number": 14
    },
    {
     "cell_type": "code",
     "collapsed": false,
     "input": [
      "def calc_sin_con_ran( singles, dub_ran ):\n",
      "    Uc_U_ran = []\n",
      "    Uc_D_ran = []\n",
      "    Dc_U_ran = []\n",
      "    Dc_D_ran = []\n",
      "    for x in xrange(0, len(singles[0])):\n",
      "        Uc_U_ran.append( div(dub_ran[0][x],singles[0][x] ))\n",
      "        Uc_D_ran.append( div(dub_ran[1][x],singles[0][x] ))\n",
      "        Dc_U_ran.append( div(dub_ran[2][x],singles[2][x] ))\n",
      "        Dc_D_ran.append( div(dub_ran[3][x],singles[2][x] ))\n",
      "    U_Ub_ran = []\n",
      "    U_Db_ran = []\n",
      "    D_Ub_ran = []\n",
      "    D_Db_ran = []\n",
      "    for x in xrange(0, len(singles[0])):\n",
      "        U_Ub_ran.append( div(dub_ran[0][x],singles[1][x] ))\n",
      "        U_Db_ran.append( div(dub_ran[1][x],singles[3][x] ))\n",
      "        D_Ub_ran.append( div(dub_ran[2][x],singles[1][x] ))\n",
      "        D_Db_ran.append( div(dub_ran[3][x],singles[3][x] ))\n",
      "    sin_con_ran0 = [[Uc_U_ran,Uc_D_ran,Dc_U_ran,Dc_D_ran],[U_Ub_ran,U_Db_ran,D_Ub_ran,D_Db_ran]]\n",
      "    return sin_con_ran0"
     ],
     "language": "python",
     "metadata": {},
     "outputs": [],
     "prompt_number": 15
    },
    {
     "cell_type": "code",
     "collapsed": false,
     "input": [
      "def corr_sin( *args ):\n",
      "    \"\"\"\n",
      "    calculates conditional probabilities for measuring single spin states on a dot given a particular spin state on the other dot   \n",
      "        input: *args - list of strings that specifies which conditional probabilities to plot. \"C\" for the probabilities given a particular spin state on the first dot and \"B\" for those given a particular state on the \n",
      "                        second dot\n",
      "        output: figure including four subplots for each of the dots specified in the arguments\n",
      "    \"\"\"\n",
      "    if \"C\" in args:\n",
      "        f1, ((ax1, ax2), (ax3, ax4)) = plt.subplots(2, 2, sharex='col', sharey='row')\n",
      "        ax1.set_title(\"P(Ub|Uc)\")\n",
      "        y=mark(sin_con[0][0])\n",
      "        ax1.plot(xaxis, sin_con[0][0], xaxis, sin_con_ran[0][0], xaxis, y, 'ro' )\n",
      "        ax1.set_xlabel('Pulse Voltage (V)')\n",
      "        ax1.set_ylabel('Probability')\n",
      "        ax1.legend( [\"Measured\",\"Independent\"], loc = 2)\n",
      "        ax2.set_title(\"P(Db|Uc)\")\n",
      "        y=mark(sin_con[0][1])\n",
      "        ax2.plot(xaxis, sin_con[0][1], xaxis, sin_con_ran[0][1], xaxis, y, 'ro' )\n",
      "        ax2.set_xlabel('Pulse Voltage (V)')\n",
      "        ax2.set_ylabel('Probability')\n",
      "        ax3.set_title(\"P(Ub|Dc)\")\n",
      "        y=mark(sin_con[0][2])\n",
      "        ax3.plot(xaxis, sin_con[0][2], xaxis, sin_con_ran[0][2], xaxis, y, 'ro' )\n",
      "        ax3.set_xlabel('Pulse Voltage (V)')\n",
      "        ax3.set_ylabel('Probability')\n",
      "        ax4.set_title(\"P(Db|Dc)\")\n",
      "        y=mark(sin_con[0][3])\n",
      "        ax4.plot(xaxis, sin_con[0][3], xaxis, sin_con_ran[0][3], xaxis, y, 'ro' )\n",
      "        ax4.set_xlabel('Pulse Voltage (V)')\n",
      "        ax4.set_ylabel('Probability')\n",
      "    if \"B\" in args:\n",
      "        f1, ((ax1, ax2), (ax3, ax4)) = plt.subplots(2, 2, sharex='col', sharey='row')\n",
      "        ax1.set_title(\"P(Uc|Ub)\")\n",
      "        y=mark(sin_con[1][0])\n",
      "        ax1.plot(xaxis, sin_con[1][0], xaxis, sin_con_ran[1][0], xaxis, y, 'ro' )\n",
      "        ax1.set_xlabel('Pulse Voltage (V)')\n",
      "        ax1.set_ylabel('Probability')\n",
      "        ax1.legend( [\"Measured\",\"Independent\"], loc = 2)\n",
      "        ax2.set_title(\"P(Uc|Db)\")\n",
      "        y=mark(sin_con[1][1])\n",
      "        ax2.plot(xaxis, sin_con[1][1], xaxis, sin_con_ran[1][1], xaxis, y, 'ro' )\n",
      "        ax2.set_xlabel('Pulse Voltage (V)')\n",
      "        ax2.set_ylabel('Probability')\n",
      "        ax3.set_title(\"P(Dc|Ub)\")\n",
      "        y=mark(sin_con[1][2])\n",
      "        ax3.plot(xaxis, sin_con[1][2], xaxis, sin_con_ran[1][2], xaxis, y, 'ro' )\n",
      "        ax3.set_xlabel('Pulse Voltage (V)')\n",
      "        ax3.set_ylabel('Probability')\n",
      "        ax4.set_title(\"P(Dc|Db)\")\n",
      "        y=mark(sin_con[1][3])\n",
      "        ax4.plot(xaxis, sin_con[1][3], xaxis, sin_con_ran[1][3], xaxis, y, 'ro' )\n",
      "        ax4.set_xlabel('Pulse Voltage (V)')\n",
      "        ax4.set_ylabel('Probability')\n",
      "    return"
     ],
     "language": "python",
     "metadata": {},
     "outputs": [],
     "prompt_number": 16
    },
    {
     "cell_type": "code",
     "collapsed": false,
     "input": [
      "def read( start_file, number_of_files, *args ):\n",
      "    \"\"\"\n",
      "    calculates and stores the fractional probabilities for both single spin states and double dot spin state combinations for each input file\n",
      "        input: number_of_files - how many data files need to be read in, each one is treated as a separate data point\n",
      "                threshold - value of the threshold to distinguish between up and down spin states\n",
      "                *args- either two or four arguments depending on whether you are interested in 1 or 2 dots respectively. For each dot a start and end read time is required e.g. start1, end1, start2, end2\n",
      "        output: singles - contains the lists:\n",
      "                    up_C - list of spin up probabilities for each file for the first dot \n",
      "                    up_B - list of spin up probabilities for each file for the second dot\n",
      "                    down_C - list of spin down probabilities for each file for the first dot\n",
      "                    down_B - list of spin down probabilities for each file for the second dot\n",
      "                doubles - contains the lists:\n",
      "                    UU - list of probabilities for each file of measuring up on both dots\n",
      "                    UD - list of probabilities for each file of measuring up on first dot and down on second\n",
      "                    DU - list of probabilities for each file of measuring down on first dot and up on second\n",
      "                    DD - list of probabilities for each file of measuring down on both dots\n",
      "                corr_2 - ordered list of what double spin state combinations were measured for each file\n",
      "                xaxis - the xaxis to be used for all the following calculated probability plots\n",
      "    \"\"\"\n",
      "    #file = \"C:/Users/z3414503/Desktop/Honours/Data/163444_CB_Dual_Correllation_RO_Bz = 2.5000/163444_CB_Dual_Correllation_RO_Bz = 2.5000.dat\"\n",
      "    file = \"C:/Users/z3414503/Desktop/Honours/Data/143304_Corr DB DC Map Bz = 2.5000/143304_Corr DB DC Map Bz = 2.5000.dat\"\n",
      "    with open( file, \"r\" ) as f:\n",
      "        xaxis = []\n",
      "        for line in f:\n",
      "            fields = line.split()\n",
      "            if len(fields) > 0:\n",
      "                if fields[0] != \"#\":\n",
      "                    if float(fields[0]) == 0.05:\n",
      "                        xaxis.append( float(fields[1]) )\n",
      "    peaks_C = []\n",
      "    peaks_B = []\n",
      "    for x in xrange(start_file, number_of_files + start_file ):\n",
      "        peak_C = []\n",
      "        peak_B = []\n",
      "        print x,\n",
      "        #file = \"C:/Users/z3414503/Desktop/Honours/Data/163444_CB_Dual_Correllation_RO_Bz = 2.5000/traces/CB_Dual_Correllation_RO_Bz = 2.5000_\" + str(x) + \"_trace.dat\"\n",
      "        file = \"C:/Users/z3414503/Desktop/Honours/Data/143304_Corr DB DC Map Bz = 2.5000/traces/Corr DB DC Map Bz = 2.5000_\" + str(x) + \"_trace.dat\"\n",
      "        with open( file, \"r\" ) as f:\n",
      "            max_C = 0\n",
      "            max_B = 0\n",
      "            i = 1\n",
      "            for line in f:\n",
      "                fields = line.split()\n",
      "                if len(fields) == 3 and fields[0] != '#':\n",
      "                    if int( fields[0] ) == i:\n",
      "                        if float( fields[1] ) >= args[0] and float( fields[1] ) < args[1] and float( fields[2] ) > max_C:\n",
      "                            max_C = float( fields[2] )\n",
      "                        if float( fields[1] ) >= args[2] and float( fields[1] ) < args[3] and float( fields[2] ) > max_B:\n",
      "                            max_B = float( fields[2] )\n",
      "                    if int( fields[0] ) > i:\n",
      "                        peak_C.append(max_C)\n",
      "                        peak_B.append(max_B)\n",
      "                        i += 1\n",
      "                        max_C = 0\n",
      "                        max_B = 0\n",
      "        \n",
      "            peak_C.append(max_C)\n",
      "            peak_B.append(max_B)\n",
      "        peaks_C.append( peak_C )\n",
      "        peaks_B.append( peak_B )\n",
      "    return xaxis, peaks_C, peaks_B"
     ],
     "language": "python",
     "metadata": {},
     "outputs": [],
     "prompt_number": 17
    },
    {
     "cell_type": "code",
     "collapsed": false,
     "input": [
      "xaxis, peaks_C, peaks_B = read( 1, 32, 0.0013, 0.095, 0.1014, 0.1676 )"
     ],
     "language": "python",
     "metadata": {},
     "outputs": [
      {
       "output_type": "stream",
       "stream": "stdout",
       "text": [
        "1 "
       ]
      },
      {
       "output_type": "stream",
       "stream": "stdout",
       "text": [
        "2 "
       ]
      },
      {
       "output_type": "stream",
       "stream": "stdout",
       "text": [
        "3 "
       ]
      },
      {
       "output_type": "stream",
       "stream": "stdout",
       "text": [
        "4 "
       ]
      },
      {
       "output_type": "stream",
       "stream": "stdout",
       "text": [
        "5 "
       ]
      },
      {
       "output_type": "stream",
       "stream": "stdout",
       "text": [
        "6 "
       ]
      },
      {
       "output_type": "stream",
       "stream": "stdout",
       "text": [
        "7 "
       ]
      },
      {
       "output_type": "stream",
       "stream": "stdout",
       "text": [
        "8 "
       ]
      },
      {
       "output_type": "stream",
       "stream": "stdout",
       "text": [
        "9 "
       ]
      },
      {
       "output_type": "stream",
       "stream": "stdout",
       "text": [
        "10 "
       ]
      },
      {
       "output_type": "stream",
       "stream": "stdout",
       "text": [
        "11 "
       ]
      },
      {
       "output_type": "stream",
       "stream": "stdout",
       "text": [
        "12 "
       ]
      },
      {
       "output_type": "stream",
       "stream": "stdout",
       "text": [
        "13 "
       ]
      },
      {
       "output_type": "stream",
       "stream": "stdout",
       "text": [
        "14 "
       ]
      },
      {
       "output_type": "stream",
       "stream": "stdout",
       "text": [
        "15 "
       ]
      },
      {
       "output_type": "stream",
       "stream": "stdout",
       "text": [
        "16 "
       ]
      },
      {
       "output_type": "stream",
       "stream": "stdout",
       "text": [
        "17 "
       ]
      },
      {
       "output_type": "stream",
       "stream": "stdout",
       "text": [
        "18 "
       ]
      },
      {
       "output_type": "stream",
       "stream": "stdout",
       "text": [
        "19 "
       ]
      },
      {
       "output_type": "stream",
       "stream": "stdout",
       "text": [
        "20 "
       ]
      },
      {
       "output_type": "stream",
       "stream": "stdout",
       "text": [
        "21 "
       ]
      },
      {
       "output_type": "stream",
       "stream": "stdout",
       "text": [
        "22 "
       ]
      },
      {
       "output_type": "stream",
       "stream": "stdout",
       "text": [
        "23 "
       ]
      },
      {
       "output_type": "stream",
       "stream": "stdout",
       "text": [
        "24 "
       ]
      },
      {
       "output_type": "stream",
       "stream": "stdout",
       "text": [
        "25 "
       ]
      },
      {
       "output_type": "stream",
       "stream": "stdout",
       "text": [
        "26 "
       ]
      },
      {
       "output_type": "stream",
       "stream": "stdout",
       "text": [
        "27 "
       ]
      },
      {
       "output_type": "stream",
       "stream": "stdout",
       "text": [
        "28 "
       ]
      },
      {
       "output_type": "stream",
       "stream": "stdout",
       "text": [
        "29 "
       ]
      },
      {
       "output_type": "stream",
       "stream": "stdout",
       "text": [
        "30 "
       ]
      },
      {
       "output_type": "stream",
       "stream": "stdout",
       "text": [
        "31 "
       ]
      },
      {
       "output_type": "stream",
       "stream": "stdout",
       "text": [
        "32\n"
       ]
      }
     ],
     "prompt_number": 55
    },
    {
     "cell_type": "code",
     "collapsed": false,
     "input": [
      "def calc( threshold, peaks_C0, peaks_B0 ):\n",
      "    up_C = []\n",
      "    up_B = []\n",
      "    down_C = []\n",
      "    down_B = []\n",
      "    UU = []\n",
      "    UD = []\n",
      "    DU = []\n",
      "    DD = []\n",
      "    corr_2 = []\n",
      "    for x in xrange( 0, len( peaks_C0 ) ):\n",
      "        up_frac_C, up_frac_B = single( threshold, peaks_C0[x], peaks_B0[x] )\n",
      "        up_C.append(up_frac_C)\n",
      "        down_C.append(1-up_frac_C)\n",
      "        up_B.append(up_frac_B)\n",
      "        down_B.append(1-up_frac_B)\n",
      "        corr, h, i, j, k = double( len( peaks_C0 ), threshold, peaks_C0[x], peaks_B0[x] )\n",
      "        corr_2.append(corr)\n",
      "        UU.append(h)\n",
      "        UD.append(i)\n",
      "        DU.append(j)\n",
      "        DD.append(k)\n",
      "\n",
      "    singles = [up_C,up_B,down_C,down_B]\n",
      "    doubles = [UU,UD,DU,DD]\n",
      "    dub_ran = calc_dub_ran( singles )\n",
      "    sin_con = calc_sin_con( singles, doubles )\n",
      "    sin_con_ran = calc_sin_con_ran( singles, dub_ran )\n",
      "    corr_nn = calc_corr_nn( corr_2, singles )\n",
      "    corr_nn_ref = calc_corr_nn_ref( corr_2, singles )\n",
      "    corr_ne = calc_corr_ne( corr_2, singles )\n",
      "    \n",
      "    return singles, corr_2, doubles, dub_ran, sin_con, sin_con_ran, corr_nn, corr_nn_ref, corr_ne"
     ],
     "language": "python",
     "metadata": {},
     "outputs": [],
     "prompt_number": 25
    },
    {
     "cell_type": "code",
     "collapsed": false,
     "input": [
      "singles, corr_2, doubles, dub_ran, sin_con, sin_con_ran, corr_nn, corr_nn_ref, corr_ne = calc( 0.0164, peaks_C, peaks_B )"
     ],
     "language": "python",
     "metadata": {},
     "outputs": [],
     "prompt_number": 56
    },
    {
     "cell_type": "code",
     "collapsed": false,
     "input": [
      "spin_frac( \"U_C\", \"D_C\", \"U_B\", \"D_B\" )"
     ],
     "language": "python",
     "metadata": {},
     "outputs": [
      {
       "metadata": {},
       "output_type": "display_data",
       "png": "[encoded data removed]",
       "text": [
        "<matplotlib.figure.Figure at 0x8a4cdf0>"
       ]
      },
      {
       "metadata": {},
       "output_type": "display_data",
       "png": "[encoded data removed]",
       "text": [
        "<matplotlib.figure.Figure at 0xa26a3b0>"
       ]
      },
      {
       "metadata": {},
       "output_type": "display_data",
       "png": "[encoded data removed]",
       "text": [
        "<matplotlib.figure.Figure at 0x9f99850>"
       ]
      },
      {
       "metadata": {},
       "output_type": "display_data",
       "png": "[encoded data removed]",
       "text": [
        "<matplotlib.figure.Figure at 0xa15a930>"
       ]
      }
     ],
     "prompt_number": 57
    },
    {
     "cell_type": "code",
     "collapsed": false,
     "input": [
      "corr_dub( \"UU\", \"DD\", \"DU\", \"UD\" )"
     ],
     "language": "python",
     "metadata": {},
     "outputs": [
      {
       "metadata": {},
       "output_type": "display_data",
       "png": "[encoded data removed]",
       "text": [
        "<matplotlib.figure.Figure at 0x84827f0>"
       ]
      },
      {
       "metadata": {},
       "output_type": "display_data",
       "png": "[encoded data removed]",
       "text": [
        "<matplotlib.figure.Figure at 0x85a7f90>"
       ]
      },
      {
       "metadata": {},
       "output_type": "display_data",
       "png": "[encoded data removed]",
       "text": [
        "<matplotlib.figure.Figure at 0x7d94330>"
       ]
      },
      {
       "metadata": {},
       "output_type": "display_data",
       "png": "[encoded data removed]",
       "text": [
        "<matplotlib.figure.Figure at 0x85acd30>"
       ]
      }
     ],
     "prompt_number": 57
    },
    {
     "cell_type": "code",
     "collapsed": false,
     "input": [
      "corr_sin( \"B\", \"C\")"
     ],
     "language": "python",
     "metadata": {},
     "outputs": [
      {
       "metadata": {},
       "output_type": "display_data",
       "png": "[encoded data removed]",
       "text": [
        "<matplotlib.figure.Figure at 0x8257f10>"
       ]
      },
      {
       "metadata": {},
       "output_type": "display_data",
       "png": "[encoded data removed]",
       "text": [
        "<matplotlib.figure.Figure at 0x7d85bf0>"
       ]
      }
     ],
     "prompt_number": 58
    },
    {
     "cell_type": "code",
     "collapsed": false,
     "input": [
      "corr_NN( \"UU\",\"UD\",\"DU\",\"DD\" )"
     ],
     "language": "python",
     "metadata": {},
     "outputs": [
      {
       "metadata": {},
       "output_type": "display_data",
       "png": "[encoded data removed]",
       "text": [
        "<matplotlib.figure.Figure at 0x8591410>"
       ]
      },
      {
       "metadata": {},
       "output_type": "display_data",
       "png": "[encoded data removed]",
       "text": [
        "<matplotlib.figure.Figure at 0x8ada4b0>"
       ]
      },
      {
       "metadata": {},
       "output_type": "display_data",
       "png": "[encoded data removed]",
       "text": [
        "<matplotlib.figure.Figure at 0x858cdf0>"
       ]
      },
      {
       "metadata": {},
       "output_type": "display_data",
       "png": "[encoded data removed]",
       "text": [
        "<matplotlib.figure.Figure at 0x8325050>"
       ]
      }
     ],
     "prompt_number": 59
    },
    {
     "cell_type": "code",
     "collapsed": false,
     "input": [
      "corr_NE( \"UD\", \"DD\", \"DU\", \"UU\" )"
     ],
     "language": "python",
     "metadata": {},
     "outputs": [
      {
       "metadata": {},
       "output_type": "display_data",
       "png": "[encoded data removed]",
       "text": [
        "<matplotlib.figure.Figure at 0x8453b90>"
       ]
      },
      {
       "metadata": {},
       "output_type": "display_data",
       "png": "[encoded data removed]",
       "text": [
        "<matplotlib.figure.Figure at 0x60becf0>"
       ]
      },
      {
       "metadata": {},
       "output_type": "display_data",
       "png": "[encoded data removed]",
       "text": [
        "<matplotlib.figure.Figure at 0x7ed8db0>"
       ]
      },
      {
       "metadata": {},
       "output_type": "display_data",
       "png": "[encoded data removed]",
       "text": [
        "<matplotlib.figure.Figure at 0x8273530>"
       ]
      }
     ],
     "prompt_number": 60
    },
    {
     "cell_type": "code",
     "collapsed": false,
     "input": [
      "def read2d( number_of_data_points, files_per_data_point, start1, end1, start2, end2 ):\n",
      "    file = \"C:/Users/z3414503/Desktop/Honours/Data/143304_Corr DB DC Map Bz = 2.5000/143304_Corr DB DC Map Bz = 2.5000.dat\"\n",
      "    with open( file, \"r\" ) as f:\n",
      "        yaxis0 = []\n",
      "        yaxis = []\n",
      "        counter = 0\n",
      "        for line in f:\n",
      "            fields = line.split()\n",
      "            if len(fields) > 0:\n",
      "                if fields[0] != \"#\":\n",
      "                    if float( fields[0] ) not in yaxis0 and counter < number_of_data_points:\n",
      "                        yaxis0.append( float( fields[0] ) )\n",
      "                        counter += 1\n",
      "    for i in yaxis0:\n",
      "        yaxis.append( log( i ) )\n",
      "    peaks_C2d = []\n",
      "    peaks_B2d = []\n",
      "    for x in xrange( 0, number_of_data_points ):\n",
      "        xaxis, peaks_C, peaks_B = read( (x*32)+1, files_per_data_point, start1, end1, start2, end2 )\n",
      "        peaks_C2d.append( peaks_C )\n",
      "        peaks_B2d.append( peaks_B )\n",
      "    return xaxis, yaxis, peaks_C2d, peaks_B2d"
     ],
     "language": "python",
     "metadata": {},
     "outputs": [],
     "prompt_number": 21
    },
    {
     "cell_type": "code",
     "collapsed": false,
     "input": [
      "xaxis, yaxis, peaks_C2d, peaks_B2d = read2d( 16, 32, 0.0013, 0.095, 0.1014, 0.1676 )"
     ],
     "language": "python",
     "metadata": {},
     "outputs": [
      {
       "output_type": "stream",
       "stream": "stdout",
       "text": [
        "1 "
       ]
      },
      {
       "output_type": "stream",
       "stream": "stdout",
       "text": [
        "2 "
       ]
      },
      {
       "output_type": "stream",
       "stream": "stdout",
       "text": [
        "3 "
       ]
      },
      {
       "output_type": "stream",
       "stream": "stdout",
       "text": [
        "4 "
       ]
      },
      {
       "output_type": "stream",
       "stream": "stdout",
       "text": [
        "5 "
       ]
      },
      {
       "output_type": "stream",
       "stream": "stdout",
       "text": [
        "6 "
       ]
      },
      {
       "output_type": "stream",
       "stream": "stdout",
       "text": [
        "7 "
       ]
      },
      {
       "output_type": "stream",
       "stream": "stdout",
       "text": [
        "8 "
       ]
      },
      {
       "output_type": "stream",
       "stream": "stdout",
       "text": [
        "9 "
       ]
      },
      {
       "output_type": "stream",
       "stream": "stdout",
       "text": [
        "10 "
       ]
      },
      {
       "output_type": "stream",
       "stream": "stdout",
       "text": [
        "11 "
       ]
      },
      {
       "output_type": "stream",
       "stream": "stdout",
       "text": [
        "12 "
       ]
      },
      {
       "output_type": "stream",
       "stream": "stdout",
       "text": [
        "13 "
       ]
      },
      {
       "output_type": "stream",
       "stream": "stdout",
       "text": [
        "14 "
       ]
      },
      {
       "output_type": "stream",
       "stream": "stdout",
       "text": [
        "15 "
       ]
      },
      {
       "output_type": "stream",
       "stream": "stdout",
       "text": [
        "16 "
       ]
      },
      {
       "output_type": "stream",
       "stream": "stdout",
       "text": [
        "17 "
       ]
      },
      {
       "output_type": "stream",
       "stream": "stdout",
       "text": [
        "18 "
       ]
      },
      {
       "output_type": "stream",
       "stream": "stdout",
       "text": [
        "19 "
       ]
      },
      {
       "output_type": "stream",
       "stream": "stdout",
       "text": [
        "20 "
       ]
      },
      {
       "output_type": "stream",
       "stream": "stdout",
       "text": [
        "21 "
       ]
      },
      {
       "output_type": "stream",
       "stream": "stdout",
       "text": [
        "22 "
       ]
      },
      {
       "output_type": "stream",
       "stream": "stdout",
       "text": [
        "23 "
       ]
      },
      {
       "output_type": "stream",
       "stream": "stdout",
       "text": [
        "24 "
       ]
      },
      {
       "output_type": "stream",
       "stream": "stdout",
       "text": [
        "25 "
       ]
      },
      {
       "output_type": "stream",
       "stream": "stdout",
       "text": [
        "26 "
       ]
      },
      {
       "output_type": "stream",
       "stream": "stdout",
       "text": [
        "27 "
       ]
      },
      {
       "output_type": "stream",
       "stream": "stdout",
       "text": [
        "28 "
       ]
      },
      {
       "output_type": "stream",
       "stream": "stdout",
       "text": [
        "29 "
       ]
      },
      {
       "output_type": "stream",
       "stream": "stdout",
       "text": [
        "30 "
       ]
      },
      {
       "output_type": "stream",
       "stream": "stdout",
       "text": [
        "31 "
       ]
      },
      {
       "output_type": "stream",
       "stream": "stdout",
       "text": [
        "32 "
       ]
      },
      {
       "output_type": "stream",
       "stream": "stdout",
       "text": [
        "33 "
       ]
      },
      {
       "output_type": "stream",
       "stream": "stdout",
       "text": [
        "34 "
       ]
      },
      {
       "output_type": "stream",
       "stream": "stdout",
       "text": [
        "35 "
       ]
      },
      {
       "output_type": "stream",
       "stream": "stdout",
       "text": [
        "36 "
       ]
      },
      {
       "output_type": "stream",
       "stream": "stdout",
       "text": [
        "37 "
       ]
      },
      {
       "output_type": "stream",
       "stream": "stdout",
       "text": [
        "38 "
       ]
      },
      {
       "output_type": "stream",
       "stream": "stdout",
       "text": [
        "39 "
       ]
      },
      {
       "output_type": "stream",
       "stream": "stdout",
       "text": [
        "40 "
       ]
      },
      {
       "output_type": "stream",
       "stream": "stdout",
       "text": [
        "41 "
       ]
      },
      {
       "output_type": "stream",
       "stream": "stdout",
       "text": [
        "42 "
       ]
      },
      {
       "output_type": "stream",
       "stream": "stdout",
       "text": [
        "43 "
       ]
      },
      {
       "output_type": "stream",
       "stream": "stdout",
       "text": [
        "44 "
       ]
      },
      {
       "output_type": "stream",
       "stream": "stdout",
       "text": [
        "45 "
       ]
      },
      {
       "output_type": "stream",
       "stream": "stdout",
       "text": [
        "46 "
       ]
      },
      {
       "output_type": "stream",
       "stream": "stdout",
       "text": [
        "47 "
       ]
      },
      {
       "output_type": "stream",
       "stream": "stdout",
       "text": [
        "48 "
       ]
      },
      {
       "output_type": "stream",
       "stream": "stdout",
       "text": [
        "49 "
       ]
      },
      {
       "output_type": "stream",
       "stream": "stdout",
       "text": [
        "50 "
       ]
      },
      {
       "output_type": "stream",
       "stream": "stdout",
       "text": [
        "51 "
       ]
      },
      {
       "output_type": "stream",
       "stream": "stdout",
       "text": [
        "52 "
       ]
      },
      {
       "output_type": "stream",
       "stream": "stdout",
       "text": [
        "53 "
       ]
      },
      {
       "output_type": "stream",
       "stream": "stdout",
       "text": [
        "54 "
       ]
      },
      {
       "output_type": "stream",
       "stream": "stdout",
       "text": [
        "55 "
       ]
      },
      {
       "output_type": "stream",
       "stream": "stdout",
       "text": [
        "56 "
       ]
      },
      {
       "output_type": "stream",
       "stream": "stdout",
       "text": [
        "57 "
       ]
      },
      {
       "output_type": "stream",
       "stream": "stdout",
       "text": [
        "58 "
       ]
      },
      {
       "output_type": "stream",
       "stream": "stdout",
       "text": [
        "59 "
       ]
      },
      {
       "output_type": "stream",
       "stream": "stdout",
       "text": [
        "60 "
       ]
      },
      {
       "output_type": "stream",
       "stream": "stdout",
       "text": [
        "61 "
       ]
      },
      {
       "output_type": "stream",
       "stream": "stdout",
       "text": [
        "62 "
       ]
      },
      {
       "output_type": "stream",
       "stream": "stdout",
       "text": [
        "63 "
       ]
      },
      {
       "output_type": "stream",
       "stream": "stdout",
       "text": [
        "64 "
       ]
      },
      {
       "output_type": "stream",
       "stream": "stdout",
       "text": [
        "65 "
       ]
      },
      {
       "output_type": "stream",
       "stream": "stdout",
       "text": [
        "66 "
       ]
      },
      {
       "output_type": "stream",
       "stream": "stdout",
       "text": [
        "67 "
       ]
      },
      {
       "output_type": "stream",
       "stream": "stdout",
       "text": [
        "68 "
       ]
      },
      {
       "output_type": "stream",
       "stream": "stdout",
       "text": [
        "69 "
       ]
      },
      {
       "output_type": "stream",
       "stream": "stdout",
       "text": [
        "70 "
       ]
      },
      {
       "output_type": "stream",
       "stream": "stdout",
       "text": [
        "71 "
       ]
      },
      {
       "output_type": "stream",
       "stream": "stdout",
       "text": [
        "72 "
       ]
      },
      {
       "output_type": "stream",
       "stream": "stdout",
       "text": [
        "73 "
       ]
      },
      {
       "output_type": "stream",
       "stream": "stdout",
       "text": [
        "74 "
       ]
      },
      {
       "output_type": "stream",
       "stream": "stdout",
       "text": [
        "75 "
       ]
      },
      {
       "output_type": "stream",
       "stream": "stdout",
       "text": [
        "76 "
       ]
      },
      {
       "output_type": "stream",
       "stream": "stdout",
       "text": [
        "77 "
       ]
      },
      {
       "output_type": "stream",
       "stream": "stdout",
       "text": [
        "78 "
       ]
      },
      {
       "output_type": "stream",
       "stream": "stdout",
       "text": [
        "79 "
       ]
      },
      {
       "output_type": "stream",
       "stream": "stdout",
       "text": [
        "80 "
       ]
      },
      {
       "output_type": "stream",
       "stream": "stdout",
       "text": [
        "81 "
       ]
      },
      {
       "output_type": "stream",
       "stream": "stdout",
       "text": [
        "82 "
       ]
      },
      {
       "output_type": "stream",
       "stream": "stdout",
       "text": [
        "83 "
       ]
      },
      {
       "output_type": "stream",
       "stream": "stdout",
       "text": [
        "84 "
       ]
      },
      {
       "output_type": "stream",
       "stream": "stdout",
       "text": [
        "85 "
       ]
      },
      {
       "output_type": "stream",
       "stream": "stdout",
       "text": [
        "86 "
       ]
      },
      {
       "output_type": "stream",
       "stream": "stdout",
       "text": [
        "87 "
       ]
      },
      {
       "output_type": "stream",
       "stream": "stdout",
       "text": [
        "88 "
       ]
      },
      {
       "output_type": "stream",
       "stream": "stdout",
       "text": [
        "89 "
       ]
      },
      {
       "output_type": "stream",
       "stream": "stdout",
       "text": [
        "90 "
       ]
      },
      {
       "output_type": "stream",
       "stream": "stdout",
       "text": [
        "91 "
       ]
      },
      {
       "output_type": "stream",
       "stream": "stdout",
       "text": [
        "92 "
       ]
      },
      {
       "output_type": "stream",
       "stream": "stdout",
       "text": [
        "93 "
       ]
      },
      {
       "output_type": "stream",
       "stream": "stdout",
       "text": [
        "94 "
       ]
      },
      {
       "output_type": "stream",
       "stream": "stdout",
       "text": [
        "95 "
       ]
      },
      {
       "output_type": "stream",
       "stream": "stdout",
       "text": [
        "96 "
       ]
      },
      {
       "output_type": "stream",
       "stream": "stdout",
       "text": [
        "97 "
       ]
      },
      {
       "output_type": "stream",
       "stream": "stdout",
       "text": [
        "98 "
       ]
      },
      {
       "output_type": "stream",
       "stream": "stdout",
       "text": [
        "99 "
       ]
      },
      {
       "output_type": "stream",
       "stream": "stdout",
       "text": [
        "100 "
       ]
      },
      {
       "output_type": "stream",
       "stream": "stdout",
       "text": [
        "101 "
       ]
      },
      {
       "output_type": "stream",
       "stream": "stdout",
       "text": [
        "102 "
       ]
      },
      {
       "output_type": "stream",
       "stream": "stdout",
       "text": [
        "103 "
       ]
      },
      {
       "output_type": "stream",
       "stream": "stdout",
       "text": [
        "104 "
       ]
      },
      {
       "output_type": "stream",
       "stream": "stdout",
       "text": [
        "105 "
       ]
      },
      {
       "output_type": "stream",
       "stream": "stdout",
       "text": [
        "106 "
       ]
      },
      {
       "output_type": "stream",
       "stream": "stdout",
       "text": [
        "107 "
       ]
      },
      {
       "output_type": "stream",
       "stream": "stdout",
       "text": [
        "108 "
       ]
      },
      {
       "output_type": "stream",
       "stream": "stdout",
       "text": [
        "109 "
       ]
      },
      {
       "output_type": "stream",
       "stream": "stdout",
       "text": [
        "110 "
       ]
      },
      {
       "output_type": "stream",
       "stream": "stdout",
       "text": [
        "111 "
       ]
      },
      {
       "output_type": "stream",
       "stream": "stdout",
       "text": [
        "112 "
       ]
      },
      {
       "output_type": "stream",
       "stream": "stdout",
       "text": [
        "113 "
       ]
      },
      {
       "output_type": "stream",
       "stream": "stdout",
       "text": [
        "114 "
       ]
      },
      {
       "output_type": "stream",
       "stream": "stdout",
       "text": [
        "115 "
       ]
      },
      {
       "output_type": "stream",
       "stream": "stdout",
       "text": [
        "116 "
       ]
      },
      {
       "output_type": "stream",
       "stream": "stdout",
       "text": [
        "117 "
       ]
      },
      {
       "output_type": "stream",
       "stream": "stdout",
       "text": [
        "118 "
       ]
      },
      {
       "output_type": "stream",
       "stream": "stdout",
       "text": [
        "119 "
       ]
      },
      {
       "output_type": "stream",
       "stream": "stdout",
       "text": [
        "120 "
       ]
      },
      {
       "output_type": "stream",
       "stream": "stdout",
       "text": [
        "121 "
       ]
      },
      {
       "output_type": "stream",
       "stream": "stdout",
       "text": [
        "122 "
       ]
      },
      {
       "output_type": "stream",
       "stream": "stdout",
       "text": [
        "123 "
       ]
      },
      {
       "output_type": "stream",
       "stream": "stdout",
       "text": [
        "124 "
       ]
      },
      {
       "output_type": "stream",
       "stream": "stdout",
       "text": [
        "125 "
       ]
      },
      {
       "output_type": "stream",
       "stream": "stdout",
       "text": [
        "126 "
       ]
      },
      {
       "output_type": "stream",
       "stream": "stdout",
       "text": [
        "127 "
       ]
      },
      {
       "output_type": "stream",
       "stream": "stdout",
       "text": [
        "128 "
       ]
      },
      {
       "output_type": "stream",
       "stream": "stdout",
       "text": [
        "129 "
       ]
      },
      {
       "output_type": "stream",
       "stream": "stdout",
       "text": [
        "130 "
       ]
      },
      {
       "output_type": "stream",
       "stream": "stdout",
       "text": [
        "131 "
       ]
      },
      {
       "output_type": "stream",
       "stream": "stdout",
       "text": [
        "132 "
       ]
      },
      {
       "output_type": "stream",
       "stream": "stdout",
       "text": [
        "133 "
       ]
      },
      {
       "output_type": "stream",
       "stream": "stdout",
       "text": [
        "134 "
       ]
      },
      {
       "output_type": "stream",
       "stream": "stdout",
       "text": [
        "135 "
       ]
      },
      {
       "output_type": "stream",
       "stream": "stdout",
       "text": [
        "136 "
       ]
      },
      {
       "output_type": "stream",
       "stream": "stdout",
       "text": [
        "137 "
       ]
      },
      {
       "output_type": "stream",
       "stream": "stdout",
       "text": [
        "138 "
       ]
      },
      {
       "output_type": "stream",
       "stream": "stdout",
       "text": [
        "139 "
       ]
      },
      {
       "output_type": "stream",
       "stream": "stdout",
       "text": [
        "140 "
       ]
      },
      {
       "output_type": "stream",
       "stream": "stdout",
       "text": [
        "141 "
       ]
      },
      {
       "output_type": "stream",
       "stream": "stdout",
       "text": [
        "142 "
       ]
      },
      {
       "output_type": "stream",
       "stream": "stdout",
       "text": [
        "143 "
       ]
      },
      {
       "output_type": "stream",
       "stream": "stdout",
       "text": [
        "144 "
       ]
      },
      {
       "output_type": "stream",
       "stream": "stdout",
       "text": [
        "145 "
       ]
      },
      {
       "output_type": "stream",
       "stream": "stdout",
       "text": [
        "146 "
       ]
      },
      {
       "output_type": "stream",
       "stream": "stdout",
       "text": [
        "147 "
       ]
      },
      {
       "output_type": "stream",
       "stream": "stdout",
       "text": [
        "148 "
       ]
      },
      {
       "output_type": "stream",
       "stream": "stdout",
       "text": [
        "149 "
       ]
      },
      {
       "output_type": "stream",
       "stream": "stdout",
       "text": [
        "150 "
       ]
      },
      {
       "output_type": "stream",
       "stream": "stdout",
       "text": [
        "151 "
       ]
      },
      {
       "output_type": "stream",
       "stream": "stdout",
       "text": [
        "152 "
       ]
      },
      {
       "output_type": "stream",
       "stream": "stdout",
       "text": [
        "153 "
       ]
      },
      {
       "output_type": "stream",
       "stream": "stdout",
       "text": [
        "154 "
       ]
      },
      {
       "output_type": "stream",
       "stream": "stdout",
       "text": [
        "155 "
       ]
      },
      {
       "output_type": "stream",
       "stream": "stdout",
       "text": [
        "156 "
       ]
      },
      {
       "output_type": "stream",
       "stream": "stdout",
       "text": [
        "157 "
       ]
      },
      {
       "output_type": "stream",
       "stream": "stdout",
       "text": [
        "158 "
       ]
      },
      {
       "output_type": "stream",
       "stream": "stdout",
       "text": [
        "159 "
       ]
      },
      {
       "output_type": "stream",
       "stream": "stdout",
       "text": [
        "160 "
       ]
      },
      {
       "output_type": "stream",
       "stream": "stdout",
       "text": [
        "161 "
       ]
      },
      {
       "output_type": "stream",
       "stream": "stdout",
       "text": [
        "162 "
       ]
      },
      {
       "output_type": "stream",
       "stream": "stdout",
       "text": [
        "163 "
       ]
      },
      {
       "output_type": "stream",
       "stream": "stdout",
       "text": [
        "164 "
       ]
      },
      {
       "output_type": "stream",
       "stream": "stdout",
       "text": [
        "165 "
       ]
      },
      {
       "output_type": "stream",
       "stream": "stdout",
       "text": [
        "166 "
       ]
      },
      {
       "output_type": "stream",
       "stream": "stdout",
       "text": [
        "167 "
       ]
      },
      {
       "output_type": "stream",
       "stream": "stdout",
       "text": [
        "168 "
       ]
      },
      {
       "output_type": "stream",
       "stream": "stdout",
       "text": [
        "169 "
       ]
      },
      {
       "output_type": "stream",
       "stream": "stdout",
       "text": [
        "170 "
       ]
      },
      {
       "output_type": "stream",
       "stream": "stdout",
       "text": [
        "171 "
       ]
      },
      {
       "output_type": "stream",
       "stream": "stdout",
       "text": [
        "172 "
       ]
      },
      {
       "output_type": "stream",
       "stream": "stdout",
       "text": [
        "173 "
       ]
      },
      {
       "output_type": "stream",
       "stream": "stdout",
       "text": [
        "174 "
       ]
      },
      {
       "output_type": "stream",
       "stream": "stdout",
       "text": [
        "175 "
       ]
      },
      {
       "output_type": "stream",
       "stream": "stdout",
       "text": [
        "176 "
       ]
      },
      {
       "output_type": "stream",
       "stream": "stdout",
       "text": [
        "177 "
       ]
      },
      {
       "output_type": "stream",
       "stream": "stdout",
       "text": [
        "178 "
       ]
      },
      {
       "output_type": "stream",
       "stream": "stdout",
       "text": [
        "179 "
       ]
      },
      {
       "output_type": "stream",
       "stream": "stdout",
       "text": [
        "180 "
       ]
      },
      {
       "output_type": "stream",
       "stream": "stdout",
       "text": [
        "181 "
       ]
      },
      {
       "output_type": "stream",
       "stream": "stdout",
       "text": [
        "182 "
       ]
      },
      {
       "output_type": "stream",
       "stream": "stdout",
       "text": [
        "183 "
       ]
      },
      {
       "output_type": "stream",
       "stream": "stdout",
       "text": [
        "184 "
       ]
      },
      {
       "output_type": "stream",
       "stream": "stdout",
       "text": [
        "185 "
       ]
      },
      {
       "output_type": "stream",
       "stream": "stdout",
       "text": [
        "186 "
       ]
      },
      {
       "output_type": "stream",
       "stream": "stdout",
       "text": [
        "187 "
       ]
      },
      {
       "output_type": "stream",
       "stream": "stdout",
       "text": [
        "188 "
       ]
      },
      {
       "output_type": "stream",
       "stream": "stdout",
       "text": [
        "189 "
       ]
      },
      {
       "output_type": "stream",
       "stream": "stdout",
       "text": [
        "190 "
       ]
      },
      {
       "output_type": "stream",
       "stream": "stdout",
       "text": [
        "191 "
       ]
      },
      {
       "output_type": "stream",
       "stream": "stdout",
       "text": [
        "192 "
       ]
      },
      {
       "output_type": "stream",
       "stream": "stdout",
       "text": [
        "193 "
       ]
      },
      {
       "output_type": "stream",
       "stream": "stdout",
       "text": [
        "194 "
       ]
      },
      {
       "output_type": "stream",
       "stream": "stdout",
       "text": [
        "195 "
       ]
      },
      {
       "output_type": "stream",
       "stream": "stdout",
       "text": [
        "196 "
       ]
      },
      {
       "output_type": "stream",
       "stream": "stdout",
       "text": [
        "197 "
       ]
      },
      {
       "output_type": "stream",
       "stream": "stdout",
       "text": [
        "198 "
       ]
      },
      {
       "output_type": "stream",
       "stream": "stdout",
       "text": [
        "199 "
       ]
      },
      {
       "output_type": "stream",
       "stream": "stdout",
       "text": [
        "200 "
       ]
      },
      {
       "output_type": "stream",
       "stream": "stdout",
       "text": [
        "201 "
       ]
      },
      {
       "output_type": "stream",
       "stream": "stdout",
       "text": [
        "202 "
       ]
      },
      {
       "output_type": "stream",
       "stream": "stdout",
       "text": [
        "203 "
       ]
      },
      {
       "output_type": "stream",
       "stream": "stdout",
       "text": [
        "204 "
       ]
      },
      {
       "output_type": "stream",
       "stream": "stdout",
       "text": [
        "205 "
       ]
      },
      {
       "output_type": "stream",
       "stream": "stdout",
       "text": [
        "206 "
       ]
      },
      {
       "output_type": "stream",
       "stream": "stdout",
       "text": [
        "207 "
       ]
      },
      {
       "output_type": "stream",
       "stream": "stdout",
       "text": [
        "208 "
       ]
      },
      {
       "output_type": "stream",
       "stream": "stdout",
       "text": [
        "209 "
       ]
      },
      {
       "output_type": "stream",
       "stream": "stdout",
       "text": [
        "210 "
       ]
      },
      {
       "output_type": "stream",
       "stream": "stdout",
       "text": [
        "211 "
       ]
      },
      {
       "output_type": "stream",
       "stream": "stdout",
       "text": [
        "212 "
       ]
      },
      {
       "output_type": "stream",
       "stream": "stdout",
       "text": [
        "213 "
       ]
      },
      {
       "output_type": "stream",
       "stream": "stdout",
       "text": [
        "214 "
       ]
      },
      {
       "output_type": "stream",
       "stream": "stdout",
       "text": [
        "215 "
       ]
      },
      {
       "output_type": "stream",
       "stream": "stdout",
       "text": [
        "216 "
       ]
      },
      {
       "output_type": "stream",
       "stream": "stdout",
       "text": [
        "217 "
       ]
      },
      {
       "output_type": "stream",
       "stream": "stdout",
       "text": [
        "218 "
       ]
      },
      {
       "output_type": "stream",
       "stream": "stdout",
       "text": [
        "219 "
       ]
      },
      {
       "output_type": "stream",
       "stream": "stdout",
       "text": [
        "220 "
       ]
      },
      {
       "output_type": "stream",
       "stream": "stdout",
       "text": [
        "221 "
       ]
      },
      {
       "output_type": "stream",
       "stream": "stdout",
       "text": [
        "222 "
       ]
      },
      {
       "output_type": "stream",
       "stream": "stdout",
       "text": [
        "223 "
       ]
      },
      {
       "output_type": "stream",
       "stream": "stdout",
       "text": [
        "224 "
       ]
      },
      {
       "output_type": "stream",
       "stream": "stdout",
       "text": [
        "225 "
       ]
      },
      {
       "output_type": "stream",
       "stream": "stdout",
       "text": [
        "226 "
       ]
      },
      {
       "output_type": "stream",
       "stream": "stdout",
       "text": [
        "227 "
       ]
      },
      {
       "output_type": "stream",
       "stream": "stdout",
       "text": [
        "228 "
       ]
      },
      {
       "output_type": "stream",
       "stream": "stdout",
       "text": [
        "229 "
       ]
      },
      {
       "output_type": "stream",
       "stream": "stdout",
       "text": [
        "230 "
       ]
      },
      {
       "output_type": "stream",
       "stream": "stdout",
       "text": [
        "231 "
       ]
      },
      {
       "output_type": "stream",
       "stream": "stdout",
       "text": [
        "232 "
       ]
      },
      {
       "output_type": "stream",
       "stream": "stdout",
       "text": [
        "233 "
       ]
      },
      {
       "output_type": "stream",
       "stream": "stdout",
       "text": [
        "234 "
       ]
      },
      {
       "output_type": "stream",
       "stream": "stdout",
       "text": [
        "235 "
       ]
      },
      {
       "output_type": "stream",
       "stream": "stdout",
       "text": [
        "236 "
       ]
      },
      {
       "output_type": "stream",
       "stream": "stdout",
       "text": [
        "237 "
       ]
      },
      {
       "output_type": "stream",
       "stream": "stdout",
       "text": [
        "238 "
       ]
      },
      {
       "output_type": "stream",
       "stream": "stdout",
       "text": [
        "239 "
       ]
      },
      {
       "output_type": "stream",
       "stream": "stdout",
       "text": [
        "240 "
       ]
      },
      {
       "output_type": "stream",
       "stream": "stdout",
       "text": [
        "241 "
       ]
      },
      {
       "output_type": "stream",
       "stream": "stdout",
       "text": [
        "242 "
       ]
      },
      {
       "output_type": "stream",
       "stream": "stdout",
       "text": [
        "243 "
       ]
      },
      {
       "output_type": "stream",
       "stream": "stdout",
       "text": [
        "244 "
       ]
      },
      {
       "output_type": "stream",
       "stream": "stdout",
       "text": [
        "245 "
       ]
      },
      {
       "output_type": "stream",
       "stream": "stdout",
       "text": [
        "246 "
       ]
      },
      {
       "output_type": "stream",
       "stream": "stdout",
       "text": [
        "247 "
       ]
      },
      {
       "output_type": "stream",
       "stream": "stdout",
       "text": [
        "248 "
       ]
      },
      {
       "output_type": "stream",
       "stream": "stdout",
       "text": [
        "249 "
       ]
      },
      {
       "output_type": "stream",
       "stream": "stdout",
       "text": [
        "250 "
       ]
      },
      {
       "output_type": "stream",
       "stream": "stdout",
       "text": [
        "251 "
       ]
      },
      {
       "output_type": "stream",
       "stream": "stdout",
       "text": [
        "252 "
       ]
      },
      {
       "output_type": "stream",
       "stream": "stdout",
       "text": [
        "253 "
       ]
      },
      {
       "output_type": "stream",
       "stream": "stdout",
       "text": [
        "254 "
       ]
      },
      {
       "output_type": "stream",
       "stream": "stdout",
       "text": [
        "255 "
       ]
      },
      {
       "output_type": "stream",
       "stream": "stdout",
       "text": [
        "256 "
       ]
      },
      {
       "output_type": "stream",
       "stream": "stdout",
       "text": [
        "257 "
       ]
      },
      {
       "output_type": "stream",
       "stream": "stdout",
       "text": [
        "258 "
       ]
      },
      {
       "output_type": "stream",
       "stream": "stdout",
       "text": [
        "259 "
       ]
      },
      {
       "output_type": "stream",
       "stream": "stdout",
       "text": [
        "260 "
       ]
      },
      {
       "output_type": "stream",
       "stream": "stdout",
       "text": [
        "261 "
       ]
      },
      {
       "output_type": "stream",
       "stream": "stdout",
       "text": [
        "262 "
       ]
      },
      {
       "output_type": "stream",
       "stream": "stdout",
       "text": [
        "263 "
       ]
      },
      {
       "output_type": "stream",
       "stream": "stdout",
       "text": [
        "264 "
       ]
      },
      {
       "output_type": "stream",
       "stream": "stdout",
       "text": [
        "265 "
       ]
      },
      {
       "output_type": "stream",
       "stream": "stdout",
       "text": [
        "266 "
       ]
      },
      {
       "output_type": "stream",
       "stream": "stdout",
       "text": [
        "267 "
       ]
      },
      {
       "output_type": "stream",
       "stream": "stdout",
       "text": [
        "268 "
       ]
      },
      {
       "output_type": "stream",
       "stream": "stdout",
       "text": [
        "269 "
       ]
      },
      {
       "output_type": "stream",
       "stream": "stdout",
       "text": [
        "270 "
       ]
      },
      {
       "output_type": "stream",
       "stream": "stdout",
       "text": [
        "271 "
       ]
      },
      {
       "output_type": "stream",
       "stream": "stdout",
       "text": [
        "272 "
       ]
      },
      {
       "output_type": "stream",
       "stream": "stdout",
       "text": [
        "273 "
       ]
      },
      {
       "output_type": "stream",
       "stream": "stdout",
       "text": [
        "274 "
       ]
      },
      {
       "output_type": "stream",
       "stream": "stdout",
       "text": [
        "275 "
       ]
      },
      {
       "output_type": "stream",
       "stream": "stdout",
       "text": [
        "276 "
       ]
      },
      {
       "output_type": "stream",
       "stream": "stdout",
       "text": [
        "277 "
       ]
      },
      {
       "output_type": "stream",
       "stream": "stdout",
       "text": [
        "278 "
       ]
      },
      {
       "output_type": "stream",
       "stream": "stdout",
       "text": [
        "279 "
       ]
      },
      {
       "output_type": "stream",
       "stream": "stdout",
       "text": [
        "280 "
       ]
      },
      {
       "output_type": "stream",
       "stream": "stdout",
       "text": [
        "281 "
       ]
      },
      {
       "output_type": "stream",
       "stream": "stdout",
       "text": [
        "282 "
       ]
      },
      {
       "output_type": "stream",
       "stream": "stdout",
       "text": [
        "283 "
       ]
      },
      {
       "output_type": "stream",
       "stream": "stdout",
       "text": [
        "284 "
       ]
      },
      {
       "output_type": "stream",
       "stream": "stdout",
       "text": [
        "285 "
       ]
      },
      {
       "output_type": "stream",
       "stream": "stdout",
       "text": [
        "286 "
       ]
      },
      {
       "output_type": "stream",
       "stream": "stdout",
       "text": [
        "287 "
       ]
      },
      {
       "output_type": "stream",
       "stream": "stdout",
       "text": [
        "288 "
       ]
      },
      {
       "output_type": "stream",
       "stream": "stdout",
       "text": [
        "289 "
       ]
      },
      {
       "output_type": "stream",
       "stream": "stdout",
       "text": [
        "290 "
       ]
      },
      {
       "output_type": "stream",
       "stream": "stdout",
       "text": [
        "291 "
       ]
      },
      {
       "output_type": "stream",
       "stream": "stdout",
       "text": [
        "292 "
       ]
      },
      {
       "output_type": "stream",
       "stream": "stdout",
       "text": [
        "293 "
       ]
      },
      {
       "output_type": "stream",
       "stream": "stdout",
       "text": [
        "294 "
       ]
      },
      {
       "output_type": "stream",
       "stream": "stdout",
       "text": [
        "295 "
       ]
      },
      {
       "output_type": "stream",
       "stream": "stdout",
       "text": [
        "296 "
       ]
      },
      {
       "output_type": "stream",
       "stream": "stdout",
       "text": [
        "297 "
       ]
      },
      {
       "output_type": "stream",
       "stream": "stdout",
       "text": [
        "298 "
       ]
      },
      {
       "output_type": "stream",
       "stream": "stdout",
       "text": [
        "299 "
       ]
      },
      {
       "output_type": "stream",
       "stream": "stdout",
       "text": [
        "300 "
       ]
      },
      {
       "output_type": "stream",
       "stream": "stdout",
       "text": [
        "301 "
       ]
      },
      {
       "output_type": "stream",
       "stream": "stdout",
       "text": [
        "302 "
       ]
      },
      {
       "output_type": "stream",
       "stream": "stdout",
       "text": [
        "303 "
       ]
      },
      {
       "output_type": "stream",
       "stream": "stdout",
       "text": [
        "304 "
       ]
      },
      {
       "output_type": "stream",
       "stream": "stdout",
       "text": [
        "305 "
       ]
      },
      {
       "output_type": "stream",
       "stream": "stdout",
       "text": [
        "306 "
       ]
      },
      {
       "output_type": "stream",
       "stream": "stdout",
       "text": [
        "307 "
       ]
      },
      {
       "output_type": "stream",
       "stream": "stdout",
       "text": [
        "308 "
       ]
      },
      {
       "output_type": "stream",
       "stream": "stdout",
       "text": [
        "309 "
       ]
      },
      {
       "output_type": "stream",
       "stream": "stdout",
       "text": [
        "310 "
       ]
      },
      {
       "output_type": "stream",
       "stream": "stdout",
       "text": [
        "311 "
       ]
      },
      {
       "output_type": "stream",
       "stream": "stdout",
       "text": [
        "312 "
       ]
      },
      {
       "output_type": "stream",
       "stream": "stdout",
       "text": [
        "313 "
       ]
      },
      {
       "output_type": "stream",
       "stream": "stdout",
       "text": [
        "314 "
       ]
      },
      {
       "output_type": "stream",
       "stream": "stdout",
       "text": [
        "315 "
       ]
      },
      {
       "output_type": "stream",
       "stream": "stdout",
       "text": [
        "316 "
       ]
      },
      {
       "output_type": "stream",
       "stream": "stdout",
       "text": [
        "317 "
       ]
      },
      {
       "output_type": "stream",
       "stream": "stdout",
       "text": [
        "318 "
       ]
      },
      {
       "output_type": "stream",
       "stream": "stdout",
       "text": [
        "319 "
       ]
      },
      {
       "output_type": "stream",
       "stream": "stdout",
       "text": [
        "320 "
       ]
      },
      {
       "output_type": "stream",
       "stream": "stdout",
       "text": [
        "321 "
       ]
      },
      {
       "output_type": "stream",
       "stream": "stdout",
       "text": [
        "322 "
       ]
      },
      {
       "output_type": "stream",
       "stream": "stdout",
       "text": [
        "323 "
       ]
      },
      {
       "output_type": "stream",
       "stream": "stdout",
       "text": [
        "324 "
       ]
      },
      {
       "output_type": "stream",
       "stream": "stdout",
       "text": [
        "325 "
       ]
      },
      {
       "output_type": "stream",
       "stream": "stdout",
       "text": [
        "326 "
       ]
      },
      {
       "output_type": "stream",
       "stream": "stdout",
       "text": [
        "327 "
       ]
      },
      {
       "output_type": "stream",
       "stream": "stdout",
       "text": [
        "328 "
       ]
      },
      {
       "output_type": "stream",
       "stream": "stdout",
       "text": [
        "329 "
       ]
      },
      {
       "output_type": "stream",
       "stream": "stdout",
       "text": [
        "330 "
       ]
      },
      {
       "output_type": "stream",
       "stream": "stdout",
       "text": [
        "331 "
       ]
      },
      {
       "output_type": "stream",
       "stream": "stdout",
       "text": [
        "332 "
       ]
      },
      {
       "output_type": "stream",
       "stream": "stdout",
       "text": [
        "333 "
       ]
      },
      {
       "output_type": "stream",
       "stream": "stdout",
       "text": [
        "334 "
       ]
      },
      {
       "output_type": "stream",
       "stream": "stdout",
       "text": [
        "335 "
       ]
      },
      {
       "output_type": "stream",
       "stream": "stdout",
       "text": [
        "336 "
       ]
      },
      {
       "output_type": "stream",
       "stream": "stdout",
       "text": [
        "337 "
       ]
      },
      {
       "output_type": "stream",
       "stream": "stdout",
       "text": [
        "338 "
       ]
      },
      {
       "output_type": "stream",
       "stream": "stdout",
       "text": [
        "339 "
       ]
      },
      {
       "output_type": "stream",
       "stream": "stdout",
       "text": [
        "340 "
       ]
      },
      {
       "output_type": "stream",
       "stream": "stdout",
       "text": [
        "341 "
       ]
      },
      {
       "output_type": "stream",
       "stream": "stdout",
       "text": [
        "342 "
       ]
      },
      {
       "output_type": "stream",
       "stream": "stdout",
       "text": [
        "343 "
       ]
      },
      {
       "output_type": "stream",
       "stream": "stdout",
       "text": [
        "344 "
       ]
      },
      {
       "output_type": "stream",
       "stream": "stdout",
       "text": [
        "345 "
       ]
      },
      {
       "output_type": "stream",
       "stream": "stdout",
       "text": [
        "346 "
       ]
      },
      {
       "output_type": "stream",
       "stream": "stdout",
       "text": [
        "347 "
       ]
      },
      {
       "output_type": "stream",
       "stream": "stdout",
       "text": [
        "348 "
       ]
      },
      {
       "output_type": "stream",
       "stream": "stdout",
       "text": [
        "349 "
       ]
      },
      {
       "output_type": "stream",
       "stream": "stdout",
       "text": [
        "350 "
       ]
      },
      {
       "output_type": "stream",
       "stream": "stdout",
       "text": [
        "351 "
       ]
      },
      {
       "output_type": "stream",
       "stream": "stdout",
       "text": [
        "352 "
       ]
      },
      {
       "output_type": "stream",
       "stream": "stdout",
       "text": [
        "353 "
       ]
      },
      {
       "output_type": "stream",
       "stream": "stdout",
       "text": [
        "354 "
       ]
      },
      {
       "output_type": "stream",
       "stream": "stdout",
       "text": [
        "355 "
       ]
      },
      {
       "output_type": "stream",
       "stream": "stdout",
       "text": [
        "356 "
       ]
      },
      {
       "output_type": "stream",
       "stream": "stdout",
       "text": [
        "357 "
       ]
      },
      {
       "output_type": "stream",
       "stream": "stdout",
       "text": [
        "358 "
       ]
      },
      {
       "output_type": "stream",
       "stream": "stdout",
       "text": [
        "359 "
       ]
      },
      {
       "output_type": "stream",
       "stream": "stdout",
       "text": [
        "360 "
       ]
      },
      {
       "output_type": "stream",
       "stream": "stdout",
       "text": [
        "361 "
       ]
      },
      {
       "output_type": "stream",
       "stream": "stdout",
       "text": [
        "362 "
       ]
      },
      {
       "output_type": "stream",
       "stream": "stdout",
       "text": [
        "363 "
       ]
      },
      {
       "output_type": "stream",
       "stream": "stdout",
       "text": [
        "364 "
       ]
      },
      {
       "output_type": "stream",
       "stream": "stdout",
       "text": [
        "365 "
       ]
      },
      {
       "output_type": "stream",
       "stream": "stdout",
       "text": [
        "366 "
       ]
      },
      {
       "output_type": "stream",
       "stream": "stdout",
       "text": [
        "367 "
       ]
      },
      {
       "output_type": "stream",
       "stream": "stdout",
       "text": [
        "368 "
       ]
      },
      {
       "output_type": "stream",
       "stream": "stdout",
       "text": [
        "369 "
       ]
      },
      {
       "output_type": "stream",
       "stream": "stdout",
       "text": [
        "370 "
       ]
      },
      {
       "output_type": "stream",
       "stream": "stdout",
       "text": [
        "371 "
       ]
      },
      {
       "output_type": "stream",
       "stream": "stdout",
       "text": [
        "372 "
       ]
      },
      {
       "output_type": "stream",
       "stream": "stdout",
       "text": [
        "373 "
       ]
      },
      {
       "output_type": "stream",
       "stream": "stdout",
       "text": [
        "374 "
       ]
      },
      {
       "output_type": "stream",
       "stream": "stdout",
       "text": [
        "375 "
       ]
      },
      {
       "output_type": "stream",
       "stream": "stdout",
       "text": [
        "376 "
       ]
      },
      {
       "output_type": "stream",
       "stream": "stdout",
       "text": [
        "377 "
       ]
      },
      {
       "output_type": "stream",
       "stream": "stdout",
       "text": [
        "378 "
       ]
      },
      {
       "output_type": "stream",
       "stream": "stdout",
       "text": [
        "379 "
       ]
      },
      {
       "output_type": "stream",
       "stream": "stdout",
       "text": [
        "380 "
       ]
      },
      {
       "output_type": "stream",
       "stream": "stdout",
       "text": [
        "381 "
       ]
      },
      {
       "output_type": "stream",
       "stream": "stdout",
       "text": [
        "382 "
       ]
      },
      {
       "output_type": "stream",
       "stream": "stdout",
       "text": [
        "383 "
       ]
      },
      {
       "output_type": "stream",
       "stream": "stdout",
       "text": [
        "384 "
       ]
      },
      {
       "output_type": "stream",
       "stream": "stdout",
       "text": [
        "385 "
       ]
      },
      {
       "output_type": "stream",
       "stream": "stdout",
       "text": [
        "386 "
       ]
      },
      {
       "output_type": "stream",
       "stream": "stdout",
       "text": [
        "387 "
       ]
      },
      {
       "output_type": "stream",
       "stream": "stdout",
       "text": [
        "388 "
       ]
      },
      {
       "output_type": "stream",
       "stream": "stdout",
       "text": [
        "389 "
       ]
      },
      {
       "output_type": "stream",
       "stream": "stdout",
       "text": [
        "390 "
       ]
      },
      {
       "output_type": "stream",
       "stream": "stdout",
       "text": [
        "391 "
       ]
      },
      {
       "output_type": "stream",
       "stream": "stdout",
       "text": [
        "392 "
       ]
      },
      {
       "output_type": "stream",
       "stream": "stdout",
       "text": [
        "393 "
       ]
      },
      {
       "output_type": "stream",
       "stream": "stdout",
       "text": [
        "394 "
       ]
      },
      {
       "output_type": "stream",
       "stream": "stdout",
       "text": [
        "395 "
       ]
      },
      {
       "output_type": "stream",
       "stream": "stdout",
       "text": [
        "396 "
       ]
      },
      {
       "output_type": "stream",
       "stream": "stdout",
       "text": [
        "397 "
       ]
      },
      {
       "output_type": "stream",
       "stream": "stdout",
       "text": [
        "398 "
       ]
      },
      {
       "output_type": "stream",
       "stream": "stdout",
       "text": [
        "399 "
       ]
      },
      {
       "output_type": "stream",
       "stream": "stdout",
       "text": [
        "400 "
       ]
      },
      {
       "output_type": "stream",
       "stream": "stdout",
       "text": [
        "401 "
       ]
      },
      {
       "output_type": "stream",
       "stream": "stdout",
       "text": [
        "402 "
       ]
      },
      {
       "output_type": "stream",
       "stream": "stdout",
       "text": [
        "403 "
       ]
      },
      {
       "output_type": "stream",
       "stream": "stdout",
       "text": [
        "404 "
       ]
      },
      {
       "output_type": "stream",
       "stream": "stdout",
       "text": [
        "405 "
       ]
      },
      {
       "output_type": "stream",
       "stream": "stdout",
       "text": [
        "406 "
       ]
      },
      {
       "output_type": "stream",
       "stream": "stdout",
       "text": [
        "407 "
       ]
      },
      {
       "output_type": "stream",
       "stream": "stdout",
       "text": [
        "408 "
       ]
      },
      {
       "output_type": "stream",
       "stream": "stdout",
       "text": [
        "409 "
       ]
      },
      {
       "output_type": "stream",
       "stream": "stdout",
       "text": [
        "410 "
       ]
      },
      {
       "output_type": "stream",
       "stream": "stdout",
       "text": [
        "411 "
       ]
      },
      {
       "output_type": "stream",
       "stream": "stdout",
       "text": [
        "412 "
       ]
      },
      {
       "output_type": "stream",
       "stream": "stdout",
       "text": [
        "413 "
       ]
      },
      {
       "output_type": "stream",
       "stream": "stdout",
       "text": [
        "414 "
       ]
      },
      {
       "output_type": "stream",
       "stream": "stdout",
       "text": [
        "415 "
       ]
      },
      {
       "output_type": "stream",
       "stream": "stdout",
       "text": [
        "416 "
       ]
      },
      {
       "output_type": "stream",
       "stream": "stdout",
       "text": [
        "417 "
       ]
      },
      {
       "output_type": "stream",
       "stream": "stdout",
       "text": [
        "418 "
       ]
      },
      {
       "output_type": "stream",
       "stream": "stdout",
       "text": [
        "419 "
       ]
      },
      {
       "output_type": "stream",
       "stream": "stdout",
       "text": [
        "420 "
       ]
      },
      {
       "output_type": "stream",
       "stream": "stdout",
       "text": [
        "421 "
       ]
      },
      {
       "output_type": "stream",
       "stream": "stdout",
       "text": [
        "422 "
       ]
      },
      {
       "output_type": "stream",
       "stream": "stdout",
       "text": [
        "423 "
       ]
      },
      {
       "output_type": "stream",
       "stream": "stdout",
       "text": [
        "424 "
       ]
      },
      {
       "output_type": "stream",
       "stream": "stdout",
       "text": [
        "425 "
       ]
      },
      {
       "output_type": "stream",
       "stream": "stdout",
       "text": [
        "426 "
       ]
      },
      {
       "output_type": "stream",
       "stream": "stdout",
       "text": [
        "427 "
       ]
      },
      {
       "output_type": "stream",
       "stream": "stdout",
       "text": [
        "428 "
       ]
      },
      {
       "output_type": "stream",
       "stream": "stdout",
       "text": [
        "429 "
       ]
      },
      {
       "output_type": "stream",
       "stream": "stdout",
       "text": [
        "430 "
       ]
      },
      {
       "output_type": "stream",
       "stream": "stdout",
       "text": [
        "431 "
       ]
      },
      {
       "output_type": "stream",
       "stream": "stdout",
       "text": [
        "432 "
       ]
      },
      {
       "output_type": "stream",
       "stream": "stdout",
       "text": [
        "433 "
       ]
      },
      {
       "output_type": "stream",
       "stream": "stdout",
       "text": [
        "434 "
       ]
      },
      {
       "output_type": "stream",
       "stream": "stdout",
       "text": [
        "435 "
       ]
      },
      {
       "output_type": "stream",
       "stream": "stdout",
       "text": [
        "436 "
       ]
      },
      {
       "output_type": "stream",
       "stream": "stdout",
       "text": [
        "437 "
       ]
      },
      {
       "output_type": "stream",
       "stream": "stdout",
       "text": [
        "438 "
       ]
      },
      {
       "output_type": "stream",
       "stream": "stdout",
       "text": [
        "439 "
       ]
      },
      {
       "output_type": "stream",
       "stream": "stdout",
       "text": [
        "440 "
       ]
      },
      {
       "output_type": "stream",
       "stream": "stdout",
       "text": [
        "441 "
       ]
      },
      {
       "output_type": "stream",
       "stream": "stdout",
       "text": [
        "442 "
       ]
      },
      {
       "output_type": "stream",
       "stream": "stdout",
       "text": [
        "443 "
       ]
      },
      {
       "output_type": "stream",
       "stream": "stdout",
       "text": [
        "444 "
       ]
      },
      {
       "output_type": "stream",
       "stream": "stdout",
       "text": [
        "445 "
       ]
      },
      {
       "output_type": "stream",
       "stream": "stdout",
       "text": [
        "446 "
       ]
      },
      {
       "output_type": "stream",
       "stream": "stdout",
       "text": [
        "447 "
       ]
      },
      {
       "output_type": "stream",
       "stream": "stdout",
       "text": [
        "448 "
       ]
      },
      {
       "output_type": "stream",
       "stream": "stdout",
       "text": [
        "449 "
       ]
      },
      {
       "output_type": "stream",
       "stream": "stdout",
       "text": [
        "450 "
       ]
      },
      {
       "output_type": "stream",
       "stream": "stdout",
       "text": [
        "451 "
       ]
      },
      {
       "output_type": "stream",
       "stream": "stdout",
       "text": [
        "452 "
       ]
      },
      {
       "output_type": "stream",
       "stream": "stdout",
       "text": [
        "453 "
       ]
      },
      {
       "output_type": "stream",
       "stream": "stdout",
       "text": [
        "454 "
       ]
      },
      {
       "output_type": "stream",
       "stream": "stdout",
       "text": [
        "455 "
       ]
      },
      {
       "output_type": "stream",
       "stream": "stdout",
       "text": [
        "456 "
       ]
      },
      {
       "output_type": "stream",
       "stream": "stdout",
       "text": [
        "457 "
       ]
      },
      {
       "output_type": "stream",
       "stream": "stdout",
       "text": [
        "458 "
       ]
      },
      {
       "output_type": "stream",
       "stream": "stdout",
       "text": [
        "459 "
       ]
      },
      {
       "output_type": "stream",
       "stream": "stdout",
       "text": [
        "460 "
       ]
      },
      {
       "output_type": "stream",
       "stream": "stdout",
       "text": [
        "461 "
       ]
      },
      {
       "output_type": "stream",
       "stream": "stdout",
       "text": [
        "462 "
       ]
      },
      {
       "output_type": "stream",
       "stream": "stdout",
       "text": [
        "463 "
       ]
      },
      {
       "output_type": "stream",
       "stream": "stdout",
       "text": [
        "464 "
       ]
      },
      {
       "output_type": "stream",
       "stream": "stdout",
       "text": [
        "465 "
       ]
      },
      {
       "output_type": "stream",
       "stream": "stdout",
       "text": [
        "466 "
       ]
      },
      {
       "output_type": "stream",
       "stream": "stdout",
       "text": [
        "467 "
       ]
      },
      {
       "output_type": "stream",
       "stream": "stdout",
       "text": [
        "468 "
       ]
      },
      {
       "output_type": "stream",
       "stream": "stdout",
       "text": [
        "469 "
       ]
      },
      {
       "output_type": "stream",
       "stream": "stdout",
       "text": [
        "470 "
       ]
      },
      {
       "output_type": "stream",
       "stream": "stdout",
       "text": [
        "471 "
       ]
      },
      {
       "output_type": "stream",
       "stream": "stdout",
       "text": [
        "472 "
       ]
      },
      {
       "output_type": "stream",
       "stream": "stdout",
       "text": [
        "473 "
       ]
      },
      {
       "output_type": "stream",
       "stream": "stdout",
       "text": [
        "474 "
       ]
      },
      {
       "output_type": "stream",
       "stream": "stdout",
       "text": [
        "475 "
       ]
      },
      {
       "output_type": "stream",
       "stream": "stdout",
       "text": [
        "476 "
       ]
      },
      {
       "output_type": "stream",
       "stream": "stdout",
       "text": [
        "477 "
       ]
      },
      {
       "output_type": "stream",
       "stream": "stdout",
       "text": [
        "478 "
       ]
      },
      {
       "output_type": "stream",
       "stream": "stdout",
       "text": [
        "479 "
       ]
      },
      {
       "output_type": "stream",
       "stream": "stdout",
       "text": [
        "480 "
       ]
      },
      {
       "output_type": "stream",
       "stream": "stdout",
       "text": [
        "481 "
       ]
      },
      {
       "output_type": "stream",
       "stream": "stdout",
       "text": [
        "482 "
       ]
      },
      {
       "output_type": "stream",
       "stream": "stdout",
       "text": [
        "483 "
       ]
      },
      {
       "output_type": "stream",
       "stream": "stdout",
       "text": [
        "484 "
       ]
      },
      {
       "output_type": "stream",
       "stream": "stdout",
       "text": [
        "485 "
       ]
      },
      {
       "output_type": "stream",
       "stream": "stdout",
       "text": [
        "486 "
       ]
      },
      {
       "output_type": "stream",
       "stream": "stdout",
       "text": [
        "487 "
       ]
      },
      {
       "output_type": "stream",
       "stream": "stdout",
       "text": [
        "488 "
       ]
      },
      {
       "output_type": "stream",
       "stream": "stdout",
       "text": [
        "489 "
       ]
      },
      {
       "output_type": "stream",
       "stream": "stdout",
       "text": [
        "490 "
       ]
      },
      {
       "output_type": "stream",
       "stream": "stdout",
       "text": [
        "491 "
       ]
      },
      {
       "output_type": "stream",
       "stream": "stdout",
       "text": [
        "492 "
       ]
      },
      {
       "output_type": "stream",
       "stream": "stdout",
       "text": [
        "493 "
       ]
      },
      {
       "output_type": "stream",
       "stream": "stdout",
       "text": [
        "494 "
       ]
      },
      {
       "output_type": "stream",
       "stream": "stdout",
       "text": [
        "495 "
       ]
      },
      {
       "output_type": "stream",
       "stream": "stdout",
       "text": [
        "496 "
       ]
      },
      {
       "output_type": "stream",
       "stream": "stdout",
       "text": [
        "497 "
       ]
      },
      {
       "output_type": "stream",
       "stream": "stdout",
       "text": [
        "498 "
       ]
      },
      {
       "output_type": "stream",
       "stream": "stdout",
       "text": [
        "499 "
       ]
      },
      {
       "output_type": "stream",
       "stream": "stdout",
       "text": [
        "500 "
       ]
      },
      {
       "output_type": "stream",
       "stream": "stdout",
       "text": [
        "501 "
       ]
      },
      {
       "output_type": "stream",
       "stream": "stdout",
       "text": [
        "502 "
       ]
      },
      {
       "output_type": "stream",
       "stream": "stdout",
       "text": [
        "503 "
       ]
      },
      {
       "output_type": "stream",
       "stream": "stdout",
       "text": [
        "504 "
       ]
      },
      {
       "output_type": "stream",
       "stream": "stdout",
       "text": [
        "505 "
       ]
      },
      {
       "output_type": "stream",
       "stream": "stdout",
       "text": [
        "506 "
       ]
      },
      {
       "output_type": "stream",
       "stream": "stdout",
       "text": [
        "507 "
       ]
      },
      {
       "output_type": "stream",
       "stream": "stdout",
       "text": [
        "508 "
       ]
      },
      {
       "output_type": "stream",
       "stream": "stdout",
       "text": [
        "509 "
       ]
      },
      {
       "output_type": "stream",
       "stream": "stdout",
       "text": [
        "510 "
       ]
      },
      {
       "output_type": "stream",
       "stream": "stdout",
       "text": [
        "511 "
       ]
      },
      {
       "output_type": "stream",
       "stream": "stdout",
       "text": [
        "512\n"
       ]
      }
     ],
     "prompt_number": 22
    },
    {
     "cell_type": "code",
     "collapsed": false,
     "input": [
      "def calc2d( threshold, peaks_C2d, peaks_B2d ):\n",
      "    singles2d = []\n",
      "    doubles2d = []\n",
      "    sin_con2d = []\n",
      "    corr_nn2d = []\n",
      "    corr_ne2d = []\n",
      "    for x in xrange (0, len(peaks_C2d) ):\n",
      "        singles, corr_2, doubles, dub_ran, sin_con, sin_con_ran, corr_nn, corr_nn_ref, corr_ne = calc( threshold, peaks_C2d[x] , peaks_B2d[x] )        \n",
      "        singles2d.append( singles )\n",
      "        doubles2d.append( doubles )\n",
      "        sin_con2d.append( sin_con )\n",
      "        corr_nn2d.append( corr_nn )\n",
      "        corr_ne2d.append( corr_ne )\n",
      "    return singles2d, doubles2d, sin_con2d, corr_nn2d, corr_ne2d"
     ],
     "language": "python",
     "metadata": {},
     "outputs": [],
     "prompt_number": 23
    },
    {
     "cell_type": "code",
     "collapsed": false,
     "input": [
      "singles2d, doubles2d, sin_con2d, corr_nn2d, corr_ne2d = calc2d( 0.0164, peaks_C2d, peaks_B2d )"
     ],
     "language": "python",
     "metadata": {},
     "outputs": [],
     "prompt_number": 26
    },
    {
     "cell_type": "code",
     "collapsed": false,
     "input": [
      "X, Y = meshgrid( xaxis, yaxis )\n",
      "VV = pylab.zeros( X.shape )\n",
      "for i in range( len(doubles2d) ):\n",
      "    for j in range( len(doubles2d[i][3] ) ):\n",
      "        VV[i,j] = doubles2d[i][3][j]\n",
      "figure()\n",
      "pcolor( X, Y, VV, cmap='jet' )\n",
      "axis([min(xaxis), max(xaxis), min(yaxis), max(yaxis)])\n",
      "title(\"P(DD)\")\n",
      "xlabel( \"PD time (s)\" )\n",
      "ylabel( \"ln( PV move (V) )\" )\n",
      "cbar = plt.colorbar()\n",
      "cbar.ax.set_ylabel( \"Probability\" )\n",
      "show()"
     ],
     "language": "python",
     "metadata": {},
     "outputs": [
      {
       "metadata": {},
       "output_type": "display_data",
       "png": "[encoded data removed]",
       "text": [
        "<matplotlib.figure.Figure at 0x5bbaf70>"
       ]
      }
     ],
     "prompt_number": 27
    },
    {
     "cell_type": "code",
     "collapsed": false,
     "input": [
      "def spin_frac2d( *args ):\n",
      "    X, Y = meshgrid( yaxis, xaxis )\n",
      "    VV = pylab.zeros( X.shape )\n",
      "    idxs = []\n",
      "    titles = [\"P(Uc)\",\"P(Ub)\",\"P(Dc)\",\"P(Db)\"]\n",
      "    if \"Uc\" in args:\n",
      "        idxs.append( 0 )\n",
      "    if \"Ub\" in args:\n",
      "        idxs.append( 1 )\n",
      "    if \"Dc\" in args:\n",
      "        idxs.append( 2 )\n",
      "    if \"Db\" in args:\n",
      "        idxs.append( 3 )\n",
      "    for x in idxs:\n",
      "        for i in range( len(singles2d) ):\n",
      "            for j in range( len(singles2d[i][x] ) ):\n",
      "                VV[j,i] = singles2d[i][x][j]\n",
      "        figure()\n",
      "        pcolor( X, Y, VV, cmap='jet', vmin=0, vmax=1 )\n",
      "        axis([min(yaxis), max(yaxis), min(xaxis), max(xaxis)])\n",
      "        title( titles[x] )\n",
      "        ylabel( \"PV move (V)\" )\n",
      "        xlabel( \"ln( PD time (s) )\" )\n",
      "        cbar = plt.colorbar()\n",
      "        cbar.ax.set_ylabel( \"Probability\" )\n",
      "    return"
     ],
     "language": "python",
     "metadata": {},
     "outputs": [],
     "prompt_number": 46
    },
    {
     "cell_type": "code",
     "collapsed": false,
     "input": [
      "spin_frac2d( \"Uc\", \"Ub\", \"Dc\", \"Db\" )"
     ],
     "language": "python",
     "metadata": {},
     "outputs": [
      {
       "metadata": {},
       "output_type": "display_data",
       "png": "[encoded data removed]",
       "text": [
        "<matplotlib.figure.Figure at 0x9081710>"
       ]
      },
      {
       "metadata": {},
       "output_type": "display_data",
       "png": "[encoded data removed]",
       "text": [
        "<matplotlib.figure.Figure at 0x97ed630>"
       ]
      },
      {
       "metadata": {},
       "output_type": "display_data",
       "png": "[encoded data removed]",
       "text": [
        "<matplotlib.figure.Figure at 0x9684e30>"
       ]
      },
      {
       "metadata": {},
       "output_type": "display_data",
       "png": "[encoded data removed]",
       "text": [
        "<matplotlib.figure.Figure at 0x859be10>"
       ]
      }
     ],
     "prompt_number": 47
    },
    {
     "cell_type": "code",
     "collapsed": false,
     "input": [
      "def corr_dub2d( *args ):\n",
      "    X, Y = meshgrid( xaxis, yaxis )\n",
      "    VV = pylab.zeros( X.shape )\n",
      "    idxs = []\n",
      "    titles = [\"P(UU)\",\"P(UD)\",\"P(DU)\",\"P(DD)\"]\n",
      "    if \"UU\" in args:\n",
      "        idxs.append( 0 )\n",
      "    if \"UD\" in args:\n",
      "        idxs.append( 1 )\n",
      "    if \"DU\" in args:\n",
      "        idxs.append( 2 )\n",
      "    if \"DD\" in args:\n",
      "        idxs.append( 3 )\n",
      "    for x in idxs:\n",
      "        for i in range( len(doubles2d) ):\n",
      "            for j in range( len(doubles2d[i][x] ) ):\n",
      "                VV[i,j] = doubles2d[i][x][j]\n",
      "        figure()\n",
      "        pcolor( X, Y, VV, cmap='jet' )\n",
      "        axis([min(xaxis), max(xaxis), min(yaxis), max(yaxis)])\n",
      "        title( titles[x] )\n",
      "        xlabel( \"PV move (V)\" )\n",
      "        ylabel( \"ln( PD time (s) )\" )\n",
      "        cbar = plt.colorbar()\n",
      "        cbar.ax.set_ylabel( \"Probability\" )\n",
      "    return"
     ],
     "language": "python",
     "metadata": {},
     "outputs": [],
     "prompt_number": 136
    },
    {
     "cell_type": "code",
     "collapsed": false,
     "input": [
      "corr_dub2d( \"UU\", \"DD\", \"DU\", \"UD\" )"
     ],
     "language": "python",
     "metadata": {},
     "outputs": [
      {
       "metadata": {},
       "output_type": "display_data",
       "png": "[encoded data removed]",
       "text": [
        "<matplotlib.figure.Figure at 0x908bcf0>"
       ]
      },
      {
       "metadata": {},
       "output_type": "display_data",
       "png": "[encoded data removed]",
       "text": [
        "<matplotlib.figure.Figure at 0x8761e30>"
       ]
      },
      {
       "metadata": {},
       "output_type": "display_data",
       "png": "[encoded data removed]",
       "text": [
        "<matplotlib.figure.Figure at 0x808dcb0>"
       ]
      },
      {
       "metadata": {},
       "output_type": "display_data",
       "png": "[encoded data removed]",
       "text": [
        "<matplotlib.figure.Figure at 0x870e570>"
       ]
      }
     ],
     "prompt_number": 137
    },
    {
     "cell_type": "code",
     "collapsed": false,
     "input": [
      "def corr_sin2d( *args ):\n",
      "    X, Y = meshgrid( xaxis, yaxis )\n",
      "    VV = pylab.zeros( X.shape )\n",
      "    idxs = []\n",
      "    titles = [[\"P(Ub|Uc)\",\"P(Db|Uc)\",\"P(Ub|Dc)\",\"P(Db|Dc)\"],[\"P(Uc|Ub)\",\"P(Uc|Db)\",\"P(Dc|Ub)\",\"P(Dc|Db)\"]]\n",
      "    if \"C\" in args:\n",
      "        idxs.append( 0 )\n",
      "    if \"B\" in args:\n",
      "        idxs.append( 1 )\n",
      "    for x in idxs:\n",
      "        f1, ((ax1, ax2), (ax3, ax4)) = plt.subplots(2, 2, sharex='col', sharey='row')\n",
      "        for i in range( len(sin_con2d) ):\n",
      "            for j in range( len(sin_con2d[i][x][0] ) ):\n",
      "                VV[i,j] = sin_con2d[i][x][0][j]\n",
      "        ax1.pcolor( X, Y, VV, cmap='jet', vmin=0, vmax=1 )\n",
      "        ax1.axis([min(xaxis), max(xaxis), min(yaxis), max(yaxis)])\n",
      "        ax1.set_title( titles[x][0] )\n",
      "        ax1.set_xlabel( \"PV move (V)\" )\n",
      "        ax1.set_ylabel( \"ln( PD time (s) )\" )\n",
      "        for i in range( len(sin_con2d) ):\n",
      "            for j in range( len(sin_con2d[i][x][1] ) ):\n",
      "                VV[i,j] = sin_con2d[i][x][1][j]\n",
      "        ax2.pcolor( X, Y, VV, cmap='jet', vmin=0, vmax=1  )\n",
      "        ax2.axis([min(xaxis), max(xaxis), min(yaxis), max(yaxis)])\n",
      "        ax2.set_title( titles[x][1] )\n",
      "        ax2.set_xlabel( \"PV move (V)\" )\n",
      "        ax2.set_ylabel( \"ln( PD time (s) )\" )\n",
      "        for i in range( len(sin_con2d) ):\n",
      "            for j in range( len(sin_con2d[i][x][2] ) ):\n",
      "                VV[i,j] = sin_con2d[i][x][2][j]\n",
      "        ax3.pcolor( X, Y, VV, cmap='jet', vmin=0, vmax=1  )\n",
      "        ax3.axis([min(xaxis), max(xaxis), min(yaxis), max(yaxis)])\n",
      "        ax3.set_title( titles[x][2] )\n",
      "        ax3.set_xlabel( \"PV move (V)\" )\n",
      "        ax3.set_ylabel( \"ln( PD time (s) )\" )\n",
      "        for i in range( len(sin_con2d) ):\n",
      "            for j in range( len(sin_con2d[i][x][3] ) ):\n",
      "                VV[i,j] = sin_con2d[i][x][3][j]\n",
      "        im = ax4.pcolor( X, Y, VV, cmap='jet', vmin=0, vmax=1  )\n",
      "        ax4.axis([min(xaxis), max(xaxis), min(yaxis), max(yaxis)])\n",
      "        ax4.set_title( titles[x][3] )\n",
      "        ax4.set_xlabel( \"PV move (V)\" )\n",
      "        ax4.set_ylabel( \"ln( PD time (s) )\" )\n",
      "        cax = f1.add_axes([0.95, 0.1, 0.03, 0.8])\n",
      "        cbar = f1.colorbar(im, cax=cax)\n",
      "        cbar.ax.set_ylabel( \"Probability\" )\n",
      "    return"
     ],
     "language": "python",
     "metadata": {},
     "outputs": [],
     "prompt_number": 186
    },
    {
     "cell_type": "code",
     "collapsed": false,
     "input": [
      "corr_sin2d( \"B\", \"C\")"
     ],
     "language": "python",
     "metadata": {},
     "outputs": [
      {
       "metadata": {},
       "output_type": "display_data",
       "png": "[encoded data removed]",
       "text": [
        "<matplotlib.figure.Figure at 0x84d6df0>"
       ]
      },
      {
       "metadata": {},
       "output_type": "display_data",
       "png": "[encoded data removed]",
       "text": [
        "<matplotlib.figure.Figure at 0x9801110>"
       ]
      }
     ],
     "prompt_number": 193
    },
    {
     "cell_type": "code",
     "collapsed": false,
     "input": [
      "def corr_NN2d( *args ):\n",
      "    X, Y = meshgrid( xaxis, yaxis )\n",
      "    VV = pylab.zeros( X.shape )\n",
      "    idxs = []\n",
      "    if \"UU\" in args:\n",
      "        idxs.append(0)\n",
      "    if \"UD\" in args:\n",
      "        idxs.append(1)\n",
      "    if \"DU\" in args:\n",
      "        idxs.append(2)\n",
      "    if \"DD\" in args:\n",
      "        idxs.append(3)\n",
      "    states = [\"UU\",\"UD\",\"DU\",\"DD\"]\n",
      "    for x in idxs:\n",
      "        f1, ((ax1, ax2), (ax3, ax4)) = plt.subplots(2, 2, sharex='col', sharey='row')\n",
      "        for i in range( len(corr_nn2d) ):\n",
      "            for j in range( len(corr_nn2d[i][x][0] ) ):\n",
      "                VV[i,j] = corr_nn2d[i][x][0][j]\n",
      "        ax1.pcolor( X, Y, VV, cmap='jet', vmin=0, vmax=1 )\n",
      "        ax1.axis([min(xaxis), max(xaxis), min(yaxis), max(yaxis)])\n",
      "        ax1.set_title( \"P(UU|\" + states[x] + \")\" )\n",
      "        ax1.set_xlabel( \"PV move (V)\" )\n",
      "        ax1.set_ylabel( \"ln( PD time (s) )\" )\n",
      "        for i in range( len(corr_nn2d) ):\n",
      "            for j in range( len(corr_nn2d[i][x][1] ) ):\n",
      "                VV[i,j] = corr_nn2d[i][x][1][j]\n",
      "        ax2.pcolor( X, Y, VV, cmap='jet', vmin=0, vmax=1  )\n",
      "        ax2.axis([min(xaxis), max(xaxis), min(yaxis), max(yaxis)])\n",
      "        ax2.set_title( \"P(UD|\" + states[x] + \")\" )\n",
      "        ax2.set_xlabel( \"PV move (V)\" )\n",
      "        ax2.set_ylabel( \"ln( PD time (s) )\" )\n",
      "        for i in range( len(corr_nn2d) ):\n",
      "            for j in range( len(corr_nn2d[i][x][2] ) ):\n",
      "                VV[i,j] = corr_nn2d[i][x][2][j]\n",
      "        ax3.pcolor( X, Y, VV, cmap='jet', vmin=0, vmax=1  )\n",
      "        ax3.axis([min(xaxis), max(xaxis), min(yaxis), max(yaxis)])\n",
      "        ax3.set_title( \"P(DU|\" + states[x] + \")\" )\n",
      "        ax3.set_xlabel( \"PV move (V)\" )\n",
      "        ax3.set_ylabel( \"ln( PD time (s) )\" )\n",
      "        for i in range( len(corr_nn2d) ):\n",
      "            for j in range( len(corr_nn2d[i][x][3] ) ):\n",
      "                VV[i,j] = corr_nn2d[i][x][3][j]\n",
      "        im = ax4.pcolor( X, Y, VV, cmap='jet', vmin=0, vmax=1  )\n",
      "        ax4.axis([min(xaxis), max(xaxis), min(yaxis), max(yaxis)])\n",
      "        ax4.set_title( \"P(DD|\" + states[x] + \")\" )\n",
      "        ax4.set_xlabel( \"PV move (V)\" )\n",
      "        ax4.set_ylabel( \"ln( PD time (s) )\" )\n",
      "        cax = f1.add_axes([0.95, 0.1, 0.03, 0.8])\n",
      "        cbar = f1.colorbar(im, cax=cax)\n",
      "        cbar.ax.set_ylabel( \"Probability\" )\n",
      "    return"
     ],
     "language": "python",
     "metadata": {},
     "outputs": [],
     "prompt_number": 194
    },
    {
     "cell_type": "code",
     "collapsed": false,
     "input": [
      "corr_NN2d( \"UU\",\"UD\",\"DU\",\"DD\" )"
     ],
     "language": "python",
     "metadata": {},
     "outputs": [
      {
       "metadata": {},
       "output_type": "display_data",
       "png": "[encoded data removed]",
       "text": [
        "<matplotlib.figure.Figure at 0x84861f0>"
       ]
      },
      {
       "metadata": {},
       "output_type": "display_data",
       "png": "[encoded data removed]",
       "text": [
        "<matplotlib.figure.Figure at 0x8332a70>"
       ]
      },
      {
       "metadata": {},
       "output_type": "display_data",
       "png": "[encoded data removed]",
       "text": [
        "<matplotlib.figure.Figure at 0x97434f0>"
       ]
      },
      {
       "metadata": {},
       "output_type": "display_data",
       "png": "[encoded data removed]",
       "text": [
        "<matplotlib.figure.Figure at 0x9ba6130>"
       ]
      }
     ],
     "prompt_number": 195
    },
    {
     "cell_type": "code",
     "collapsed": false,
     "input": [
      "def corr_NE2d( *args ):\n",
      "    X, Y = meshgrid( xaxis, yaxis )\n",
      "    VV = pylab.zeros( X.shape )\n",
      "    idxs = []\n",
      "    if \"UU\" in args:\n",
      "        idxs.append(0)\n",
      "    if \"UD\" in args:\n",
      "        idxs.append(1)\n",
      "    if \"DU\" in args:\n",
      "        idxs.append(2)\n",
      "    if \"DD\" in args:\n",
      "        idxs.append(3)\n",
      "    states = [\"UU\",\"UD\",\"DU\",\"DD\"]\n",
      "    titles = [[\"P(Ub|UU)\",\"P(Db|UU)\",\"P(Uc|UU)\",\"P(Dc|UU)\"],[\"P(Db|UD)\",\"P(Ub|UD)\",\"P(Uc|UD)\",\"P(Dc|UD)\"],[\"P(Ub|DU)\",\"P(Db|DU)\",\"P(Dc|DU)\",\"P(Uc|DU)\"],[\"P(Db|DD)\",\"P(Ub|DD)\",\"P(Dc|DD)\",\"P(Uc|DD)\"]]\n",
      "    for x in idxs:\n",
      "        f1, ((ax1, ax2), (ax3, ax4)) = plt.subplots(2, 2, sharex='col', sharey='row')\n",
      "        for i in range( len(corr_ne2d) ):\n",
      "            for j in range( len(corr_ne2d[i][x][0] ) ):\n",
      "                VV[i,j] = corr_ne2d[i][x][0][j]\n",
      "        ax1.pcolor( X, Y, VV, cmap='jet', vmin=0, vmax=1 )\n",
      "        ax1.axis([min(xaxis), max(xaxis), min(yaxis), max(yaxis)])\n",
      "        ax1.set_title( titles[x][0] )\n",
      "        ax1.set_xlabel( \"PV move (V)\" )\n",
      "        ax1.set_ylabel( \"ln( PD time (s) )\" )\n",
      "        for i in range( len(corr_ne2d) ):\n",
      "            for j in range( len(corr_ne2d[i][x][1] ) ):\n",
      "                VV[i,j] = corr_ne2d[i][x][1][j]\n",
      "        ax2.pcolor( X, Y, VV, cmap='jet', vmin=0, vmax=1  )\n",
      "        ax2.axis([min(xaxis), max(xaxis), min(yaxis), max(yaxis)])\n",
      "        ax2.set_title( titles[x][1] )\n",
      "        ax2.set_xlabel( \"PV move (V)\" )\n",
      "        ax2.set_ylabel( \"ln( PD time (s) )\" )\n",
      "        for i in range( len(corr_ne2d) ):\n",
      "            for j in range( len(corr_ne2d[i][x][2] ) ):\n",
      "                VV[i,j] = corr_ne2d[i][x][2][j]\n",
      "        ax3.pcolor( X, Y, VV, cmap='jet', vmin=0, vmax=1  )\n",
      "        ax3.axis([min(xaxis), max(xaxis), min(yaxis), max(yaxis)])\n",
      "        ax3.set_title( titles[x][2] )\n",
      "        ax3.set_xlabel( \"PV move (V)\" )\n",
      "        ax3.set_ylabel( \"ln( PD time (s) )\" )\n",
      "        for i in range( len(corr_ne2d) ):\n",
      "            for j in range( len(corr_ne2d[i][x][3] ) ):\n",
      "                VV[i,j] = corr_ne2d[i][x][3][j]\n",
      "        im = ax4.pcolor( X, Y, VV, cmap='jet', vmin=0, vmax=1  )\n",
      "        ax4.axis([min(xaxis), max(xaxis), min(yaxis), max(yaxis)])\n",
      "        ax4.set_title( titles[x][3] )\n",
      "        ax4.set_xlabel( \"PV move (V)\" )\n",
      "        ax4.set_ylabel( \"ln( PD time (s) )\" )\n",
      "        cax = f1.add_axes([0.91, 0.1, 0.03, 0.8])\n",
      "        cbar = f1.colorbar(im, cax=cax)\n",
      "        cbar.ax.set_ylabel( \"Probability\" )\n",
      "    return"
     ],
     "language": "python",
     "metadata": {},
     "outputs": [],
     "prompt_number": 52
    },
    {
     "cell_type": "code",
     "collapsed": false,
     "input": [
      "corr_NE2d( \"UD\", \"DD\", \"DU\", \"UU\" )"
     ],
     "language": "python",
     "metadata": {},
     "outputs": [
      {
       "metadata": {},
       "output_type": "display_data",
       "png": "[encoded data removed]",
       "text": [
        "<matplotlib.figure.Figure at 0x8f7b7d0>"
       ]
      },
      {
       "metadata": {},
       "output_type": "display_data",
       "png": "[encoded data removed]",
       "text": [
        "<matplotlib.figure.Figure at 0x92087f0>"
       ]
      },
      {
       "metadata": {},
       "output_type": "display_data",
       "png": "[encoded data removed]",
       "text": [
        "<matplotlib.figure.Figure at 0x9506b50>"
       ]
      },
      {
       "metadata": {},
       "output_type": "display_data",
       "png": "[encoded data removed]",
       "text": [
        "<matplotlib.figure.Figure at 0x9202790>"
       ]
      }
     ],
     "prompt_number": 53
    },
    {
     "cell_type": "code",
     "collapsed": false,
     "input": [],
     "language": "python",
     "metadata": {},
     "outputs": []
    }
   ],
   "metadata": {}
  }
 ]
}