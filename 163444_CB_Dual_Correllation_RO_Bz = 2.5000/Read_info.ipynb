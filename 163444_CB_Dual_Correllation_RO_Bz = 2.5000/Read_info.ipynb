{
 "metadata": {
  "name": "",
  "signature": "sha256:2b2f8981bec532d28f2fc51b94317a2f8df91b2f82f29c68b22c1e9e1329c4cb"
 },
 "nbformat": 3,
 "nbformat_minor": 0,
 "worksheets": [
  {
   "cells": [
    {
     "cell_type": "code",
     "collapsed": false,
     "input": [
      "%pylab inline"
     ],
     "language": "python",
     "metadata": {},
     "outputs": [
      {
       "output_type": "stream",
       "stream": "stdout",
       "text": [
        "Populating the interactive namespace from numpy and matplotlib\n"
       ]
      }
     ],
     "prompt_number": 1
    },
    {
     "cell_type": "code",
     "collapsed": false,
     "input": [
      "import sys\n",
      "sys.path[0] = 'C:/Users/z3414503/Documents/QTLab/qtlab_013/source/' \n",
      "import qt\n",
      "import scipy\n",
      "from scipy import stats\n",
      "import gc"
     ],
     "language": "python",
     "metadata": {},
     "outputs": [],
     "prompt_number": 4
    },
    {
     "cell_type": "code",
     "collapsed": false,
     "input": [
      "\n",
      "x = 1\n",
      "file = \"C:/Users/z3414503/Desktop/Honours/Data/163444_CB_Dual_Correllation_RO_Bz = 2.5000/traces/CB_Dual_Correllation_RO_Bz = 2.5000_\" + str(x) + \"_trace.dat\"\n",
      "d = qt.Data( file )\n",
      "data = d.get_data()\n",
      "d.close_file()\n",
      "del d\n",
      "trace, time, _ = zip( *data )\n",
      "print len(set(trace))\n",
      "\n",
      "gc.collect()"
     ],
     "language": "python",
     "metadata": {},
     "outputs": [
      {
       "output_type": "stream",
       "stream": "stdout",
       "text": [
        "500\n"
       ]
      },
      {
       "metadata": {},
       "output_type": "pyout",
       "prompt_number": 6,
       "text": [
        "0"
       ]
      }
     ],
     "prompt_number": 6
    },
    {
     "cell_type": "code",
     "collapsed": false,
     "input": [
      "print \"number of traces is %i\" % len(set(trace))\n",
      "print \"length of all traces combined is %i\" % len(time)\n",
      "print \"length of single trace is %i\" % (len(time) / len(set(trace)))\n",
      "print \"start time is %fs\" % time[0]\n",
      "print \"end time is %fs\" % time[-1]\n",
      "print \"change in time is %fs\" % (time[-1] - time[0])\n",
      "print \"sample rate is %iHz\" % ( ((len(time) / len(set(trace))) - 1 ) / (time[-1] - time[0]) )"
     ],
     "language": "python",
     "metadata": {},
     "outputs": [
      {
       "output_type": "stream",
       "stream": "stdout",
       "text": [
        "number of traces is 500\n",
        "length of all traces combined is 1600000\n",
        "length of single trace is 3200"
       ]
      },
      {
       "output_type": "stream",
       "stream": "stdout",
       "text": [
        "\n",
        "start time is 0.000000s\n",
        "end time is 0.319900s\n",
        "change in time is 0.319900s\n",
        "sample rate is 10000Hz"
       ]
      },
      {
       "output_type": "stream",
       "stream": "stdout",
       "text": [
        "\n"
       ]
      }
     ],
     "prompt_number": 32
    },
    {
     "cell_type": "code",
     "collapsed": false,
     "input": [],
     "language": "python",
     "metadata": {},
     "outputs": []
    }
   ],
   "metadata": {}
  }
 ]
}