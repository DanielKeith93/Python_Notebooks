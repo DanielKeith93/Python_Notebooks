{
 "metadata": {
  "name": "",
  "signature": "sha256:0b4ce5a64984caa0061f335c3226fbe0b334af90279389fd4e4b70882cab52a4"
 },
 "nbformat": 3,
 "nbformat_minor": 0,
 "worksheets": [
  {
   "cells": [
    {
     "cell_type": "code",
     "collapsed": false,
     "input": [
      "%pylab inline"
     ],
     "language": "python",
     "metadata": {},
     "outputs": [
      {
       "output_type": "stream",
       "stream": "stdout",
       "text": [
        "Populating the interactive namespace from numpy and matplotlib\n"
       ]
      }
     ],
     "prompt_number": 1
    },
    {
     "cell_type": "code",
     "collapsed": false,
     "input": [
      "file = \"C:/Users/z3414503/Desktop/Honours/Data/163444_CB_Dual_Correllation_RO_Bz = 2.5000/163444_CB_Dual_Correllation_RO_Bz = 2.5000.dat\"\n",
      "with open( file, \"r\" ) as f:\n",
      "    xaxis = []\n",
      "    for line in f:\n",
      "        fields = line.split()\n",
      "        if len(fields) > 0 and fields[0] != '#':\n",
      "            xaxis.append(fields[0])"
     ],
     "language": "python",
     "metadata": {},
     "outputs": [
      {
       "output_type": "stream",
       "stream": "stdout",
       "text": [
        "['6.000000000000e-02', '6.200000000000e-02', '6.400000000000e-02', '6.600000000000e-02', '6.800000000000e-02', '7.000000000000e-02', '7.200000000000e-02', '7.400000000000e-02', '7.600000000000e-02', '7.800000000000e-02', '8.000000000000e-02', '8.200000000000e-02', '8.400000000000e-02', '8.600000000000e-02', '8.800000000000e-02', '9.000000000000e-02', '9.200000000000e-02', '9.400000000000e-02', '9.600000000000e-02', '9.800000000000e-02', '1.000000000000e-01', '1.020000000000e-01', '1.040000000000e-01', '1.060000000000e-01', '1.080000000000e-01', '1.100000000000e-01', '1.120000000000e-01', '1.140000000000e-01', '1.160000000000e-01', '1.180000000000e-01', '1.200000000000e-01', '1.220000000000e-01', '1.240000000000e-01', '1.260000000000e-01', '1.280000000000e-01', '1.300000000000e-01', '1.320000000000e-01', '1.340000000000e-01', '1.360000000000e-01', '1.380000000000e-01', '1.400000000000e-01', '1.420000000000e-01', '1.440000000000e-01', '1.460000000000e-01', '1.480000000000e-01', '1.500000000000e-01', '1.520000000000e-01', '1.540000000000e-01', '1.560000000000e-01', '1.580000000000e-01', '1.600000000000e-01']\n",
        "51\n"
       ]
      }
     ],
     "prompt_number": 3
    },
    {
     "cell_type": "code",
     "collapsed": false,
     "input": [],
     "language": "python",
     "metadata": {},
     "outputs": []
    }
   ],
   "metadata": {}
  }
 ]
}