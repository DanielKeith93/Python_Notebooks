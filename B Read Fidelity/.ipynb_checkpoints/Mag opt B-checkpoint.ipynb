{
 "metadata": {
  "name": "",
  "signature": "sha256:89100cd942bbe96a20f340c21a9763b2c0dd8c88523828c1cb12d714226b4688"
 },
 "nbformat": 3,
 "nbformat_minor": 0,
 "worksheets": [
  {
   "cells": [
    {
     "cell_type": "code",
     "collapsed": false,
     "input": [
      "%pylab inline"
     ],
     "language": "python",
     "metadata": {},
     "outputs": [
      {
       "output_type": "stream",
       "stream": "stdout",
       "text": [
        "Populating the interactive namespace from numpy and matplotlib\n"
       ]
      }
     ],
     "prompt_number": 1
    },
    {
     "cell_type": "code",
     "collapsed": false,
     "input": [
      "#constants used\n",
      "g_e = 2\n",
      "mu_B = 5.7884 * 10 ** - 5 \n",
      "k_B = 8.6173 * 10 ** - 5 \n",
      "bars = 200\n",
      "traces = 1980\n",
      "#set variables\n",
      "t_up_out = 0.0018\n",
      "t_down_in = 0.0066\n",
      "B = 2.5\n",
      "N_up_0 = 0.579\n",
      "fs = 5000\n",
      "f_c = 1000.0\n",
      "deltaT = 0.0105\n",
      "#calculate other parameters\n",
      "N_down_0 = 1 - N_up_0\n",
      "t_down_out = 0.60\n",
      "T1 = 2.9\n",
      "points = deltaT * fs\n",
      "T2 = T1 * t_down_out - T1 * t_up_out + t_down_out * t_up_out\n",
      "print T1\n",
      "print T2\n",
      "print t_down_out"
     ],
     "language": "python",
     "metadata": {},
     "outputs": [
      {
       "output_type": "stream",
       "stream": "stdout",
       "text": [
        "2.9\n",
        "1.73586\n",
        "0.6\n"
       ]
      }
     ],
     "prompt_number": 2
    },
    {
     "cell_type": "code",
     "collapsed": false,
     "input": [
      "k = 1 / ( T1 * B ** 5 )\n",
      "print k"
     ],
     "language": "python",
     "metadata": {},
     "outputs": [
      {
       "output_type": "stream",
       "stream": "stdout",
       "text": [
        "0.00353103448276\n"
       ]
      }
     ],
     "prompt_number": 3
    },
    {
     "cell_type": "code",
     "collapsed": false,
     "input": [
      "f_down = t_down_out / ( t_down_out + t_down_in )\n",
      "print f_down"
     ],
     "language": "python",
     "metadata": {},
     "outputs": [
      {
       "output_type": "stream",
       "stream": "stdout",
       "text": [
        "0.989119683482\n"
       ]
      }
     ],
     "prompt_number": 4
    },
    {
     "cell_type": "code",
     "collapsed": false,
     "input": [
      "T_e = (-g_e*mu_B*B) / (2*k_B*log((1-f_down)/f_down))\n",
      "print T_e"
     ],
     "language": "python",
     "metadata": {},
     "outputs": [
      {
       "output_type": "stream",
       "stream": "stdout",
       "text": [
        "0.372361070411\n"
       ]
      }
     ],
     "prompt_number": 5
    },
    {
     "cell_type": "code",
     "collapsed": false,
     "input": [
      "B = linspace( 1 * 10 ** - 3, 8, 100 ) #Just test for a hundred for now.\n",
      "\n",
      "tmax_array = []\n",
      "V_stc_array = []\n",
      "\n",
      "for i in B:\n",
      "    T1 = 1 / (k * (i ** 5))\n",
      "    f_down = 1 / (1 + exp( - 0.5 * g_e * mu_B * i /(k_B * T_e)))\n",
      "    t_down_out = t_down_in * f_down / (1 - f_down) \n",
      "    T2 = T1 * t_down_out - T1 * t_up_out + t_down_out * t_up_out\n",
      "    dt = linspace( 1 * 10 ** - 3, 10 , 100000) #Still had to use 100000 to keep answers consistent.\n",
      "    alpha1 = (1 / T2)\n",
      "    alpha2 = T2\n",
      "    alpha3 = (t_up_out * t_down_out) / (exp((dt) / t_down_out))\n",
      "    alpha4 = (T1 * t_down_out) / (exp((dt)/T1) * exp((dt) / t_up_out))\n",
      "    alpha5 = (T1 * t_up_out) / (exp((dt) / T1) * exp((dt) / t_up_out))\n",
      "    alpha = alpha1 * (alpha2 - alpha3 - alpha4 + alpha5)\n",
      "    beta1 = exp( - dt / t_down_out) \n",
      "    V_stc = alpha + beta1 - 1 \n",
      "    V_stc_max = max( V_stc )\n",
      "    V_stc_array.append( V_stc_max * 100 )\n",
      "    idx = ( abs( V_stc - V_stc_max ) ).argmin()\n",
      "    tmax = float( dt[ idx ])\n",
      "    tmax_array.append( tmax )\n",
      "    \n",
      "figure()\n",
      "plot( B, V_stc_array )\n",
      "xlabel( 'B (T)', fontsize=20 )\n",
      "ylabel( '$V_{stc} (\\%)$', fontsize=20 )\n",
      "\n",
      "figure()\n",
      "plot( B, tmax_array )\n",
      "xlabel( 'B (T)', fontsize=20 )\n",
      "ylabel( '$\\Delta t (s)$', fontsize=20 )\n",
      "show()"
     ],
     "language": "python",
     "metadata": {},
     "outputs": [
      {
       "output_type": "stream",
       "stream": "stderr",
       "text": [
        "-c:14: RuntimeWarning: overflow encountered in exp\n",
        "-c:15: RuntimeWarning: overflow encountered in exp\n",
        "-c:16: RuntimeWarning: overflow encountered in exp\n",
        "-c:15: RuntimeWarning: overflow encountered in multiply\n"
       ]
      },
      {
       "output_type": "stream",
       "stream": "stderr",
       "text": [
        "-c:16: RuntimeWarning: overflow encountered in multiply\n"
       ]
      },
      {
       "metadata": {},
       "output_type": "display_data",
       "png": "[encoded data removed]",
       "text": [
        "<matplotlib.figure.Figure at 0x5d4a1d0>"
       ]
      },
      {
       "metadata": {},
       "output_type": "display_data",
       "png": "[encoded data removed]",
       "text": [
        "<matplotlib.figure.Figure at 0x5ec10b0>"
       ]
      }
     ],
     "prompt_number": 6
    },
    {
     "cell_type": "code",
     "collapsed": false,
     "input": [
      "V_stc_array_max = max( V_stc_array )\n",
      "idx = ( abs( V_stc_array - V_stc_array_max ) ).argmin()\n",
      "Bmax = float( B[ idx ])\n",
      "print Bmax\n",
      "print tmax_array[ idx ]"
     ],
     "language": "python",
     "metadata": {},
     "outputs": [
      {
       "output_type": "stream",
       "stream": "stdout",
       "text": [
        "3.63690909091\n",
        "0.0140988209882\n"
       ]
      }
     ],
     "prompt_number": 7
    },
    {
     "cell_type": "code",
     "collapsed": false,
     "input": [],
     "language": "python",
     "metadata": {},
     "outputs": []
    }
   ],
   "metadata": {}
  }
 ]
}