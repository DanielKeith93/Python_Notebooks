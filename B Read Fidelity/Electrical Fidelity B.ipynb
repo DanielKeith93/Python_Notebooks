{
 "metadata": {
  "name": "",
  "signature": "sha256:12a6b28a41a08efa51711d740ab13f0a8f84c9b2f40ba7135d02638b0945f877"
 },
 "nbformat": 3,
 "nbformat_minor": 0,
 "worksheets": [
  {
   "cells": [
    {
     "cell_type": "code",
     "collapsed": false,
     "input": [
      "%pylab inline"
     ],
     "language": "python",
     "metadata": {},
     "outputs": [
      {
       "output_type": "stream",
       "stream": "stdout",
       "text": [
        "Populating the interactive namespace from numpy and matplotlib\n"
       ]
      }
     ],
     "prompt_number": 1
    },
    {
     "cell_type": "code",
     "collapsed": false,
     "input": [
      "import sys\n",
      "sys.path[0] = 'C:/Users/z3414503/Documents/QTLab/qtlab_013/source/' \n",
      "import qt\n",
      "import scipy\n",
      "from scipy import stats\n",
      "from __future__ import division"
     ],
     "language": "python",
     "metadata": {},
     "outputs": [],
     "prompt_number": 3
    },
    {
     "cell_type": "code",
     "collapsed": false,
     "input": [
      "number_of_files = 20\n",
      "\n",
      "V = 0.032\n",
      "\n",
      "start = 0.0264\n",
      "finish = 0.0369\n",
      "\n",
      "up_outs = []\n",
      "down_ins = []\n",
      "up_ins = []\n",
      "down_outs = []\n",
      "\n",
      "trace = []\n",
      "traces = []\n",
      "\n",
      "time = linspace( 0.0, 0.0105, 53)\n",
      "\n",
      "for x in xrange( 1, number_of_files + 1 ):\n",
      "    print x,\n",
      "    file = \"C:/Users/z3414503/Desktop/Honours/Data/B Read Data/TRACES/Read B at Bz = 2.5000_\" + str(x) + \"_trace.dat\"\n",
      "    with open( file, \"r\" ) as f:\n",
      "        i = 1\n",
      "        for line in f:\n",
      "            fields = line.split()\n",
      "            if len(fields) == 3 and fields[0] != '#':\n",
      "                if int( fields[0] ) == i:\n",
      "                    value = 0.0\n",
      "                    if float( fields[1] ) >= start and float( fields[1] ) <= finish and float( fields[1] ) >= value and len( trace ) < 114:\n",
      "                        trace.append( float( fields[2] ) )\n",
      "                        value = float( fields[1] )\n",
      "                if int( fields[0] ) > i:\n",
      "                    i += 1\n",
      "                    traces.append(trace)\n",
      "                    trace = []\n",
      "    trace = []"
     ],
     "language": "python",
     "metadata": {},
     "outputs": [
      {
       "output_type": "stream",
       "stream": "stdout",
       "text": [
        "1 "
       ]
      },
      {
       "output_type": "stream",
       "stream": "stdout",
       "text": [
        "2 "
       ]
      },
      {
       "output_type": "stream",
       "stream": "stdout",
       "text": [
        "3 "
       ]
      },
      {
       "output_type": "stream",
       "stream": "stdout",
       "text": [
        "4 "
       ]
      },
      {
       "output_type": "stream",
       "stream": "stdout",
       "text": [
        "5 "
       ]
      },
      {
       "output_type": "stream",
       "stream": "stdout",
       "text": [
        "6 "
       ]
      },
      {
       "output_type": "stream",
       "stream": "stdout",
       "text": [
        "7 "
       ]
      },
      {
       "output_type": "stream",
       "stream": "stdout",
       "text": [
        "8 "
       ]
      },
      {
       "output_type": "stream",
       "stream": "stdout",
       "text": [
        "9 "
       ]
      },
      {
       "output_type": "stream",
       "stream": "stdout",
       "text": [
        "10 "
       ]
      },
      {
       "output_type": "stream",
       "stream": "stdout",
       "text": [
        "11 "
       ]
      },
      {
       "output_type": "stream",
       "stream": "stdout",
       "text": [
        "12 "
       ]
      },
      {
       "output_type": "stream",
       "stream": "stdout",
       "text": [
        "13 "
       ]
      },
      {
       "output_type": "stream",
       "stream": "stdout",
       "text": [
        "14 "
       ]
      },
      {
       "output_type": "stream",
       "stream": "stdout",
       "text": [
        "15 "
       ]
      },
      {
       "output_type": "stream",
       "stream": "stdout",
       "text": [
        "16 "
       ]
      },
      {
       "output_type": "stream",
       "stream": "stdout",
       "text": [
        "17 "
       ]
      },
      {
       "output_type": "stream",
       "stream": "stdout",
       "text": [
        "18 "
       ]
      },
      {
       "output_type": "stream",
       "stream": "stdout",
       "text": [
        "19 "
       ]
      },
      {
       "output_type": "stream",
       "stream": "stdout",
       "text": [
        "20\n"
       ]
      }
     ],
     "prompt_number": 4
    },
    {
     "cell_type": "code",
     "collapsed": false,
     "input": [
      "number = 0"
     ],
     "language": "python",
     "metadata": {},
     "outputs": [],
     "prompt_number": 67
    },
    {
     "cell_type": "code",
     "collapsed": false,
     "input": [
      "print len( traces )\n",
      "print len(traces[number])\n",
      "plot(traces[number])\n",
      "number += 1\n",
      "print number"
     ],
     "language": "python",
     "metadata": {},
     "outputs": [
      {
       "output_type": "stream",
       "stream": "stdout",
       "text": [
        "1980\n",
        "53\n",
        "11"
       ]
      },
      {
       "output_type": "stream",
       "stream": "stdout",
       "text": [
        "\n"
       ]
      },
      {
       "metadata": {},
       "output_type": "display_data",
       "png": "[encoded data removed]",
       "text": [
        "<matplotlib.figure.Figure at 0xe63b190>"
       ]
      }
     ],
     "prompt_number": 78
    },
    {
     "cell_type": "code",
     "collapsed": false,
     "input": [
      "arbitrary_threshold = 0.032\n",
      "u = 0\n",
      "v = 0\n",
      "r = 0\n",
      "q = 0 #counting variables\n",
      "S = 0 #standard deviation, should be the same for the noise and the signal\n",
      "M_a = 0 #mean when there is no blip\n",
      "M_b = 0 #mean value of the signal blip\n",
      "#calculate for each trace\n",
      "for x in traces: #self._signals\n",
      "    r = r + 1\n",
      "    s = 0\n",
      "    m_a = 0\n",
      "    m_b = 0\n",
      "    #figure()\n",
      "    #plot( times[x], signals[x])\n",
      "    \n",
      "    #split traces into the blip and no blip sections\n",
      "    j = sort( x ) #order is not important, can take into account several blips\n",
      "    #plot( times[x], j )\n",
      "    a = filter( lambda y: y < arbitrary_threshold, x ) #for now the current threshold is simply arbitrary\n",
      "    b = filter( lambda y: y >= arbitrary_threshold, x )\n",
      "    s = np.std( a )\n",
      "    m_a = np.mean( a )\n",
      "    if s != 0 and isnan(s) == False:\n",
      "        u += 1\n",
      "        S = S + s\n",
      "        M_a = M_a + m_a\n",
      "    if len( b ) != 0: #only calculate for a blip when necessary\n",
      "        q = q + 1\n",
      "        s = np.std( b )\n",
      "        m_b = np.mean( b )\n",
      "        if s != 0 and isnan(s) == False:\n",
      "            v += 1\n",
      "            S = S + s\n",
      "        M_b = M_b + m_b\n",
      "print( S / ( u + v ) )\n",
      "print( M_a / u )\n",
      "print( M_b / q )\n",
      "print r\n",
      "#calculate the signal to noise ratio\n",
      "SNR = ( ( M_b / q ) / ( S / ( u + v ) ) ) ** 2\n",
      "    \n",
      "print 10 * log10( SNR )"
     ],
     "language": "python",
     "metadata": {},
     "outputs": [
      {
       "output_type": "stream",
       "stream": "stdout",
       "text": [
        "0.00732306430851\n",
        "-0.00439291482104\n",
        "0.0461454932405\n",
        "1980\n",
        "15.9887288894\n"
       ]
      }
     ],
     "prompt_number": 6
    },
    {
     "cell_type": "code",
     "collapsed": false,
     "input": [
      "signals_max = []\n",
      "for x in traces:\n",
      "    signals_max.append( max( x ) )\n",
      "I_n = 0.04305\n",
      "A_n = 0.007467\n",
      "range = I_n + 5 * A_n\n",
      "figure()\n",
      "values, bins = histogram( signals_max , bins=arange( -0.005, 1.03 * range, 0.0012 ), normed = True )\n",
      "plot( bins[:-1], values, 'g' )\n",
      "show()"
     ],
     "language": "python",
     "metadata": {},
     "outputs": [
      {
       "metadata": {},
       "output_type": "display_data",
       "png": "[encoded data removed]",
       "text": [
        "<matplotlib.figure.Figure at 0xdf05e10>"
       ]
      }
     ],
     "prompt_number": 7
    },
    {
     "cell_type": "code",
     "collapsed": false,
     "input": [
      "V = 0.032\n",
      "up = 0\n",
      "down = 0\n",
      "for x in traces:\n",
      "    if max( x ) >= V:\n",
      "        up += 1 \n",
      "    if max( x ) <= V:\n",
      "        down += 1\n",
      "total = float( up + down )\n",
      "fraction = ( float( up ) / total )\n",
      "print total\n",
      "print up\n",
      "print fraction"
     ],
     "language": "python",
     "metadata": {},
     "outputs": [
      {
       "output_type": "stream",
       "stream": "stdout",
       "text": [
        "1980.0\n",
        "482\n",
        "0.243434343434\n"
       ]
      }
     ],
     "prompt_number": 8
    },
    {
     "cell_type": "code",
     "collapsed": false,
     "input": [
      "lowcut = 1000.0\n",
      "fs = 5022\n",
      "T = 0.0105\n",
      "nsamples = T * fs\n",
      "N_0 = 0.243\n",
      "N_1 = 1 - N_0\n",
      "deltat = T #s, taken from spin to charge optimisation\n",
      "t_down_in = 0.0066\n",
      "t_up_out = 0.0018 #Taken from experimental data.\n",
      "deltaI = 0.04305\n",
      "points = nsamples\n",
      "time1 = linspace( 0, deltat, points )\n",
      "A_n = 0.007569 #V / ( ( Hz ) ^ ( 1 / 2 ) ) #Have to multiply spectral density by a bandwidth.\n",
      "f_c = lowcut #Hz, cut off frequency, also used as the bandwidth\n",
      "bars = 200\n",
      "no_traces = 1500\n",
      "deltaT = 0.0105"
     ],
     "language": "python",
     "metadata": {},
     "outputs": [],
     "prompt_number": 9
    },
    {
     "cell_type": "code",
     "collapsed": false,
     "input": [
      "from scipy.signal import bessel, lfilter\n",
      "from numba import jit\n",
      "\n",
      "@jit\n",
      "def bessel_lowpass(lowcut,fs, order=8):\n",
      "    nyq = 0.5 * fs\n",
      "    low = lowcut / nyq\n",
      "    b, a = bessel(order, low, btype='low')\n",
      "    return b, a\n",
      "\n",
      "@jit\n",
      "def bessel_lowpass_filter(data, lowcut,fs, order=8):\n",
      "    b, a = bessel_lowpass(lowcut,fs, order=order)\n",
      "    y = lfilter(b, a, data)\n",
      "    return y\n",
      "@jit\n",
      "def sqr_pulse( c, time_arr, t1, t2, I ):\n",
      "    start = int( ( t1 / deltat ) * len(time_arr) )\n",
      "    finish = int( ( ( t1 + t2 ) / deltat ) * len(time_arr) )\n",
      "    if c == 0:\n",
      "        wave = time_arr[ : ] * 0\n",
      "        wave[ start: finish ] =  ( time_arr[ start: finish ] * 0 ) + I\n",
      "        return wave\n",
      "    elif c == 1:\n",
      "        wave = time_arr[ : ] * 0\n",
      "        return wave\n",
      "@jit    \n",
      "def gen_wav3( N, noise, fraction, offset, height ):\n",
      "    N_down = []\n",
      "    N_up = [] #up goes to charge 0\n",
      "    for i in xrange( 0, N):\n",
      "        if randint(0,99) < ( fraction * 100 ):\n",
      "            charge = 0\n",
      "        else:\n",
      "            charge = 1\n",
      "            #need to randomly generate different tunneling times for each simulated pulse.\n",
      "        t_in = t_down_in \n",
      "        t_out = t_up_out\n",
      "        r_in = randint( 1,1001 )\n",
      "        r_out = randint( 1,1001 )\n",
      "        t_in = - log( r_in * 0.001 ) * t_in\n",
      "        t_out = - log( r_out * 0.001 ) * t_out\n",
      "        #x = time1\n",
      "        #wave = 0.001*sin(30.0 * 2.0*pi*x) + 0.002*sin(140.0 * 2.0*pi*x) + 0.001*sin(240.0 * 2.0*pi*x) + 0.001*sin(340.0 * 2.0*pi*x) + 0.001*sin(830.0 * 2.0*pi*x) + 0.003*sin(450.0 * 2.0*pi*x) + 0.001*sin(540.0 * 2.0*pi*x) + 0.001*sin(720.0 * 2.0*pi*x)\n",
      "        if charge == 0:\n",
      "            N_up.append( max( bessel_lowpass_filter(sqr_pulse( charge, time1, t_out, t_in, height ) + noise * random.normal( 0, 1, points ), lowcut,fs, order=8) - offset ) )\n",
      "            #N_up.append( max( bessel_lowpass_filter(sqr_pulse( charge, time1, t_out, t_in, deltaI ) + noise * wave, lowcut,fs, order=8) -0.00368) )\n",
      "            #N_up.append( max( sqr_pulse( charge, time1, t_out, t_in, deltaI ) + noise * random.normal( 0, 1, points ) - 0.00368) )\n",
      "        else:\n",
      "            N_down.append( max( bessel_lowpass_filter(sqr_pulse( charge, time1, t_out, t_in, height ) + noise * random.normal( 0, 1, points ), lowcut,fs, order=8) - offset ) )\n",
      "            #N_down.append( max( bessel_lowpass_filter(sqr_pulse( charge, time1, t_out, t_in, deltaI ) + noise * wave, lowcut,fs, order=8) -0.00368 ) )\n",
      "            #N_down.append( max( sqr_pulse( charge, time1, t_out, t_in, deltaI ) + noise * random.normal( 0, 1, points ) - 0.00368) )\n",
      "    \n",
      "    range = deltaI + 5 * noise\n",
      "    \n",
      "    values_u, bins_u = histogram( N_up, bins=arange( -0.005, 0.1, 0.001 ), normed = True )\n",
      "    values_d, bins_d = histogram( N_down, bins=arange( -0.005, 0.1, 0.001 ), normed = True )\n",
      "    v, b = histogram( N_up + N_down, bins=arange( -0.005, 0.1, 0.001 ), normed = True )\n",
      "\n",
      "    return values_d, bins_d, values_u, bins_u, v, b"
     ],
     "language": "python",
     "metadata": {},
     "outputs": [],
     "prompt_number": 10
    },
    {
     "cell_type": "code",
     "collapsed": false,
     "input": [
      "a, b, c, d, e, f = gen_wav3( 5000, 0.014, 0.25, 0.003, 0.053 )\n",
      "figure()\n",
      "#plot( b[:-1], a, 'b', d[:-1], c, 'r' )\n",
      "plot( bins[:-1], values, 'go', f[:-1], e, 'k--' )\n",
      "legend( ['Data','Simulation'])\n",
      "xlabel( 'Peak Voltage (V)', fontsize = 20 )\n",
      "ylabel( 'Probability Density (V$^{-1}$)', fontsize = 20 )\n",
      "show()"
     ],
     "language": "python",
     "metadata": {},
     "outputs": [
      {
       "metadata": {},
       "output_type": "display_data",
       "png": "[encoded data removed]",
       "text": [
        "<matplotlib.figure.Figure at 0xebf8ed0>"
       ]
      }
     ],
     "prompt_number": 18
    },
    {
     "cell_type": "code",
     "collapsed": false,
     "input": [
      "#constants used\n",
      "g_e = 2\n",
      "mu_B = 5.7884 * 10 ** - 5 \n",
      "k_B = 8.6173 * 10 ** - 5 \n",
      "bars = 200\n",
      "no_traces = 5000\n",
      "#set variables\n",
      "t_up_out = 0.0018\n",
      "t_down_in = 0.0066\n",
      "B = 2.5\n",
      "N_up_0 = 0.25\n",
      "f_c = 1000.0\n",
      "fs = 5022\n",
      "deltaT = 0.0105\n",
      "deltaI = 0.053 #V\n",
      "#calculate other parameters\n",
      "N_down_0 = 1 - N_up_0\n",
      "t_down_out = 0.60\n",
      "T1 = 2.9\n",
      "points = deltaT * fs\n",
      "A_n = 0.014\n",
      "T2 = T1 * t_down_out - T1 * t_up_out + t_down_out * t_up_out"
     ],
     "language": "python",
     "metadata": {},
     "outputs": [],
     "prompt_number": 53
    },
    {
     "cell_type": "code",
     "collapsed": false,
     "input": [
      "from scipy.signal import bessel, lfilter\n",
      "\n",
      "@jit\n",
      "def bessel_lowpass(lowcut,fs, order=8):\n",
      "    nyq = 0.5 * fs\n",
      "    low = lowcut / nyq\n",
      "    b, a = bessel(order, low, btype='low')\n",
      "    return b, a\n",
      "\n",
      "@jit\n",
      "def bessel_lowpass_filter(data, lowcut,fs, order=8):\n",
      "    b, a = bessel_lowpass(lowcut,fs, order=order)\n",
      "    y = lfilter(b, a, data)\n",
      "    return y\n",
      "\n",
      "@jit\n",
      "def sqr_pulse( c, time_arr, t1, t2, I, deltat ):\n",
      "    start = int( ( t1 / deltat ) * len(time_arr) )\n",
      "    finish = int( ( ( t1 + t2 ) / deltat ) * len(time_arr) )\n",
      "    if c == 0:\n",
      "        wave = time_arr[ : ] * 0\n",
      "        wave[ start: finish ] =  ( time_arr[ start: finish ] * 0 ) + I \n",
      "        return wave\n",
      "    elif c == 1:\n",
      "        wave = time_arr[ : ] * 0\n",
      "        return wave\n",
      "@jit    \n",
      "def gen_wav3( N, TIME ):\n",
      "    N_down = []\n",
      "    N_up = [] #up goes to charge 0\n",
      "    points = TIME * fs\n",
      "    time1 = linspace( 0, TIME , points )\n",
      "\n",
      "    for i in xrange( 0, N):\n",
      "        if randint(0,99) < ( N_up_0 * 100 ):\n",
      "            charge = 0\n",
      "        else:\n",
      "            charge = 1\n",
      "            #need to randomly generate different tunneling times for each simulated pulse.\n",
      "        t_in = t_down_in \n",
      "        t_out = t_up_out\n",
      "        r_in = randint( 1,1001 )\n",
      "        r_out = randint( 1,1001 )\n",
      "        t_in = - log( r_in * 0.001 ) * t_in\n",
      "        t_out = - log( r_out * 0.001 ) * t_out\n",
      "        if charge == 0:\n",
      "            N_up.append( max( bessel_lowpass_filter(sqr_pulse( 0, time1, t_out, t_in, deltaI, TIME ) + A_n * random.normal( 0, 1, points )-0.003, f_c ,fs, order=8)) )\n",
      "        else:\n",
      "            N_down.append( max( bessel_lowpass_filter(sqr_pulse( 1, time1, t_out, t_in, deltaI, TIME ) + A_n * random.normal( 0, 1, points )-0.003, f_c ,fs, order=8)) )\n",
      "    range = deltaI + 5 * A_n\n",
      "    \n",
      "    values_u, bins_u = histogram( N_up, bins=arange( 0, range * 1.01, range * 0.005 ), normed = True )\n",
      "    values_d, bins_d = histogram( N_down, bins=arange( 0, range * 1.01, range * 0.005 ), normed = True )\n",
      "\n",
      "    return values_d, bins_d, values_u, bins_u"
     ],
     "language": "python",
     "metadata": {},
     "outputs": [],
     "prompt_number": 54
    },
    {
     "cell_type": "code",
     "collapsed": false,
     "input": [
      "def get_thresh_opt():\n",
      "    values_d, bins_d, values_u, bins_u = gen_wav3( no_traces, deltaT )\n",
      "    plot(bins_d[:-1],values_d)\n",
      "    plot( bins_u[:-1], values_u)\n",
      "\n",
      "    I_t_max = 0.06\n",
      "    I_t = linspace( 0, I_t_max, 1000 )\n",
      "    V = []\n",
      "    F0 = []\n",
      "    F1 = []\n",
      "\n",
      "    for x in I_t:\n",
      "        idx_d = min(linspace(0,len(bins_d)-1,len(bins_d)), key=lambda i: abs(bins_d[i]-x))\n",
      "        idx_u = min(linspace(0,len(bins_u)-1,len(bins_d)), key=lambda i: abs(bins_u[i]-x))\n",
      "        F_0 = 1 - sum( numpy.diff( bins_u[ :idx_u + 1 ] ) * values_u[ :idx_u ] )\n",
      "        F_1 = 1 - sum( numpy.diff( bins_d[ idx_d: ] ) * values_d[ idx_d: ] )\n",
      "        V.append( (F_0 + F_1) - 1 )\n",
      "        F0.append( F_0 )\n",
      "        F1.append( F_1 )\n",
      "    figure()\n",
      "    plot( I_t, F0, 'r', I_t, F1, 'b', I_t, V, 'g' )\n",
      "    show()\n",
      "    V_max = max( V )\n",
      "    idx = V.index( V_max )\n",
      "    return I_t[idx], F0[ idx ], F1[ idx ], V[ idx ]"
     ],
     "language": "python",
     "metadata": {},
     "outputs": [],
     "prompt_number": 84
    },
    {
     "cell_type": "code",
     "collapsed": false,
     "input": [
      "threshold, fid0, fid1, vis = get_thresh_opt()\n",
      "print threshold\n",
      "print fid0\n",
      "print fid1\n",
      "print vis"
     ],
     "language": "python",
     "metadata": {},
     "outputs": [
      {
       "metadata": {},
       "output_type": "display_data",
       "png": "[encoded data removed]",
       "text": [
        "<matplotlib.figure.Figure at 0xf9d9170>"
       ]
      },
      {
       "metadata": {},
       "output_type": "display_data",
       "png": "[encoded data removed]",
       "text": [
        "<matplotlib.figure.Figure at 0xf9f8c70>"
       ]
      },
      {
       "output_type": "stream",
       "stream": "stdout",
       "text": [
        "0.0212612612613\n",
        "0.946951702296\n",
        "0.996249665149\n",
        "0.943201367445\n"
       ]
      }
     ],
     "prompt_number": 85
    },
    {
     "cell_type": "code",
     "collapsed": false,
     "input": [],
     "language": "python",
     "metadata": {},
     "outputs": []
    }
   ],
   "metadata": {}
  }
 ]
}