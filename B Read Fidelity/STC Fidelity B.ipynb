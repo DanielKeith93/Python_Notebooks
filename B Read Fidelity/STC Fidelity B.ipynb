{
 "metadata": {
  "name": "",
  "signature": "sha256:c63c0ce112fd20cc7d7dd9b41f33ea2cf65b9491b91cfb973cfd92fa71b242a1"
 },
 "nbformat": 3,
 "nbformat_minor": 0,
 "worksheets": [
  {
   "cells": [
    {
     "cell_type": "code",
     "collapsed": false,
     "input": [
      "%pylab inline"
     ],
     "language": "python",
     "metadata": {},
     "outputs": [
      {
       "output_type": "stream",
       "stream": "stdout",
       "text": [
        "Populating the interactive namespace from numpy and matplotlib\n"
       ]
      }
     ],
     "prompt_number": 1
    },
    {
     "cell_type": "code",
     "collapsed": false,
     "input": [
      "#constants used\n",
      "g_e = 2\n",
      "mu_B = 5.7884 * 10 ** - 5 \n",
      "k_B = 8.6173 * 10 ** - 5 \n",
      "bars = 200\n",
      "traces = 1980\n",
      "#set variables\n",
      "t_up_out = 0.0018\n",
      "t_down_in = 0.0066\n",
      "B = 2.5\n",
      "N_up_0 = 0.579\n",
      "k = 0.102\n",
      "fs = 4996\n",
      "f_c = 1000.0\n",
      "deltaT = 0.4986\n",
      "#calculate other parameters\n",
      "N_down_0 = 1 - N_up_0\n",
      "t_down_out = 0.60\n",
      "T1 = 2.9\n",
      "points = deltaT * fs\n",
      "T2 = T1 * t_down_out - T1 * t_up_out + t_down_out * t_up_out\n",
      "print T1\n",
      "print T2\n",
      "print t_down_out"
     ],
     "language": "python",
     "metadata": {},
     "outputs": [
      {
       "output_type": "stream",
       "stream": "stdout",
       "text": [
        "2.9\n",
        "1.73586\n",
        "0.6\n"
       ]
      }
     ],
     "prompt_number": 2
    },
    {
     "cell_type": "code",
     "collapsed": false,
     "input": [
      "dt = linspace( 1 * 10 ** - 3, 10 , 100000 ) \n",
      "\n",
      "alpha1 = (1 / T2)\n",
      "alpha2 = T2\n",
      "alpha3 = (t_up_out * t_down_out) / (exp((dt) / t_down_out))\n",
      "alpha4 = (T1 * t_down_out) / (exp((dt)/T1) * exp((dt) / t_up_out))\n",
      "alpha5 = (T1 * t_up_out) / (exp((dt) / T1) * exp((dt) / t_up_out))\n",
      "alpha = alpha1 * (alpha2 - alpha3 - alpha4 + alpha5)\n",
      "beta1 = exp( - dt / t_down_out) \n",
      "\n",
      "N_0 = alpha * N_up_0 + ( 1 - beta1 ) * N_down_0\n",
      "V_stc = alpha + beta1 - 1 #Rename to be more accurate.\n",
      "V_stc_max = max( V_stc )\n",
      "idx = ( abs( V_stc - V_stc_max ) ).argmin()\n",
      "RO_time = dt[ idx ]\n",
      "print RO_time"
     ],
     "language": "python",
     "metadata": {},
     "outputs": [
      {
       "output_type": "stream",
       "stream": "stdout",
       "text": [
        "0.0104991449914\n"
       ]
      }
     ],
     "prompt_number": 4
    },
    {
     "cell_type": "code",
     "collapsed": false,
     "input": [
      "plot( dt, alpha, dt, beta1, dt, N_0, dt, V_stc )\n",
      "xscale( 'log' )\n",
      "xlim([0,1])\n",
      "ylabel( 'Fraction', fontsize = 20 )\n",
      "xlabel( 'Readout Time (s)', fontsize = 20 )\n",
      "legend(['$\\\\alpha$', '$\\\\beta$', '$N_0$', '$V_{STC}$'], loc = 2 )\n",
      "show()"
     ],
     "language": "python",
     "metadata": {},
     "outputs": [
      {
       "metadata": {},
       "output_type": "display_data",
       "png": "[encoded data removed]",
       "text": [
        "<matplotlib.figure.Figure at 0x6498df0>"
       ]
      }
     ],
     "prompt_number": 7
    },
    {
     "cell_type": "code",
     "collapsed": false,
     "input": [
      "N_0 = alpha * N_up_0 + ( 1 - beta1 ) * N_down_0\n",
      "V_stc = alpha + beta1 - 1 #Rename to be more accurate.\n",
      "idx = ( abs( dt - 0.060 ) ).argmin()\n",
      "vis = V_stc[ idx ]\n",
      "print vis\n",
      "print alpha[ idx ]\n",
      "print beta1[ idx ]"
     ],
     "language": "python",
     "metadata": {},
     "outputs": [
      {
       "output_type": "stream",
       "stream": "stdout",
       "text": [
        "0.904282458292\n",
        "0.99943703233\n",
        "0.904845425963\n"
       ]
      }
     ],
     "prompt_number": 6
    },
    {
     "cell_type": "code",
     "collapsed": false,
     "input": [],
     "language": "python",
     "metadata": {},
     "outputs": []
    }
   ],
   "metadata": {}
  }
 ]
}