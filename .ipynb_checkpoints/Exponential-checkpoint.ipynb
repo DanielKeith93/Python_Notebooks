{
 "metadata": {
  "name": "",
  "signature": "sha256:16839519ba7d7761210a491e01e8d4c195f3dd1c4fe235fbcd8e5123760478d3"
 },
 "nbformat": 3,
 "nbformat_minor": 0,
 "worksheets": [
  {
   "cells": [
    {
     "cell_type": "code",
     "collapsed": false,
     "input": [
      "%pylab inline"
     ],
     "language": "python",
     "metadata": {},
     "outputs": [
      {
       "output_type": "stream",
       "stream": "stdout",
       "text": [
        "Populating the interactive namespace from numpy and matplotlib\n"
       ]
      }
     ],
     "prompt_number": 1
    },
    {
     "cell_type": "code",
     "collapsed": false,
     "input": [
      "data = random.exponential( 1, 100 )"
     ],
     "language": "python",
     "metadata": {},
     "outputs": [],
     "prompt_number": 3
    },
    {
     "cell_type": "code",
     "collapsed": false,
     "input": [
      "data = random.exponential( 1, 100 )\n",
      "hist( data, 20, histtype = 'step', normed = False )"
     ],
     "language": "python",
     "metadata": {},
     "outputs": [
      {
       "metadata": {},
       "output_type": "pyout",
       "prompt_number": 47,
       "text": [
        "(array([ 22.,  23.,   8.,  13.,   9.,   2.,   5.,   5.,   4.,   0.,   3.,\n",
        "          2.,   0.,   1.,   1.,   0.,   1.,   0.,   0.,   1.]),\n",
        " array([ 0.01313562,  0.27521195,  0.53728828,  0.79936462,  1.06144095,\n",
        "         1.32351729,  1.58559362,  1.84766995,  2.10974629,  2.37182262,\n",
        "         2.63389896,  2.89597529,  3.15805162,  3.42012796,  3.68220429,\n",
        "         3.94428062,  4.20635696,  4.46843329,  4.73050963,  4.99258596,\n",
        "         5.25466229]),\n",
        " <a list of 1 Patch objects>)"
       ]
      },
      {
       "metadata": {},
       "output_type": "display_data",
       "png": "[encoded data removed]",
       "text": [
        "<matplotlib.figure.Figure at 0x9e6ca90>"
       ]
      }
     ],
     "prompt_number": 47
    },
    {
     "cell_type": "code",
     "collapsed": false,
     "input": [
      "import scipy\n",
      "from scipy import stats\n",
      "\n",
      "x = linspace( 0, 8, 1000)\n",
      "data = random.exponential( 1, 100 )\n",
      "param = stats.expon.fit( data, floc = 0 )\n",
      "pdf_fitted = stats.expon.pdf( x, loc = param[0], scale = param[1] )\n",
      "plot( x, pdf_fitted, 'r-' )\n",
      "values, bins, _ = hist( data, normed=0, alpha=.3, histtype='stepfilled' )\n",
      "\n",
      "print param\n"
     ],
     "language": "python",
     "metadata": {},
     "outputs": [
      {
       "output_type": "stream",
       "stream": "stdout",
       "text": [
        "(0, 0.92232919580865858)\n"
       ]
      },
      {
       "metadata": {},
       "output_type": "display_data",
       "png": "[encoded data removed]",
       "text": [
        "<matplotlib.figure.Figure at 0xa432e70>"
       ]
      }
     ],
     "prompt_number": 78
    },
    {
     "cell_type": "code",
     "collapsed": false,
     "input": [
      "area = sum(numpy.diff(bins[:])*values[:])\n",
      "print area"
     ],
     "language": "python",
     "metadata": {},
     "outputs": [
      {
       "output_type": "stream",
       "stream": "stdout",
       "text": [
        "43.5728097928\n"
       ]
      }
     ],
     "prompt_number": 80
    },
    {
     "cell_type": "code",
     "collapsed": false,
     "input": [
      "plot( x, area * pdf_fitted, 'r-' )\n",
      "values, bins, _ = hist( data, normed=0, alpha=.3, histtype='stepfilled' )"
     ],
     "language": "python",
     "metadata": {},
     "outputs": [
      {
       "metadata": {},
       "output_type": "display_data",
       "png": "[encoded data removed]",
       "text": [
        "<matplotlib.figure.Figure at 0xe97c690>"
       ]
      }
     ],
     "prompt_number": 81
    },
    {
     "cell_type": "code",
     "collapsed": false,
     "input": [
      "print param[1]"
     ],
     "language": "python",
     "metadata": {},
     "outputs": [
      {
       "output_type": "stream",
       "stream": "stdout",
       "text": [
        "0.922329195809\n"
       ]
      }
     ],
     "prompt_number": 82
    },
    {
     "cell_type": "code",
     "collapsed": false,
     "input": [
      "l = 1 / param[1]\n",
      "y = l * exp(- l*x)\n",
      "plot( x, area * y )"
     ],
     "language": "python",
     "metadata": {},
     "outputs": [
      {
       "metadata": {},
       "output_type": "pyout",
       "prompt_number": 88,
       "text": [
        "[<matplotlib.lines.Line2D at 0xeca94f0>]"
       ]
      },
      {
       "metadata": {},
       "output_type": "display_data",
       "png": "[encoded data removed]",
       "text": [
        "<matplotlib.figure.Figure at 0x9b8c270>"
       ]
      }
     ],
     "prompt_number": 88
    },
    {
     "cell_type": "code",
     "collapsed": false,
     "input": [],
     "language": "python",
     "metadata": {},
     "outputs": []
    }
   ],
   "metadata": {}
  }
 ]
}