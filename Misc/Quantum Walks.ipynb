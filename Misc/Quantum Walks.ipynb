{
 "metadata": {
  "name": "",
  "signature": "sha256:9879b52bc6a75323a7b6ca61a55ab7e66d65ae361a78493a3fd52be90167f173"
 },
 "nbformat": 3,
 "nbformat_minor": 0,
 "worksheets": [
  {
   "cells": [
    {
     "cell_type": "code",
     "collapsed": false,
     "input": [
      "%pylab inline"
     ],
     "language": "python",
     "metadata": {},
     "outputs": [
      {
       "output_type": "stream",
       "stream": "stdout",
       "text": [
        "Populating the interactive namespace from numpy and matplotlib\n"
       ]
      }
     ],
     "prompt_number": 1
    },
    {
     "cell_type": "code",
     "collapsed": false,
     "input": [
      "N = 100      # number of random steps\n",
      "P = 2*N+1    # number of positions"
     ],
     "language": "python",
     "metadata": {},
     "outputs": [],
     "prompt_number": 84
    },
    {
     "cell_type": "code",
     "collapsed": false,
     "input": [
      "coin0 = array([1, 0])  # |0>\n",
      "coin1 = array([0, 1])  # |1>"
     ],
     "language": "python",
     "metadata": {},
     "outputs": [],
     "prompt_number": 85
    },
    {
     "cell_type": "code",
     "collapsed": false,
     "input": [
      "C00 = outer(coin0, coin0)  # |0><0| \n",
      "C01 = outer(coin0, coin1)  # |0><1| \n",
      "C10 = outer(coin1, coin0)  # |1><0| \n",
      "C11 = outer(coin1, coin1)  # |1><1| "
     ],
     "language": "python",
     "metadata": {},
     "outputs": [],
     "prompt_number": 86
    },
    {
     "cell_type": "code",
     "collapsed": false,
     "input": [
      "C_hat = (C00 + C01 + C10 - C11)/sqrt(2.)"
     ],
     "language": "python",
     "metadata": {},
     "outputs": [],
     "prompt_number": 87
    },
    {
     "cell_type": "code",
     "collapsed": false,
     "input": [
      "ShiftPlus = roll(eye(P), 1, axis=0)\n",
      "ShiftMinus = roll(eye(P), -1, axis=0)\n",
      "S_hat = kron(ShiftPlus, C00) + kron(ShiftMinus, C11)"
     ],
     "language": "python",
     "metadata": {},
     "outputs": [],
     "prompt_number": 88
    },
    {
     "cell_type": "code",
     "collapsed": false,
     "input": [
      "U = S_hat.dot(kron(eye(P), C_hat))"
     ],
     "language": "python",
     "metadata": {},
     "outputs": [],
     "prompt_number": 89
    },
    {
     "cell_type": "code",
     "collapsed": false,
     "input": [
      "posn0 = zeros(P)\n",
      "posn0[N] = 1     # array indexing starts from 0, so index N is the central posn\n",
      "psi0 = kron(posn0,(coin0+coin1*1j)/sqrt(2.))"
     ],
     "language": "python",
     "metadata": {},
     "outputs": [],
     "prompt_number": 90
    },
    {
     "cell_type": "code",
     "collapsed": false,
     "input": [
      "psiN = linalg.matrix_power(U, N).dot(psi0)"
     ],
     "language": "python",
     "metadata": {},
     "outputs": [],
     "prompt_number": 142
    },
    {
     "cell_type": "code",
     "collapsed": false,
     "input": [
      "prob = empty(P)\n",
      "for k in range(P):\n",
      "    posn = zeros(P)\n",
      "    posn[k] = 1     \n",
      "    M_hat_k = kron( outer(posn,posn), eye(2))\n",
      "    proj = M_hat_k.dot(psiN)\n",
      "    prob[k] = proj.dot(proj.conjugate()).real"
     ],
     "language": "python",
     "metadata": {},
     "outputs": [],
     "prompt_number": 143
    },
    {
     "cell_type": "code",
     "collapsed": false,
     "input": [
      "fig = figure()\n",
      "ax = fig.add_subplot(111)\n",
      "\n",
      "plot(arange(P), prob)\n",
      "plot(arange(P), prob, 'o')\n",
      "loc = range (0, P, P / 10) #Location of ticks\n",
      "xticks(loc)\n",
      "xlim(0, P)\n",
      "ax.set_xticklabels(range (-N, N+1, P / 10))\n",
      "\n",
      "show()"
     ],
     "language": "python",
     "metadata": {},
     "outputs": [
      {
       "metadata": {},
       "output_type": "display_data",
       "png": "[encoded data removed]",
       "text": [
        "<matplotlib.figure.Figure at 0xa1b3530>"
       ]
      }
     ],
     "prompt_number": 144
    },
    {
     "cell_type": "code",
     "collapsed": false,
     "input": [
      "prob_cla = []\n",
      "N_cla = 101\n",
      "n = 10000\n",
      "for j in range(n):\n",
      "    pos_cla = 0\n",
      "    for i in range(N_cla):\n",
      "        pos_cla += random.choice((-1,1))\n",
      "    prob_cla.append( pos_cla )\n",
      "hist( prob_cla, bins = (max(prob_cla) - min(prob_cla)), normed = True )\n",
      "show()\n",
      "figure()\n",
      "prob_cla = []\n",
      "N_cla = 100\n",
      "for j in range(n):\n",
      "    pos_cla = 0\n",
      "    for i in range(N_cla):\n",
      "        pos_cla += random.choice((-1,1))\n",
      "    prob_cla.append( pos_cla )\n",
      "hist( prob_cla, bins = (max(prob_cla) - min(prob_cla)), normed = True )\n",
      "show()"
     ],
     "language": "python",
     "metadata": {},
     "outputs": [
      {
       "metadata": {},
       "output_type": "display_data",
       "png": "[encoded data removed]",
       "text": [
        "<matplotlib.figure.Figure at 0xa3d6c90>"
       ]
      },
      {
       "metadata": {},
       "output_type": "display_data",
       "png": "[encoded data removed]",
       "text": [
        "<matplotlib.figure.Figure at 0xa15ec10>"
       ]
      }
     ],
     "prompt_number": 105
    },
    {
     "cell_type": "code",
     "collapsed": false,
     "input": [
      "hist?"
     ],
     "language": "python",
     "metadata": {},
     "outputs": [],
     "prompt_number": 80
    },
    {
     "cell_type": "code",
     "collapsed": false,
     "input": [],
     "language": "python",
     "metadata": {},
     "outputs": []
    }
   ],
   "metadata": {}
  }
 ]
}