{
 "metadata": {
  "name": "",
  "signature": "sha256:1b698e68b16127f22e13039838d2ff971408cbe8541d9efbfc508f998d527780"
 },
 "nbformat": 3,
 "nbformat_minor": 0,
 "worksheets": [
  {
   "cells": [
    {
     "cell_type": "code",
     "collapsed": false,
     "input": [
      "%pylab inline"
     ],
     "language": "python",
     "metadata": {},
     "outputs": [
      {
       "output_type": "stream",
       "stream": "stdout",
       "text": [
        "Populating the interactive namespace from numpy and matplotlib\n"
       ]
      }
     ],
     "prompt_number": 1
    },
    {
     "cell_type": "code",
     "collapsed": false,
     "input": [
      "import numpy as np\n",
      "\n",
      "def HS(M1, M2):\n",
      "    \"\"\"Hilbert-Schmidt-Product of two matrices M1, M2\"\"\"\n",
      "    return (np.dot(M1.conjugate().transpose(), M2)).trace()\n",
      "\n",
      "def c2s(c):\n",
      "    \"\"\"Return a string representation of a complex number c\"\"\"\n",
      "    if c == 0.0:\n",
      "        return \"0\"\n",
      "    if c.imag == 0:\n",
      "        return \"%g\" % c.real\n",
      "    elif c.real == 0:\n",
      "        return \"%gj\" % c.imag\n",
      "    else:\n",
      "        return \"%g+%gj\" % (c.real, c.imag)\n",
      "\n",
      "def decompose(H):\n",
      "    \"\"\"Decompose Hermitian 4x4 matrix H into Pauli matrices\"\"\"\n",
      "    from numpy import kron\n",
      "    sx = np.array([[0, 1],  [ 1, 0]], dtype=np.complex128)\n",
      "    sy = np.array([[0, -1j],[1j, 0]], dtype=np.complex128)\n",
      "    sz = np.array([[1, 0],  [0, -1]], dtype=np.complex128)\n",
      "    id = np.array([[1, 0],  [ 0, 1]], dtype=np.complex128)\n",
      "    S = [id, sx, sy, sz]\n",
      "    labels = ['I', 'sigma_x', 'sigma_y', 'sigma_z']\n",
      "    for i in xrange(4):\n",
      "        for j in xrange(4):\n",
      "            label = labels[i] + ' \\otimes ' + labels[j]\n",
      "            a_ij = 0.25 * HS(kron(S[i], S[j]), H)\n",
      "            if a_ij != 0.0:\n",
      "                print \"%s\\t*\\t( %s )\" % (c2s(a_ij), label)"
     ],
     "language": "python",
     "metadata": {},
     "outputs": [],
     "prompt_number": 2
    },
    {
     "cell_type": "code",
     "collapsed": false,
     "input": [
      "H = np.array(np.diag([0,0,0,1]), dtype=np.complex128)\n",
      "decompose(H)"
     ],
     "language": "python",
     "metadata": {},
     "outputs": [
      {
       "output_type": "stream",
       "stream": "stdout",
       "text": [
        "0.25\t*\t( I \\otimes I )\n",
        "-0.25\t*\t( I \\otimes sigma_z )\n",
        "-0.25\t*\t( sigma_z \\otimes I )\n",
        "0.25\t*\t( sigma_z \\otimes sigma_z )\n"
       ]
      }
     ],
     "prompt_number": 16
    },
    {
     "cell_type": "code",
     "collapsed": false,
     "input": [],
     "language": "python",
     "metadata": {},
     "outputs": []
    }
   ],
   "metadata": {}
  }
 ]
}