{
 "metadata": {
  "name": "",
  "signature": "sha256:9b79ad37581a1a11ef060039e3e4730fa28999e8c4ad9529b5e2c8d2df2be807"
 },
 "nbformat": 3,
 "nbformat_minor": 0,
 "worksheets": [
  {
   "cells": [
    {
     "cell_type": "code",
     "collapsed": false,
     "input": [
      "%pylab inline"
     ],
     "language": "python",
     "metadata": {},
     "outputs": [
      {
       "output_type": "stream",
       "stream": "stdout",
       "text": [
        "Populating the interactive namespace from numpy and matplotlib\n"
       ]
      }
     ],
     "prompt_number": 1
    },
    {
     "cell_type": "code",
     "collapsed": false,
     "input": [
      "import sys\n",
      "sys.path[0] = 'C:/Users/z3414503/Documents/QTLab/qtlab_013/source/' \n",
      "import qt\n",
      "import scipy\n",
      "from scipy import stats"
     ],
     "language": "python",
     "metadata": {},
     "outputs": [],
     "prompt_number": 3
    },
    {
     "cell_type": "code",
     "collapsed": false,
     "input": [
      "trace = []\n",
      "time = []\n",
      "signal = []\n",
      "times = []\n",
      "signals = []\n",
      "traces = []\n",
      "import os\n",
      "for j in xrange (1, 28):\n",
      "    file = \"CB_Dual_Correllation_RO_Bz = 2.5000_\" + str(j) + \"_trace.dat\"\n",
      "    print file\n",
      "    path = \"C:/Users/z3414503/Desktop/Honours/Data/235254_CB_Dual_Correllation_RO_Bz = 2.5000/traces/\"\n",
      "    file = path + file\n",
      "    d = qt.Data( file )\n",
      "    x = d.get_data()\n",
      "    trace, b, c = zip( *x )\n",
      "    l = 2600\n",
      "    for i in set( trace ): #split up the files into the seperate traces\n",
      "        i = int( i )\n",
      "        x = c[ ( i - 1 ) * l + 45 : ( i - 1 ) * l + 694 ]\n",
      "        y = b[ ( i - 1 ) * l + 45 : ( i - 1 ) * l + 694 ]\n",
      "        signals.append( x )\n",
      "        times.append( y )\n",
      "        traces.append( trace[ i ] ) \n",
      "    d.close_file()"
     ],
     "language": "python",
     "metadata": {},
     "outputs": [
      {
       "output_type": "stream",
       "stream": "stdout",
       "text": [
        "CB_Dual_Correllation_RO_Bz = 2.5000_1_trace.dat\n",
        "CB_Dual_Correllation_RO_Bz = 2.5000_2_trace.dat"
       ]
      },
      {
       "output_type": "stream",
       "stream": "stdout",
       "text": [
        "\n",
        "CB_Dual_Correllation_RO_Bz = 2.5000_3_trace.dat"
       ]
      },
      {
       "output_type": "stream",
       "stream": "stdout",
       "text": [
        "\n",
        "CB_Dual_Correllation_RO_Bz = 2.5000_4_trace.dat"
       ]
      },
      {
       "output_type": "stream",
       "stream": "stdout",
       "text": [
        "\n",
        "CB_Dual_Correllation_RO_Bz = 2.5000_5_trace.dat"
       ]
      },
      {
       "output_type": "stream",
       "stream": "stdout",
       "text": [
        "\n",
        "CB_Dual_Correllation_RO_Bz = 2.5000_6_trace.dat"
       ]
      },
      {
       "output_type": "stream",
       "stream": "stdout",
       "text": [
        "\n",
        "CB_Dual_Correllation_RO_Bz = 2.5000_7_trace.dat"
       ]
      },
      {
       "output_type": "stream",
       "stream": "stdout",
       "text": [
        "\n",
        "CB_Dual_Correllation_RO_Bz = 2.5000_8_trace.dat"
       ]
      },
      {
       "output_type": "stream",
       "stream": "stdout",
       "text": [
        "\n",
        "CB_Dual_Correllation_RO_Bz = 2.5000_9_trace.dat"
       ]
      },
      {
       "output_type": "stream",
       "stream": "stdout",
       "text": [
        "\n",
        "CB_Dual_Correllation_RO_Bz = 2.5000_10_trace.dat"
       ]
      },
      {
       "output_type": "stream",
       "stream": "stdout",
       "text": [
        "\n",
        "CB_Dual_Correllation_RO_Bz = 2.5000_11_trace.dat"
       ]
      },
      {
       "output_type": "stream",
       "stream": "stdout",
       "text": [
        "\n",
        "CB_Dual_Correllation_RO_Bz = 2.5000_12_trace.dat"
       ]
      },
      {
       "output_type": "stream",
       "stream": "stdout",
       "text": [
        "\n",
        "CB_Dual_Correllation_RO_Bz = 2.5000_13_trace.dat"
       ]
      },
      {
       "output_type": "stream",
       "stream": "stdout",
       "text": [
        "\n",
        "CB_Dual_Correllation_RO_Bz = 2.5000_14_trace.dat"
       ]
      },
      {
       "output_type": "stream",
       "stream": "stdout",
       "text": [
        "\n",
        "CB_Dual_Correllation_RO_Bz = 2.5000_15_trace.dat"
       ]
      },
      {
       "output_type": "stream",
       "stream": "stdout",
       "text": [
        "\n",
        "CB_Dual_Correllation_RO_Bz = 2.5000_16_trace.dat"
       ]
      },
      {
       "output_type": "stream",
       "stream": "stdout",
       "text": [
        "\n",
        "CB_Dual_Correllation_RO_Bz = 2.5000_17_trace.dat"
       ]
      },
      {
       "output_type": "stream",
       "stream": "stdout",
       "text": [
        "\n",
        "CB_Dual_Correllation_RO_Bz = 2.5000_18_trace.dat"
       ]
      },
      {
       "output_type": "stream",
       "stream": "stdout",
       "text": [
        "\n",
        "CB_Dual_Correllation_RO_Bz = 2.5000_19_trace.dat"
       ]
      },
      {
       "output_type": "stream",
       "stream": "stdout",
       "text": [
        "\n",
        "CB_Dual_Correllation_RO_Bz = 2.5000_20_trace.dat"
       ]
      },
      {
       "output_type": "stream",
       "stream": "stdout",
       "text": [
        "\n",
        "CB_Dual_Correllation_RO_Bz = 2.5000_21_trace.dat"
       ]
      },
      {
       "output_type": "stream",
       "stream": "stdout",
       "text": [
        "\n",
        "CB_Dual_Correllation_RO_Bz = 2.5000_22_trace.dat"
       ]
      },
      {
       "output_type": "stream",
       "stream": "stdout",
       "text": [
        "\n",
        "CB_Dual_Correllation_RO_Bz = 2.5000_23_trace.dat"
       ]
      },
      {
       "output_type": "stream",
       "stream": "stdout",
       "text": [
        "\n",
        "CB_Dual_Correllation_RO_Bz = 2.5000_24_trace.dat"
       ]
      },
      {
       "output_type": "stream",
       "stream": "stdout",
       "text": [
        "\n",
        "CB_Dual_Correllation_RO_Bz = 2.5000_25_trace.dat"
       ]
      },
      {
       "output_type": "stream",
       "stream": "stdout",
       "text": [
        "\n",
        "CB_Dual_Correllation_RO_Bz = 2.5000_26_trace.dat"
       ]
      },
      {
       "output_type": "stream",
       "stream": "stdout",
       "text": [
        "\n",
        "CB_Dual_Correllation_RO_Bz = 2.5000_27_trace.dat"
       ]
      },
      {
       "output_type": "stream",
       "stream": "stdout",
       "text": [
        "\n"
       ]
      },
      {
       "ename": "MemoryError",
       "evalue": "",
       "output_type": "pyerr",
       "traceback": [
        "\u001b[1;31m---------------------------------------------------------------------------\u001b[0m\n\u001b[1;31mMemoryError\u001b[0m                               Traceback (most recent call last)",
        "\u001b[1;32m<ipython-input-4-3c41a0956be9>\u001b[0m in \u001b[0;36m<module>\u001b[1;34m()\u001b[0m\n\u001b[0;32m     11\u001b[0m     \u001b[0mpath\u001b[0m \u001b[1;33m=\u001b[0m \u001b[1;34m\"C:/Users/z3414503/Desktop/Honours/Data/235254_CB_Dual_Correllation_RO_Bz = 2.5000/traces/\"\u001b[0m\u001b[1;33m\u001b[0m\u001b[0m\n\u001b[0;32m     12\u001b[0m     \u001b[0mfile\u001b[0m \u001b[1;33m=\u001b[0m \u001b[0mpath\u001b[0m \u001b[1;33m+\u001b[0m \u001b[0mfile\u001b[0m\u001b[1;33m\u001b[0m\u001b[0m\n\u001b[1;32m---> 13\u001b[1;33m     \u001b[0md\u001b[0m \u001b[1;33m=\u001b[0m \u001b[0mqt\u001b[0m\u001b[1;33m.\u001b[0m\u001b[0mData\u001b[0m\u001b[1;33m(\u001b[0m \u001b[0mfile\u001b[0m \u001b[1;33m)\u001b[0m\u001b[1;33m\u001b[0m\u001b[0m\n\u001b[0m\u001b[0;32m     14\u001b[0m     \u001b[0mx\u001b[0m \u001b[1;33m=\u001b[0m \u001b[0md\u001b[0m\u001b[1;33m.\u001b[0m\u001b[0mget_data\u001b[0m\u001b[1;33m(\u001b[0m\u001b[1;33m)\u001b[0m\u001b[1;33m\u001b[0m\u001b[0m\n\u001b[0;32m     15\u001b[0m     \u001b[0mtrace\u001b[0m\u001b[1;33m,\u001b[0m \u001b[0mb\u001b[0m\u001b[1;33m,\u001b[0m \u001b[0mc\u001b[0m \u001b[1;33m=\u001b[0m \u001b[0mzip\u001b[0m\u001b[1;33m(\u001b[0m \u001b[1;33m*\u001b[0m\u001b[0mx\u001b[0m \u001b[1;33m)\u001b[0m\u001b[1;33m\u001b[0m\u001b[0m\n",
        "\u001b[1;32mC:\\Users\\z3414503\\Documents\\QTLab\\qtlab_013\\source\\data.pyc\u001b[0m in \u001b[0;36m__init__\u001b[1;34m(self, *args, **kwargs)\u001b[0m\n\u001b[0;32m    298\u001b[0m             \u001b[1;32mif\u001b[0m \u001b[1;34m'inmem'\u001b[0m \u001b[1;32mnot\u001b[0m \u001b[1;32min\u001b[0m \u001b[0mkwargs\u001b[0m\u001b[1;33m:\u001b[0m\u001b[1;33m\u001b[0m\u001b[0m\n\u001b[0;32m    299\u001b[0m                 \u001b[0minmem\u001b[0m \u001b[1;33m=\u001b[0m \u001b[0mTrue\u001b[0m\u001b[1;33m\u001b[0m\u001b[0m\n\u001b[1;32m--> 300\u001b[1;33m             \u001b[0mself\u001b[0m\u001b[1;33m.\u001b[0m\u001b[0mset_filepath\u001b[0m\u001b[1;33m(\u001b[0m\u001b[0mfilepath\u001b[0m\u001b[1;33m,\u001b[0m \u001b[0minmem\u001b[0m\u001b[1;33m)\u001b[0m\u001b[1;33m\u001b[0m\u001b[0m\n\u001b[0m\u001b[0;32m    301\u001b[0m             \u001b[0mself\u001b[0m\u001b[1;33m.\u001b[0m\u001b[0m_infile\u001b[0m \u001b[1;33m=\u001b[0m \u001b[0mTrue\u001b[0m\u001b[1;33m\u001b[0m\u001b[0m\n\u001b[0;32m    302\u001b[0m         \u001b[1;32melse\u001b[0m\u001b[1;33m:\u001b[0m\u001b[1;33m\u001b[0m\u001b[0m\n",
        "\u001b[1;32mC:\\Users\\z3414503\\Documents\\QTLab\\qtlab_013\\source\\data.pyc\u001b[0m in \u001b[0;36mset_filepath\u001b[1;34m(self, fp, inmem)\u001b[0m\n\u001b[0;32m   1235\u001b[0m \u001b[1;33m\u001b[0m\u001b[0m\n\u001b[0;32m   1236\u001b[0m         \u001b[1;32mif\u001b[0m \u001b[0minmem\u001b[0m\u001b[1;33m:\u001b[0m\u001b[1;33m\u001b[0m\u001b[0m\n\u001b[1;32m-> 1237\u001b[1;33m             \u001b[1;32mif\u001b[0m \u001b[0mself\u001b[0m\u001b[1;33m.\u001b[0m\u001b[0m_load_file\u001b[0m\u001b[1;33m(\u001b[0m\u001b[1;33m)\u001b[0m\u001b[1;33m:\u001b[0m\u001b[1;33m\u001b[0m\u001b[0m\n\u001b[0m\u001b[0;32m   1238\u001b[0m                 \u001b[0mself\u001b[0m\u001b[1;33m.\u001b[0m\u001b[0m_inmem\u001b[0m \u001b[1;33m=\u001b[0m \u001b[0mTrue\u001b[0m\u001b[1;33m\u001b[0m\u001b[0m\n\u001b[0;32m   1239\u001b[0m             \u001b[1;32melse\u001b[0m\u001b[1;33m:\u001b[0m\u001b[1;33m\u001b[0m\u001b[0m\n",
        "\u001b[1;32mC:\\Users\\z3414503\\Documents\\QTLab\\qtlab_013\\source\\data.pyc\u001b[0m in \u001b[0;36m_load_file\u001b[1;34m(self)\u001b[0m\n\u001b[0;32m   1058\u001b[0m         \u001b[0mself\u001b[0m\u001b[1;33m.\u001b[0m\u001b[0m_count_coord_val_dims\u001b[0m\u001b[1;33m(\u001b[0m\u001b[1;33m)\u001b[0m\u001b[1;33m\u001b[0m\u001b[0m\n\u001b[0;32m   1059\u001b[0m \u001b[1;33m\u001b[0m\u001b[0m\n\u001b[1;32m-> 1060\u001b[1;33m         \u001b[0mself\u001b[0m\u001b[1;33m.\u001b[0m\u001b[0m_data\u001b[0m \u001b[1;33m=\u001b[0m \u001b[0mnumpy\u001b[0m\u001b[1;33m.\u001b[0m\u001b[0marray\u001b[0m\u001b[1;33m(\u001b[0m\u001b[0mdata\u001b[0m\u001b[1;33m)\u001b[0m\u001b[1;33m\u001b[0m\u001b[0m\n\u001b[0m\u001b[0;32m   1061\u001b[0m         \u001b[0mself\u001b[0m\u001b[1;33m.\u001b[0m\u001b[0m_npoints\u001b[0m \u001b[1;33m=\u001b[0m \u001b[0mlen\u001b[0m\u001b[1;33m(\u001b[0m\u001b[0mself\u001b[0m\u001b[1;33m.\u001b[0m\u001b[0m_data\u001b[0m\u001b[1;33m)\u001b[0m\u001b[1;33m\u001b[0m\u001b[0m\n\u001b[0;32m   1062\u001b[0m         \u001b[0mself\u001b[0m\u001b[1;33m.\u001b[0m\u001b[0m_inmem\u001b[0m \u001b[1;33m=\u001b[0m \u001b[0mTrue\u001b[0m\u001b[1;33m\u001b[0m\u001b[0m\n",
        "\u001b[1;31mMemoryError\u001b[0m: "
       ]
      }
     ],
     "prompt_number": 4
    },
    {
     "cell_type": "code",
     "collapsed": false,
     "input": [
      "a = 113\n",
      "plot( times[a], signals[a] )"
     ],
     "language": "python",
     "metadata": {},
     "outputs": [
      {
       "metadata": {},
       "output_type": "pyout",
       "prompt_number": 5,
       "text": [
        "[<matplotlib.lines.Line2D at 0x14b683f0>]"
       ]
      },
      {
       "metadata": {},
       "output_type": "display_data",
       "png": "[encoded data removed]",
       "text": [
        "<matplotlib.figure.Figure at 0x18474290>"
       ]
      }
     ],
     "prompt_number": 5
    },
    {
     "cell_type": "code",
     "collapsed": false,
     "input": [
      "print len( signals[2] )\n",
      "print len( times[2] )"
     ],
     "language": "python",
     "metadata": {},
     "outputs": [
      {
       "output_type": "stream",
       "stream": "stdout",
       "text": [
        "649\n",
        "649\n"
       ]
      }
     ],
     "prompt_number": 6
    },
    {
     "cell_type": "code",
     "collapsed": false,
     "input": [
      "print len ( signals )"
     ],
     "language": "python",
     "metadata": {},
     "outputs": [
      {
       "output_type": "stream",
       "stream": "stdout",
       "text": [
        "13000\n"
       ]
      }
     ],
     "prompt_number": 7
    },
    {
     "cell_type": "code",
     "collapsed": false,
     "input": [
      "time1 = linspace( 0, 64.9, 649 )"
     ],
     "language": "python",
     "metadata": {},
     "outputs": [],
     "prompt_number": 25
    },
    {
     "cell_type": "code",
     "collapsed": false,
     "input": [
      "plot( time1, signals[7] )"
     ],
     "language": "python",
     "metadata": {},
     "outputs": [
      {
       "metadata": {},
       "output_type": "pyout",
       "prompt_number": 26,
       "text": [
        "[<matplotlib.lines.Line2D at 0x12ea0770>]"
       ]
      },
      {
       "metadata": {},
       "output_type": "display_data",
       "png": "[encoded data removed]",
       "text": [
        "<matplotlib.figure.Figure at 0x1f9c28f0>"
       ]
      }
     ],
     "prompt_number": 26
    },
    {
     "cell_type": "code",
     "collapsed": false,
     "input": [
      "arbitrary_threshold = 0.010\n",
      "r = 0\n",
      "q = 0 #counting variables\n",
      "S = 0 #standard deviation, should be the same for the noise and the signal\n",
      "M_a = 0 #mean when there is no blip\n",
      "M_b = 0 #mean value of the signal blip\n",
      "#calculate for each trace\n",
      "for x in signals: #self._signals\n",
      "    r = r + 1\n",
      "    s = 0\n",
      "    m_a = 0\n",
      "    m_b = 0\n",
      "    #figure()\n",
      "    #plot( times[x], signals[x])\n",
      "    \n",
      "    #split traces into the blip and no blip sections\n",
      "    j = sort( x ) #order is not important, can take into account several blips\n",
      "    #plot( times[x], j )\n",
      "    a = filter( lambda y: y < arbitrary_threshold, x ) #for now the current threshold is simply arbitrary\n",
      "    b = filter( lambda y: y >= arbitrary_threshold, x )\n",
      "    s = np.std( a )\n",
      "    m_a = np.mean( a )\n",
      "    S = S + s\n",
      "    M_a = M_a + m_a\n",
      "    if len( b ) != 0: #only calculate for a blip when necessary\n",
      "        q = q + 1\n",
      "        s = np.std( b )\n",
      "        m_b = np.mean( b )\n",
      "        S = S + s\n",
      "        M_b = M_b + m_b\n",
      "print( S / ( r + q ) )\n",
      "print( M_a / r )\n",
      "print( M_b / q )\n",
      "print r\n",
      "#calculate the signal to noise ratio\n",
      "SNR = ( ( M_b / q ) / ( S / ( r + q ) ) ) ** 2\n",
      "    \n",
      "print 10 * log10( SNR )"
     ],
     "language": "python",
     "metadata": {},
     "outputs": [
      {
       "output_type": "stream",
       "stream": "stdout",
       "text": [
        "0.00338411567804\n",
        "-0.00496949334427\n",
        "0.0155415699341\n",
        "13000\n",
        "13.240993741\n"
       ]
      }
     ],
     "prompt_number": 10
    },
    {
     "cell_type": "code",
     "collapsed": false,
     "input": [
      "signals_max = []\n",
      "for x in signals:\n",
      "    signals_max.append( max( x ) )\n",
      "I_n = 0.02061\n",
      "A_n = 0.003388\n",
      "range = I_n + 5 * A_n\n",
      "figure()\n",
      "values, bins = histogram( signals_max , bins=arange( 0, 1.03 * range, 0.03 * range ), normed = True )\n",
      "plot( bins[:-1], values, 'g' )"
     ],
     "language": "python",
     "metadata": {},
     "outputs": [
      {
       "metadata": {},
       "output_type": "pyout",
       "prompt_number": 11,
       "text": [
        "[<matplotlib.lines.Line2D at 0x276b0510>]"
       ]
      },
      {
       "metadata": {},
       "output_type": "display_data",
       "png": "[encoded data removed]",
       "text": [
        "<matplotlib.figure.Figure at 0xeeac050>"
       ]
      }
     ],
     "prompt_number": 11
    },
    {
     "cell_type": "code",
     "collapsed": false,
     "input": [
      "V = arbitrary_threshold\n",
      "up = 0\n",
      "down = 0\n",
      "for x in signals:\n",
      "    if max( x ) >= V:\n",
      "        up += 1 \n",
      "    if max( x ) <= V:\n",
      "        down += 1\n",
      "total = float( up + down )\n",
      "fraction = ( float( up ) / total )\n",
      "print total\n",
      "print up\n",
      "print fraction"
     ],
     "language": "python",
     "metadata": {},
     "outputs": [
      {
       "output_type": "stream",
       "stream": "stdout",
       "text": [
        "13000.0\n",
        "2257\n",
        "0.173615384615\n"
       ]
      }
     ],
     "prompt_number": 12
    },
    {
     "cell_type": "code",
     "collapsed": false,
     "input": [
      "\n",
      "blips = []\n",
      "V = arbitrary_threshold\n",
      "t_down = []\n",
      "for x in signals:\n",
      "    if max( x ) >= V:\n",
      "        blips.append( x )\n",
      "for x in blips:\n",
      "    for i in x:\n",
      "        if i > V: #check if there is a blip\n",
      "            idx1 = x.index( i )\n",
      "            for j in x[ idx1: ]:\n",
      "                if j < V:\n",
      "                    idx2 = x[ idx1: ].index( j )\n",
      "                    t_down.append( idx2 )\n",
      "                    for k in x[ idx1 + idx2: ]: #only take traces with a single blip\n",
      "                        if k > V:\n",
      "                            del t_down[-1]\n",
      "                            break\n",
      "                    break\n",
      "            break\n",
      "x = linspace( 0, len( signals[0] ), len( signals[0] ))\n",
      "param = stats.expon.fit( t_down, floc = 0 )\n",
      "print ( 0.0649 * param[1] ) / len( signals[0] )"
     ],
     "language": "python",
     "metadata": {},
     "outputs": [
      {
       "output_type": "stream",
       "stream": "stdout",
       "text": [
        "0.00269989024341\n"
       ]
      }
     ],
     "prompt_number": 13
    },
    {
     "cell_type": "code",
     "collapsed": false,
     "input": [
      "blips = []\n",
      "t_up = []\n",
      "for x in signals:\n",
      "    if max( x ) >= V:\n",
      "        blips.append( x )\n",
      "for x in blips:\n",
      "    for i in x:\n",
      "        if i > V: #check if there is a blip\n",
      "            idx1 = x.index( i )\n",
      "            t_up.append( idx1 )\n",
      "            for j in x[ idx1: ]:\n",
      "                if j < V:\n",
      "                    idx2 = x[ idx1: ].index( j )\n",
      "                    for k in x[ idx1 + idx2: ]: #only take traces with a single blip\n",
      "                        if k > V:\n",
      "                            del t_up[-1]\n",
      "                            break\n",
      "                    break\n",
      "            break\n",
      "x = linspace( 0, len( signals[0] ), len( signals[0] ))\n",
      "param = stats.expon.fit( t_up, floc = 0 )\n",
      "print ( 0.0649 * param[1] ) / len( signals[0] )\n"
     ],
     "language": "python",
     "metadata": {},
     "outputs": [
      {
       "output_type": "stream",
       "stream": "stdout",
       "text": [
        "0.0104167091338\n"
       ]
      }
     ],
     "prompt_number": 15
    },
    {
     "cell_type": "code",
     "collapsed": false,
     "input": [
      "#define parameters\n",
      "lowcut = 10000.0\n",
      "fs = 2 * lowcut\n",
      "T = 0.0649\n",
      "nsamples = T * fs\n",
      "N_0 = 0.29\n",
      "N_1 = 1 - N_0\n",
      "deltat = T #s, taken from spin to charge optimisation\n",
      "t_down_in = 0.0104\n",
      "t_up_out = 0.0027 #Taken from experimental data.\n",
      "deltaI = 0.021\n",
      "points = nsamples\n",
      "time1 = linspace( 0, deltat, points )\n",
      "A_n = 0.003388 #V / ( ( Hz ) ^ ( 1 / 2 ) ) #Have to multiply spectral density by a bandwidth.\n",
      "f_c = lowcut #Hz, cut off frequency, also used as the bandwidth\n",
      "bars = 200\n",
      "traces = 13500"
     ],
     "language": "python",
     "metadata": {},
     "outputs": [],
     "prompt_number": 34
    },
    {
     "cell_type": "code",
     "collapsed": false,
     "input": [
      "from scipy.signal import bessel, lfilter\n",
      "\n",
      "\n",
      "def bessel_lowpass(lowcut,fs, order=8):\n",
      "    nyq = 0.5 * fs\n",
      "    low = lowcut / nyq\n",
      "    b, a = bessel(order, low, btype='low')\n",
      "    return b, a\n",
      "\n",
      "\n",
      "def bessel_lowpass_filter(data, lowcut,fs, order=8):\n",
      "    b, a = bessel_lowpass(lowcut,fs, order=order)\n",
      "    y = lfilter(b, a, data)\n",
      "    return y\n",
      "\n",
      "def sqr_pulse( c, time_arr, t1, t2, I ):\n",
      "    start = int( ( t1 / deltat ) * len(time_arr) )\n",
      "    finish = int( ( ( t1 + t2 ) / deltat ) * len(time_arr) )\n",
      "    if c == 0:\n",
      "        wave = time_arr[ : ] * 0\n",
      "        wave[ start: finish ] =  ( time_arr[ start: finish ] * 0 ) + I\n",
      "        return wave\n",
      "    elif c == 1:\n",
      "        wave = time_arr[ : ] * 0\n",
      "        return wave\n",
      "    \n",
      "def gen_wav3( N, noise, fraction ):\n",
      "    N_down = []\n",
      "    N_up = [] #up goes to charge 0\n",
      "    for i in xrange( 0, N):\n",
      "        if randint(0,99) < ( fraction * 100 ):\n",
      "            charge = 0\n",
      "        else:\n",
      "            charge = 1\n",
      "            #need to randomly generate different tunneling times for each simulated pulse.\n",
      "        t_in = t_down_in \n",
      "        t_out = t_up_out\n",
      "        r_in = randint( 1,1001 )\n",
      "        r_out = randint( 1,1001 )\n",
      "        t_in = - log( r_in * 0.001 ) * t_in\n",
      "        t_out = - log( r_out * 0.001 ) * t_out\n",
      "        if charge == 0:\n",
      "            N_up.append( max( bessel_lowpass_filter(sqr_pulse( charge, time1, t_out, t_in, deltaI ) + noise * random.normal( 0, 1, points ) , lowcut,fs, order=8)- 0.0049) )\n",
      "        else:\n",
      "            N_down.append( max( bessel_lowpass_filter(sqr_pulse( charge, time1, t_out, t_in, deltaI ) + noise * random.normal( 0, 1, points ) , lowcut,fs, order=8)- 0.0049) )\n",
      "    \n",
      "    range = deltaI + 5 * noise\n",
      "    \n",
      "    values_u, bins_u = histogram( N_up, bins=arange( 0, range * 1.01, range * 0.01 ), normed = True )\n",
      "    values_d, bins_d = histogram( N_down, bins=arange( 0, range * 1.01, range * 0.01 ), normed = True )\n",
      "    v, b = histogram( N_up + N_down, bins=arange( 0, range * 1.01, range * 0.01 ), normed = True )\n",
      "\n",
      "    return values_d, bins_d, values_u, bins_u, v, b\n",
      "\n"
     ],
     "language": "python",
     "metadata": {},
     "outputs": [],
     "prompt_number": 36
    },
    {
     "cell_type": "code",
     "collapsed": false,
     "input": [
      "a, b, c, d, e, f = gen_wav3( 100000, 0.0030, 0.13 )\n",
      "figure()\n",
      "#plot( b[:-1], a, 'b', d[:-1], c, 'r' )\n",
      "plot( bins[:-1], values, 'o' )\n",
      "plot( f[:-1], e, 'k' )"
     ],
     "language": "python",
     "metadata": {},
     "outputs": [
      {
       "metadata": {},
       "output_type": "pyout",
       "prompt_number": 38,
       "text": [
        "[<matplotlib.lines.Line2D at 0x21e01c10>]"
       ]
      },
      {
       "metadata": {},
       "output_type": "display_data",
       "png": "[encoded data removed]",
       "text": [
        "<matplotlib.figure.Figure at 0x2b6fa610>"
       ]
      }
     ],
     "prompt_number": 38
    },
    {
     "cell_type": "code",
     "collapsed": false,
     "input": [
      "from scipy.fftpack import fft\n",
      "\n",
      "number += 1\n",
      "plot( time1, signals[number] )\n",
      "# Number of samplepoints\n",
      "number += 1\n",
      "N = len( signals[number] )\n",
      "# sample spacing\n",
      "T = 1.0 / 9756\n",
      "x = linspace(0.0, N*T, N)\n",
      "y = signals[ number ]\n",
      "yf = fft(y)\n",
      "\n",
      "xf = linspace(0.0, 1.0/(2.0*T), N/2)\n",
      "figure()\n",
      "plot(xf, 2.0/N * np.abs(yf[0:N/2]))\n",
      "grid()\n",
      "show()\n",
      "for x in xrange( 0, len( 2.0/N * np.abs(yf[0:N/2]) ) ):\n",
      "    if 2.0/N * np.abs(yf[x]) > 0.0005:\n",
      "        print xf[x]"
     ],
     "language": "python",
     "metadata": {},
     "outputs": [
      {
       "metadata": {},
       "output_type": "display_data",
       "png": "[encoded data removed]",
       "text": [
        "<matplotlib.figure.Figure at 0x21d401f0>"
       ]
      },
      {
       "metadata": {},
       "output_type": "display_data",
       "png": "[encoded data removed]",
       "text": [
        "<matplotlib.figure.Figure at 0x2c50f2f0>"
       ]
      },
      {
       "output_type": "stream",
       "stream": "stdout",
       "text": [
        "0.0\n",
        "30.2043343653\n",
        "151.021671827\n",
        "347.349845201\n",
        "422.860681115\n",
        "437.962848297\n",
        "453.06501548\n",
        "634.291021672\n",
        "740.00619195\n",
        "936.334365325\n",
        "1026.94736842\n",
        "1208.17337461\n",
        "1328.99071207\n"
       ]
      }
     ],
     "prompt_number": 29
    },
    {
     "cell_type": "code",
     "collapsed": false,
     "input": [
      "wave = bessel_lowpass_filter(sqr_pulse( 0, time1, t_up_out, t_down_in, deltaI ) + A_n * random.normal( 0, 1, points ), lowcut,fs, order=8)\n",
      "# Number of samplepoints\n",
      "N = len( wave )\n",
      "# sample spacing\n",
      "T = 1.0 / 9756\n",
      "x = linspace(0.0, N*T, N)\n",
      "y = wave\n",
      "yf = fft(y)\n",
      "xf = linspace(0.0, 1.0/(2.0*T), N/2)\n",
      "plot(xf, 2.0/N * np.abs(yf[0:N/2]))\n",
      "grid()\n",
      "show()"
     ],
     "language": "python",
     "metadata": {},
     "outputs": [
      {
       "metadata": {},
       "output_type": "display_data",
       "png": "[encoded data removed]",
       "text": [
        "<matplotlib.figure.Figure at 0x25b18db0>"
       ]
      }
     ],
     "prompt_number": 35
    },
    {
     "cell_type": "code",
     "collapsed": false,
     "input": [],
     "language": "python",
     "metadata": {},
     "outputs": []
    }
   ],
   "metadata": {}
  }
 ]
}