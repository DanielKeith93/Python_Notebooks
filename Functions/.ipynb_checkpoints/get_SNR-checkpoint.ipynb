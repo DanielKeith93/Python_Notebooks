{
 "metadata": {
  "name": "",
  "signature": "sha256:0a939844a33d4cc722e1b4dafb313c57b07200c694dfe7bc06c5e9553ce660d7"
 },
 "nbformat": 3,
 "nbformat_minor": 0,
 "worksheets": [
  {
   "cells": [
    {
     "cell_type": "code",
     "collapsed": false,
     "input": [
      "%pylab inline"
     ],
     "language": "python",
     "metadata": {},
     "outputs": [
      {
       "output_type": "stream",
       "stream": "stdout",
       "text": [
        "Populating the interactive namespace from numpy and matplotlib\n"
       ]
      }
     ],
     "prompt_number": 1
    },
    {
     "cell_type": "code",
     "collapsed": false,
     "input": [
      "def get_SNR( arbitrary_threshold ):\n",
      "    r = 0\n",
      "    q = 0 #counting variables\n",
      "    #following variables are voltages\n",
      "    S = 0 #standard deviation, should be the same for the noise and the signal\n",
      "    M_a = 0 #mean when there is no blip\n",
      "    M_b = 0 #mean value of the signal blip\n",
      "    #calculate for each trace\n",
      "    for x in signals: #self._signals\n",
      "        r = r + 1\n",
      "        s = 0\n",
      "        m_a = 0\n",
      "        m_b = 0\n",
      "        #figure()\n",
      "        #plot( times[x], signals[x])\n",
      "    \n",
      "        #split traces into the blip and no blip sections\n",
      "        j = sort( x ) #order is not important, can take into account several blips\n",
      "        #plot( times[x], j )\n",
      "        a = filter( lambda y: y < arbitrary_threshold, x ) #for now the current threshold is simply arbitrary\n",
      "        b = filter( lambda y: y >= arbitrary_threshold, x )\n",
      "        s = np.std( a )\n",
      "        m_a = np.mean( a )\n",
      "        S = S + s\n",
      "        M_a = M_a + m_a\n",
      "        if len( b ) != 0: #only calculate for a blip when necessary\n",
      "            q = q + 1\n",
      "            s = np.std( b )\n",
      "            m_b = np.mean( b )\n",
      "            S = S + s\n",
      "            M_b = M_b + m_b\n",
      "    #calculate the average values\n",
      "    #print( S / ( r + q ) )\n",
      "    #print( M_a / r )\n",
      "    #print( M_b / q )\n",
      "    #print r\n",
      "    #calculate the signal to noise ratio\n",
      "    SNR = ( ( M_b / q ) / ( S / ( r + q ) ) ) ** 2\n",
      "    \n",
      "    return 10 * log10( SNR )"
     ],
     "language": "python",
     "metadata": {},
     "outputs": [],
     "prompt_number": 30
    },
    {
     "cell_type": "code",
     "collapsed": false,
     "input": [
      "import sys\n",
      "sys.path[0] = 'C:/Users/z3414503/Documents/QTLab/qtlab_013/source/' \n",
      "import qt"
     ],
     "language": "python",
     "metadata": {},
     "outputs": [],
     "prompt_number": 20
    },
    {
     "cell_type": "code",
     "collapsed": false,
     "input": [
      "d= qt.Data('C:/Users/z3414503/Desktop/Honours/Data/144815_C Spin Tail Bz = 1.5000/traces/C Spin Tail Bz = 1.5000_-0.02_trace.dat')\n",
      "x=d.get_data()\n",
      "trace, time, signal = zip( *x )\n",
      "l = len( signal ) / len( set( trace ) ) \n",
      "t1 = 0.1\n",
      "t2 = 0.2\n",
      "T = 0.35\n",
      "l1 = t1 * l / T\n",
      "l2 = t2 * l / T\n",
      "trace = []\n",
      "time = []\n",
      "signal = []\n",
      "times = []\n",
      "signals = []\n",
      "traces = []\n",
      "print l1\n",
      "print l2\n",
      "print l\n",
      "import os\n",
      "for file in os.listdir( \"C:/Users/z3414503/Desktop/Honours/Data/144815_C Spin Tail Bz = 1.5000/traces\" ):\n",
      "    if file.endswith( \".dat\" ):\n",
      "        path = \"C:/Users/z3414503/Desktop/Honours/Data/144815_C Spin Tail Bz = 1.5000/traces/\"\n",
      "        file = path + file\n",
      "        d = qt.Data( file ) \n",
      "        x = d.get_data()\n",
      "        trace, b, c = zip( *x )\n",
      "        for i in set( trace ):\n",
      "            i = int( i )\n",
      "            x = c[ ( i - 1 ) * l + int( l1 ) + 30: i * l + int( l1 ) + int( l2 ) - l - 30 ]\n",
      "            y = b[ ( i - 1 ) * l + int( l1 ) + 30: i * l + int( l1 ) + int( l2 ) - l - 30 ] \n",
      "            signals.append( x )\n",
      "            times.append( y )\n",
      "            traces.append( trace[ i ] ) "
     ],
     "language": "python",
     "metadata": {},
     "outputs": [
      {
       "output_type": "stream",
       "stream": "stdout",
       "text": [
        "925.714285714\n",
        "1851.42857143\n",
        "3240\n"
       ]
      }
     ],
     "prompt_number": 28
    },
    {
     "cell_type": "code",
     "collapsed": false,
     "input": [
      "SNR = get_SNR( 0.12 )\n",
      "print SNR"
     ],
     "language": "python",
     "metadata": {},
     "outputs": [
      {
       "output_type": "stream",
       "stream": "stdout",
       "text": [
        "17.4755393345\n"
       ]
      }
     ],
     "prompt_number": 31
    },
    {
     "cell_type": "code",
     "collapsed": false,
     "input": [
      "print len( signals[0] )"
     ],
     "language": "python",
     "metadata": {},
     "outputs": [
      {
       "output_type": "stream",
       "stream": "stdout",
       "text": [
        "29100\n"
       ]
      }
     ],
     "prompt_number": 25
    },
    {
     "cell_type": "code",
     "collapsed": false,
     "input": [
      "print len( signals )"
     ],
     "language": "python",
     "metadata": {},
     "outputs": [
      {
       "output_type": "stream",
       "stream": "stdout",
       "text": [
        "351\n"
       ]
      }
     ],
     "prompt_number": 26
    },
    {
     "cell_type": "code",
     "collapsed": false,
     "input": [],
     "language": "python",
     "metadata": {},
     "outputs": []
    }
   ],
   "metadata": {}
  }
 ]
}