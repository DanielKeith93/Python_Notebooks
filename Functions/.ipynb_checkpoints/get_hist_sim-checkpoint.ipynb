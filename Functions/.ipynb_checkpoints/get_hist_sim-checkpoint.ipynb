{
 "metadata": {
  "name": "",
  "signature": "sha256:a8e44ee688a1b08be0a833d576a417ec9d3222e04e92088ccc05160fd0d429ed"
 },
 "nbformat": 3,
 "nbformat_minor": 0,
 "worksheets": [
  {
   "cells": [
    {
     "cell_type": "code",
     "collapsed": false,
     "input": [
      "%pylab inline"
     ],
     "language": "python",
     "metadata": {},
     "outputs": [
      {
       "output_type": "stream",
       "stream": "stdout",
       "text": [
        "Populating the interactive namespace from numpy and matplotlib\n"
       ]
      }
     ],
     "prompt_number": 1
    },
    {
     "cell_type": "code",
     "collapsed": false,
     "input": [
      "#define parameters\n",
      "lowcut = 10000.0\n",
      "fs = 2 * lowcut\n",
      "T = 0.055\n",
      "nsamples = T * fs\n",
      "N_0 = 0.55\n",
      "N_1 = 1 - N_0\n",
      "deltat = T #s, taken from spin to charge optimisation\n",
      "t_down_in = 0.0051\n",
      "t_up_out = 0.0065 #Taken from experimental data.\n",
      "deltaI = 0.45 * 10 ** - 9 #A\n",
      "points = nsamples\n",
      "time1 = linspace( 0, deltat, points )\n",
      "a_n = 0.24 * 10 ** - 12 #A / ( ( Hz ) ^ ( 1 / 2 ) ) #Have to multiply spectral density by a bandwidth.\n",
      "f_c = lowcut #Hz, cut off frequency, also used as the bandwidth\n",
      "A_n = a_n * sqrt( fs )\n",
      "bars = 200\n",
      "traces = 10000"
     ],
     "language": "python",
     "metadata": {},
     "outputs": [],
     "prompt_number": 2
    },
    {
     "cell_type": "code",
     "collapsed": false,
     "input": [
      "from scipy.signal import bessel, lfilter\n",
      "\n",
      "\n",
      "def bessel_lowpass(lowcut,fs, order=8):\n",
      "    nyq = 0.5 * fs\n",
      "    low = lowcut / nyq\n",
      "    b, a = bessel(order, low, btype='low')\n",
      "    return b, a\n",
      "\n",
      "\n",
      "def bessel_lowpass_filter(data, lowcut,fs, order=8):\n",
      "    b, a = bessel_lowpass(lowcut,fs, order=order)\n",
      "    y = lfilter(b, a, data)\n",
      "    return y\n",
      "\n",
      "def sqr_pulse( c, time_arr, t1, t2, I ):\n",
      "    start = int( ( t1 / deltat ) * len(time_arr) )\n",
      "    finish = int( ( ( t1 + t2 ) / deltat ) * len(time_arr) )\n",
      "    if c == 0:\n",
      "        wave = time_arr[ : ] * 0\n",
      "        wave[ start: finish ] =  ( time_arr[ start: finish ] * 0 ) + I \n",
      "        return wave\n",
      "    elif c == 1:\n",
      "        wave = time_arr[ : ] * 0\n",
      "        return wave\n",
      "    \n",
      "def gen_wav3( N ):\n",
      "    N_down = []\n",
      "    N_up = [] #up goes to charge 0\n",
      "    for i in xrange( 0, N):\n",
      "        if randint(0,99) < ( N_0 * 100 ):\n",
      "            charge = 0\n",
      "        else:\n",
      "            charge = 1\n",
      "            #need to randomly generate different tunneling times for each simulated pulse.\n",
      "        t_in = t_down_in \n",
      "        t_out = t_up_out\n",
      "        r_in = randint( 1,1001 )\n",
      "        r_out = randint( 1,1001 )\n",
      "        t_in = - log( r_in * 0.001 ) * t_in\n",
      "        t_out = - log( r_out * 0.001 ) * t_out\n",
      "        if charge == 0:\n",
      "            N_up.append( max( bessel_lowpass_filter(sqr_pulse( charge, time1, t_out, t_in, deltaI ) + A_n * random.normal( 0, 1, points ), lowcut,fs, order=8)) )\n",
      "        else:\n",
      "            N_down.append( max( bessel_lowpass_filter(sqr_pulse( charge, time1, t_out, t_in, deltaI ) + A_n * random.normal( 0, 1, points ), lowcut,fs, order=8)) )\n",
      "    \n",
      "    range = deltaI + 5 * A_n\n",
      "    \n",
      "    values_u, bins_u = histogram( N_up, bins=arange( 0, range * 1.01, range * 0.01 ), normed = True )\n",
      "    values_d, bins_d = histogram( N_down, bins=arange( 0, range * 1.01, range * 0.01 ), normed = True )\n",
      "\n",
      "\n",
      "    return values_d, bins_d, values_u, bins_u\n",
      "\n"
     ],
     "language": "python",
     "metadata": {},
     "outputs": [],
     "prompt_number": 11
    },
    {
     "cell_type": "code",
     "collapsed": false,
     "input": [
      "a,b,c,d = gen_wav3( 100 )"
     ],
     "language": "python",
     "metadata": {},
     "outputs": [],
     "prompt_number": 12
    },
    {
     "cell_type": "code",
     "collapsed": false,
     "input": [
      "def get_hist_sim( no_traces ):\n",
      "    a, b, c, d = gen_wav3( no_traces )\n",
      "    figure()\n",
      "    plot( b[:-1], a, 'b', d[:-1], c, 'r' )\n",
      "    return"
     ],
     "language": "python",
     "metadata": {},
     "outputs": [],
     "prompt_number": 13
    },
    {
     "cell_type": "code",
     "collapsed": false,
     "input": [
      "get_hist_sim( 1000 )"
     ],
     "language": "python",
     "metadata": {},
     "outputs": [
      {
       "metadata": {},
       "output_type": "display_data",
       "png": "[encoded data removed]",
       "text": [
        "<matplotlib.figure.Figure at 0xd21e710>"
       ]
      }
     ],
     "prompt_number": 14
    },
    {
     "cell_type": "code",
     "collapsed": false,
     "input": [],
     "language": "python",
     "metadata": {},
     "outputs": []
    }
   ],
   "metadata": {}
  }
 ]
}