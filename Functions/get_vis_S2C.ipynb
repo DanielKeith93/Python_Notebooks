{
 "metadata": {
  "name": "",
  "signature": "sha256:4768ae49c5b515bfc7e7d603dd0f19ac633f8ee6fbb5999a61b8158ef3559fea"
 },
 "nbformat": 3,
 "nbformat_minor": 0,
 "worksheets": [
  {
   "cells": [
    {
     "cell_type": "code",
     "collapsed": false,
     "input": [
      "%pylab inline"
     ],
     "language": "python",
     "metadata": {},
     "outputs": [
      {
       "output_type": "stream",
       "stream": "stdout",
       "text": [
        "Populating the interactive namespace from numpy and matplotlib\n"
       ]
      }
     ],
     "prompt_number": 1
    },
    {
     "cell_type": "code",
     "collapsed": false,
     "input": [
      "#constants used\n",
      "g_e = 2\n",
      "mu_B = 5.7884 * 10 ** - 5 \n",
      "k_B = 8.6173 * 10 ** - 5 \n",
      "bars = 200\n",
      "traces = 10000\n",
      "#set variables\n",
      "t_up_out = 0.0065\n",
      "t_down_in = 0.0051\n",
      "B = 1.6\n",
      "T_e = 0.100 \n",
      "N_up_0 = 0.37\n",
      "k = 0.102\n",
      "fs = 1000000.0\n",
      "f_c = 10000.0\n",
      "deltaT = 0.055\n",
      "deltaI = 0.45 * 10 ** - 9 #A\n",
      "a_n = 0.24 * 10 ** - 12 #A / ( ( Hz ) ^ ( 1 / 2 ) ) #Have to multiply spectral density by a bandwidth.\n",
      "#calculate other parameters\n",
      "N_down_0 = 1 - N_up_0\n",
      "f_down = 1 / (1 + exp( - 0.5 * g_e * mu_B * B /(k_B * T_e)))\n",
      "t_down_out = t_down_in * f_down / (1 - f_down) \n",
      "T1 = 1 / (k * (B ** 5))\n",
      "points = deltaT * fs\n",
      "A_n = a_n * sqrt( f_c )\n",
      "T2 = T1 * t_down_out - T1 * t_up_out + t_down_out * t_up_out\n",
      "print T1\n",
      "print f_down\n",
      "print T2\n",
      "print t_down_out"
     ],
     "language": "python",
     "metadata": {},
     "outputs": [
      {
       "output_type": "stream",
       "stream": "stdout",
       "text": [
        "0.934974820006\n",
        "0.999978501294\n",
        "223.329149154\n",
        "237.218480776\n"
       ]
      }
     ],
     "prompt_number": 2
    },
    {
     "cell_type": "code",
     "collapsed": false,
     "input": [
      "dt = linspace( 1 * 10 ** - 3, 10 , 100000 ) \n",
      "\n",
      "def get_vis_S2C( readout_time ):\n",
      "    alpha1 = (1 / T2)\n",
      "    alpha2 = T2\n",
      "    alpha3 = (t_up_out * t_down_out) / (exp((dt) / t_down_out))\n",
      "    alpha4 = (T1 * t_down_out) / (exp((dt)/T1) * exp((dt) / t_up_out))\n",
      "    alpha5 = (T1 * t_up_out) / (exp((dt) / T1) * exp((dt) / t_up_out))\n",
      "    alpha = alpha1 * (alpha2 - alpha3 - alpha4 + alpha5)\n",
      "    beta1 = exp( - dt / t_down_out) \n",
      "\n",
      "    N_0 = alpha * N_up_0 + ( 1 - beta1 ) * N_down_0\n",
      "    V_stc = alpha + beta1 - 1 #Rename to be more accurate.\n",
      "    idx = ( abs( dt - readout_time ) ).argmin()\n",
      "    vis = V_stc[ idx ]\n",
      "    return vis"
     ],
     "language": "python",
     "metadata": {},
     "outputs": [],
     "prompt_number": 26
    },
    {
     "cell_type": "code",
     "collapsed": false,
     "input": [
      "VIS = get_vis_S2C( 0.068 )\n",
      "print VIS"
     ],
     "language": "python",
     "metadata": {},
     "outputs": [
      {
       "output_type": "stream",
       "stream": "stdout",
       "text": [
        "0.992784690481\n"
       ]
      }
     ],
     "prompt_number": 28
    },
    {
     "cell_type": "code",
     "collapsed": false,
     "input": [],
     "language": "python",
     "metadata": {},
     "outputs": []
    }
   ],
   "metadata": {}
  }
 ]
}