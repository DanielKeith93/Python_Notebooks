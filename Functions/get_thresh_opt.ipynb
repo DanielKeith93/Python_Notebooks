{
 "metadata": {
  "name": "",
  "signature": "sha256:bdb0ce9ee1aa2b9f2f9207b8377d460fbdfeb6ba0f897ff551b0ce82db29ccdf"
 },
 "nbformat": 3,
 "nbformat_minor": 0,
 "worksheets": [
  {
   "cells": [
    {
     "cell_type": "code",
     "collapsed": false,
     "input": [
      "%pylab inline"
     ],
     "language": "python",
     "metadata": {},
     "outputs": [
      {
       "output_type": "stream",
       "stream": "stdout",
       "text": [
        "Populating the interactive namespace from numpy and matplotlib\n"
       ]
      }
     ],
     "prompt_number": 1
    },
    {
     "cell_type": "code",
     "collapsed": false,
     "input": [
      "#constants used\n",
      "g_e = 2\n",
      "mu_B = 5.7884 * 10 ** - 5 \n",
      "k_B = 8.6173 * 10 ** - 5 \n",
      "bars = 200\n",
      "traces = 10000\n",
      "#set variables\n",
      "t_up_out = 0.0065\n",
      "t_down_in = 0.0051\n",
      "B = 1.6\n",
      "T_e = 0.100 \n",
      "N_up_0 = 0.37\n",
      "k = 0.102\n",
      "f_c = 10000.0\n",
      "fs = 2 * f_c\n",
      "deltaT = 0.055\n",
      "deltaI = 0.45 * 10 ** - 9 #A\n",
      "a_n = 0.24 * 10 ** - 12 #A / ( ( Hz ) ^ ( 1 / 2 ) ) #Have to multiply spectral density by a bandwidth.\n",
      "#calculate other parameters\n",
      "N_down_0 = 1 - N_up_0\n",
      "f_down = 1 / (1 + exp( - 0.5 * g_e * mu_B * B /(k_B * T_e)))\n",
      "t_down_out = t_down_in * f_down / (1 - f_down) \n",
      "T1 = 1 / (k * (B ** 5))\n",
      "points = deltaT * fs\n",
      "A_n = a_n * sqrt( fs )\n",
      "T2 = T1 * t_down_out - T1 * t_up_out + t_down_out * t_up_out\n",
      "print T1\n",
      "print f_down\n",
      "print T2\n",
      "print t_down_out"
     ],
     "language": "python",
     "metadata": {},
     "outputs": [
      {
       "output_type": "stream",
       "stream": "stdout",
       "text": [
        "0.934974820006\n",
        "0.999978501294\n",
        "223.329149154\n",
        "237.218480776\n"
       ]
      }
     ],
     "prompt_number": 2
    },
    {
     "cell_type": "code",
     "collapsed": false,
     "input": [
      "#define variables\n",
      "from scipy.signal import bessel, lfilter\n",
      "\n",
      "\n",
      "def bessel_lowpass(lowcut,fs, order=8):\n",
      "    nyq = 0.5 * fs\n",
      "    low = lowcut / nyq\n",
      "    b, a = bessel(order, low, btype='low')\n",
      "    return b, a\n",
      "\n",
      "\n",
      "def bessel_lowpass_filter(data, lowcut,fs, order=8):\n",
      "    b, a = bessel_lowpass(lowcut,fs, order=order)\n",
      "    y = lfilter(b, a, data)\n",
      "    return y\n",
      "\n",
      "def sqr_pulse( c, time_arr, t1, t2, I, deltat ):\n",
      "    start = int( ( t1 / deltat ) * len(time_arr) )\n",
      "    finish = int( ( ( t1 + t2 ) / deltat ) * len(time_arr) )\n",
      "    if c == 0:\n",
      "        wave = time_arr[ : ] * 0\n",
      "        wave[ start: finish ] =  ( time_arr[ start: finish ] * 0 ) + I \n",
      "        return wave\n",
      "    elif c == 1:\n",
      "        wave = time_arr[ : ] * 0\n",
      "        return wave\n",
      "    \n",
      "def gen_wav3( N, TIME ):\n",
      "    N_down = []\n",
      "    N_up = [] #up goes to charge 0\n",
      "    points = TIME * fs\n",
      "    time1 = linspace( 0, TIME , points )\n",
      "\n",
      "    for i in xrange( 0, N):\n",
      "        if randint(0,99) < ( N_up_0 * 100 ):\n",
      "            charge = 0\n",
      "        else:\n",
      "            charge = 1\n",
      "            #need to randomly generate different tunneling times for each simulated pulse.\n",
      "        t_in = t_down_in \n",
      "        t_out = t_up_out\n",
      "        r_in = randint( 1,1001 )\n",
      "        r_out = randint( 1,1001 )\n",
      "        t_in = - log( r_in * 0.001 ) * t_in\n",
      "        t_out = - log( r_out * 0.001 ) * t_out\n",
      "        if charge == 0:\n",
      "            N_up.append( max( bessel_lowpass_filter(sqr_pulse( charge, time1, t_out, t_in, deltaI, TIME ) + A_n * random.normal( 0, 1, points ), f_c ,fs, order=8)) )\n",
      "        else:\n",
      "            N_down.append( max( bessel_lowpass_filter(sqr_pulse( charge, time1, t_out, t_in, deltaI, TIME ) + A_n * random.normal( 0, 1, points ), f_c ,fs, order=8)) )\n",
      "    range = deltaI + 5 * A_n\n",
      "    \n",
      "    values_u, bins_u = histogram( N_up, bins=arange( 0, range * 1.01, range * 0.01 ), normed = True )\n",
      "    values_d, bins_d = histogram( N_down, bins=arange( 0, range * 1.01, range * 0.01 ), normed = True )\n",
      "\n",
      "    return values_d, bins_d, values_u, bins_u"
     ],
     "language": "python",
     "metadata": {},
     "outputs": [],
     "prompt_number": 3
    },
    {
     "cell_type": "code",
     "collapsed": false,
     "input": [
      "def get_thresh_opt():\n",
      "    values_d, bins_d, values_u, bins_u = gen_wav3( traces, deltaT )\n",
      "\n",
      "    I_t_max = 6 * 10 ** - 10\n",
      "    I_t = linspace( 0, I_t_max, 100 )\n",
      "    V = []\n",
      "    F0 = []\n",
      "    F1 = []\n",
      "\n",
      "    for x in I_t:\n",
      "        idx_d = min(range(len(bins_d)), key=lambda i: abs(bins_d[i]-x))\n",
      "        idx_u = min(range(len(bins_u)), key=lambda i: abs(bins_u[i]-x))\n",
      "        F_0 = 1 - sum( numpy.diff( bins_u[ :idx_u + 1 ] ) * values_u[ :idx_u ] )\n",
      "        F_1 = 1 - sum( numpy.diff( bins_d[ idx_d: ] ) * values_d[ idx_d: ] )\n",
      "        V.append( (F_0 + F_1) - 1 )\n",
      "        F0.append( F_0 )\n",
      "        F1.append( F_1 )\n",
      "\n",
      "    V_max = max( V )\n",
      "    idx = V.index( V_max )\n",
      "    return I_t[idx]"
     ],
     "language": "python",
     "metadata": {},
     "outputs": [],
     "prompt_number": 11
    },
    {
     "cell_type": "code",
     "collapsed": false,
     "input": [
      "threshold = get_thresh_opt()\n",
      "print threshold"
     ],
     "language": "python",
     "metadata": {},
     "outputs": [
      {
       "output_type": "stream",
       "stream": "stdout",
       "text": [
        "1.75757575758e-10\n"
       ]
      }
     ],
     "prompt_number": 12
    },
    {
     "cell_type": "code",
     "collapsed": false,
     "input": [
      "range?"
     ],
     "language": "python",
     "metadata": {},
     "outputs": [],
     "prompt_number": 13
    },
    {
     "cell_type": "code",
     "collapsed": false,
     "input": [],
     "language": "python",
     "metadata": {},
     "outputs": []
    }
   ],
   "metadata": {}
  }
 ]
}