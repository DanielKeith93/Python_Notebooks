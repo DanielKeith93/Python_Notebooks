{
 "metadata": {
  "name": "",
  "signature": "sha256:c24a69adfd126f5df31dfb17d35ec5e6d79e06d9fb64fa7bbf3099cf6ebf4714"
 },
 "nbformat": 3,
 "nbformat_minor": 0,
 "worksheets": [
  {
   "cells": [
    {
     "cell_type": "code",
     "collapsed": false,
     "input": [
      "%pylab inline"
     ],
     "language": "python",
     "metadata": {},
     "outputs": [
      {
       "output_type": "stream",
       "stream": "stdout",
       "text": [
        "Populating the interactive namespace from numpy and matplotlib\n"
       ]
      }
     ],
     "prompt_number": 1
    },
    {
     "cell_type": "code",
     "collapsed": false,
     "input": [
      "#import module\n",
      "import sys\n",
      "sys.path[0] = 'C:/Users/z3414503/Documents/QTLab/qtlab_013/source/' \n",
      "import qt\n",
      "d= qt.Data('C:/Users/z3414503/Desktop/Honours/Data/144815_C Spin Tail Bz = 1.5000/traces/C Spin Tail Bz = 1.5000_-0.02_trace.dat')\n",
      "trace = []\n",
      "time = []\n",
      "signal = []\n",
      "times = []\n",
      "signals = []\n",
      "traces = []\n",
      "\n",
      "t1 = 0.1\n",
      "t2 = 0.2\n",
      "T = 0.35\n",
      "\n",
      "#get traces from data file\n",
      "import os\n",
      "for file in os.listdir( \"C:/Users/z3414503/Desktop/Honours/Data/144815_C Spin Tail Bz = 1.5000/traces\" ):\n",
      "    if file.endswith( \".dat\" ):\n",
      "        path = \"C:/Users/z3414503/Desktop/Honours/Data/144815_C Spin Tail Bz = 1.5000/traces/\"\n",
      "        file = path + file\n",
      "        d = qt.Data( file ) \n",
      "        x = d.get_data()\n",
      "        trace, b, c = zip( *x )\n",
      "        l = len( c ) / len( set( trace ) ) \n",
      "        l1 = t1 * l / T\n",
      "        l2 = t2 * l / T\n",
      "        for i in set( trace ): #split up the files into the seperate traces\n",
      "            i = int( i )\n",
      "            x = c[ ( i - 1 ) * l + int( l1 ) + 30: i * l + int( l1 ) + int( l2 ) - l - 30 ]\n",
      "            y = b[ ( i - 1 ) * l + int( l1 ) + 30: i * l + int( l1 ) + int( l2 ) - l - 30 ] \n",
      "            signals.append( x )\n",
      "            times.append( y )\n",
      "            traces.append( trace[ i ] ) "
     ],
     "language": "python",
     "metadata": {},
     "outputs": [],
     "prompt_number": 3
    },
    {
     "cell_type": "code",
     "collapsed": false,
     "input": [
      "def get_t_down( arbitrary_threshold, time ):\n",
      "    import scipy\n",
      "    from scipy import stats\n",
      "    blips = []\n",
      "    V = arbitrary_threshold\n",
      "    t_down = []\n",
      "    for x in signals:\n",
      "        if max( x ) >= V:\n",
      "            blips.append( x )\n",
      "    for x in blips:\n",
      "        for i in x:\n",
      "            if i > V: #check if there is a blip\n",
      "                idx1 = x.index( i )\n",
      "                for j in x[ idx1: ]:\n",
      "                    if j < V:\n",
      "                        idx2 = x.index( j )\n",
      "                        t_down.append( idx2 )\n",
      "                        for k in x[ idx1 + idx2: ]: #only take traces with a single blip\n",
      "                            if k > V:\n",
      "                                del t_down[-1]\n",
      "                                break\n",
      "                        break\n",
      "                break\n",
      "    x = linspace( 0, len( signals[0] ), len( signals[0] ))\n",
      "    param = stats.expon.fit( t_down, floc = 0 )\n",
      "    return ( time * param[1] ) / len( signals[0] )"
     ],
     "language": "python",
     "metadata": {},
     "outputs": [],
     "prompt_number": 6
    },
    {
     "cell_type": "code",
     "collapsed": false,
     "input": [
      "get_t_down( 0.118, 0.35 )"
     ],
     "language": "python",
     "metadata": {},
     "outputs": [
      {
       "metadata": {},
       "output_type": "pyout",
       "prompt_number": 7,
       "text": [
        "0.068658866691465273"
       ]
      }
     ],
     "prompt_number": 7
    },
    {
     "cell_type": "code",
     "collapsed": false,
     "input": [],
     "language": "python",
     "metadata": {},
     "outputs": []
    }
   ],
   "metadata": {}
  }
 ]
}