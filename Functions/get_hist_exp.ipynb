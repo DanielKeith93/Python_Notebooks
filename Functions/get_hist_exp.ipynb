{
 "metadata": {
  "name": "",
  "signature": "sha256:ac4cba257205c4211a4f31db90daa64bf20ab5dbba120293eb32bb808a4c8541"
 },
 "nbformat": 3,
 "nbformat_minor": 0,
 "worksheets": [
  {
   "cells": [
    {
     "cell_type": "code",
     "collapsed": false,
     "input": [
      "%pylab inline"
     ],
     "language": "python",
     "metadata": {},
     "outputs": [
      {
       "output_type": "stream",
       "stream": "stdout",
       "text": [
        "Populating the interactive namespace from numpy and matplotlib\n"
       ]
      }
     ],
     "prompt_number": 1
    },
    {
     "cell_type": "code",
     "collapsed": false,
     "input": [
      "#import module\n",
      "import sys\n",
      "sys.path[0] = 'C:/Users/z3414503/Documents/QTLab/qtlab_013/source/' \n",
      "import qt\n",
      "d= qt.Data('C:/Users/z3414503/Desktop/Honours/Data/144815_C Spin Tail Bz = 1.5000/traces/C Spin Tail Bz = 1.5000_-0.02_trace.dat')\n",
      "trace = []\n",
      "time = []\n",
      "signal = []\n",
      "times = []\n",
      "signals = []\n",
      "traces = []\n",
      "\n",
      "t1 = 0.1\n",
      "t2 = 0.2\n",
      "T = 0.35\n",
      "\n",
      "#get traces from data file\n",
      "import os\n",
      "for file in os.listdir( \"C:/Users/z3414503/Desktop/Honours/Data/144815_C Spin Tail Bz = 1.5000/traces\" ):\n",
      "    if file.endswith( \".dat\" ):\n",
      "        path = \"C:/Users/z3414503/Desktop/Honours/Data/144815_C Spin Tail Bz = 1.5000/traces/\"\n",
      "        file = path + file\n",
      "        d = qt.Data( file ) \n",
      "        x = d.get_data()\n",
      "        trace, b, c = zip( *x )\n",
      "        l = len( c ) / len( set( trace ) ) \n",
      "        l1 = t1 * l / T\n",
      "        l2 = t2 * l / T\n",
      "        for i in set( trace ): #split up the files into the seperate traces\n",
      "            i = int( i )\n",
      "            x = c[ ( i - 1 ) * l + int( l1 ) + 30: i * l + int( l1 ) + int( l2 ) - l - 30 ]\n",
      "            y = b[ ( i - 1 ) * l + int( l1 ) + 30: i * l + int( l1 ) + int( l2 ) - l - 30 ] \n",
      "            signals.append( x )\n",
      "            times.append( y )\n",
      "            traces.append( trace[ i ] ) "
     ],
     "language": "python",
     "metadata": {},
     "outputs": [],
     "prompt_number": 11
    },
    {
     "cell_type": "code",
     "collapsed": false,
     "input": [
      "def get_hist_exp( data ):  \n",
      "    signals_max = []\n",
      "    for x in data:\n",
      "        signals_max.append( max( x ) )\n",
      "        \n",
      "    #range = I_n + 5 * A_n\n",
      "    figure()\n",
      "    values, bins = histogram( signals_max , bins=arange( 0, 0.25 + 0.002, 0.002 ), normed = True )\n",
      "    plot( bins[:-1], values, 'g' )\n",
      "    return"
     ],
     "language": "python",
     "metadata": {},
     "outputs": [],
     "prompt_number": 14
    },
    {
     "cell_type": "code",
     "collapsed": false,
     "input": [
      "get_hist_exp( signals )"
     ],
     "language": "python",
     "metadata": {},
     "outputs": [
      {
       "metadata": {},
       "output_type": "display_data",
       "png": "[encoded data removed]",
       "text": [
        "<matplotlib.figure.Figure at 0x37e9110>"
       ]
      }
     ],
     "prompt_number": 15
    },
    {
     "cell_type": "code",
     "collapsed": false,
     "input": [],
     "language": "python",
     "metadata": {},
     "outputs": []
    }
   ],
   "metadata": {}
  }
 ]
}