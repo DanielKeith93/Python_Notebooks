{
 "metadata": {
  "name": "",
  "signature": "sha256:7cdf0f752cd8d40d47b99e40c06aeff881fd0b67b114a26aa94a16c7adcd0071"
 },
 "nbformat": 3,
 "nbformat_minor": 0,
 "worksheets": [
  {
   "cells": [
    {
     "cell_type": "code",
     "collapsed": false,
     "input": [
      "%pylab inline"
     ],
     "language": "python",
     "metadata": {},
     "outputs": [
      {
       "output_type": "stream",
       "stream": "stdout",
       "text": [
        "Populating the interactive namespace from numpy and matplotlib\n"
       ]
      }
     ],
     "prompt_number": 1
    },
    {
     "cell_type": "code",
     "collapsed": false,
     "input": [
      "signals = [] #will have to be stored as a self._\n",
      "\n",
      "def get_data( file_name, no_traces ):\n",
      "    signals = [] #self._signals\n",
      "    import sys\n",
      "    sys.path[0] = 'C:/Users/z3414503/Documents/QTLab/qtlab_013/source/' \n",
      "    import qt\n",
      "    d = qt.Data( file_name ) \n",
      "    x = d.get_data()\n",
      "    for i in xrange( 0, no_traces ):\n",
      "        trace_length = len( x ) / no_traces\n",
      "        y = x[ i * trace_length: ( i + 1 ) * trace_length ]\n",
      "        signals.append( y ) #remember to call as self._\n",
      "    return signals #self._signals"
     ],
     "language": "python",
     "metadata": {},
     "outputs": [],
     "prompt_number": 38
    },
    {
     "cell_type": "code",
     "collapsed": false,
     "input": [
      "get_data( \"C:/Users/z3414503/Desktop/Honours/Data/fake_data.dat\", 5 )"
     ],
     "language": "python",
     "metadata": {},
     "outputs": [
      {
       "output_type": "stream",
       "stream": "stderr",
       "text": [
        "WARNING:root:Error while detecting dimension size\n"
       ]
      }
     ],
     "prompt_number": 35
    },
    {
     "cell_type": "code",
     "collapsed": false,
     "input": [
      "print signals[3]"
     ],
     "language": "python",
     "metadata": {},
     "outputs": [
      {
       "output_type": "stream",
       "stream": "stdout",
       "text": [
        "[[  1.]\n",
        " [  2.]\n",
        " [  3.]\n",
        " [  4.]\n",
        " [  5.]\n",
        " [  6.]\n",
        " [  7.]\n",
        " [  8.]\n",
        " [  9.]\n",
        " [ 10.]]\n"
       ]
      }
     ],
     "prompt_number": 36
    },
    {
     "cell_type": "code",
     "collapsed": false,
     "input": [
      "t = linspace( 0, 10, 10 )\n",
      "plot( t, signals[2] )"
     ],
     "language": "python",
     "metadata": {},
     "outputs": [
      {
       "metadata": {},
       "output_type": "pyout",
       "prompt_number": 37,
       "text": [
        "[<matplotlib.lines.Line2D at 0x6035330>]"
       ]
      },
      {
       "metadata": {},
       "output_type": "display_data",
       "png": "[encoded data removed]",
       "text": [
        "<matplotlib.figure.Figure at 0x5ff6fd0>"
       ]
      }
     ],
     "prompt_number": 37
    },
    {
     "cell_type": "code",
     "collapsed": false,
     "input": [],
     "language": "python",
     "metadata": {},
     "outputs": []
    }
   ],
   "metadata": {}
  }
 ]
}