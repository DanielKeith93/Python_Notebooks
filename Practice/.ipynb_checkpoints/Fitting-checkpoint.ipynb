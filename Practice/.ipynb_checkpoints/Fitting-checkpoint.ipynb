{
 "metadata": {
  "name": "",
  "signature": "sha256:8a403d9d5dddb57c79949bbc1fb523d9b21378ff5705b01b1372fc6b93dfa058"
 },
 "nbformat": 3,
 "nbformat_minor": 0,
 "worksheets": [
  {
   "cells": [
    {
     "cell_type": "code",
     "collapsed": false,
     "input": [
      "%pylab inline"
     ],
     "language": "python",
     "metadata": {},
     "outputs": [
      {
       "output_type": "stream",
       "stream": "stdout",
       "text": [
        "Populating the interactive namespace from numpy and matplotlib\n"
       ]
      }
     ],
     "prompt_number": 1
    },
    {
     "cell_type": "code",
     "collapsed": false,
     "input": [
      "#import module\n",
      "import sys\n",
      "sys.path[0] = 'C:/Users/z3414503/Documents/QTLab/qtlab_013/source/' \n",
      "import qt\n",
      "d= qt.Data('C:/Users/z3414503/Desktop/Honours/Data/144815_C Spin Tail Bz = 1.5000/traces/C Spin Tail Bz = 1.5000_-0.02_trace.dat')"
     ],
     "language": "python",
     "metadata": {},
     "outputs": [],
     "prompt_number": 3
    },
    {
     "cell_type": "code",
     "collapsed": false,
     "input": [
      "trace = []\n",
      "time = []\n",
      "signal = []\n",
      "times = []\n",
      "signals = []\n",
      "traces = []\n",
      "\n",
      "t1 = 0.1\n",
      "t2 = 0.2\n",
      "T = 0.35\n",
      "\n",
      "#get traces from data file\n",
      "import os\n",
      "for file in os.listdir( \"C:/Users/z3414503/Desktop/Honours/Data/144815_C Spin Tail Bz = 1.5000/traces\" ):\n",
      "    if file.endswith( \".dat\" ):\n",
      "        path = \"C:/Users/z3414503/Desktop/Honours/Data/144815_C Spin Tail Bz = 1.5000/traces/\"\n",
      "        file = path + file\n",
      "        d = qt.Data( file ) \n",
      "        x = d.get_data()\n",
      "        trace, b, c = zip( *x )\n",
      "        l = len( c ) / len( set( trace ) ) \n",
      "        l1 = t1 * l / T\n",
      "        l2 = t2 * l / T\n",
      "        for i in set( trace ): #split up the files into the seperate traces\n",
      "            i = int( i )\n",
      "            x = c[ ( i - 1 ) * l + int( l1 ) + 30: i * l + int( l1 ) + int( l2 ) - l - 30 ]\n",
      "            y = b[ ( i - 1 ) * l + int( l1 ) + 30: i * l + int( l1 ) + int( l2 ) - l - 30 ] \n",
      "            signals.append( x )\n",
      "            times.append( y )\n",
      "            traces.append( trace[ i ] ) "
     ],
     "language": "python",
     "metadata": {},
     "outputs": [],
     "prompt_number": 4
    },
    {
     "cell_type": "code",
     "collapsed": false,
     "input": [
      "bars = 100\n",
      "signals_max = []\n",
      "for x in signals:\n",
      "    signals_max.append( max( x ) )\n",
      "y, x, _ = plt.hist( signals_max, bins=arange(0, 0.25 + 0.002, 0.002), histtype = 'step', normed = True )"
     ],
     "language": "python",
     "metadata": {},
     "outputs": [
      {
       "metadata": {},
       "output_type": "display_data",
       "png": "[encoded data removed]",
       "text": [
        "<matplotlib.figure.Figure at 0x5f3dfb0>"
       ]
      }
     ],
     "prompt_number": 5
    },
    {
     "cell_type": "code",
     "collapsed": false,
     "input": [
      "plot( x[:-1], y)"
     ],
     "language": "python",
     "metadata": {},
     "outputs": [
      {
       "metadata": {},
       "output_type": "pyout",
       "prompt_number": 6,
       "text": [
        "[<matplotlib.lines.Line2D at 0x94e1f10>]"
       ]
      },
      {
       "metadata": {},
       "output_type": "display_data",
       "png": "[encoded data removed]",
       "text": [
        "<matplotlib.figure.Figure at 0x5f3dd90>"
       ]
      }
     ],
     "prompt_number": 6
    },
    {
     "cell_type": "code",
     "collapsed": false,
     "input": [
      "#define parameters\n",
      "fs = 20000\n",
      "lowcut = 10000.0\n",
      "T = 0.2\n",
      "nsamples = T * fs\n",
      "N_0 = 0.32\n",
      "N_1 = 1 - N_0\n",
      "deltat = T #s, taken from spin to charge optimisation\n",
      "t_down_in = 0.0687\n",
      "t_up_out = 0.064 #Taken from experimental data.\n",
      "deltaI = 0.161 #A\n",
      "points = nsamples\n",
      "time1 = linspace( 0, deltat, points )\n",
      "a_n = 0.0212 #A / ( ( Hz ) ^ ( 1 / 2 ) ) #Have to multiply spectral density by a bandwidth.\n",
      "f_c = lowcut #Hz, cut off frequency, also used as the bandwidth\n",
      "A_n = a_n * sqrt( fs )\n",
      "bars = 200\n",
      "traces = 351"
     ],
     "language": "python",
     "metadata": {},
     "outputs": [],
     "prompt_number": 7
    },
    {
     "cell_type": "code",
     "collapsed": false,
     "input": [
      "A_n = 0.021"
     ],
     "language": "python",
     "metadata": {},
     "outputs": [],
     "prompt_number": 8
    },
    {
     "cell_type": "code",
     "collapsed": false,
     "input": [
      "from scipy.signal import bessel, lfilter\n",
      "from numba import jit\n",
      "from numpy import arange\n",
      "\n",
      "@jit\n",
      "def bessel_lowpass(lowcut,fs, order=8):\n",
      "    nyq = 0.5 * fs\n",
      "    low = lowcut / nyq\n",
      "    b, a = bessel(order, low, btype='low')\n",
      "    return b, a\n",
      "\n",
      "@jit\n",
      "def bessel_lowpass_filter(data, lowcut,fs, order=8):\n",
      "    b, a = bessel_lowpass(lowcut,fs, order=order)\n",
      "    y = lfilter(b, a, data)\n",
      "    return y\n",
      "\n",
      "# a function to make square pulses\n",
      "@jit\n",
      "def sqr_pulse( c, time_arr, t1, t2, I ):\n",
      "    start = int( ( t1 / deltat ) * len(time_arr) )\n",
      "    finish = int( ( ( t1 + t2 ) / deltat ) * len(time_arr) )\n",
      "    if c == 0:\n",
      "        wave = time_arr[ : ] * 0\n",
      "        wave[ start: finish ] =  ( time_arr[ start: finish ] * 0 ) + I \n",
      "        return wave\n",
      "    elif c == 1:\n",
      "        wave = time_arr[ : ] * 0\n",
      "        return wave\n",
      "    \n",
      "#generate random waveforms and measures the peak currents I_p\n",
      "#compacted the code and made to return values\n",
      "@jit\n",
      "def gen_wav3( N ):\n",
      "    N_down = []\n",
      "    N_up = [] #up goes to charge 0\n",
      "    up = 0\n",
      "    down = 0\n",
      "    for i in xrange( 0, N):\n",
      "        if randint(0,99) < ( N_0 * 100 ):\n",
      "            charge = 0\n",
      "        else:\n",
      "            charge = 1\n",
      "            #need to randomly generate different tunneling times for each simulated pulse.\n",
      "        t_in = t_down_in \n",
      "        t_out = t_up_out\n",
      "        r_in = randint( 1,1001 )\n",
      "        r_out = randint( 1,1001 )\n",
      "        t_in = - log( r_in * 0.001 ) * t_in\n",
      "        t_out = - log( r_out * 0.001 ) * t_out\n",
      "        if charge == 0:\n",
      "            N_up.append( max( bessel_lowpass_filter(sqr_pulse( charge, time1, t_out, t_in, deltaI+0.005 ) + A_n * random.normal( 0, 1, points ), lowcut,fs, order=8)) -0.005 )\n",
      "            up += 1\n",
      "        else:\n",
      "            N_down.append( max( bessel_lowpass_filter(sqr_pulse( charge, time1, t_out, t_in, deltaI+0.005 ) + A_n * random.normal( 0, 1, points ), lowcut,fs, order=8)) -0.005 )\n",
      "            down += 1\n",
      "    #hist( N_down, bars, histtype = 'step', normed = True )\n",
      "    #hist( N_up, bars, histtype = 'step', normed = True )\n",
      "    #values_d, bins_d, _ = plt.hist(N_down, bars, histtype = 'step', normed = True)\n",
      "    #values_u, bins_u, _ = plt.hist(N_up, bars, histtype = 'step', normed = True)\n",
      "\n",
      "    values_u, bins_u = histogram(N_up, bins=arange(0, 0.25 + 0.002, 0.002), normed = True)\n",
      "    values_d, bins_d = histogram(N_down, bins=arange(0, 0.25 + 0.002, 0.002), normed = True)\n",
      "\n",
      "    \n",
      "    #print up\n",
      "    #print down\n",
      "\n",
      "    return values_d, bins_d, values_u, bins_u"
     ],
     "language": "python",
     "metadata": {},
     "outputs": [],
     "prompt_number": 32
    },
    {
     "cell_type": "code",
     "collapsed": false,
     "input": [
      "N_0 = 0.30\n",
      "A_n = 0.015\n",
      "h, i, j, k = gen_wav3( 1000 )\n",
      "plot( x[:-1], y, 'go', i[:-1], h/2, 'r', k[:-1], j/2, 'b' )"
     ],
     "language": "python",
     "metadata": {},
     "outputs": [
      {
       "metadata": {},
       "output_type": "pyout",
       "prompt_number": 47,
       "text": [
        "[<matplotlib.lines.Line2D at 0x15fa94f0>,\n",
        " <matplotlib.lines.Line2D at 0x15fa9650>,\n",
        " <matplotlib.lines.Line2D at 0x15fa99d0>]"
       ]
      },
      {
       "metadata": {},
       "output_type": "display_data",
       "png": "[encoded data removed]",
       "text": [
        "<matplotlib.figure.Figure at 0x155ec170>"
       ]
      }
     ],
     "prompt_number": 47
    },
    {
     "cell_type": "code",
     "collapsed": false,
     "input": [
      "import time\n",
      "start = time.clock()\n",
      "\n",
      "traces = 1000\n",
      "N = []\n",
      "Nappend = N.append\n",
      "rnormal = random.normal\n",
      "N_0 = 0.306\n",
      "N_1 = 1 - N_0 \n",
      "A_n = 0.0147\n",
      "for i in xrange( 0, traces):\n",
      "    if randint(0,99) < ( N_0 * 100 ):\n",
      "        charge = 0\n",
      "    else:\n",
      "        charge = 1\n",
      "    t_in = t_down_in \n",
      "    t_out = t_up_out\n",
      "    r_in = randint( 1,1001 )\n",
      "    r_out = randint( 1,1001 )\n",
      "    t_in = - log( r_in * 0.001 ) * t_in\n",
      "    t_out = - log( r_out * 0.001 ) * t_out\n",
      "    #print time.clock() - start\n",
      "    N.append( max( bessel_lowpass_filter(sqr_pulse( charge, time1, t_out, t_in, deltaI ) + A_n * random.normal( 0, 1, points ), lowcut,fs, order=8)) )\n",
      "    #print time.clock() - start\n",
      "#print time.clock() - start\n",
      "values, bins = histogram(N, bins=arange(0, 0.25 + 0.002, 0.002), normed = True)\n",
      "\n",
      "print time.clock() - start\n",
      "plot( x[:-1], y, bins[:-1], values, 'r' )"
     ],
     "language": "python",
     "metadata": {},
     "outputs": [
      {
       "output_type": "stream",
       "stream": "stdout",
       "text": [
        "0.900698185564\n"
       ]
      },
      {
       "metadata": {},
       "output_type": "pyout",
       "prompt_number": 15,
       "text": [
        "[<matplotlib.lines.Line2D at 0xd6a7250>,\n",
        " <matplotlib.lines.Line2D at 0xd6a73b0>]"
       ]
      },
      {
       "metadata": {},
       "output_type": "display_data",
       "png": "[encoded data removed]",
       "text": [
        "<matplotlib.figure.Figure at 0xd4ad730>"
       ]
      }
     ],
     "prompt_number": 15
    },
    {
     "cell_type": "code",
     "collapsed": false,
     "input": [
      "J = 0\n",
      "for i in range( 0, len( values ) ):\n",
      "    #print values[ i ]\n",
      "    #print y[ i ]\n",
      "    J = J + ( values[ i ] - y[ i ] ) ** 2\n",
      "print J  "
     ],
     "language": "python",
     "metadata": {},
     "outputs": [
      {
       "output_type": "stream",
       "stream": "stdout",
       "text": [
        "5563.86364153\n"
       ]
      }
     ],
     "prompt_number": 16
    },
    {
     "cell_type": "code",
     "collapsed": false,
     "input": [
      "A_n = linspace( 0.014, 0.016, 10 )\n",
      "N_0 = linspace( 0.25, 0.35, 10 )\n",
      "J1 = None\n",
      "for a in A_n:\n",
      "    for b in N_0:\n",
      "        N = []\n",
      "        for i in xrange( 0, traces):\n",
      "            if randint(0,99) < ( b * 100 ):\n",
      "                charge = 0\n",
      "            else:\n",
      "                charge = 1\n",
      "            t_in = t_down_in \n",
      "            t_out = t_up_out\n",
      "            r_in = randint( 1,1001 )\n",
      "            r_out = randint( 1,1001 )\n",
      "            t_in = - log( r_in * 0.001 ) * t_in\n",
      "            t_out = - log( r_out * 0.001 ) * t_out\n",
      "            N.append( max( bessel_lowpass_filter(sqr_pulse( charge, time1, t_out, t_in, deltaI ) + a * random.normal( 0, 1, points ), lowcut,fs, order=8)) )\n",
      "        values, bins = histogram(N, bins=arange(0, 0.25 + 0.002, 0.002), normed = True)\n",
      "        J = 0\n",
      "        for i in range( 0, len( values ) ):\n",
      "            J = J + ( values[ i ] - y[ i ] ) ** 2\n",
      "        J2 = J\n",
      "        if J1 == None:\n",
      "            a_n = a\n",
      "            n = b\n",
      "            J1 = J\n",
      "        elif J2 < J1:\n",
      "            a_n = a\n",
      "            n = b\n",
      "            J1 = J\n",
      "print a_n\n",
      "print n\n",
      "        "
     ],
     "language": "python",
     "metadata": {},
     "outputs": [
      {
       "output_type": "stream",
       "stream": "stdout",
       "text": [
        "0.0146666666667\n",
        "0.305555555556\n"
       ]
      }
     ],
     "prompt_number": 14
    },
    {
     "cell_type": "code",
     "collapsed": false,
     "input": [
      "print J"
     ],
     "language": "python",
     "metadata": {},
     "outputs": [
      {
       "output_type": "stream",
       "stream": "stdout",
       "text": [
        "5563.86364153\n"
       ]
      }
     ],
     "prompt_number": 17
    },
    {
     "cell_type": "code",
     "collapsed": false,
     "input": [
      "import time\n",
      "start = time.clock()\n",
      "\n",
      "N_0 = 0.373877229691\n",
      "N_1 = 1 - N_0\n",
      "A_n = 0.0152289772034\n",
      "N = []\n",
      "for i in xrange( 0, traces):\n",
      "    if randint(0,99) < ( N_0 * 100 ):\n",
      "        charge = 0\n",
      "    else:\n",
      "        charge = 1\n",
      "    t_in = t_down_in \n",
      "    t_out = t_up_out\n",
      "    r_in = randint( 1,1001 )\n",
      "    r_out = randint( 1,1001 )\n",
      "    t_in = - log( r_in * 0.001 ) * t_in\n",
      "    t_out = - log( r_out * 0.001 ) * t_out\n",
      "    N.append( max( bessel_lowpass_filter(sqr_pulse( charge, time1, t_out, t_in, deltaI ) + 2*pi*A_n * random.normal( 0, 1, points ), lowcut,fs, order=6)) )\n",
      "values, bins = histogram(N, bins=arange(0, 0.25 + 0.002, 0.002), normed = True)\n",
      "\n",
      "print time.clock() - start"
     ],
     "language": "python",
     "metadata": {},
     "outputs": [
      {
       "output_type": "stream",
       "stream": "stdout",
       "text": [
        "0.834796960428\n"
       ]
      }
     ],
     "prompt_number": 19
    },
    {
     "cell_type": "code",
     "collapsed": false,
     "input": [
      "A_n = linspace( 0.01, 0.03, 3 )\n",
      "N_0 = linspace( 0.01, 1, 3 )\n",
      "a1 = 0.01\n",
      "a2 = 0.03\n",
      "n1 = 0.01\n",
      "n2 = 1\n",
      "for x in range( 0, 6 ):\n",
      "    A_n = linspace( a1, a2, 4 )\n",
      "    N_0 = linspace( n1, n2, 4 )\n",
      "    J1 = None\n",
      "    for a in A_n:\n",
      "        for b in N_0:\n",
      "            N = []\n",
      "            for i in xrange( 0, traces):\n",
      "                if randint(0,99) < ( b * 100 ):\n",
      "                    charge = 0\n",
      "                else:\n",
      "                    charge = 1\n",
      "                t_in = t_down_in \n",
      "                t_out = t_up_out\n",
      "                r_in = randint( 1,1001 )\n",
      "                r_out = randint( 1,1001 )\n",
      "                t_in = - log( r_in * 0.001 ) * t_in\n",
      "                t_out = - log( r_out * 0.001 ) * t_out\n",
      "                N.append( max( bessel_lowpass_filter(sqr_pulse( charge, time1, t_out, t_in, deltaI ) + 2*pi*a * random.normal( 0, 1, points ), lowcut,fs, order=6)) )\n",
      "            values, bins = histogram(N, bins=arange(0, 0.25 + 0.002, 0.002), normed = True)\n",
      "            J = 0\n",
      "            for i in range( 0, len( values ) ):\n",
      "                J = J + ( values[ i ] - y[ i ] ) ** 2\n",
      "            J2 = J\n",
      "            if J1 == None:\n",
      "                a_n = a\n",
      "                n = b\n",
      "                J1 = J\n",
      "            elif J2 < J1:\n",
      "                a_n = a\n",
      "                n = b\n",
      "                J1 = J\n",
      "    a1 = a_n - ( a2 - a1 )  / 4\n",
      "    a2 = a_n + ( a2 - a1 )  / 4\n",
      "    n1 = n - ( n2 - n1 )  / 4\n",
      "    n2 = n + ( n2 - n1 )  / 4\n",
      "print a_n\n",
      "print n\n",
      "        "
     ],
     "language": "python",
     "metadata": {},
     "outputs": [
      {
       "output_type": "stream",
       "stream": "stdout",
       "text": [
        "-0.000117568969727\n",
        "-0.382887744904\n"
       ]
      }
     ],
     "prompt_number": 20
    },
    {
     "cell_type": "code",
     "collapsed": false,
     "input": [
      "print J"
     ],
     "language": "python",
     "metadata": {},
     "outputs": [
      {
       "output_type": "stream",
       "stream": "stdout",
       "text": [
        "56542.7634516\n"
       ]
      }
     ],
     "prompt_number": 21
    },
    {
     "cell_type": "code",
     "collapsed": false,
     "input": [
      "y1 = bessel_lowpass_filter(sqr_pulse( 0, time1, t_up_out, t_down_in, deltaI ) + A_n * random.normal( 0, 1, points ), lowcut,fs, order=8)\n",
      "plot( time1, y1 )"
     ],
     "language": "python",
     "metadata": {},
     "outputs": [
      {
       "ename": "ValueError",
       "evalue": "operands could not be broadcast together with shapes (4,) (4000,) ",
       "output_type": "pyerr",
       "traceback": [
        "\u001b[1;31m---------------------------------------------------------------------------\u001b[0m\n\u001b[1;31mValueError\u001b[0m                                Traceback (most recent call last)",
        "\u001b[1;32m<ipython-input-22-0241bbf0bec8>\u001b[0m in \u001b[0;36m<module>\u001b[1;34m()\u001b[0m\n\u001b[1;32m----> 1\u001b[1;33m \u001b[0my1\u001b[0m \u001b[1;33m=\u001b[0m \u001b[0mbessel_lowpass_filter\u001b[0m\u001b[1;33m(\u001b[0m\u001b[0msqr_pulse\u001b[0m\u001b[1;33m(\u001b[0m \u001b[1;36m0\u001b[0m\u001b[1;33m,\u001b[0m \u001b[0mtime1\u001b[0m\u001b[1;33m,\u001b[0m \u001b[0mt_up_out\u001b[0m\u001b[1;33m,\u001b[0m \u001b[0mt_down_in\u001b[0m\u001b[1;33m,\u001b[0m \u001b[0mdeltaI\u001b[0m \u001b[1;33m)\u001b[0m \u001b[1;33m+\u001b[0m \u001b[0mA_n\u001b[0m \u001b[1;33m*\u001b[0m \u001b[0mrandom\u001b[0m\u001b[1;33m.\u001b[0m\u001b[0mnormal\u001b[0m\u001b[1;33m(\u001b[0m \u001b[1;36m0\u001b[0m\u001b[1;33m,\u001b[0m \u001b[1;36m1\u001b[0m\u001b[1;33m,\u001b[0m \u001b[0mpoints\u001b[0m \u001b[1;33m)\u001b[0m\u001b[1;33m,\u001b[0m \u001b[0mlowcut\u001b[0m\u001b[1;33m,\u001b[0m\u001b[0mfs\u001b[0m\u001b[1;33m,\u001b[0m \u001b[0morder\u001b[0m\u001b[1;33m=\u001b[0m\u001b[1;36m8\u001b[0m\u001b[1;33m)\u001b[0m\u001b[1;33m\u001b[0m\u001b[0m\n\u001b[0m\u001b[0;32m      2\u001b[0m \u001b[0mplot\u001b[0m\u001b[1;33m(\u001b[0m \u001b[0mtime1\u001b[0m\u001b[1;33m,\u001b[0m \u001b[0my1\u001b[0m \u001b[1;33m)\u001b[0m\u001b[1;33m\u001b[0m\u001b[0m\n",
        "\u001b[1;31mValueError\u001b[0m: operands could not be broadcast together with shapes (4,) (4000,) "
       ]
      }
     ],
     "prompt_number": 22
    },
    {
     "cell_type": "code",
     "collapsed": false,
     "input": [
      "y2 = sqr_pulse( 0, time1, t_up_out, t_down_in, deltaI ) + A_n * random.normal( 0, 1, points )\n",
      "plot( time1, y2 )"
     ],
     "language": "python",
     "metadata": {},
     "outputs": [
      {
       "ename": "ValueError",
       "evalue": "operands could not be broadcast together with shapes (4,) (4000,) ",
       "output_type": "pyerr",
       "traceback": [
        "\u001b[1;31m---------------------------------------------------------------------------\u001b[0m\n\u001b[1;31mValueError\u001b[0m                                Traceback (most recent call last)",
        "\u001b[1;32m<ipython-input-23-edc67c793ac1>\u001b[0m in \u001b[0;36m<module>\u001b[1;34m()\u001b[0m\n\u001b[1;32m----> 1\u001b[1;33m \u001b[0my2\u001b[0m \u001b[1;33m=\u001b[0m \u001b[0msqr_pulse\u001b[0m\u001b[1;33m(\u001b[0m \u001b[1;36m0\u001b[0m\u001b[1;33m,\u001b[0m \u001b[0mtime1\u001b[0m\u001b[1;33m,\u001b[0m \u001b[0mt_up_out\u001b[0m\u001b[1;33m,\u001b[0m \u001b[0mt_down_in\u001b[0m\u001b[1;33m,\u001b[0m \u001b[0mdeltaI\u001b[0m \u001b[1;33m)\u001b[0m \u001b[1;33m+\u001b[0m \u001b[0mA_n\u001b[0m \u001b[1;33m*\u001b[0m \u001b[0mrandom\u001b[0m\u001b[1;33m.\u001b[0m\u001b[0mnormal\u001b[0m\u001b[1;33m(\u001b[0m \u001b[1;36m0\u001b[0m\u001b[1;33m,\u001b[0m \u001b[1;36m1\u001b[0m\u001b[1;33m,\u001b[0m \u001b[0mpoints\u001b[0m \u001b[1;33m)\u001b[0m\u001b[1;33m\u001b[0m\u001b[0m\n\u001b[0m\u001b[0;32m      2\u001b[0m \u001b[0mplot\u001b[0m\u001b[1;33m(\u001b[0m \u001b[0mtime1\u001b[0m\u001b[1;33m,\u001b[0m \u001b[0my2\u001b[0m \u001b[1;33m)\u001b[0m\u001b[1;33m\u001b[0m\u001b[0m\n",
        "\u001b[1;31mValueError\u001b[0m: operands could not be broadcast together with shapes (4,) (4000,) "
       ]
      }
     ],
     "prompt_number": 23
    },
    {
     "cell_type": "code",
     "collapsed": false,
     "input": [
      "y3 = sqr_pulse( 0, time1, t_up_out, t_down_in, deltaI )\n",
      "plot( time1, y3 )"
     ],
     "language": "python",
     "metadata": {},
     "outputs": [
      {
       "metadata": {},
       "output_type": "pyout",
       "prompt_number": 24,
       "text": [
        "[<matplotlib.lines.Line2D at 0xd257210>]"
       ]
      },
      {
       "metadata": {},
       "output_type": "display_data",
       "png": "[encoded data removed]",
       "text": [
        "<matplotlib.figure.Figure at 0xd4d9af0>"
       ]
      }
     ],
     "prompt_number": 24
    },
    {
     "cell_type": "code",
     "collapsed": false,
     "input": [],
     "language": "python",
     "metadata": {},
     "outputs": []
    }
   ],
   "metadata": {}
  }
 ]
}