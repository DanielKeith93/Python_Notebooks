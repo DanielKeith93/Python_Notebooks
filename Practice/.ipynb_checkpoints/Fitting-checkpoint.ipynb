{
 "metadata": {
  "name": "",
  "signature": "sha256:9df5a8d19d40dba6e0cc1ce653d35e66d61724a2b4e968043410fcf677a87e37"
 },
 "nbformat": 3,
 "nbformat_minor": 0,
 "worksheets": [
  {
   "cells": [
    {
     "cell_type": "code",
     "collapsed": false,
     "input": [
      "%pylab inline"
     ],
     "language": "python",
     "metadata": {},
     "outputs": [
      {
       "output_type": "stream",
       "stream": "stdout",
       "text": [
        "Populating the interactive namespace from numpy and matplotlib\n"
       ]
      }
     ],
     "prompt_number": 1
    },
    {
     "cell_type": "code",
     "collapsed": false,
     "input": [
      "#import module\n",
      "import sys\n",
      "sys.path[0] = 'C:/Users/z3414503/Documents/QTLab/qtlab_013/source/' \n",
      "import qt\n",
      "d= qt.Data('C:/Users/z3414503/Desktop/Honours/Data/144815_C Spin Tail Bz = 1.5000/traces/C Spin Tail Bz = 1.5000_-0.02_trace.dat')"
     ],
     "language": "python",
     "metadata": {},
     "outputs": [],
     "prompt_number": 30
    },
    {
     "cell_type": "code",
     "collapsed": false,
     "input": [
      "trace = []\n",
      "time = []\n",
      "signal = []\n",
      "times = []\n",
      "signals = []\n",
      "traces = []\n",
      "\n",
      "t1 = 0.1\n",
      "t2 = 0.2\n",
      "T = 0.35\n",
      "\n",
      "#get traces from data file\n",
      "import os\n",
      "for file in os.listdir( \"C:/Users/z3414503/Desktop/Honours/Data/144815_C Spin Tail Bz = 1.5000/traces\" ):\n",
      "    if file.endswith( \".dat\" ):\n",
      "        path = \"C:/Users/z3414503/Desktop/Honours/Data/144815_C Spin Tail Bz = 1.5000/traces/\"\n",
      "        file = path + file\n",
      "        d = qt.Data( file ) \n",
      "        x = d.get_data()\n",
      "        trace, b, c = zip( *x )\n",
      "        l = len( c ) / len( set( trace ) ) \n",
      "        l1 = t1 * l / T\n",
      "        l2 = t2 * l / T\n",
      "        for i in set( trace ): #split up the files into the seperate traces\n",
      "            i = int( i )\n",
      "            x = c[ ( i - 1 ) * l + int( l1 ) + 30: i * l + int( l1 ) + int( l2 ) - l - 30 ]\n",
      "            y = b[ ( i - 1 ) * l + int( l1 ) + 30: i * l + int( l1 ) + int( l2 ) - l - 30 ] \n",
      "            signals.append( x )\n",
      "            times.append( y )\n",
      "            traces.append( trace[ i ] ) "
     ],
     "language": "python",
     "metadata": {},
     "outputs": [],
     "prompt_number": 52
    },
    {
     "cell_type": "code",
     "collapsed": false,
     "input": [
      "bars = 100\n",
      "signals_max = []\n",
      "for x in signals:\n",
      "    signals_max.append( max( x ) )\n",
      "y, x, _ = plt.hist( signals_max, bins=arange(0, 0.25 + 0.002, 0.002), histtype = 'step', normed = True )"
     ],
     "language": "python",
     "metadata": {},
     "outputs": [
      {
       "metadata": {},
       "output_type": "display_data",
       "png": "[encoded data removed]",
       "text": [
        "<matplotlib.figure.Figure at 0x1987ecd0>"
       ]
      }
     ],
     "prompt_number": 53
    },
    {
     "cell_type": "code",
     "collapsed": false,
     "input": [
      "plot( x[:-1], y)"
     ],
     "language": "python",
     "metadata": {},
     "outputs": [
      {
       "metadata": {},
       "output_type": "pyout",
       "prompt_number": 54,
       "text": [
        "[<matplotlib.lines.Line2D at 0x13faddb0>]"
       ]
      },
      {
       "metadata": {},
       "output_type": "display_data",
       "png": "[encoded data removed]",
       "text": [
        "<matplotlib.figure.Figure at 0x1942b8d0>"
       ]
      }
     ],
     "prompt_number": 54
    },
    {
     "cell_type": "code",
     "collapsed": false,
     "input": [
      "#define parameters\n",
      "fs = 20000\n",
      "lowcut = 10000.0\n",
      "T = 0.2\n",
      "nsamples = T * fs\n",
      "N_0 = 0.32\n",
      "N_1 = 1 - N_0\n",
      "deltat = T #s, taken from spin to charge optimisation\n",
      "t_down_in = 0.0687\n",
      "t_up_out = 0.064 #Taken from experimental data.\n",
      "deltaI = 0.161 #A\n",
      "points = nsamples\n",
      "time1 = linspace( 0, deltat, points )\n",
      "a_n = 0.0212 #A / ( ( Hz ) ^ ( 1 / 2 ) ) #Have to multiply spectral density by a bandwidth.\n",
      "f_c = lowcut #Hz, cut off frequency, also used as the bandwidth\n",
      "A_n = a_n * sqrt( fs )\n",
      "bars = 200\n",
      "traces = 351"
     ],
     "language": "python",
     "metadata": {},
     "outputs": [],
     "prompt_number": 66
    },
    {
     "cell_type": "code",
     "collapsed": false,
     "input": [
      "A_n = 0.021"
     ],
     "language": "python",
     "metadata": {},
     "outputs": [],
     "prompt_number": 67
    },
    {
     "cell_type": "code",
     "collapsed": false,
     "input": [
      "from scipy.signal import bessel, lfilter\n",
      "\n",
      "\n",
      "def bessel_lowpass(lowcut,fs, order=8):\n",
      "    nyq = 0.5 * fs\n",
      "    low = lowcut / nyq\n",
      "    b, a = bessel(order, low, btype='low')\n",
      "    return b, a\n",
      "\n",
      "\n",
      "def bessel_lowpass_filter(data, lowcut,fs, order=8):\n",
      "    b, a = bessel_lowpass(lowcut,fs, order=order)\n",
      "    y = lfilter(b, a, data)\n",
      "    return y\n",
      "\n",
      "# a function to make square pulses\n",
      "def sqr_pulse( c, time_arr, t1, t2, I ):\n",
      "    start = int( ( t1 / deltat ) * len(time_arr) )\n",
      "    finish = int( ( ( t1 + t2 ) / deltat ) * len(time_arr) )\n",
      "    if c == 0:\n",
      "        wave = time_arr[ : ] * 0\n",
      "        wave[ start: finish ] =  ( time_arr[ start: finish ] * 0 ) + I \n",
      "        return wave\n",
      "    elif c == 1:\n",
      "        wave = time_arr[ : ] * 0\n",
      "        return wave\n",
      "    \n",
      "#generate random waveforms and measures the peak currents I_p\n",
      "#compacted the code and made to return values\n",
      "def gen_wav3( N ):\n",
      "    N_down = []\n",
      "    N_up = [] #up goes to charge 0\n",
      "    up = 0\n",
      "    down = 0\n",
      "    for i in xrange( 0, N):\n",
      "        if randint(0,99) < ( N_0 * 100 ):\n",
      "            charge = 0\n",
      "        else:\n",
      "            charge = 1\n",
      "            #need to randomly generate different tunneling times for each simulated pulse.\n",
      "        t_in = t_down_in \n",
      "        t_out = t_up_out\n",
      "        r_in = randint( 1,1001 )\n",
      "        r_out = randint( 1,1001 )\n",
      "        t_in = - log( r_in * 0.001 ) * t_in\n",
      "        t_out = - log( r_out * 0.001 ) * t_out\n",
      "        if charge == 0:\n",
      "            N_up.append( max( bessel_lowpass_filter(sqr_pulse( charge, time1, t_out, t_in, deltaI ) + A_n * random.normal( 0, 1, points ), lowcut,fs, order=8)) )\n",
      "            up += 1\n",
      "        else:\n",
      "            N_down.append( max( bessel_lowpass_filter(sqr_pulse( charge, time1, t_out, t_in, deltaI ) + A_n * random.normal( 0, 1, points ), lowcut,fs, order=8)) )\n",
      "            down += 1\n",
      "    hist( N_down, bars, histtype = 'step', normed = True )\n",
      "    hist( N_up, bars, histtype = 'step', normed = True )\n",
      "    values_d, bins_d, _ = plt.hist(N_down, bars, histtype = 'step', normed = True)\n",
      "    values_u, bins_u, _ = plt.hist(N_up, bars, histtype = 'step', normed = True)\n",
      "\n",
      "    print up\n",
      "    print down\n",
      "\n",
      "    return values_d, bins_d, values_u, bins_u"
     ],
     "language": "python",
     "metadata": {},
     "outputs": [],
     "prompt_number": 68
    },
    {
     "cell_type": "code",
     "collapsed": false,
     "input": [
      "import time\n",
      "start = time.clock()\n",
      "\n",
      "traces = 1000\n",
      "N = []\n",
      "Nappend = N.append\n",
      "rnormal = random.normal\n",
      "N_0 = 0.272\n",
      "N_1 = 1 - N_0 \n",
      "A_n = 0.0147\n",
      "for i in xrange( 0, traces):\n",
      "    if randint(0,99) < ( N_0 * 100 ):\n",
      "        charge = 0\n",
      "    else:\n",
      "        charge = 1\n",
      "    t_in = t_down_in \n",
      "    t_out = t_up_out\n",
      "    r_in = randint( 1,1001 )\n",
      "    r_out = randint( 1,1001 )\n",
      "    t_in = - log( r_in * 0.001 ) * t_in\n",
      "    t_out = - log( r_out * 0.001 ) * t_out\n",
      "    #print time.clock() - start\n",
      "    N.append( max( bessel_lowpass_filter(sqr_pulse( charge, time1, t_out, t_in, deltaI ) + A_n * random.normal( 0, 1, points ), lowcut,fs, order=8)) )\n",
      "    #print time.clock() - start\n",
      "#print time.clock() - start\n",
      "values, bins = histogram(N, bins=arange(0, 0.25 + 0.002, 0.002), normed = True)\n",
      "\n",
      "print time.clock() - start\n",
      "plot( x[:-1], y, bins[:-1], values, 'r' )"
     ],
     "language": "python",
     "metadata": {},
     "outputs": [
      {
       "output_type": "stream",
       "stream": "stdout",
       "text": [
        "0.892961344016\n"
       ]
      },
      {
       "metadata": {},
       "output_type": "pyout",
       "prompt_number": 82,
       "text": [
        "[<matplotlib.lines.Line2D at 0x1f727490>,\n",
        " <matplotlib.lines.Line2D at 0x1f7275f0>]"
       ]
      },
      {
       "metadata": {},
       "output_type": "display_data",
       "png": "[encoded data removed]",
       "text": [
        "<matplotlib.figure.Figure at 0x1f6754f0>"
       ]
      }
     ],
     "prompt_number": 82
    },
    {
     "cell_type": "code",
     "collapsed": false,
     "input": [
      "J = 0\n",
      "for i in range( 0, len( values ) ):\n",
      "    #print values[ i ]\n",
      "    #print y[ i ]\n",
      "    J = J + ( values[ i ] - y[ i ] ) ** 2\n",
      "print J  "
     ],
     "language": "python",
     "metadata": {},
     "outputs": [
      {
       "output_type": "stream",
       "stream": "stdout",
       "text": [
        "6098.45196062\n"
       ]
      }
     ],
     "prompt_number": 79
    },
    {
     "cell_type": "code",
     "collapsed": false,
     "input": [
      "A_n = linspace( 0.014, 0.016, 10 )\n",
      "N_0 = linspace( 0.25, 0.35, 10 )\n",
      "J1 = None\n",
      "for a in A_n:\n",
      "    for b in N_0:\n",
      "        N = []\n",
      "        for i in xrange( 0, traces):\n",
      "            if randint(0,99) < ( b * 100 ):\n",
      "                charge = 0\n",
      "            else:\n",
      "                charge = 1\n",
      "            t_in = t_down_in \n",
      "            t_out = t_up_out\n",
      "            r_in = randint( 1,1001 )\n",
      "            r_out = randint( 1,1001 )\n",
      "            t_in = - log( r_in * 0.001 ) * t_in\n",
      "            t_out = - log( r_out * 0.001 ) * t_out\n",
      "            N.append( max( bessel_lowpass_filter(sqr_pulse( charge, time1, t_out, t_in, deltaI ) + a * random.normal( 0, 1, points ), lowcut,fs, order=8)) )\n",
      "        values, bins = histogram(N, bins=arange(0, 0.25 + 0.002, 0.002), normed = True)\n",
      "        J = 0\n",
      "        for i in range( 0, len( values ) ):\n",
      "            J = J + ( values[ i ] - y[ i ] ) ** 2\n",
      "        J2 = J\n",
      "        if J1 == None:\n",
      "            a_n = a\n",
      "            n = b\n",
      "            J1 = J\n",
      "        elif J2 < J1:\n",
      "            a_n = a\n",
      "            n = b\n",
      "            J1 = J\n",
      "print a_n\n",
      "print n\n",
      "        "
     ],
     "language": "python",
     "metadata": {},
     "outputs": [
      {
       "output_type": "stream",
       "stream": "stdout",
       "text": [
        "0.0146666666667\n",
        "0.272222222222\n"
       ]
      }
     ],
     "prompt_number": 77
    },
    {
     "cell_type": "code",
     "collapsed": false,
     "input": [
      "print J"
     ],
     "language": "python",
     "metadata": {},
     "outputs": [
      {
       "output_type": "stream",
       "stream": "stdout",
       "text": [
        "nan\n"
       ]
      }
     ],
     "prompt_number": 76
    },
    {
     "cell_type": "code",
     "collapsed": false,
     "input": [
      "import time\n",
      "start = time.clock()\n",
      "\n",
      "N_0 = 0.373877229691\n",
      "N_1 = 1 - N_0\n",
      "A_n = 0.0152289772034\n",
      "N = []\n",
      "for i in xrange( 0, traces):\n",
      "    if randint(0,99) < ( N_0 * 100 ):\n",
      "        charge = 0\n",
      "    else:\n",
      "        charge = 1\n",
      "    t_in = t_down_in \n",
      "    t_out = t_up_out\n",
      "    r_in = randint( 1,1001 )\n",
      "    r_out = randint( 1,1001 )\n",
      "    t_in = - log( r_in * 0.001 ) * t_in\n",
      "    t_out = - log( r_out * 0.001 ) * t_out\n",
      "    N.append( max( bessel_lowpass_filter(sqr_pulse( charge, time1, t_out, t_in, deltaI ) + 2*pi*A_n * random.normal( 0, 1, points ), lowcut,fs, order=6)) )\n",
      "values, bins = histogram(N, bins=arange(0, 0.25 + 0.002, 0.002), normed = True)\n",
      "\n",
      "print time.clock() - start"
     ],
     "language": "python",
     "metadata": {},
     "outputs": [
      {
       "output_type": "stream",
       "stream": "stdout",
       "text": [
        "0.832795164045\n"
       ]
      }
     ],
     "prompt_number": 19
    },
    {
     "cell_type": "code",
     "collapsed": false,
     "input": [
      "A_n = linspace( 0.01, 0.03, 3 )\n",
      "N_0 = linspace( 0.01, 1, 3 )\n",
      "a1 = 0.01\n",
      "a2 = 0.03\n",
      "n1 = 0.01\n",
      "n2 = 1\n",
      "for x in range( 0, 6 ):\n",
      "    A_n = linspace( a1, a2, 4 )\n",
      "    N_0 = linspace( n1, n2, 4 )\n",
      "    J1 = None\n",
      "    for a in A_n:\n",
      "        for b in N_0:\n",
      "            N = []\n",
      "            for i in xrange( 0, traces):\n",
      "                if randint(0,99) < ( b * 100 ):\n",
      "                    charge = 0\n",
      "                else:\n",
      "                    charge = 1\n",
      "                t_in = t_down_in \n",
      "                t_out = t_up_out\n",
      "                r_in = randint( 1,1001 )\n",
      "                r_out = randint( 1,1001 )\n",
      "                t_in = - log( r_in * 0.001 ) * t_in\n",
      "                t_out = - log( r_out * 0.001 ) * t_out\n",
      "                N.append( max( bessel_lowpass_filter(sqr_pulse( charge, time1, t_out, t_in, deltaI ) + 2*pi*a * random.normal( 0, 1, points ), lowcut,fs, order=6)) )\n",
      "            values, bins = histogram(N, bins=arange(0, 0.25 + 0.002, 0.002), normed = True)\n",
      "            J = 0\n",
      "            for i in range( 0, len( values ) ):\n",
      "                J = J + ( values[ i ] - y[ i ] ) ** 2\n",
      "            J2 = J\n",
      "            if J1 == None:\n",
      "                a_n = a\n",
      "                n = b\n",
      "                J1 = J\n",
      "            elif J2 < J1:\n",
      "                a_n = a\n",
      "                n = b\n",
      "                J1 = J\n",
      "    a1 = a_n - ( a2 - a1 )  / 4\n",
      "    a2 = a_n + ( a2 - a1 )  / 4\n",
      "    n1 = n - ( n2 - n1 )  / 4\n",
      "    n2 = n + ( n2 - n1 )  / 4\n",
      "print a_n\n",
      "print n\n",
      "        "
     ],
     "language": "python",
     "metadata": {},
     "outputs": [
      {
       "ename": "KeyboardInterrupt",
       "evalue": "",
       "output_type": "pyerr",
       "traceback": [
        "\u001b[1;31m---------------------------------------------------------------------------\u001b[0m\n\u001b[1;31mKeyboardInterrupt\u001b[0m                         Traceback (most recent call last)",
        "\u001b[1;32m<ipython-input-204-c4479972219f>\u001b[0m in \u001b[0;36m<module>\u001b[1;34m()\u001b[0m\n\u001b[0;32m     23\u001b[0m                 \u001b[0mt_in\u001b[0m \u001b[1;33m=\u001b[0m \u001b[1;33m-\u001b[0m \u001b[0mlog\u001b[0m\u001b[1;33m(\u001b[0m \u001b[0mr_in\u001b[0m \u001b[1;33m*\u001b[0m \u001b[1;36m0.001\u001b[0m \u001b[1;33m)\u001b[0m \u001b[1;33m*\u001b[0m \u001b[0mt_in\u001b[0m\u001b[1;33m\u001b[0m\u001b[0m\n\u001b[0;32m     24\u001b[0m                 \u001b[0mt_out\u001b[0m \u001b[1;33m=\u001b[0m \u001b[1;33m-\u001b[0m \u001b[0mlog\u001b[0m\u001b[1;33m(\u001b[0m \u001b[0mr_out\u001b[0m \u001b[1;33m*\u001b[0m \u001b[1;36m0.001\u001b[0m \u001b[1;33m)\u001b[0m \u001b[1;33m*\u001b[0m \u001b[0mt_out\u001b[0m\u001b[1;33m\u001b[0m\u001b[0m\n\u001b[1;32m---> 25\u001b[1;33m                 \u001b[0mN\u001b[0m\u001b[1;33m.\u001b[0m\u001b[0mappend\u001b[0m\u001b[1;33m(\u001b[0m \u001b[0mmax\u001b[0m\u001b[1;33m(\u001b[0m \u001b[0mbessel_lowpass_filter\u001b[0m\u001b[1;33m(\u001b[0m\u001b[0msqr_pulse\u001b[0m\u001b[1;33m(\u001b[0m \u001b[0mcharge\u001b[0m\u001b[1;33m,\u001b[0m \u001b[0mtime1\u001b[0m\u001b[1;33m,\u001b[0m \u001b[0mt_out\u001b[0m\u001b[1;33m,\u001b[0m \u001b[0mt_in\u001b[0m\u001b[1;33m,\u001b[0m \u001b[0mdeltaI\u001b[0m \u001b[1;33m)\u001b[0m \u001b[1;33m+\u001b[0m \u001b[1;36m2\u001b[0m\u001b[1;33m*\u001b[0m\u001b[0mpi\u001b[0m\u001b[1;33m*\u001b[0m\u001b[0ma\u001b[0m \u001b[1;33m*\u001b[0m \u001b[0mrandom\u001b[0m\u001b[1;33m.\u001b[0m\u001b[0mnormal\u001b[0m\u001b[1;33m(\u001b[0m \u001b[1;36m0\u001b[0m\u001b[1;33m,\u001b[0m \u001b[1;36m1\u001b[0m\u001b[1;33m,\u001b[0m \u001b[0mpoints\u001b[0m \u001b[1;33m)\u001b[0m\u001b[1;33m,\u001b[0m \u001b[0mlowcut\u001b[0m\u001b[1;33m,\u001b[0m\u001b[0mfs\u001b[0m\u001b[1;33m,\u001b[0m \u001b[0morder\u001b[0m\u001b[1;33m=\u001b[0m\u001b[1;36m6\u001b[0m\u001b[1;33m)\u001b[0m\u001b[1;33m)\u001b[0m \u001b[1;33m)\u001b[0m\u001b[1;33m\u001b[0m\u001b[0m\n\u001b[0m\u001b[0;32m     26\u001b[0m             \u001b[0mvalues\u001b[0m\u001b[1;33m,\u001b[0m \u001b[0mbins\u001b[0m \u001b[1;33m=\u001b[0m \u001b[0mhistogram\u001b[0m\u001b[1;33m(\u001b[0m\u001b[0mN\u001b[0m\u001b[1;33m,\u001b[0m \u001b[0mbins\u001b[0m\u001b[1;33m=\u001b[0m\u001b[0marange\u001b[0m\u001b[1;33m(\u001b[0m\u001b[1;36m0\u001b[0m\u001b[1;33m,\u001b[0m \u001b[1;36m0.25\u001b[0m \u001b[1;33m+\u001b[0m \u001b[1;36m0.002\u001b[0m\u001b[1;33m,\u001b[0m \u001b[1;36m0.002\u001b[0m\u001b[1;33m)\u001b[0m\u001b[1;33m,\u001b[0m \u001b[0mnormed\u001b[0m \u001b[1;33m=\u001b[0m \u001b[0mTrue\u001b[0m\u001b[1;33m)\u001b[0m\u001b[1;33m\u001b[0m\u001b[0m\n\u001b[0;32m     27\u001b[0m             \u001b[0mJ\u001b[0m \u001b[1;33m=\u001b[0m \u001b[1;36m0\u001b[0m\u001b[1;33m\u001b[0m\u001b[0m\n",
        "\u001b[1;32m<ipython-input-181-bce8b7a252fc>\u001b[0m in \u001b[0;36msqr_pulse\u001b[1;34m(c, time_arr, t1, t2, I)\u001b[0m\n\u001b[0;32m     23\u001b[0m         \u001b[1;32mreturn\u001b[0m \u001b[0mwave\u001b[0m\u001b[1;33m\u001b[0m\u001b[0m\n\u001b[0;32m     24\u001b[0m     \u001b[1;32melif\u001b[0m \u001b[0mc\u001b[0m \u001b[1;33m==\u001b[0m \u001b[1;36m1\u001b[0m\u001b[1;33m:\u001b[0m\u001b[1;33m\u001b[0m\u001b[0m\n\u001b[1;32m---> 25\u001b[1;33m         \u001b[0mwave\u001b[0m \u001b[1;33m=\u001b[0m \u001b[0mtime_arr\u001b[0m\u001b[1;33m[\u001b[0m \u001b[1;33m:\u001b[0m \u001b[1;33m]\u001b[0m \u001b[1;33m*\u001b[0m \u001b[1;36m0\u001b[0m\u001b[1;33m\u001b[0m\u001b[0m\n\u001b[0m\u001b[0;32m     26\u001b[0m         \u001b[1;32mreturn\u001b[0m \u001b[0mwave\u001b[0m\u001b[1;33m\u001b[0m\u001b[0m\n\u001b[0;32m     27\u001b[0m \u001b[1;33m\u001b[0m\u001b[0m\n",
        "\u001b[1;31mKeyboardInterrupt\u001b[0m: "
       ]
      }
     ],
     "prompt_number": 204
    },
    {
     "cell_type": "code",
     "collapsed": false,
     "input": [
      "print J"
     ],
     "language": "python",
     "metadata": {},
     "outputs": [
      {
       "output_type": "stream",
       "stream": "stdout",
       "text": [
        "4935.02487804\n"
       ]
      }
     ],
     "prompt_number": 184
    },
    {
     "cell_type": "code",
     "collapsed": false,
     "input": [
      "y1 = bessel_lowpass_filter(sqr_pulse( 0, time1, t_up_out, t_down_in, deltaI ) + A_n * random.normal( 0, 1, points ), lowcut,fs, order=8)\n",
      "plot( time1, y1 )"
     ],
     "language": "python",
     "metadata": {},
     "outputs": [
      {
       "metadata": {},
       "output_type": "pyout",
       "prompt_number": 64,
       "text": [
        "[<matplotlib.lines.Line2D at 0x1c69abb0>]"
       ]
      },
      {
       "metadata": {},
       "output_type": "display_data",
       "png": "[encoded data removed]",
       "text": [
        "<matplotlib.figure.Figure at 0x149f81d0>"
       ]
      }
     ],
     "prompt_number": 64
    },
    {
     "cell_type": "code",
     "collapsed": false,
     "input": [
      "y2 = sqr_pulse( 0, time1, t_up_out, t_down_in, deltaI ) + A_n * random.normal( 0, 1, points )\n",
      "plot( time1, y2 )"
     ],
     "language": "python",
     "metadata": {},
     "outputs": [
      {
       "metadata": {},
       "output_type": "pyout",
       "prompt_number": 60,
       "text": [
        "[<matplotlib.lines.Line2D at 0xae7bed0>]"
       ]
      },
      {
       "metadata": {},
       "output_type": "display_data",
       "png": "[encoded data removed]",
       "text": [
        "<matplotlib.figure.Figure at 0x14abbd30>"
       ]
      }
     ],
     "prompt_number": 60
    },
    {
     "cell_type": "code",
     "collapsed": false,
     "input": [
      "y3 = sqr_pulse( 0, time1, t_up_out, t_down_in, deltaI )\n",
      "plot( time1, y3 )"
     ],
     "language": "python",
     "metadata": {},
     "outputs": [
      {
       "metadata": {},
       "output_type": "pyout",
       "prompt_number": 61,
       "text": [
        "[<matplotlib.lines.Line2D at 0x149dcab0>]"
       ]
      },
      {
       "metadata": {},
       "output_type": "display_data",
       "png": "[encoded data removed]",
       "text": [
        "<matplotlib.figure.Figure at 0x14d33e50>"
       ]
      }
     ],
     "prompt_number": 61
    },
    {
     "cell_type": "code",
     "collapsed": false,
     "input": [],
     "language": "python",
     "metadata": {},
     "outputs": []
    }
   ],
   "metadata": {}
  }
 ]
}