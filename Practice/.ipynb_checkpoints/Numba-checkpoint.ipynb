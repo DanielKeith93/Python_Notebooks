{
 "metadata": {
  "name": "",
  "signature": "sha256:dd1c6c4efb24132e059ebe10de9a73f09504cc62bf3a7dbd25a53f49e113dcf9"
 },
 "nbformat": 3,
 "nbformat_minor": 0,
 "worksheets": [
  {
   "cells": [
    {
     "cell_type": "code",
     "collapsed": false,
     "input": [
      "%pylab inline"
     ],
     "language": "python",
     "metadata": {},
     "outputs": [
      {
       "output_type": "stream",
       "stream": "stdout",
       "text": [
        "Populating the interactive namespace from numpy and matplotlib\n"
       ]
      }
     ],
     "prompt_number": 2
    },
    {
     "cell_type": "code",
     "collapsed": false,
     "input": [
      "from numba import jit\n",
      "from numpy import arange\n",
      "\n",
      "# jit decorator tells Numba to compile this function.\n",
      "# The argument types will be inferred by Numba when function is called.\n",
      "@jit\n",
      "def sum2d(arr):\n",
      "    M, N = arr.shape\n",
      "    result = 0.0\n",
      "    for i in range(M):\n",
      "        for j in range(N):\n",
      "            result += arr[i,j]\n",
      "    return result\n",
      "\n",
      "a = arange(9).reshape(3,3)\n",
      "print (sum2d(a))"
     ],
     "language": "python",
     "metadata": {},
     "outputs": [
      {
       "output_type": "stream",
       "stream": "stdout",
       "text": [
        "36.0\n"
       ]
      }
     ],
     "prompt_number": 3
    },
    {
     "cell_type": "code",
     "collapsed": false,
     "input": [
      "from scipy import signal\n",
      "\n",
      "#define parameters\n",
      "fs = 20000.0\n",
      "lowcut = 10000.0\n",
      "T = 0.055\n",
      "nsamples = T * fs\n",
      "N_0 = 0.55\n",
      "N_1 = 1 - N_0\n",
      "deltat = T #s, taken from spin to charge optimisation\n",
      "t_down_in = 0.0051\n",
      "t_up_out = 0.0065 #Taken from experimental data.\n",
      "deltaI = 0.45 * 10 ** - 9 #A\n",
      "points = nsamples\n",
      "time1 = linspace( 0, deltat, points )\n",
      "a_n = 0.24 * 10 ** - 12 #A / ( ( Hz ) ^ ( 1 / 2 ) ) #Have to multiply spectral density by a bandwidth.\n",
      "f_c = lowcut #Hz, cut off frequency, also used as the bandwidth\n",
      "A_n = a_n * sqrt( fs )\n",
      "bars = 200\n",
      "traces = 10000"
     ],
     "language": "python",
     "metadata": {},
     "outputs": [],
     "prompt_number": 4
    },
    {
     "cell_type": "code",
     "collapsed": false,
     "input": [
      "from scipy.signal import bessel, lfilter\n",
      "\n",
      "@jit\n",
      "def bessel_lowpass(lowcut,fs, order=8):\n",
      "    nyq = 0.5 * fs\n",
      "    low = lowcut / nyq\n",
      "    b, a = bessel(order, low, btype='low')\n",
      "    return b, a\n",
      "\n",
      "@jit\n",
      "def bessel_lowpass_filter(data, lowcut,fs, order=8):\n",
      "    b, a = bessel_lowpass(lowcut,fs, order=order)\n",
      "    y = lfilter(b, a, data)\n",
      "    return y\n",
      "# a function to make square pulses\n",
      "@jit\n",
      "def sqr_pulse( c, time_arr, t1, t2, I ):\n",
      "    start = int( ( t1 / deltat ) * len(time_arr) )\n",
      "    finish = int( ( ( t1 + t2 ) / deltat ) * len(time_arr) )\n",
      "    if c == 0:\n",
      "        wave = time_arr[ : ] * 0\n",
      "        wave[ start: finish ] =  ( time_arr[ start: finish ] * 0 ) + I \n",
      "        return wave\n",
      "    elif c == 1:\n",
      "        wave = time_arr[ : ] * 0\n",
      "        return wave\n",
      "@jit    \n",
      "def DOG(a, length):\n",
      "    t = np.linspace(-length/2, (length)/2, length)\n",
      "    y = - a ** 2 * t * exp( - t ** 2 / ( 2 * a ** 2 ) ) #/ ( sqrt( 2 * pi ) * a ** 3 )\n",
      "    return y\n",
      "@jit\n",
      "def smooth(y, box_pts):\n",
      "    box = np.ones(box_pts)/box_pts\n",
      "    y_smooth = np.convolve(y, box, mode='same')\n",
      "    return y_smooth"
     ],
     "language": "python",
     "metadata": {},
     "outputs": [],
     "prompt_number": 5
    },
    {
     "cell_type": "code",
     "collapsed": false,
     "input": [
      "import time\n",
      "start = time.clock()\n",
      "sig = bessel_lowpass_filter(sqr_pulse( 0, time1, t_up_out, t_down_in, deltaI ) + A_n * random.normal( 0, 1, points ), lowcut,fs, order=8)\n",
      "plot( sig )\n",
      "print (time.clock() - start )"
     ],
     "language": "python",
     "metadata": {},
     "outputs": [
      {
       "output_type": "stream",
       "stream": "stdout",
       "text": [
        "0.054214805951\n"
       ]
      },
      {
       "metadata": {},
       "output_type": "display_data",
       "png": "[encoded data removed]",
       "text": [
        "<matplotlib.figure.Figure at 0x8ac6d30>"
       ]
      }
     ],
     "prompt_number": 28
    },
    {
     "cell_type": "code",
     "collapsed": false,
     "input": [
      "@jit\n",
      "def gen_wav3( N, threshold ):\n",
      "    N_down = []\n",
      "    N_up = [] #up goes to charge 0\n",
      "    charge = 0\n",
      "    up = 0\n",
      "    for x in xrange( 0, N ):\n",
      "        t_in = t_down_in \n",
      "        t_out = t_up_out\n",
      "        r_in = randint( 1,1001 )\n",
      "        r_out = randint( 1,1001 )\n",
      "        t_in = - log( r_in * 0.001 ) * t_in\n",
      "        t_out = - log( r_out * 0.001 ) * t_out\n",
      "        sig = bessel_lowpass_filter(sqr_pulse( charge, time1, t_out, t_in, deltaI ) + A_n * random.normal( 0, 1, points ), lowcut,fs, order=8)\n",
      "        if edge_det( sig, threshold ) == 0:\n",
      "            N_up.append( max( sig ) )\n",
      "            up += 1\n",
      "    \n",
      "    return up"
     ],
     "language": "python",
     "metadata": {},
     "outputs": [],
     "prompt_number": 7
    },
    {
     "cell_type": "code",
     "collapsed": false,
     "input": [
      "@jit\n",
      "def edge_max( z ):\n",
      "    widths = np.arange(1, 101)\n",
      "    cwtmatr = signal.cwt(z, DOG, widths)\n",
      "    peaks = []\n",
      "    for i in cwtmatr: \n",
      "        max_min = []\n",
      "        b = i\n",
      "        for x in xrange( 1, 1099 ):\n",
      "            if b[x-1]>b[x] and b[x+1]>b[x]:\n",
      "                max_min.append( x )\n",
      "            if b[x-1]<b[x] and b[x+1]<b[x]:\n",
      "                max_min.append( x )\n",
      "        peaks.append( max_min )\n",
      "    tracks = []\n",
      "    for i in peaks[ -1 ]:\n",
      "        track = []\n",
      "        x = i\n",
      "        track.append( x )\n",
      "        for s in xrange( 1, 100 ):\n",
      "            a = peaks[ - s - 1 ]\n",
      "            if x < a[-1]:\n",
      "                X = np.searchsorted(a, x, side=\"left\")\n",
      "                if math.fabs(x - a[X-1]) < math.fabs(x - a[X]):\n",
      "                    idx = X-1\n",
      "                else:\n",
      "                    idx = X\n",
      "            else:\n",
      "                idx = len(a) - 1\n",
      "            x = peaks[ - s - 1 ][ idx ]\n",
      "            track.append( x )\n",
      "        tracks.append( track )\n",
      "    norm = []\n",
      "    y = []\n",
      "    for l in xrange( 0, 100 ):\n",
      "        for k in cwtmatr[ l ]:\n",
      "            a = k ** 2\n",
      "            y.append( a )\n",
      "        med = median( y )\n",
      "        norm.append( med )\n",
      "    weights = []\n",
      "    for i in xrange( 0, len( peaks[ -1 ] ) ):\n",
      "        weight = []\n",
      "        for j in tracks[ i ]:\n",
      "            scale = 99\n",
      "            a = cwtmatr[ scale ][ j ] ** 2\n",
      "            b = norm[ scale ]\n",
      "            weight.append( a / b )\n",
      "            scale -= 1\n",
      "        c = sum( weight )    \n",
      "        weights.append( c )\n",
      "    return max( weights ) "
     ],
     "language": "python",
     "metadata": {},
     "outputs": [],
     "prompt_number": 17
    },
    {
     "cell_type": "code",
     "collapsed": false,
     "input": [
      "sig = bessel_lowpass_filter(sqr_pulse( 0, time1, t_up_out, t_down_in, deltaI ) + A_n * random.normal( 0, 1, points ), lowcut,fs, order=8)\n",
      "l = edge_max( sig )\n",
      "print (l)"
     ],
     "language": "python",
     "metadata": {},
     "outputs": [
      {
       "output_type": "stream",
       "stream": "stdout",
       "text": [
        "97297224.7235\n"
       ]
      }
     ],
     "prompt_number": 20
    },
    {
     "cell_type": "code",
     "collapsed": false,
     "input": [
      "def find_nearest(array,value):\n",
      "    idx = np.searchsorted(array, value, side=\"left\")\n",
      "    if math.fabs(value - array[idx-1]) < math.fabs(value - array[idx]):\n",
      "        return array[idx-1]\n",
      "    else:\n",
      "        return array[idx]\n"
     ],
     "language": "python",
     "metadata": {},
     "outputs": [],
     "prompt_number": 10
    },
    {
     "cell_type": "code",
     "collapsed": false,
     "input": [
      "find_nearest([1,2],3)"
     ],
     "language": "python",
     "metadata": {},
     "outputs": [
      {
       "ename": "IndexError",
       "evalue": "list index out of range",
       "output_type": "pyerr",
       "traceback": [
        "\u001b[1;31m---------------------------------------------------------------------------\u001b[0m\n\u001b[1;31mIndexError\u001b[0m                                Traceback (most recent call last)",
        "\u001b[1;32m<ipython-input-11-4305ea3551b2>\u001b[0m in \u001b[0;36m<module>\u001b[1;34m()\u001b[0m\n\u001b[1;32m----> 1\u001b[1;33m \u001b[0mfind_nearest\u001b[0m\u001b[1;33m(\u001b[0m\u001b[1;33m[\u001b[0m\u001b[1;36m1\u001b[0m\u001b[1;33m,\u001b[0m\u001b[1;36m2\u001b[0m\u001b[1;33m]\u001b[0m\u001b[1;33m,\u001b[0m\u001b[1;36m3\u001b[0m\u001b[1;33m)\u001b[0m\u001b[1;33m\u001b[0m\u001b[0m\n\u001b[0m",
        "\u001b[1;32m<ipython-input-10-e88b993fc26a>\u001b[0m in \u001b[0;36mfind_nearest\u001b[1;34m(array, value)\u001b[0m\n\u001b[0;32m      1\u001b[0m \u001b[1;32mdef\u001b[0m \u001b[0mfind_nearest\u001b[0m\u001b[1;33m(\u001b[0m\u001b[0marray\u001b[0m\u001b[1;33m,\u001b[0m\u001b[0mvalue\u001b[0m\u001b[1;33m)\u001b[0m\u001b[1;33m:\u001b[0m\u001b[1;33m\u001b[0m\u001b[0m\n\u001b[0;32m      2\u001b[0m     \u001b[0midx\u001b[0m \u001b[1;33m=\u001b[0m \u001b[0mnp\u001b[0m\u001b[1;33m.\u001b[0m\u001b[0msearchsorted\u001b[0m\u001b[1;33m(\u001b[0m\u001b[0marray\u001b[0m\u001b[1;33m,\u001b[0m \u001b[0mvalue\u001b[0m\u001b[1;33m,\u001b[0m \u001b[0mside\u001b[0m\u001b[1;33m=\u001b[0m\u001b[1;34m\"left\"\u001b[0m\u001b[1;33m)\u001b[0m\u001b[1;33m\u001b[0m\u001b[0m\n\u001b[1;32m----> 3\u001b[1;33m     \u001b[1;32mif\u001b[0m \u001b[0mmath\u001b[0m\u001b[1;33m.\u001b[0m\u001b[0mfabs\u001b[0m\u001b[1;33m(\u001b[0m\u001b[0mvalue\u001b[0m \u001b[1;33m-\u001b[0m \u001b[0marray\u001b[0m\u001b[1;33m[\u001b[0m\u001b[0midx\u001b[0m\u001b[1;33m-\u001b[0m\u001b[1;36m1\u001b[0m\u001b[1;33m]\u001b[0m\u001b[1;33m)\u001b[0m \u001b[1;33m<\u001b[0m \u001b[0mmath\u001b[0m\u001b[1;33m.\u001b[0m\u001b[0mfabs\u001b[0m\u001b[1;33m(\u001b[0m\u001b[0mvalue\u001b[0m \u001b[1;33m-\u001b[0m \u001b[0marray\u001b[0m\u001b[1;33m[\u001b[0m\u001b[0midx\u001b[0m\u001b[1;33m]\u001b[0m\u001b[1;33m)\u001b[0m\u001b[1;33m:\u001b[0m\u001b[1;33m\u001b[0m\u001b[0m\n\u001b[0m\u001b[0;32m      4\u001b[0m         \u001b[1;32mreturn\u001b[0m \u001b[0marray\u001b[0m\u001b[1;33m[\u001b[0m\u001b[0midx\u001b[0m\u001b[1;33m-\u001b[0m\u001b[1;36m1\u001b[0m\u001b[1;33m]\u001b[0m\u001b[1;33m\u001b[0m\u001b[0m\n\u001b[0;32m      5\u001b[0m     \u001b[1;32melse\u001b[0m\u001b[1;33m:\u001b[0m\u001b[1;33m\u001b[0m\u001b[0m\n",
        "\u001b[1;31mIndexError\u001b[0m: list index out of range"
       ]
      }
     ],
     "prompt_number": 11
    },
    {
     "cell_type": "code",
     "collapsed": false,
     "input": [
      "@jit\n",
      "def gen_wav4( n ):\n",
      "    N_up = []\n",
      "    N_down = []\n",
      "    for i in xrange( 0, n):\n",
      "        if randint(0,99) < ( N_0 * 100 ):\n",
      "            charge = 0\n",
      "        else:\n",
      "            charge = 1\n",
      "        t_in = t_down_in \n",
      "        t_out = t_up_out\n",
      "        r_in = randint( 1,1001 )\n",
      "        r_out = randint( 1,1001 )\n",
      "        t_in = - log( r_in * 0.001 ) * t_in\n",
      "        t_out = - log( r_out * 0.001 ) * t_out\n",
      "        sig = bessel_lowpass_filter(sqr_pulse( charge, time1, t_out, t_in, deltaI ) + A_n * random.normal( 0, 1, points ), lowcut,fs, order=8)\n",
      "        a = edge_max( sig )\n",
      "        if charge == 0:\n",
      "            N_up.append( a )\n",
      "        else:\n",
      "            N_down.append( a )\n",
      "\n",
      "    return N_up, N_down"
     ],
     "language": "python",
     "metadata": {},
     "outputs": [],
     "prompt_number": 21
    },
    {
     "cell_type": "code",
     "collapsed": false,
     "input": [
      "import time\n",
      "start = time.clock()\n",
      "x, y = gen_wav4( 10 )\n",
      "print ( time.clock() - start )"
     ],
     "language": "python",
     "metadata": {},
     "outputs": [
      {
       "output_type": "stream",
       "stream": "stdout",
       "text": [
        "20.1869610439\n"
       ]
      }
     ],
     "prompt_number": 26
    },
    {
     "cell_type": "code",
     "collapsed": false,
     "input": [
      "values_u, bins_u = histogram( x, bins=logspace( 4, 9 , 30 ), normed = True )\n",
      "values_d, bins_d = histogram( y, bins=logspace( 4, 6 , 30 ), normed = True )\n",
      "fig = plt.figure()\n",
      "xscale( 'log' )\n",
      "ax1 = fig.add_subplot(111)\n",
      "ax1.plot( bins_u[:-1], values_u, 'b' )\n",
      "title( '$|\\uparrow \\\\rangle$', fontsize=18 )\n",
      "xlabel( 'Weight Threshold', fontsize=18 )\n",
      "ylabel( 'Probability Density', fontsize=18 )\n",
      "\n",
      "fig = plt.figure()\n",
      "ax2 = fig.add_subplot(111)\n",
      "ax2.plot( bins_d[:-1], values_d, 'r' )\n",
      "xscale( 'log' )\n",
      "ax2.yaxis.get_major_formatter().set_powerlimits((0, 1))\n",
      "title( '$|\\downarrow \\\\rangle$', fontsize=18 )\n",
      "xlabel( 'Weight Threshold', fontsize=18 )\n",
      "ylabel( 'Probability Density', fontsize=18 )"
     ],
     "language": "python",
     "metadata": {},
     "outputs": [
      {
       "metadata": {},
       "output_type": "pyout",
       "prompt_number": 27,
       "text": [
        "<matplotlib.text.Text at 0x8c3c8b0>"
       ]
      },
      {
       "metadata": {},
       "output_type": "display_data",
       "png": "[encoded data removed]",
       "text": [
        "<matplotlib.figure.Figure at 0xef79410>"
       ]
      },
      {
       "metadata": {},
       "output_type": "display_data",
       "png": "[encoded data removed]",
       "text": [
        "<matplotlib.figure.Figure at 0xef8b810>"
       ]
      }
     ],
     "prompt_number": 27
    },
    {
     "cell_type": "code",
     "collapsed": false,
     "input": [],
     "language": "python",
     "metadata": {},
     "outputs": []
    }
   ],
   "metadata": {}
  }
 ]
}