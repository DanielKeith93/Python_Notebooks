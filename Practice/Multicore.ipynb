{
 "metadata": {
  "name": "",
  "signature": "sha256:91afaaf21e60709c25ce98dc633ae467cb0571057fd14e4675bbc4e1a6d4b75c"
 },
 "nbformat": 3,
 "nbformat_minor": 0,
 "worksheets": [
  {
   "cells": [
    {
     "cell_type": "code",
     "collapsed": false,
     "input": [
      "%pylab inline"
     ],
     "language": "python",
     "metadata": {},
     "outputs": [
      {
       "output_type": "stream",
       "stream": "stdout",
       "text": [
        "Populating the interactive namespace from numpy and matplotlib\n"
       ]
      }
     ],
     "prompt_number": 1
    },
    {
     "cell_type": "code",
     "collapsed": false,
     "input": [
      "from IPython import parallel\n",
      "clients = parallel.Client()\n",
      "clients.block = True  # use synchronous computations\n",
      "print clients.ids"
     ],
     "language": "python",
     "metadata": {},
     "outputs": [
      {
       "output_type": "stream",
       "stream": "stdout",
       "text": [
        "[0, 1, 2, 3]\n"
       ]
      }
     ],
     "prompt_number": 2
    },
    {
     "cell_type": "code",
     "collapsed": false,
     "input": [
      "def mul(a, b):\n",
      "    return a * b\n",
      "\n",
      "mul(5, 6)"
     ],
     "language": "python",
     "metadata": {},
     "outputs": [
      {
       "metadata": {},
       "output_type": "pyout",
       "prompt_number": 3,
       "text": [
        "30"
       ]
      }
     ],
     "prompt_number": 3
    },
    {
     "cell_type": "code",
     "collapsed": false,
     "input": [
      "clients[0].apply(mul, 5, 6)"
     ],
     "language": "python",
     "metadata": {},
     "outputs": [
      {
       "metadata": {},
       "output_type": "pyout",
       "prompt_number": 4,
       "text": [
        "30"
       ]
      }
     ],
     "prompt_number": 4
    },
    {
     "cell_type": "code",
     "collapsed": false,
     "input": [
      "clients[:].apply(mul, 5, 6)"
     ],
     "language": "python",
     "metadata": {},
     "outputs": [
      {
       "metadata": {},
       "output_type": "pyout",
       "prompt_number": 5,
       "text": [
        "[30, 30, 30, 30]"
       ]
      }
     ],
     "prompt_number": 5
    },
    {
     "cell_type": "code",
     "collapsed": false,
     "input": [
      "%%prun\n",
      "map(mul, [5, 6, 7, 8], [8, 9, 10, 11])"
     ],
     "language": "python",
     "metadata": {},
     "outputs": [
      {
       "output_type": "stream",
       "stream": "stdout",
       "text": [
        " "
       ]
      }
     ],
     "prompt_number": 6
    },
    {
     "cell_type": "code",
     "collapsed": false,
     "input": [
      "%%prun\n",
      "view = clients.load_balanced_view()\n",
      "view.map(mul, [5, 6, 7, 8], [8, 9, 10, 11])"
     ],
     "language": "python",
     "metadata": {},
     "outputs": [
      {
       "output_type": "stream",
       "stream": "stdout",
       "text": [
        " "
       ]
      }
     ],
     "prompt_number": 7
    },
    {
     "cell_type": "code",
     "collapsed": false,
     "input": [
      "clients = parallel.Client(profile='default')\n",
      "print len(clients)"
     ],
     "language": "python",
     "metadata": {},
     "outputs": [
      {
       "output_type": "stream",
       "stream": "stdout",
       "text": [
        "4\n"
       ]
      }
     ],
     "prompt_number": 8
    },
    {
     "cell_type": "code",
     "collapsed": false,
     "input": [
      "clients.block = True\n",
      "dview = clients.direct_view()\n",
      "dview.block = True\n",
      "print dview"
     ],
     "language": "python",
     "metadata": {},
     "outputs": [
      {
       "output_type": "stream",
       "stream": "stdout",
       "text": [
        "<DirectView all>\n"
       ]
      }
     ],
     "prompt_number": 9
    },
    {
     "cell_type": "code",
     "collapsed": false,
     "input": [
      "import dill\n",
      "parallel.Client()[:].use_dill()"
     ],
     "language": "python",
     "metadata": {},
     "outputs": [
      {
       "metadata": {},
       "output_type": "pyout",
       "prompt_number": 10,
       "text": [
        "<AsyncResult: use_dill>"
       ]
      }
     ],
     "prompt_number": 10
    },
    {
     "cell_type": "code",
     "collapsed": false,
     "input": [
      "clients[::2].apply(sum, [1, 2, 3])"
     ],
     "language": "python",
     "metadata": {},
     "outputs": [
      {
       "metadata": {},
       "output_type": "pyout",
       "prompt_number": 11,
       "text": [
        "[6, 6]"
       ]
      }
     ],
     "prompt_number": 11
    },
    {
     "cell_type": "code",
     "collapsed": false,
     "input": [
      "dview.apply(sum, [1, 2, 3])"
     ],
     "language": "python",
     "metadata": {},
     "outputs": [
      {
       "metadata": {},
       "output_type": "pyout",
       "prompt_number": 12,
       "text": [
        "[6, 6, 6, 6]"
       ]
      }
     ],
     "prompt_number": 12
    },
    {
     "cell_type": "code",
     "collapsed": false,
     "input": [
      "lview = clients.load_balanced_view()\n",
      "print lview"
     ],
     "language": "python",
     "metadata": {},
     "outputs": [
      {
       "output_type": "stream",
       "stream": "stdout",
       "text": [
        "<LoadBalancedView None>\n"
       ]
      }
     ],
     "prompt_number": 13
    },
    {
     "cell_type": "code",
     "collapsed": false,
     "input": [
      "lview.apply(sum, [1, 2, 3])"
     ],
     "language": "python",
     "metadata": {},
     "outputs": [
      {
       "metadata": {},
       "output_type": "pyout",
       "prompt_number": 14,
       "text": [
        "6"
       ]
      }
     ],
     "prompt_number": 14
    },
    {
     "cell_type": "code",
     "collapsed": false,
     "input": [
      "def get_pid_slowly():\n",
      "    # imports in the function, otherwise these imports\n",
      "    # don't happen on the engines\n",
      "    import os\n",
      "    import time\n",
      "    import random\n",
      "    \n",
      "    # sleep up to 10 seconds\n",
      "    time.sleep(10 * random.random())\n",
      "    return os.getpid()"
     ],
     "language": "python",
     "metadata": {},
     "outputs": [],
     "prompt_number": 15
    },
    {
     "cell_type": "code",
     "collapsed": false,
     "input": [
      "dview.block = True\n",
      "dview.apply(get_pid_slowly)"
     ],
     "language": "python",
     "metadata": {},
     "outputs": [
      {
       "metadata": {},
       "output_type": "pyout",
       "prompt_number": 16,
       "text": [
        "[4392, 952, 4068, 3544]"
       ]
      }
     ],
     "prompt_number": 16
    },
    {
     "cell_type": "code",
     "collapsed": false,
     "input": [
      "dview.block = False\n",
      "dview.apply(get_pid_slowly)"
     ],
     "language": "python",
     "metadata": {},
     "outputs": [
      {
       "metadata": {},
       "output_type": "pyout",
       "prompt_number": 17,
       "text": [
        "<AsyncResult: get_pid_slowly>"
       ]
      }
     ],
     "prompt_number": 17
    },
    {
     "cell_type": "code",
     "collapsed": false,
     "input": [
      "res = dview.apply(get_pid_slowly)"
     ],
     "language": "python",
     "metadata": {},
     "outputs": [],
     "prompt_number": 18
    },
    {
     "cell_type": "code",
     "collapsed": false,
     "input": [
      "res.ready()"
     ],
     "language": "python",
     "metadata": {},
     "outputs": [
      {
       "metadata": {},
       "output_type": "pyout",
       "prompt_number": 19,
       "text": [
        "True"
       ]
      }
     ],
     "prompt_number": 19
    },
    {
     "cell_type": "code",
     "collapsed": false,
     "input": [
      "res.get()"
     ],
     "language": "python",
     "metadata": {},
     "outputs": [
      {
       "metadata": {},
       "output_type": "pyout",
       "prompt_number": 20,
       "text": [
        "[4392, 952, 4068, 3544]"
       ]
      }
     ],
     "prompt_number": 20
    },
    {
     "cell_type": "code",
     "collapsed": false,
     "input": [
      "%pylab inline\n",
      "x, y = 2 * np.random.random((2, 10000)) - 1\n",
      "\n",
      "ax = plt.axes(aspect='equal', xticks=[], yticks=[], frameon=False)\n",
      "ax.scatter(x, y, c=(x ** 2 + y ** 2 < 1), cmap=plt.cm.binary)\n",
      "ax.add_patch(mpl.patches.Circle((0, 0), 1, zorder=0, fc='#FFAAAA'))\n",
      "show()"
     ],
     "language": "python",
     "metadata": {},
     "outputs": [
      {
       "output_type": "stream",
       "stream": "stdout",
       "text": [
        "Populating the interactive namespace from numpy and matplotlib\n"
       ]
      },
      {
       "metadata": {},
       "output_type": "display_data",
       "png": "[encoded data removed]",
       "text": [
        "<matplotlib.figure.Figure at 0x5ec64f0>"
       ]
      }
     ],
     "prompt_number": 115
    },
    {
     "cell_type": "code",
     "collapsed": false,
     "input": [
      "%%px\n",
      "import time\n",
      "import random\n",
      "import numpy as np"
     ],
     "language": "python",
     "metadata": {},
     "outputs": [],
     "prompt_number": 103
    },
    {
     "cell_type": "code",
     "collapsed": false,
     "input": [
      "def estimate_pi(N):\n",
      "    r = np.random.random((N, 2))\n",
      "    inside = np.sum(r ** 2, 1) <= 1\n",
      "    return 4 * inside.sum() * 1. / N"
     ],
     "language": "python",
     "metadata": {},
     "outputs": [],
     "prompt_number": 104
    },
    {
     "cell_type": "code",
     "collapsed": false,
     "input": [
      "estimate_pi(1000)"
     ],
     "language": "python",
     "metadata": {},
     "outputs": [
      {
       "metadata": {},
       "output_type": "pyout",
       "prompt_number": 105,
       "text": [
        "3.3039999999999998"
       ]
      }
     ],
     "prompt_number": 105
    },
    {
     "cell_type": "code",
     "collapsed": false,
     "input": [
      "lview.block = False\n",
      "def estimate_pis(N, lview, N_per_trial ):\n",
      "    res = lview.map( estimate_pi, linspace( N_per_trial, N_per_trial, N ) )\n",
      "    while not res.ready():\n",
      "        time.sleep(1)\n",
      "        print res.progress,\n",
      "    return sum( res.result ) / N"
     ],
     "language": "python",
     "metadata": {},
     "outputs": [],
     "prompt_number": 110
    },
    {
     "cell_type": "code",
     "collapsed": false,
     "input": [
      "%%prun\n",
      "x = estimate_pis( 100000, lview, 100000 )\n",
      "print x"
     ],
     "language": "python",
     "metadata": {},
     "outputs": [
      {
       "output_type": "stream",
       "stream": "stdout",
       "text": [
        "58089 "
       ]
      },
      {
       "output_type": "stream",
       "stream": "stdout",
       "text": [
        "58709 "
       ]
      },
      {
       "output_type": "stream",
       "stream": "stdout",
       "text": [
        "59287 "
       ]
      },
      {
       "output_type": "stream",
       "stream": "stdout",
       "text": [
        "59950 "
       ]
      },
      {
       "output_type": "stream",
       "stream": "stdout",
       "text": [
        "60601 "
       ]
      },
      {
       "output_type": "stream",
       "stream": "stdout",
       "text": [
        "61276 "
       ]
      },
      {
       "output_type": "stream",
       "stream": "stdout",
       "text": [
        "61924 "
       ]
      },
      {
       "output_type": "stream",
       "stream": "stdout",
       "text": [
        "62595 "
       ]
      },
      {
       "output_type": "stream",
       "stream": "stdout",
       "text": [
        "63285 "
       ]
      },
      {
       "output_type": "stream",
       "stream": "stdout",
       "text": [
        "64032 "
       ]
      },
      {
       "output_type": "stream",
       "stream": "stdout",
       "text": [
        "64677 "
       ]
      },
      {
       "output_type": "stream",
       "stream": "stdout",
       "text": [
        "65359 "
       ]
      },
      {
       "output_type": "stream",
       "stream": "stdout",
       "text": [
        "66051 "
       ]
      },
      {
       "output_type": "stream",
       "stream": "stdout",
       "text": [
        "66726 "
       ]
      },
      {
       "output_type": "stream",
       "stream": "stdout",
       "text": [
        "67321 "
       ]
      },
      {
       "output_type": "stream",
       "stream": "stdout",
       "text": [
        "67995 "
       ]
      },
      {
       "output_type": "stream",
       "stream": "stdout",
       "text": [
        "68667 "
       ]
      },
      {
       "output_type": "stream",
       "stream": "stdout",
       "text": [
        "69338 "
       ]
      },
      {
       "output_type": "stream",
       "stream": "stdout",
       "text": [
        "69907 "
       ]
      },
      {
       "output_type": "stream",
       "stream": "stdout",
       "text": [
        "70595 "
       ]
      },
      {
       "output_type": "stream",
       "stream": "stdout",
       "text": [
        "71241 "
       ]
      },
      {
       "output_type": "stream",
       "stream": "stdout",
       "text": [
        "71918 "
       ]
      },
      {
       "output_type": "stream",
       "stream": "stdout",
       "text": [
        "72552 "
       ]
      },
      {
       "output_type": "stream",
       "stream": "stdout",
       "text": [
        "73147 "
       ]
      },
      {
       "output_type": "stream",
       "stream": "stdout",
       "text": [
        "73748 "
       ]
      },
      {
       "output_type": "stream",
       "stream": "stdout",
       "text": [
        "74389 "
       ]
      },
      {
       "output_type": "stream",
       "stream": "stdout",
       "text": [
        "75033 "
       ]
      },
      {
       "output_type": "stream",
       "stream": "stdout",
       "text": [
        "75602 "
       ]
      },
      {
       "output_type": "stream",
       "stream": "stdout",
       "text": [
        "76302 "
       ]
      },
      {
       "output_type": "stream",
       "stream": "stdout",
       "text": [
        "76849 "
       ]
      },
      {
       "output_type": "stream",
       "stream": "stdout",
       "text": [
        "77554 "
       ]
      },
      {
       "output_type": "stream",
       "stream": "stdout",
       "text": [
        "78287 "
       ]
      },
      {
       "output_type": "stream",
       "stream": "stdout",
       "text": [
        "78869 "
       ]
      },
      {
       "output_type": "stream",
       "stream": "stdout",
       "text": [
        "79527 "
       ]
      },
      {
       "output_type": "stream",
       "stream": "stdout",
       "text": [
        "80140 "
       ]
      },
      {
       "output_type": "stream",
       "stream": "stdout",
       "text": [
        "80717 "
       ]
      },
      {
       "output_type": "stream",
       "stream": "stdout",
       "text": [
        "81303 "
       ]
      },
      {
       "output_type": "stream",
       "stream": "stdout",
       "text": [
        "81951 "
       ]
      },
      {
       "output_type": "stream",
       "stream": "stdout",
       "text": [
        "82564 "
       ]
      },
      {
       "output_type": "stream",
       "stream": "stdout",
       "text": [
        "83167 "
       ]
      },
      {
       "output_type": "stream",
       "stream": "stdout",
       "text": [
        "83749 "
       ]
      },
      {
       "output_type": "stream",
       "stream": "stdout",
       "text": [
        "84362 "
       ]
      },
      {
       "output_type": "stream",
       "stream": "stdout",
       "text": [
        "84964 "
       ]
      },
      {
       "output_type": "stream",
       "stream": "stdout",
       "text": [
        "85529 "
       ]
      },
      {
       "output_type": "stream",
       "stream": "stdout",
       "text": [
        "86139 "
       ]
      },
      {
       "output_type": "stream",
       "stream": "stdout",
       "text": [
        "86809 "
       ]
      },
      {
       "output_type": "stream",
       "stream": "stdout",
       "text": [
        "87457 "
       ]
      },
      {
       "output_type": "stream",
       "stream": "stdout",
       "text": [
        "88133 "
       ]
      },
      {
       "output_type": "stream",
       "stream": "stdout",
       "text": [
        "88718 "
       ]
      },
      {
       "output_type": "stream",
       "stream": "stdout",
       "text": [
        "89331 "
       ]
      },
      {
       "output_type": "stream",
       "stream": "stdout",
       "text": [
        "89988 "
       ]
      },
      {
       "output_type": "stream",
       "stream": "stdout",
       "text": [
        "90544 "
       ]
      },
      {
       "output_type": "stream",
       "stream": "stdout",
       "text": [
        "91269 "
       ]
      },
      {
       "output_type": "stream",
       "stream": "stdout",
       "text": [
        "91812 "
       ]
      },
      {
       "output_type": "stream",
       "stream": "stdout",
       "text": [
        "92368 "
       ]
      },
      {
       "output_type": "stream",
       "stream": "stdout",
       "text": [
        "92944 "
       ]
      },
      {
       "output_type": "stream",
       "stream": "stdout",
       "text": [
        "93579 "
       ]
      },
      {
       "output_type": "stream",
       "stream": "stdout",
       "text": [
        "94245 "
       ]
      },
      {
       "output_type": "stream",
       "stream": "stdout",
       "text": [
        "94809 "
       ]
      },
      {
       "output_type": "stream",
       "stream": "stdout",
       "text": [
        "95421 "
       ]
      },
      {
       "output_type": "stream",
       "stream": "stdout",
       "text": [
        "96033 "
       ]
      },
      {
       "output_type": "stream",
       "stream": "stdout",
       "text": [
        "96601 "
       ]
      },
      {
       "output_type": "stream",
       "stream": "stdout",
       "text": [
        "97235 "
       ]
      },
      {
       "output_type": "stream",
       "stream": "stdout",
       "text": [
        "97806 "
       ]
      },
      {
       "output_type": "stream",
       "stream": "stdout",
       "text": [
        "98345 "
       ]
      },
      {
       "output_type": "stream",
       "stream": "stdout",
       "text": [
        "98808 "
       ]
      },
      {
       "output_type": "stream",
       "stream": "stdout",
       "text": [
        "99345 "
       ]
      },
      {
       "output_type": "stream",
       "stream": "stdout",
       "text": [
        "99875 "
       ]
      },
      {
       "output_type": "stream",
       "stream": "stdout",
       "text": [
        "100000 3.1415460328\n",
        " "
       ]
      }
     ],
     "prompt_number": 116
    },
    {
     "cell_type": "code",
     "collapsed": false,
     "input": [
      "print x"
     ],
     "language": "python",
     "metadata": {},
     "outputs": [
      {
       "output_type": "stream",
       "stream": "stdout",
       "text": [
        "3.1416006104\n"
       ]
      }
     ],
     "prompt_number": 114
    },
    {
     "cell_type": "code",
     "collapsed": false,
     "input": [
      "dview = clients.direct_view()"
     ],
     "language": "python",
     "metadata": {},
     "outputs": [],
     "prompt_number": 118
    },
    {
     "cell_type": "code",
     "collapsed": false,
     "input": [
      "dview.scatter('x',range(64))\n",
      "dview['x']"
     ],
     "language": "python",
     "metadata": {},
     "outputs": [
      {
       "metadata": {},
       "output_type": "pyout",
       "prompt_number": 127,
       "text": [
        "[[0, 1, 2, 3, 4, 5, 6, 7, 8, 9, 10, 11, 12, 13, 14, 15],\n",
        " [16, 17, 18, 19, 20, 21, 22, 23, 24, 25, 26, 27, 28, 29, 30, 31],\n",
        " [32, 33, 34, 35, 36, 37, 38, 39, 40, 41, 42, 43, 44, 45, 46, 47],\n",
        " [48, 49, 50, 51, 52, 53, 54, 55, 56, 57, 58, 59, 60, 61, 62, 63]]"
       ]
      }
     ],
     "prompt_number": 127
    },
    {
     "cell_type": "code",
     "collapsed": false,
     "input": [
      "%px y = [i**10 for i in x]"
     ],
     "language": "python",
     "metadata": {},
     "outputs": [],
     "prompt_number": 121
    },
    {
     "cell_type": "code",
     "collapsed": false,
     "input": [
      "y = dview.gather('y')"
     ],
     "language": "python",
     "metadata": {},
     "outputs": [],
     "prompt_number": 122
    },
    {
     "cell_type": "code",
     "collapsed": false,
     "input": [
      "print y"
     ],
     "language": "python",
     "metadata": {},
     "outputs": [
      {
       "output_type": "stream",
       "stream": "stdout",
       "text": [
        "[0, 1, 1024, 59049, 1048576, 9765625, 60466176, 282475249, 1073741824, 3486784401L, 10000000000L, 25937424601L, 61917364224L, 137858491849L, 289254654976L, 576650390625L, 1099511627776L, 2015993900449L, 3570467226624L, 6131066257801L, 10240000000000L, 16679880978201L, 26559922791424L, 41426511213649L, 63403380965376L, 95367431640625L, 141167095653376L, 205891132094649L, 296196766695424L, 420707233300201L, 590490000000000L, 819628286980801L, 1125899906842624L, 1531578985264449L, 2064377754059776L, 2758547353515625L, 3656158440062976L, 4808584372417849L, 6278211847988224L, 8140406085191601L, 10485760000000000L, 13422659310152401L, 17080198121677824L, 21611482313284249L, 27197360938418176L, 34050628916015625L, 42420747482776576L, 52599132235830049L, 64925062108545024L, 79792266297612001L, 97656250000000000L, 119042423827613001L, 144555105949057024L, 174887470365513049L, 210832519264920576L, 253295162119140625L, 303305489096114176L, 362033331456891249L, 430804206899405824L, 511116753300641401L, 604661760000000000L, 713342911662882601L, 839299365868340224L, 984930291881790849L]\n"
       ]
      }
     ],
     "prompt_number": 123
    },
    {
     "cell_type": "code",
     "collapsed": false,
     "input": [],
     "language": "python",
     "metadata": {},
     "outputs": []
    }
   ],
   "metadata": {}
  }
 ]
}