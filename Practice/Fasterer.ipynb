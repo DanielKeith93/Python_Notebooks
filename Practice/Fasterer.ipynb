{
 "metadata": {
  "name": "",
  "signature": "sha256:7d9d63bc44b6e1859b6d91cfe978a00c37605dde87f8df635d31511cc8f1ae8a"
 },
 "nbformat": 3,
 "nbformat_minor": 0,
 "worksheets": [
  {
   "cells": [
    {
     "cell_type": "code",
     "collapsed": false,
     "input": [
      "%pylab inline"
     ],
     "language": "python",
     "metadata": {},
     "outputs": [
      {
       "output_type": "stream",
       "stream": "stdout",
       "text": [
        "Populating the interactive namespace from numpy and matplotlib\n"
       ]
      }
     ],
     "prompt_number": 1
    },
    {
     "cell_type": "code",
     "collapsed": false,
     "input": [
      "#define parameters\n",
      "fs = 555556\n",
      "lowcut = 10000.0\n",
      "T = 0.2\n",
      "nsamples = T * fs\n",
      "N_0 = 0.77\n",
      "N_1 = 1 - N_0\n",
      "deltat = T #s, taken from spin to charge optimisation\n",
      "t_down_in = 0.0687\n",
      "t_up_out = 0.064 #Taken from experimental data.\n",
      "deltaI = 0.1473 #A\n",
      "points = nsamples\n",
      "time1 = linspace( 0, deltat, points )\n",
      "a_n = 0.0212 #A / ( ( Hz ) ^ ( 1 / 2 ) ) #Have to multiply spectral density by a bandwidth.\n",
      "f_c = lowcut #Hz, cut off frequency, also used as the bandwidth\n",
      "A_n = a_n * sqrt( f_c )\n",
      "A_n = 0.0212\n",
      "bars = 200\n",
      "trace_no = 1000"
     ],
     "language": "python",
     "metadata": {},
     "outputs": [],
     "prompt_number": 2
    },
    {
     "cell_type": "code",
     "collapsed": false,
     "input": [
      "from scipy.signal import bessel, lfilter\n",
      "\n",
      "\n",
      "def bessel_lowpass(lowcut,fs, order=8):\n",
      "    nyq = 0.5 * fs\n",
      "    low = lowcut / nyq\n",
      "    b, a = bessel(order, low, btype='low')\n",
      "    return b, a\n",
      "\n",
      "\n",
      "def bessel_lowpass_filter(data, lowcut,fs, order=8):\n",
      "    b, a = bessel_lowpass(lowcut,fs, order=order)\n",
      "    y = lfilter(b, a, data)\n",
      "    return y\n",
      "\n",
      "# a function to make square pulses\n",
      "def sqr_pulse( c, time_arr, t1, t2, I ):\n",
      "    start = int( ( t1 / deltat ) * len(time_arr) )\n",
      "    finish = int( ( ( t1 + t2 ) / deltat ) * len(time_arr) )\n",
      "    if c == 0:\n",
      "        wave = time_arr[ : ] * 0\n",
      "        wave[ start: finish ] =  ( time_arr[ start: finish ] * 0 ) + I \n",
      "        return wave\n",
      "    elif c == 1:\n",
      "        wave = time_arr[ : ] * 0\n",
      "        return wave"
     ],
     "language": "python",
     "metadata": {},
     "outputs": [],
     "prompt_number": 3
    },
    {
     "cell_type": "code",
     "collapsed": false,
     "input": [
      "x = linspace( 0, 0, trace_no )"
     ],
     "language": "python",
     "metadata": {},
     "outputs": [],
     "prompt_number": 5
    },
    {
     "cell_type": "code",
     "collapsed": false,
     "input": [
      "def r_charge( fraction ):\n",
      "    if randint(0,99) < ( fraction * 100 ):\n",
      "        charge = 0\n",
      "    else:\n",
      "        charge = 1\n",
      "    return charge"
     ],
     "language": "python",
     "metadata": {},
     "outputs": [],
     "prompt_number": 6
    },
    {
     "cell_type": "code",
     "collapsed": false,
     "input": [
      "x1 = [ r_charge( N_0 ) for a in x ]"
     ],
     "language": "python",
     "metadata": {},
     "outputs": [],
     "prompt_number": 7
    },
    {
     "cell_type": "code",
     "collapsed": false,
     "input": [
      "def peak( charge, noise_amp ):\n",
      "    pulse = sqr_pulse( charge, time1,  - log( randint( 1,1001 ) * 0.001 ) * t_up_out, - log( randint( 1,1001 ) * 0.001 ) * t_down_in, deltaI )\n",
      "    noise = 2*pi*noise_amp * random.normal( 0, 1, points )\n",
      "    mx = max( bessel_lowpass_filter( pulse + noise , lowcut,fs, order=6))\n",
      "    return mx"
     ],
     "language": "python",
     "metadata": {},
     "outputs": [],
     "prompt_number": 8
    },
    {
     "cell_type": "code",
     "collapsed": false,
     "input": [
      "x2 = [ peak( a, A_n ) for a in x1 ]"
     ],
     "language": "python",
     "metadata": {},
     "outputs": [],
     "prompt_number": 10
    },
    {
     "cell_type": "code",
     "collapsed": false,
     "input": [
      "values, bins = histogram( x2, bins=arange(0, 0.25 + 0.002, 0.002), normed = True)"
     ],
     "language": "python",
     "metadata": {},
     "outputs": [],
     "prompt_number": 11
    },
    {
     "cell_type": "code",
     "collapsed": false,
     "input": [
      "plot( bins[:-1], values ) "
     ],
     "language": "python",
     "metadata": {},
     "outputs": [
      {
       "metadata": {},
       "output_type": "pyout",
       "prompt_number": 12,
       "text": [
        "[<matplotlib.lines.Line2D at 0xcff8450>]"
       ]
      },
      {
       "metadata": {},
       "output_type": "display_data",
       "png": "[encoded data removed]",
       "text": [
        "<matplotlib.figure.Figure at 0xce67090>"
       ]
      }
     ],
     "prompt_number": 12
    },
    {
     "cell_type": "code",
     "collapsed": false,
     "input": [
      "#import module\n",
      "import sys\n",
      "sys.path[0] = 'C:/Users/z3414503/Documents/QTLab/qtlab_013/source/' \n",
      "import qt\n",
      "d= qt.Data('C:/Users/z3414503/Desktop/Honours/Data/144815_C Spin Tail Bz = 1.5000/traces/C Spin Tail Bz = 1.5000_-0.02_trace.dat')"
     ],
     "language": "python",
     "metadata": {},
     "outputs": [],
     "prompt_number": 14
    },
    {
     "cell_type": "code",
     "collapsed": false,
     "input": [
      "trace = []\n",
      "time = []\n",
      "signal = []\n",
      "times = []\n",
      "signals = []\n",
      "traces = []\n",
      "\n",
      "t1 = 0.1\n",
      "t2 = 0.2\n",
      "T = 0.35\n",
      "\n",
      "#get traces from data file\n",
      "import os\n",
      "for file in os.listdir( \"C:/Users/z3414503/Desktop/Honours/Data/144815_C Spin Tail Bz = 1.5000/traces\" ):\n",
      "    if file.endswith( \".dat\" ):\n",
      "        path = \"C:/Users/z3414503/Desktop/Honours/Data/144815_C Spin Tail Bz = 1.5000/traces/\"\n",
      "        file = path + file\n",
      "        d = qt.Data( file ) \n",
      "        x = d.get_data()\n",
      "        trace, b, c = zip( *x )\n",
      "        l = len( c ) / len( set( trace ) ) \n",
      "        l1 = t1 * l / T\n",
      "        l2 = t2 * l / T\n",
      "        for i in set( trace ): #split up the files into the seperate traces\n",
      "            i = int( i )\n",
      "            x = c[ ( i - 1 ) * l + int( l1 ) + 30: i * l + int( l1 ) + int( l2 ) - l - 30 ]\n",
      "            y = b[ ( i - 1 ) * l + int( l1 ) + 30: i * l + int( l1 ) + int( l2 ) - l - 30 ] \n",
      "            signals.append( x )\n",
      "            times.append( y )\n",
      "            traces.append( trace[ i ] ) "
     ],
     "language": "python",
     "metadata": {},
     "outputs": [],
     "prompt_number": 15
    },
    {
     "cell_type": "code",
     "collapsed": false,
     "input": [
      "def leastsquare( noise_amp, fraction ):\n",
      "    x = linspace( 0, 0, trace_no )\n",
      "    x1 = [ r_charge( fraction ) for a in x ]\n",
      "    x2 = [ peak( a, noise_amp ) for a in x1 ]\n",
      "    values, bins = histogram( x2, bins=arange(0, 0.25 + 0.002, 0.002), normed = True)\n",
      "    J = 0\n",
      "    for i in range( 0, len( values ) ):\n",
      "        J = J + ( values[ i ] - y[ i ] ) ** 2\n",
      "    return J, values, bins"
     ],
     "language": "python",
     "metadata": {},
     "outputs": [],
     "prompt_number": 20
    },
    {
     "cell_type": "code",
     "collapsed": false,
     "input": [
      "bars = 100\n",
      "signals_max = []\n",
      "for x in signals:\n",
      "    signals_max.append( max( x ) )\n",
      "y, x, _ = plt.hist( signals_max, bins=arange(0, 0.25 + 0.002, 0.002), histtype = 'step', normed = True )"
     ],
     "language": "python",
     "metadata": {},
     "outputs": [
      {
       "metadata": {},
       "output_type": "display_data",
       "png": "[encoded data removed]",
       "text": [
        "<matplotlib.figure.Figure at 0xd2494f0>"
       ]
      }
     ],
     "prompt_number": 17
    },
    {
     "cell_type": "code",
     "collapsed": false,
     "input": [
      "import time\n",
      "start = time.clock()\n",
      "ls, values, bins = leastsquare( 0.01, 0.505 )\n",
      "print ls\n",
      "plot( bins[:-1], values, x[:-1], y )\n",
      "print time.clock() - start"
     ],
     "language": "python",
     "metadata": {},
     "outputs": [
      {
       "output_type": "stream",
       "stream": "stdout",
       "text": [
        "40351.5103652\n",
        "16.6075216551"
       ]
      },
      {
       "output_type": "stream",
       "stream": "stdout",
       "text": [
        "\n"
       ]
      },
      {
       "metadata": {},
       "output_type": "display_data",
       "png": "[encoded data removed]",
       "text": [
        "<matplotlib.figure.Figure at 0xd2bbbd0>"
       ]
      }
     ],
     "prompt_number": 22
    },
    {
     "cell_type": "code",
     "collapsed": false,
     "input": [
      "import time\n",
      "start = time.clock()\n",
      "\n",
      "A_n = linspace( 0.01, 0.025, 4 )\n",
      "N_0 = linspace( 0.1, 0.9, 4 )\n",
      "J = [ leastsquare( a, b ) for a in A_n for b in N_0 ]\n",
      "\n",
      "print time.clock() - start"
     ],
     "language": "python",
     "metadata": {},
     "outputs": [
      {
       "output_type": "stream",
       "stream": "stdout",
       "text": [
        "92.4977065934\n"
       ]
      }
     ],
     "prompt_number": 123
    },
    {
     "cell_type": "code",
     "collapsed": false,
     "input": [
      "print J"
     ],
     "language": "python",
     "metadata": {},
     "outputs": [
      {
       "output_type": "stream",
       "stream": "stdout",
       "text": [
        "[22325.305801089336, 20742.526440532201, 18449.525572032751, 17747.420881324088, 9508.8513891932889, 6696.3742177417689, 6509.6874213683659, 5243.4639329226502, 20710.059171597695, 16310.744230972165, 13555.084780156025, 14001.50972800548, 37869.010803483732, 33851.186272838728, 35949.383527731086, 28887.752534476258]\n"
       ]
      }
     ],
     "prompt_number": 130
    },
    {
     "cell_type": "code",
     "collapsed": false,
     "input": [
      "print J.index( min( J ) )"
     ],
     "language": "python",
     "metadata": {},
     "outputs": [
      {
       "output_type": "stream",
       "stream": "stdout",
       "text": [
        "8\n"
       ]
      }
     ],
     "prompt_number": 128
    },
    {
     "cell_type": "code",
     "collapsed": false,
     "input": [
      "import time\n",
      "start = time.clock()\n",
      "\n",
      "A_n = linspace( 0.01, 0.0175, 4 )\n",
      "N_0 = linspace( 0.1, 0.5, 4 )\n",
      "J = [ leastsquare( a, b ) for a in A_n for b in N_0 ]\n",
      "\n",
      "print time.clock() - start"
     ],
     "language": "python",
     "metadata": {},
     "outputs": [
      {
       "output_type": "stream",
       "stream": "stdout",
       "text": [
        "92.2136202147\n"
       ]
      }
     ],
     "prompt_number": 126
    },
    {
     "cell_type": "code",
     "collapsed": false,
     "input": [
      "import time\n",
      "start = time.clock()\n",
      "\n",
      "A_n = linspace( 0.01375, 0.0175, 4 )\n",
      "N_0 = linspace( 0.05, 0.25, 4 )\n",
      "J = [ leastsquare( a, b ) for a in A_n for b in N_0 ]\n",
      "\n",
      "print time.clock() - start"
     ],
     "language": "python",
     "metadata": {},
     "outputs": [
      {
       "output_type": "stream",
       "stream": "stdout",
       "text": [
        "92.7653444632\n"
       ]
      }
     ],
     "prompt_number": 129
    },
    {
     "cell_type": "code",
     "collapsed": false,
     "input": [],
     "language": "python",
     "metadata": {},
     "outputs": []
    }
   ],
   "metadata": {}
  }
 ]
}